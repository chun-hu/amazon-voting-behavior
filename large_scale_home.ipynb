{
 "cells": [
  {
   "cell_type": "markdown",
   "metadata": {
    "colab_type": "text",
    "id": "d3-MtA1uac-7"
   },
   "source": [
    "## Large Scale Final Project\n",
    "Do Amazon voting behaviors reveal social conformity?\n",
    "Chun Hu"
   ]
  },
  {
   "cell_type": "markdown",
   "metadata": {
    "colab_type": "text",
    "id": "pSQZ5ocnac-8"
   },
   "source": [
    "### Category 4: Home"
   ]
  },
  {
   "cell_type": "code",
   "execution_count": 0,
   "metadata": {
    "colab": {
     "referenced_widgets": [
      "0e9d58e5462b4c7fb55e673def0e52de",
      ""
     ]
    },
    "colab_type": "code",
    "id": "RgWcof-Dac-8",
    "outputId": "8dae09c6-dea8-48eb-a568-249d08f82726"
   },
   "outputs": [
    {
     "data": {
      "application/vnd.jupyter.widget-view+json": {
       "model_id": "0e9d58e5462b4c7fb55e673def0e52de",
       "version_major": 2,
       "version_minor": 0
      },
      "text/plain": [
       "VBox()"
      ]
     },
     "metadata": {
      "tags": []
     },
     "output_type": "display_data"
    },
    {
     "name": "stdout",
     "output_type": "stream",
     "text": [
      "Starting Spark application\n"
     ]
    },
    {
     "data": {
      "text/html": [
       "<table>\n",
       "<tr><th>ID</th><th>YARN Application ID</th><th>Kind</th><th>State</th><th>Spark UI</th><th>Driver log</th><th>Current session?</th></tr><tr><td>4</td><td>application_1591214933999_0005</td><td>pyspark</td><td>idle</td><td></td><td></td><td>✔</td></tr></table>"
      ],
      "text/plain": [
       "<IPython.core.display.HTML object>"
      ]
     },
     "metadata": {
      "tags": []
     },
     "output_type": "display_data"
    },
    {
     "data": {
      "application/vnd.jupyter.widget-view+json": {
       "model_id": "",
       "version_major": 2,
       "version_minor": 0
      },
      "text/plain": [
       "FloatProgress(value=0.0, bar_style='info', description='Progress:', layout=Layout(height='25px', width='50%'),…"
      ]
     },
     "metadata": {
      "tags": []
     },
     "output_type": "display_data"
    },
    {
     "name": "stdout",
     "output_type": "stream",
     "text": [
      "SparkSession available as 'spark'.\n"
     ]
    },
    {
     "data": {
      "application/vnd.jupyter.widget-view+json": {
       "model_id": "",
       "version_major": 2,
       "version_minor": 0
      },
      "text/plain": [
       "FloatProgress(value=0.0, bar_style='info', description='Progress:', layout=Layout(height='25px', width='50%'),…"
      ]
     },
     "metadata": {
      "tags": []
     },
     "output_type": "display_data"
    }
   ],
   "source": [
    "data = spark.read.parquet('s3://amazon-reviews-pds/parquet/product_category=Home/*.parquet')"
   ]
  },
  {
   "cell_type": "code",
   "execution_count": 0,
   "metadata": {
    "colab": {
     "referenced_widgets": [
      "324fd64a0ef0404c9df95edc33cb8ea8",
      ""
     ]
    },
    "colab_type": "code",
    "id": "jsg3Z4A_ac_B",
    "outputId": "86b3d6d6-9822-48be-d0c4-5030852d5c6c"
   },
   "outputs": [
    {
     "data": {
      "application/vnd.jupyter.widget-view+json": {
       "model_id": "324fd64a0ef0404c9df95edc33cb8ea8",
       "version_major": 2,
       "version_minor": 0
      },
      "text/plain": [
       "VBox()"
      ]
     },
     "metadata": {
      "tags": []
     },
     "output_type": "display_data"
    },
    {
     "data": {
      "application/vnd.jupyter.widget-view+json": {
       "model_id": "",
       "version_major": 2,
       "version_minor": 0
      },
      "text/plain": [
       "FloatProgress(value=0.0, bar_style='info', description='Progress:', layout=Layout(height='25px', width='50%'),…"
      ]
     },
     "metadata": {
      "tags": []
     },
     "output_type": "display_data"
    },
    {
     "name": "stdout",
     "output_type": "stream",
     "text": [
      "Total Columns: 15\n",
      "Total Rows: 6228567\n",
      "root\n",
      " |-- marketplace: string (nullable = true)\n",
      " |-- customer_id: string (nullable = true)\n",
      " |-- review_id: string (nullable = true)\n",
      " |-- product_id: string (nullable = true)\n",
      " |-- product_parent: string (nullable = true)\n",
      " |-- product_title: string (nullable = true)\n",
      " |-- star_rating: integer (nullable = true)\n",
      " |-- helpful_votes: integer (nullable = true)\n",
      " |-- total_votes: integer (nullable = true)\n",
      " |-- vine: string (nullable = true)\n",
      " |-- verified_purchase: string (nullable = true)\n",
      " |-- review_headline: string (nullable = true)\n",
      " |-- review_body: string (nullable = true)\n",
      " |-- review_date: date (nullable = true)\n",
      " |-- year: integer (nullable = true)"
     ]
    }
   ],
   "source": [
    "print('Total Columns: %d' % len(data.dtypes))\n",
    "print('Total Rows: %d' % data.count())\n",
    "data.printSchema()"
   ]
  },
  {
   "cell_type": "code",
   "execution_count": 0,
   "metadata": {
    "colab": {
     "referenced_widgets": [
      "458883e823364f82a780a54940679e95",
      ""
     ]
    },
    "colab_type": "code",
    "id": "1L5nMSQ4ac_E",
    "outputId": "a879ef0e-0014-4704-e5f6-19461b478d96"
   },
   "outputs": [
    {
     "data": {
      "application/vnd.jupyter.widget-view+json": {
       "model_id": "458883e823364f82a780a54940679e95",
       "version_major": 2,
       "version_minor": 0
      },
      "text/plain": [
       "VBox()"
      ]
     },
     "metadata": {
      "tags": []
     },
     "output_type": "display_data"
    },
    {
     "data": {
      "application/vnd.jupyter.widget-view+json": {
       "model_id": "",
       "version_major": 2,
       "version_minor": 0
      },
      "text/plain": [
       "FloatProgress(value=0.0, bar_style='info', description='Progress:', layout=Layout(height='25px', width='50%'),…"
      ]
     },
     "metadata": {
      "tags": []
     },
     "output_type": "display_data"
    },
    {
     "name": "stdout",
     "output_type": "stream",
     "text": [
      "+-----------+-------+\n",
      "|marketplace|  count|\n",
      "+-----------+-------+\n",
      "|         DE|   1454|\n",
      "|         US|6223566|\n",
      "|         UK|   2694|\n",
      "|         FR|    735|\n",
      "|         JP|    118|\n",
      "+-----------+-------+"
     ]
    }
   ],
   "source": [
    "data.groupby('marketplace').count().show()"
   ]
  },
  {
   "cell_type": "markdown",
   "metadata": {},
   "source": [
    "There are few data in JP and FR marketplaces -- this may introduce large variance and biased results."
   ]
  },
  {
   "cell_type": "code",
   "execution_count": 0,
   "metadata": {
    "colab": {
     "referenced_widgets": [
      "be15ca0f19a94a599ee14b55768ec29c",
      ""
     ]
    },
    "colab_type": "code",
    "id": "4G4PUKboac_H",
    "outputId": "bd838985-a5b0-46ba-b6ba-566b57f96c4b"
   },
   "outputs": [
    {
     "data": {
      "application/vnd.jupyter.widget-view+json": {
       "model_id": "be15ca0f19a94a599ee14b55768ec29c",
       "version_major": 2,
       "version_minor": 0
      },
      "text/plain": [
       "VBox()"
      ]
     },
     "metadata": {
      "tags": []
     },
     "output_type": "display_data"
    },
    {
     "data": {
      "application/vnd.jupyter.widget-view+json": {
       "model_id": "",
       "version_major": 2,
       "version_minor": 0
      },
      "text/plain": [
       "FloatProgress(value=0.0, bar_style='info', description='Progress:', layout=Layout(height='25px', width='50%'),…"
      ]
     },
     "metadata": {
      "tags": []
     },
     "output_type": "display_data"
    }
   ],
   "source": [
    "data = data.withColumn('helpful_ratio', (data.helpful_votes / data.total_votes).cast(\"float\"))\n",
    "data = data.filter('helpful_ratio IS NOT NULL')"
   ]
  },
  {
   "cell_type": "code",
   "execution_count": 0,
   "metadata": {
    "colab": {
     "referenced_widgets": [
      "861ef0689ef1435e9bf68e2293833d31",
      ""
     ]
    },
    "colab_type": "code",
    "id": "4oLXZyJaac_K",
    "outputId": "8b2ba0db-a305-47e3-b277-02318d5423ab"
   },
   "outputs": [
    {
     "data": {
      "application/vnd.jupyter.widget-view+json": {
       "model_id": "861ef0689ef1435e9bf68e2293833d31",
       "version_major": 2,
       "version_minor": 0
      },
      "text/plain": [
       "VBox()"
      ]
     },
     "metadata": {
      "tags": []
     },
     "output_type": "display_data"
    },
    {
     "data": {
      "application/vnd.jupyter.widget-view+json": {
       "model_id": "",
       "version_major": 2,
       "version_minor": 0
      },
      "text/plain": [
       "FloatProgress(value=0.0, bar_style='info', description='Progress:', layout=Layout(height='25px', width='50%'),…"
      ]
     },
     "metadata": {
      "tags": []
     },
     "output_type": "display_data"
    }
   ],
   "source": [
    "avg_rating = data.groupBy('product_id').avg('star_rating')"
   ]
  },
  {
   "cell_type": "code",
   "execution_count": 0,
   "metadata": {
    "colab": {
     "referenced_widgets": [
      "0c6d1668003b4dee95dad738d6fd27d5",
      ""
     ]
    },
    "colab_type": "code",
    "id": "SlTyebkEac_N",
    "outputId": "8cae399d-a883-4ed4-9896-9d7d704123f6"
   },
   "outputs": [
    {
     "data": {
      "application/vnd.jupyter.widget-view+json": {
       "model_id": "0c6d1668003b4dee95dad738d6fd27d5",
       "version_major": 2,
       "version_minor": 0
      },
      "text/plain": [
       "VBox()"
      ]
     },
     "metadata": {
      "tags": []
     },
     "output_type": "display_data"
    },
    {
     "data": {
      "application/vnd.jupyter.widget-view+json": {
       "model_id": "",
       "version_major": 2,
       "version_minor": 0
      },
      "text/plain": [
       "FloatProgress(value=0.0, bar_style='info', description='Progress:', layout=Layout(height='25px', width='50%'),…"
      ]
     },
     "metadata": {
      "tags": []
     },
     "output_type": "display_data"
    }
   ],
   "source": [
    "data_home = data.join(avg_rating, on=['product_id'], how='left_outer')"
   ]
  },
  {
   "cell_type": "code",
   "execution_count": 0,
   "metadata": {
    "colab": {
     "referenced_widgets": [
      "50b97b0d01734e6090b1d16e82c07c86",
      ""
     ]
    },
    "colab_type": "code",
    "id": "NThk5Penac_P",
    "outputId": "a0a2f0fd-16b3-454e-9360-89e35e0c2110"
   },
   "outputs": [
    {
     "data": {
      "application/vnd.jupyter.widget-view+json": {
       "model_id": "50b97b0d01734e6090b1d16e82c07c86",
       "version_major": 2,
       "version_minor": 0
      },
      "text/plain": [
       "VBox()"
      ]
     },
     "metadata": {
      "tags": []
     },
     "output_type": "display_data"
    },
    {
     "data": {
      "application/vnd.jupyter.widget-view+json": {
       "model_id": "",
       "version_major": 2,
       "version_minor": 0
      },
      "text/plain": [
       "FloatProgress(value=0.0, bar_style='info', description='Progress:', layout=Layout(height='25px', width='50%'),…"
      ]
     },
     "metadata": {
      "tags": []
     },
     "output_type": "display_data"
    },
    {
     "name": "stdout",
     "output_type": "stream",
     "text": [
      "+----------+-----------+-------------+----------------+\n",
      "|product_id|star_rating|helpful_ratio|avg(star_rating)|\n",
      "+----------+-----------+-------------+----------------+\n",
      "|0307463826|          5|          1.0|             4.5|\n",
      "|0307463826|          1|          0.5|             4.5|\n",
      "|0307463826|          4|   0.33333334|             4.5|\n",
      "|0307463826|          5|          1.0|             4.5|\n",
      "|0307463826|          5|          1.0|             4.5|\n",
      "|0307463826|          4|          0.0|             4.5|\n",
      "|0307463826|          4|          0.0|             4.5|\n",
      "|0307463826|          5|          1.0|             4.5|\n",
      "|0307463826|          5|          1.0|             4.5|\n",
      "|0307463826|          5|          0.0|             4.5|\n",
      "|0307463826|          4|         0.95|             4.5|\n",
      "|0307463826|          5|    0.9589041|             4.5|\n",
      "|0307463826|          5|          1.0|             4.5|\n",
      "|0307463826|          5|          1.0|             4.5|\n",
      "|0307463826|          5|        0.925|             4.5|\n",
      "|0307463826|          4|          1.0|             4.5|\n",
      "|0307463826|          5|        0.875|             4.5|\n",
      "|0307463826|          5|    0.9347826|             4.5|\n",
      "|0486417700|          2|          1.0|             4.0|\n",
      "|0486417700|          4|          1.0|             4.0|\n",
      "+----------+-----------+-------------+----------------+\n",
      "only showing top 20 rows"
     ]
    }
   ],
   "source": [
    "data_home[['product_id', 'star_rating', 'helpful_ratio', 'avg(star_rating)']].show()"
   ]
  },
  {
   "cell_type": "code",
   "execution_count": 0,
   "metadata": {
    "colab": {
     "referenced_widgets": [
      "09a8d16626e8449c9b47d0577d9450a2",
      ""
     ]
    },
    "colab_type": "code",
    "id": "MZksCOqhac_T",
    "outputId": "fcfaf5e3-ab50-45a7-8ba0-bcd136ae2021",
    "scrolled": true
   },
   "outputs": [
    {
     "data": {
      "application/vnd.jupyter.widget-view+json": {
       "model_id": "09a8d16626e8449c9b47d0577d9450a2",
       "version_major": 2,
       "version_minor": 0
      },
      "text/plain": [
       "VBox()"
      ]
     },
     "metadata": {
      "tags": []
     },
     "output_type": "display_data"
    },
    {
     "data": {
      "application/vnd.jupyter.widget-view+json": {
       "model_id": "",
       "version_major": 2,
       "version_minor": 0
      },
      "text/plain": [
       "FloatProgress(value=0.0, bar_style='info', description='Progress:', layout=Layout(height='25px', width='50%'),…"
      ]
     },
     "metadata": {
      "tags": []
     },
     "output_type": "display_data"
    }
   ],
   "source": [
    "data_home = data_home.withColumn('avg_rating', data_home[\"avg(star_rating)\"])"
   ]
  },
  {
   "cell_type": "markdown",
   "metadata": {},
   "source": [
    "Descriptive Statistics for products in HOME category:"
   ]
  },
  {
   "cell_type": "code",
   "execution_count": 0,
   "metadata": {
    "colab": {
     "referenced_widgets": [
      "a499695227c24565a0c418882a06515a",
      ""
     ]
    },
    "colab_type": "code",
    "id": "Bs3uVcuOac_W",
    "outputId": "3ff3b97d-5390-401a-fd0e-e1d5737c8967"
   },
   "outputs": [
    {
     "data": {
      "application/vnd.jupyter.widget-view+json": {
       "model_id": "a499695227c24565a0c418882a06515a",
       "version_major": 2,
       "version_minor": 0
      },
      "text/plain": [
       "VBox()"
      ]
     },
     "metadata": {
      "tags": []
     },
     "output_type": "display_data"
    },
    {
     "data": {
      "application/vnd.jupyter.widget-view+json": {
       "model_id": "",
       "version_major": 2,
       "version_minor": 0
      },
      "text/plain": [
       "FloatProgress(value=0.0, bar_style='info', description='Progress:', layout=Layout(height='25px', width='50%'),…"
      ]
     },
     "metadata": {
      "tags": []
     },
     "output_type": "display_data"
    },
    {
     "name": "stdout",
     "output_type": "stream",
     "text": [
      "+-------+------------------+\n",
      "|summary|        avg_rating|\n",
      "+-------+------------------+\n",
      "|  count|           2365030|\n",
      "|   mean|3.8618820902905675|\n",
      "| stddev|0.8607045971402699|\n",
      "|    min|               1.0|\n",
      "|    25%| 3.422222222222222|\n",
      "|    50%|               4.0|\n",
      "|    75%|               4.5|\n",
      "|    max|               5.0|\n",
      "+-------+------------------+"
     ]
    }
   ],
   "source": [
    "data_home[['avg_rating']].summary().show()"
   ]
  },
  {
   "cell_type": "code",
   "execution_count": 0,
   "metadata": {
    "colab": {
     "referenced_widgets": [
      "2a5b44aeced14fd49b3d56ab04bcac19",
      ""
     ]
    },
    "colab_type": "code",
    "id": "hd64sIfbac_Y",
    "outputId": "3c325061-b99b-45a8-a952-c63dea01fa3f"
   },
   "outputs": [
    {
     "data": {
      "application/vnd.jupyter.widget-view+json": {
       "model_id": "2a5b44aeced14fd49b3d56ab04bcac19",
       "version_major": 2,
       "version_minor": 0
      },
      "text/plain": [
       "VBox()"
      ]
     },
     "metadata": {
      "tags": []
     },
     "output_type": "display_data"
    },
    {
     "data": {
      "application/vnd.jupyter.widget-view+json": {
       "model_id": "",
       "version_major": 2,
       "version_minor": 0
      },
      "text/plain": [
       "FloatProgress(value=0.0, bar_style='info', description='Progress:', layout=Layout(height='25px', width='50%'),…"
      ]
     },
     "metadata": {
      "tags": []
     },
     "output_type": "display_data"
    },
    {
     "name": "stdout",
     "output_type": "stream",
     "text": [
      "+-------+------------------+\n",
      "|summary|     helpful_votes|\n",
      "+-------+------------------+\n",
      "|  count|           2365030|\n",
      "|   mean| 4.541887840746206|\n",
      "| stddev|29.029052706471678|\n",
      "|    min|                 0|\n",
      "|    25%|                 1|\n",
      "|    50%|                 1|\n",
      "|    75%|                 3|\n",
      "|    max|              7917|\n",
      "+-------+------------------+"
     ]
    }
   ],
   "source": [
    "data_home[['helpful_votes']].summary().show()"
   ]
  },
  {
   "cell_type": "code",
   "execution_count": 0,
   "metadata": {
    "colab": {
     "referenced_widgets": [
      "7d6db68de16a41ee8a5b1314d985c878",
      ""
     ]
    },
    "colab_type": "code",
    "id": "PxfA0bbsac_b",
    "outputId": "0838969d-f014-4312-b0e1-4fe5d993056a"
   },
   "outputs": [
    {
     "data": {
      "application/vnd.jupyter.widget-view+json": {
       "model_id": "7d6db68de16a41ee8a5b1314d985c878",
       "version_major": 2,
       "version_minor": 0
      },
      "text/plain": [
       "VBox()"
      ]
     },
     "metadata": {
      "tags": []
     },
     "output_type": "display_data"
    },
    {
     "data": {
      "application/vnd.jupyter.widget-view+json": {
       "model_id": "",
       "version_major": 2,
       "version_minor": 0
      },
      "text/plain": [
       "FloatProgress(value=0.0, bar_style='info', description='Progress:', layout=Layout(height='25px', width='50%'),…"
      ]
     },
     "metadata": {
      "tags": []
     },
     "output_type": "display_data"
    }
   ],
   "source": [
    "from  pyspark.sql.functions import abs\n",
    "\n",
    "data_home = data_home.withColumn('rating_diff', abs(data_home.avg_rating - data_home.star_rating).cast(\"float\"))"
   ]
  },
  {
   "cell_type": "code",
   "execution_count": 0,
   "metadata": {
    "colab": {
     "referenced_widgets": [
      "040509c58bad451fa9023c455a130921",
      ""
     ]
    },
    "colab_type": "code",
    "id": "w4U-PBPdac_e",
    "outputId": "fb989945-20de-42d9-87e2-cbfb1a64d68b"
   },
   "outputs": [
    {
     "data": {
      "application/vnd.jupyter.widget-view+json": {
       "model_id": "040509c58bad451fa9023c455a130921",
       "version_major": 2,
       "version_minor": 0
      },
      "text/plain": [
       "VBox()"
      ]
     },
     "metadata": {
      "tags": []
     },
     "output_type": "display_data"
    },
    {
     "data": {
      "application/vnd.jupyter.widget-view+json": {
       "model_id": "",
       "version_major": 2,
       "version_minor": 0
      },
      "text/plain": [
       "FloatProgress(value=0.0, bar_style='info', description='Progress:', layout=Layout(height='25px', width='50%'),…"
      ]
     },
     "metadata": {
      "tags": []
     },
     "output_type": "display_data"
    },
    {
     "name": "stdout",
     "output_type": "stream",
     "text": [
      "+----------+-------------+-----------+\n",
      "|product_id|helpful_ratio|rating_diff|\n",
      "+----------+-------------+-----------+\n",
      "|0307463826|          0.0|        0.5|\n",
      "|0307463826|        0.925|        0.5|\n",
      "|0307463826|          1.0|        0.5|\n",
      "|0307463826|        0.875|        0.5|\n",
      "|0307463826|    0.9589041|        0.5|\n",
      "|0307463826|          1.0|        0.5|\n",
      "|0307463826|          1.0|        0.5|\n",
      "|0307463826|          1.0|        0.5|\n",
      "|0307463826|          1.0|        0.5|\n",
      "|0307463826|          0.0|        0.5|\n",
      "|0307463826|          1.0|        0.5|\n",
      "|0307463826|          0.5|        3.5|\n",
      "|0307463826|         0.95|        0.5|\n",
      "|0307463826|    0.9347826|        0.5|\n",
      "|0307463826|   0.33333334|        0.5|\n",
      "|0307463826|          1.0|        0.5|\n",
      "|0307463826|          1.0|        0.5|\n",
      "|0307463826|          0.0|        0.5|\n",
      "|0486417700|          1.0|        1.0|\n",
      "|0486417700|          1.0|        1.0|\n",
      "+----------+-------------+-----------+\n",
      "only showing top 20 rows"
     ]
    }
   ],
   "source": [
    "data_home[['product_id', 'helpful_ratio', 'rating_diff']].show()"
   ]
  },
  {
   "cell_type": "code",
   "execution_count": 0,
   "metadata": {
    "colab": {
     "referenced_widgets": [
      "2630c9005a2f4b92ad86100ec2eb0c09",
      ""
     ]
    },
    "colab_type": "code",
    "id": "ZOTe4N_cac_g",
    "outputId": "c78366fb-101e-4932-a9ff-ca8bd74796ca"
   },
   "outputs": [
    {
     "data": {
      "application/vnd.jupyter.widget-view+json": {
       "model_id": "2630c9005a2f4b92ad86100ec2eb0c09",
       "version_major": 2,
       "version_minor": 0
      },
      "text/plain": [
       "VBox()"
      ]
     },
     "metadata": {
      "tags": []
     },
     "output_type": "display_data"
    },
    {
     "data": {
      "application/vnd.jupyter.widget-view+json": {
       "model_id": "",
       "version_major": 2,
       "version_minor": 0
      },
      "text/plain": [
       "FloatProgress(value=0.0, bar_style='info', description='Progress:', layout=Layout(height='25px', width='50%'),…"
      ]
     },
     "metadata": {
      "tags": []
     },
     "output_type": "display_data"
    },
    {
     "name": "stdout",
     "output_type": "stream",
     "text": [
      "Collecting seaborn\n",
      "  Using cached https://files.pythonhosted.org/packages/c7/e6/54aaaafd0b87f51dfba92ba73da94151aa3bc179e5fe88fc5dfb3038e860/seaborn-0.10.1-py3-none-any.whl\n",
      "Collecting pandas>=0.22.0 (from seaborn)\n",
      "  Using cached https://files.pythonhosted.org/packages/a4/5f/1b6e0efab4bfb738478919d40b0e3e1a06e3d9996da45eb62a77e9a090d9/pandas-1.0.4-cp37-cp37m-manylinux1_x86_64.whl\n",
      "Requirement already satisfied: numpy>=1.13.3 in /usr/local/lib64/python3.7/site-packages (from seaborn)\n",
      "Collecting scipy>=1.0.1 (from seaborn)\n",
      "  Using cached https://files.pythonhosted.org/packages/dd/82/c1fe128f3526b128cfd185580ba40d01371c5d299fcf7f77968e22dfcc2e/scipy-1.4.1-cp37-cp37m-manylinux1_x86_64.whl\n",
      "Collecting matplotlib>=2.1.2 (from seaborn)\n",
      "  Using cached https://files.pythonhosted.org/packages/b2/c2/71fcf957710f3ba1f09088b35776a799ba7dd95f7c2b195ec800933b276b/matplotlib-3.2.1-cp37-cp37m-manylinux1_x86_64.whl\n",
      "Requirement already satisfied: pytz>=2017.2 in /usr/local/lib/python3.7/site-packages (from pandas>=0.22.0->seaborn)\n",
      "Collecting python-dateutil>=2.6.1 (from pandas>=0.22.0->seaborn)\n",
      "  Using cached https://files.pythonhosted.org/packages/d4/70/d60450c3dd48ef87586924207ae8907090de0b306af2bce5d134d78615cb/python_dateutil-2.8.1-py2.py3-none-any.whl\n",
      "Collecting pyparsing!=2.0.4,!=2.1.2,!=2.1.6,>=2.0.1 (from matplotlib>=2.1.2->seaborn)\n",
      "  Using cached https://files.pythonhosted.org/packages/8a/bb/488841f56197b13700afd5658fc279a2025a39e22449b7cf29864669b15d/pyparsing-2.4.7-py2.py3-none-any.whl\n",
      "Collecting cycler>=0.10 (from matplotlib>=2.1.2->seaborn)\n",
      "  Using cached https://files.pythonhosted.org/packages/f7/d2/e07d3ebb2bd7af696440ce7e754c59dd546ffe1bbe732c8ab68b9c834e61/cycler-0.10.0-py2.py3-none-any.whl\n",
      "Collecting kiwisolver>=1.0.1 (from matplotlib>=2.1.2->seaborn)\n",
      "  Using cached https://files.pythonhosted.org/packages/31/b9/6202dcae729998a0ade30e80ac00f616542ef445b088ec970d407dfd41c0/kiwisolver-1.2.0-cp37-cp37m-manylinux1_x86_64.whl\n",
      "Requirement already satisfied: six>=1.5 in /usr/local/lib/python3.7/site-packages (from python-dateutil>=2.6.1->pandas>=0.22.0->seaborn)\n",
      "Installing collected packages: python-dateutil, pandas, scipy, pyparsing, cycler, kiwisolver, matplotlib, seaborn\n",
      "Successfully installed cycler-0.10.0 kiwisolver-1.2.0 matplotlib-3.2.1 pandas-1.0.4 pyparsing-2.4.7 python-dateutil-2.8.1 scipy-1.4.1 seaborn-0.10.1\n",
      "\n",
      "Requirement already satisfied: pandas in /mnt/tmp/1591220641623-0/lib/python3.7/site-packages\n",
      "Requirement already satisfied: pytz>=2017.2 in /usr/local/lib/python3.7/site-packages (from pandas)\n",
      "Requirement already satisfied: numpy>=1.13.3 in /usr/local/lib64/python3.7/site-packages (from pandas)\n",
      "Requirement already satisfied: python-dateutil>=2.6.1 in /mnt/tmp/1591220641623-0/lib/python3.7/site-packages (from pandas)\n",
      "Requirement already satisfied: six>=1.5 in /usr/local/lib/python3.7/site-packages (from python-dateutil>=2.6.1->pandas)"
     ]
    }
   ],
   "source": [
    "sc.install_pypi_package(\"seaborn\")\n",
    "sc.install_pypi_package(\"pandas\")"
   ]
  },
  {
   "cell_type": "code",
   "execution_count": 0,
   "metadata": {
    "colab": {
     "referenced_widgets": [
      "031985e71fec4f6090d433429eca6335",
      ""
     ]
    },
    "colab_type": "code",
    "id": "bjdlQ0odac_i",
    "outputId": "b76f702c-12ce-48b4-bfe6-8022700fb0f1"
   },
   "outputs": [
    {
     "data": {
      "application/vnd.jupyter.widget-view+json": {
       "model_id": "031985e71fec4f6090d433429eca6335",
       "version_major": 2,
       "version_minor": 0
      },
      "text/plain": [
       "VBox()"
      ]
     },
     "metadata": {
      "tags": []
     },
     "output_type": "display_data"
    },
    {
     "data": {
      "application/vnd.jupyter.widget-view+json": {
       "model_id": "",
       "version_major": 2,
       "version_minor": 0
      },
      "text/plain": [
       "FloatProgress(value=0.0, bar_style='info', description='Progress:', layout=Layout(height='25px', width='50%'),…"
      ]
     },
     "metadata": {
      "tags": []
     },
     "output_type": "display_data"
    },
    {
     "data": {
      "image/png": "[encoded data removed]",
      "text/plain": [
       "<IPython.core.display.Image object>"
      ]
     },
     "metadata": {
      "tags": []
     },
     "output_type": "display_data"
    }
   ],
   "source": [
    "import seaborn as sns\n",
    "import matplotlib.pyplot as plt\n",
    "\n",
    "sampled_df = data_home.sample(fraction=0.0001).toPandas()\n",
    "sampled_df.plot.scatter('rating_diff', 'helpful_ratio')\n",
    "%matplot plt"
   ]
  },
  {
   "cell_type": "code",
   "execution_count": 0,
   "metadata": {
    "colab": {
     "referenced_widgets": [
      "755fd3d0dca744db9e4996a151f6ca5b",
      ""
     ]
    },
    "colab_type": "code",
    "id": "44GiPRSiac_l",
    "outputId": "76377589-7329-4ad0-e280-20b6f0a2e7cc"
   },
   "outputs": [
    {
     "data": {
      "application/vnd.jupyter.widget-view+json": {
       "model_id": "755fd3d0dca744db9e4996a151f6ca5b",
       "version_major": 2,
       "version_minor": 0
      },
      "text/plain": [
       "VBox()"
      ]
     },
     "metadata": {
      "tags": []
     },
     "output_type": "display_data"
    },
    {
     "data": {
      "application/vnd.jupyter.widget-view+json": {
       "model_id": "",
       "version_major": 2,
       "version_minor": 0
      },
      "text/plain": [
       "FloatProgress(value=0.0, bar_style='info', description='Progress:', layout=Layout(height='25px', width='50%'),…"
      ]
     },
     "metadata": {
      "tags": []
     },
     "output_type": "display_data"
    }
   ],
   "source": [
    "from pyspark.ml.feature import Bucketizer\n",
    "\n",
    "bucketizer = Bucketizer(splits=[0.0, 0.1, 0.2, 0.3, 0.4, 0.5, 0.6, 0.7, 0.8, 0.9, 1.0],\n",
    "                        inputCol=\"helpful_ratio\", outputCol=\"ratio_buckets\")\n",
    "home_buck = bucketizer.setHandleInvalid(\"keep\").transform(data_home)"
   ]
  },
  {
   "cell_type": "code",
   "execution_count": 0,
   "metadata": {
    "colab": {
     "referenced_widgets": [
      "9759ac78eb3c42988b82c55bc601afab",
      ""
     ]
    },
    "colab_type": "code",
    "id": "5c9OF1Eiac_o",
    "outputId": "097a7b7a-24f2-42c3-90ee-9b50f3e5f6ce"
   },
   "outputs": [
    {
     "data": {
      "application/vnd.jupyter.widget-view+json": {
       "model_id": "9759ac78eb3c42988b82c55bc601afab",
       "version_major": 2,
       "version_minor": 0
      },
      "text/plain": [
       "VBox()"
      ]
     },
     "metadata": {
      "tags": []
     },
     "output_type": "display_data"
    },
    {
     "data": {
      "application/vnd.jupyter.widget-view+json": {
       "model_id": "",
       "version_major": 2,
       "version_minor": 0
      },
      "text/plain": [
       "FloatProgress(value=0.0, bar_style='info', description='Progress:', layout=Layout(height='25px', width='50%'),…"
      ]
     },
     "metadata": {
      "tags": []
     },
     "output_type": "display_data"
    }
   ],
   "source": [
    "from pyspark.sql.functions import udf\n",
    "from pyspark.sql.types import *\n",
    "\n",
    "t = {0.0:\"0.1\", 1.0:\"0.2\", 2.0:\"0.3\", 3.0:\"0.4\", 4.0:\"0.5\", 5.0:\"0.6\", 6.0:\"0.7\", 7.0:\"0.8\", 8.0:\"0.9\", 9.0:\"1.0\"}\n",
    "udf_foo = udf(lambda x: t[x], StringType())\n",
    "home_buck = home_buck.withColumn(\"helpfulness_ratio\", udf_foo(\"ratio_buckets\"))"
   ]
  },
  {
   "cell_type": "code",
   "execution_count": 0,
   "metadata": {
    "colab": {
     "referenced_widgets": [
      "9bf52ff11f8e4e149cf973688324ec78",
      ""
     ]
    },
    "colab_type": "code",
    "id": "NrDtnqfMac_s",
    "outputId": "cb268e94-29e6-4d4b-ff11-90e8872405a7"
   },
   "outputs": [
    {
     "data": {
      "application/vnd.jupyter.widget-view+json": {
       "model_id": "9bf52ff11f8e4e149cf973688324ec78",
       "version_major": 2,
       "version_minor": 0
      },
      "text/plain": [
       "VBox()"
      ]
     },
     "metadata": {
      "tags": []
     },
     "output_type": "display_data"
    },
    {
     "data": {
      "application/vnd.jupyter.widget-view+json": {
       "model_id": "",
       "version_major": 2,
       "version_minor": 0
      },
      "text/plain": [
       "FloatProgress(value=0.0, bar_style='info', description='Progress:', layout=Layout(height='25px', width='50%'),…"
      ]
     },
     "metadata": {
      "tags": []
     },
     "output_type": "display_data"
    },
    {
     "name": "stdout",
     "output_type": "stream",
     "text": [
      "+-----------------+------------------+\n",
      "|helpfulness_ratio|  avg(rating_diff)|\n",
      "+-----------------+------------------+\n",
      "|              1.0|0.7758211307721945|\n",
      "|              0.9|1.1499160403901532|\n",
      "|              0.8|1.2173013527852896|\n",
      "|              0.7|1.1916362898564017|\n",
      "|              0.6|1.1006686166937705|\n",
      "|              0.5|1.7081438853774271|\n",
      "|              0.4|1.4217359847915843|\n",
      "|              0.3|1.6505221340371492|\n",
      "|              0.2|1.8605264366845535|\n",
      "+-----------------+------------------+"
     ]
    }
   ],
   "source": [
    "avg_df = (home_buck.groupBy('helpfulness_ratio')\n",
    "                    .avg('rating_diff')\n",
    "                    .sort('helpfulness_ratio', ascending=False)\n",
    "         )\n",
    "avg_df = avg_df.filter(avg_df.helpfulness_ratio != '0.1')\n",
    "avg_df.show()"
   ]
  },
  {
   "cell_type": "code",
   "execution_count": 0,
   "metadata": {
    "colab": {
     "referenced_widgets": [
      "55dfce805d7f453a995a8b7d94555380",
      ""
     ]
    },
    "colab_type": "code",
    "id": "vltvnUpPac_v",
    "outputId": "eac4d2d6-642b-45a1-8e56-87addeb94862"
   },
   "outputs": [
    {
     "data": {
      "application/vnd.jupyter.widget-view+json": {
       "model_id": "55dfce805d7f453a995a8b7d94555380",
       "version_major": 2,
       "version_minor": 0
      },
      "text/plain": [
       "VBox()"
      ]
     },
     "metadata": {
      "tags": []
     },
     "output_type": "display_data"
    },
    {
     "data": {
      "application/vnd.jupyter.widget-view+json": {
       "model_id": "",
       "version_major": 2,
       "version_minor": 0
      },
      "text/plain": [
       "FloatProgress(value=0.0, bar_style='info', description='Progress:', layout=Layout(height='25px', width='50%'),…"
      ]
     },
     "metadata": {
      "tags": []
     },
     "output_type": "display_data"
    },
    {
     "data": {
      "image/png": "[encoded data removed]",
      "text/plain": [
       "<IPython.core.display.Image object>"
      ]
     },
     "metadata": {
      "tags": []
     },
     "output_type": "display_data"
    }
   ],
   "source": [
    "plt.close()\n",
    "\n",
    "sns.barplot(x='helpfulness_ratio', y='avg(rating_diff)', data=avg_df.toPandas())\n",
    "%matplot plt"
   ]
  },
  {
   "cell_type": "markdown",
   "metadata": {},
   "source": [
    "The barplot shows that as helpfulness ratio increases, the difference between review rating and average product rating decreases. This confirms our hypothesis that there is social conformity in voting behaviors."
   ]
  },
  {
   "cell_type": "markdown",
   "metadata": {
    "colab_type": "text",
    "id": "nwDV80ijac_y"
   },
   "source": [
    "### By Marketplace\n",
    "Do different marketplaces (or countries) have different trends?"
   ]
  },
  {
   "cell_type": "code",
   "execution_count": 0,
   "metadata": {
    "colab": {
     "referenced_widgets": [
      "403c856c55c44564adf5356984f64452",
      ""
     ]
    },
    "colab_type": "code",
    "id": "X2K14J2Mac_y",
    "outputId": "12dca53e-1f93-4bc5-e63a-ca00b7ad4d45"
   },
   "outputs": [
    {
     "data": {
      "application/vnd.jupyter.widget-view+json": {
       "model_id": "403c856c55c44564adf5356984f64452",
       "version_major": 2,
       "version_minor": 0
      },
      "text/plain": [
       "VBox()"
      ]
     },
     "metadata": {
      "tags": []
     },
     "output_type": "display_data"
    },
    {
     "data": {
      "application/vnd.jupyter.widget-view+json": {
       "model_id": "",
       "version_major": 2,
       "version_minor": 0
      },
      "text/plain": [
       "FloatProgress(value=0.0, bar_style='info', description='Progress:', layout=Layout(height='25px', width='50%'),…"
      ]
     },
     "metadata": {
      "tags": []
     },
     "output_type": "display_data"
    }
   ],
   "source": [
    "us_home = home_buck.filter(home_buck.marketplace == 'US')"
   ]
  },
  {
   "cell_type": "code",
   "execution_count": 0,
   "metadata": {
    "colab": {
     "referenced_widgets": [
      "dc194cb89d484265a0b6275c1f345785",
      ""
     ]
    },
    "colab_type": "code",
    "id": "ShkBGa1xac_0",
    "outputId": "33714340-d4db-47c6-aba5-a255aa126c3c"
   },
   "outputs": [
    {
     "data": {
      "application/vnd.jupyter.widget-view+json": {
       "model_id": "dc194cb89d484265a0b6275c1f345785",
       "version_major": 2,
       "version_minor": 0
      },
      "text/plain": [
       "VBox()"
      ]
     },
     "metadata": {
      "tags": []
     },
     "output_type": "display_data"
    },
    {
     "data": {
      "application/vnd.jupyter.widget-view+json": {
       "model_id": "",
       "version_major": 2,
       "version_minor": 0
      },
      "text/plain": [
       "FloatProgress(value=0.0, bar_style='info', description='Progress:', layout=Layout(height='25px', width='50%'),…"
      ]
     },
     "metadata": {
      "tags": []
     },
     "output_type": "display_data"
    },
    {
     "name": "stdout",
     "output_type": "stream",
     "text": [
      "+-----------------+------------------+\n",
      "|helpfulness_ratio|                US|\n",
      "+-----------------+------------------+\n",
      "|              1.0|0.7757579824010519|\n",
      "|              0.9|1.1500133430035278|\n",
      "|              0.8|1.2176969738811096|\n",
      "|              0.7|1.1922080818205363|\n",
      "|              0.6|1.1009896214898898|\n",
      "|              0.5|1.7086343293993387|\n",
      "|              0.4|1.4223455120771884|\n",
      "|              0.3|1.6512771218400262|\n",
      "|              0.2|1.8601396124119784|\n",
      "+-----------------+------------------+"
     ]
    }
   ],
   "source": [
    "avg_us = (us_home.groupBy('helpfulness_ratio')\n",
    "                    .avg('rating_diff')\n",
    "                    .sort('helpfulness_ratio', ascending=False)\n",
    "         )\n",
    "avg_df = avg_us.filter(avg_us.helpfulness_ratio != '0.1')\n",
    "avg_df = avg_df.withColumn('diff', avg_df[\"avg(rating_diff)\"])\n",
    "avg_df = avg_df.selectExpr(\"helpfulness_ratio as helpfulness_ratio\", \"diff as US\")\n",
    "avg_df.show()"
   ]
  },
  {
   "cell_type": "code",
   "execution_count": 0,
   "metadata": {
    "colab": {
     "referenced_widgets": [
      "e5c20f8cc87248e0838b10d1d18bc55b",
      ""
     ]
    },
    "colab_type": "code",
    "id": "ZjfwcV3mac_3",
    "outputId": "ee52c0d2-ca9c-43cb-a5b2-1d075a1b154d"
   },
   "outputs": [
    {
     "data": {
      "application/vnd.jupyter.widget-view+json": {
       "model_id": "e5c20f8cc87248e0838b10d1d18bc55b",
       "version_major": 2,
       "version_minor": 0
      },
      "text/plain": [
       "VBox()"
      ]
     },
     "metadata": {
      "tags": []
     },
     "output_type": "display_data"
    },
    {
     "data": {
      "application/vnd.jupyter.widget-view+json": {
       "model_id": "",
       "version_major": 2,
       "version_minor": 0
      },
      "text/plain": [
       "FloatProgress(value=0.0, bar_style='info', description='Progress:', layout=Layout(height='25px', width='50%'),…"
      ]
     },
     "metadata": {
      "tags": []
     },
     "output_type": "display_data"
    }
   ],
   "source": [
    "uk_home = home_buck.filter(home_buck.marketplace == 'UK')"
   ]
  },
  {
   "cell_type": "code",
   "execution_count": 0,
   "metadata": {
    "colab": {
     "referenced_widgets": [
      "ed92b0529b3f4dea8f56ec590e5ae5b1",
      ""
     ]
    },
    "colab_type": "code",
    "id": "B06EG4vHac_5",
    "outputId": "25822186-68bc-4b41-ac84-a3c0becbdf39"
   },
   "outputs": [
    {
     "data": {
      "application/vnd.jupyter.widget-view+json": {
       "model_id": "ed92b0529b3f4dea8f56ec590e5ae5b1",
       "version_major": 2,
       "version_minor": 0
      },
      "text/plain": [
       "VBox()"
      ]
     },
     "metadata": {
      "tags": []
     },
     "output_type": "display_data"
    },
    {
     "data": {
      "application/vnd.jupyter.widget-view+json": {
       "model_id": "",
       "version_major": 2,
       "version_minor": 0
      },
      "text/plain": [
       "FloatProgress(value=0.0, bar_style='info', description='Progress:', layout=Layout(height='25px', width='50%'),…"
      ]
     },
     "metadata": {
      "tags": []
     },
     "output_type": "display_data"
    },
    {
     "name": "stdout",
     "output_type": "stream",
     "text": [
      "+-----------------+------------------+------------------+\n",
      "|helpfulness_ratio|                US|                UK|\n",
      "+-----------------+------------------+------------------+\n",
      "|              1.0|0.7757579824010519|0.7642049321852554|\n",
      "|              0.9|1.1500133430035278|0.9744938310272623|\n",
      "|              0.8|1.2176969738811096|0.7637676735563824|\n",
      "|              0.7|1.1922080818205363|0.8581774062231967|\n",
      "|              0.6|1.1009896214898898|0.9020239755949553|\n",
      "|              0.5|1.7086343293993387|1.0852015882730484|\n",
      "|              0.4|1.4223455120771884|1.1035868413746357|\n",
      "|              0.3|1.6512771218400262|1.4322967857122422|\n",
      "|              0.2|1.8601396124119784|1.9789567788441975|\n",
      "+-----------------+------------------+------------------+"
     ]
    }
   ],
   "source": [
    "avg_uk = (uk_home.groupBy('helpfulness_ratio')\n",
    "                    .avg('rating_diff')\n",
    "                    .sort('helpfulness_ratio', ascending=False)\n",
    "         )\n",
    "avg_uk = avg_uk.filter(avg_uk.helpfulness_ratio != '0.1')\n",
    "avg_uk = avg_uk.withColumn('diff', avg_uk[\"avg(rating_diff)\"])\n",
    "avg_df = avg_df.join(avg_uk, on=['helpfulness_ratio'], how='left_outer')\n",
    "avg_df = avg_df.selectExpr(\"helpfulness_ratio\", \"US\", \"diff as UK\")\n",
    "avg_df.show()"
   ]
  },
  {
   "cell_type": "code",
   "execution_count": 0,
   "metadata": {
    "colab": {
     "referenced_widgets": [
      "31a8045db51b44308484d54fae7ddf52",
      ""
     ]
    },
    "colab_type": "code",
    "id": "peJfMnKJac_8",
    "outputId": "1ffde424-1b79-4654-c259-91d9f95d5f0d"
   },
   "outputs": [
    {
     "data": {
      "application/vnd.jupyter.widget-view+json": {
       "model_id": "31a8045db51b44308484d54fae7ddf52",
       "version_major": 2,
       "version_minor": 0
      },
      "text/plain": [
       "VBox()"
      ]
     },
     "metadata": {
      "tags": []
     },
     "output_type": "display_data"
    },
    {
     "data": {
      "application/vnd.jupyter.widget-view+json": {
       "model_id": "",
       "version_major": 2,
       "version_minor": 0
      },
      "text/plain": [
       "FloatProgress(value=0.0, bar_style='info', description='Progress:', layout=Layout(height='25px', width='50%'),…"
      ]
     },
     "metadata": {
      "tags": []
     },
     "output_type": "display_data"
    },
    {
     "name": "stdout",
     "output_type": "stream",
     "text": [
      "+-----------------+------------------+------------------+------------------+\n",
      "|helpfulness_ratio|                US|                UK|                DE|\n",
      "+-----------------+------------------+------------------+------------------+\n",
      "|              1.0|0.7757579824010519|0.7642049321852554|1.0079402901689734|\n",
      "|              0.9|1.1500133430035278|0.9744938310272623|1.2432314473830286|\n",
      "|              0.8|1.2176969738811096|0.7637676735563824|1.1000097915530205|\n",
      "|              0.7|1.1922080818205363|0.8581774062231967|0.9289795406549782|\n",
      "|              0.6|1.1009896214898898|0.9020239755949553|0.8640118750313727|\n",
      "|              0.5|1.7086343293993387|1.0852015882730484|1.7164788411723242|\n",
      "|              0.4|1.4223455120771884|1.1035868413746357| 1.093905902802944|\n",
      "|              0.3|1.6512771218400262|1.4322967857122422|1.2965281699833118|\n",
      "|              0.2|1.8601396124119784|1.9789567788441975|2.2069690823554993|\n",
      "+-----------------+------------------+------------------+------------------+"
     ]
    }
   ],
   "source": [
    "de_home = home_buck.filter(home_buck.marketplace == 'DE')\n",
    "\n",
    "avg_de = (de_home.groupBy('helpfulness_ratio')\n",
    "                    .avg('rating_diff')\n",
    "                    .sort('helpfulness_ratio', ascending=False)\n",
    "         )\n",
    "avg_de = avg_de.filter(avg_de.helpfulness_ratio != '0.1')\n",
    "avg_de = avg_de.withColumn('diff', avg_de[\"avg(rating_diff)\"])\n",
    "avg_df = avg_df.join(avg_de, on=['helpfulness_ratio'], how='left_outer')\n",
    "avg_df = avg_df.selectExpr(\"helpfulness_ratio\", \"US\", \"UK\", \"diff as DE\")\n",
    "avg_df.show()"
   ]
  },
  {
   "cell_type": "code",
   "execution_count": 0,
   "metadata": {
    "colab": {
     "referenced_widgets": [
      "9c81318e69d34c0fbcdcf01acf0d4e4f",
      ""
     ]
    },
    "colab_type": "code",
    "id": "48wznFvgac_-",
    "outputId": "66b90ed6-7e94-4336-8bf4-c95e6a9c2836"
   },
   "outputs": [
    {
     "data": {
      "application/vnd.jupyter.widget-view+json": {
       "model_id": "9c81318e69d34c0fbcdcf01acf0d4e4f",
       "version_major": 2,
       "version_minor": 0
      },
      "text/plain": [
       "VBox()"
      ]
     },
     "metadata": {
      "tags": []
     },
     "output_type": "display_data"
    },
    {
     "data": {
      "application/vnd.jupyter.widget-view+json": {
       "model_id": "",
       "version_major": 2,
       "version_minor": 0
      },
      "text/plain": [
       "FloatProgress(value=0.0, bar_style='info', description='Progress:', layout=Layout(height='25px', width='50%'),…"
      ]
     },
     "metadata": {
      "tags": []
     },
     "output_type": "display_data"
    }
   ],
   "source": [
    "fr_home = home_buck.filter(home_buck.marketplace == 'FR')\n",
    "\n",
    "avg_fr = (fr_home.groupBy('helpfulness_ratio')\n",
    "                    .avg('rating_diff')\n",
    "                    .sort('helpfulness_ratio', ascending=False)\n",
    "         )\n",
    "avg_fr = avg_fr.filter(avg_fr.helpfulness_ratio != '0.1')\n",
    "avg_fr = avg_fr.withColumn('diff', avg_fr[\"avg(rating_diff)\"])\n",
    "avg_df = avg_df.join(avg_fr, on=['helpfulness_ratio'], how='left_outer')\n",
    "avg_df = avg_df.selectExpr(\"helpfulness_ratio\", \"US\", \"UK\", \"DE\", \"diff as FR\")"
   ]
  },
  {
   "cell_type": "code",
   "execution_count": 0,
   "metadata": {
    "colab": {
     "referenced_widgets": [
      "17640078701a441b9e08a7c1b8b80c2e",
      ""
     ]
    },
    "colab_type": "code",
    "id": "Xp6UvD6madAB",
    "outputId": "668e435b-67c4-487e-b7ce-62b82fe8b707"
   },
   "outputs": [
    {
     "data": {
      "application/vnd.jupyter.widget-view+json": {
       "model_id": "17640078701a441b9e08a7c1b8b80c2e",
       "version_major": 2,
       "version_minor": 0
      },
      "text/plain": [
       "VBox()"
      ]
     },
     "metadata": {
      "tags": []
     },
     "output_type": "display_data"
    },
    {
     "data": {
      "application/vnd.jupyter.widget-view+json": {
       "model_id": "",
       "version_major": 2,
       "version_minor": 0
      },
      "text/plain": [
       "FloatProgress(value=0.0, bar_style='info', description='Progress:', layout=Layout(height='25px', width='50%'),…"
      ]
     },
     "metadata": {
      "tags": []
     },
     "output_type": "display_data"
    }
   ],
   "source": [
    "jp_home = home_buck.filter(home_buck.marketplace == 'JP')\n",
    "\n",
    "avg_jp = (jp_home.groupBy('helpfulness_ratio')\n",
    "                    .avg('rating_diff')\n",
    "                    .sort('helpfulness_ratio', ascending=False)\n",
    "         )\n",
    "avg_jp = avg_jp.filter(avg_jp.helpfulness_ratio != '0.1')\n",
    "avg_jp = avg_jp.withColumn('diff', avg_jp[\"avg(rating_diff)\"])\n",
    "avg_df = avg_df.join(avg_jp, on=['helpfulness_ratio'], how='left_outer')\n",
    "avg_df = avg_df.selectExpr(\"helpfulness_ratio\", \"US\", \"UK\", \"DE\", \"FR\", \"diff as JP\")"
   ]
  },
  {
   "cell_type": "code",
   "execution_count": 0,
   "metadata": {
    "colab": {
     "referenced_widgets": [
      "847290636e2e463ba3d0b3e78993cde0",
      ""
     ]
    },
    "colab_type": "code",
    "id": "dPsAR4NDadAE",
    "outputId": "4da72dd9-083c-415a-831d-96b70b860760"
   },
   "outputs": [
    {
     "data": {
      "application/vnd.jupyter.widget-view+json": {
       "model_id": "847290636e2e463ba3d0b3e78993cde0",
       "version_major": 2,
       "version_minor": 0
      },
      "text/plain": [
       "VBox()"
      ]
     },
     "metadata": {
      "tags": []
     },
     "output_type": "display_data"
    },
    {
     "data": {
      "application/vnd.jupyter.widget-view+json": {
       "model_id": "",
       "version_major": 2,
       "version_minor": 0
      },
      "text/plain": [
       "FloatProgress(value=0.0, bar_style='info', description='Progress:', layout=Layout(height='25px', width='50%'),…"
      ]
     },
     "metadata": {
      "tags": []
     },
     "output_type": "display_data"
    },
    {
     "data": {
      "image/png": "[encoded data removed]",
      "text/plain": [
       "<IPython.core.display.Image object>"
      ]
     },
     "metadata": {
      "tags": []
     },
     "output_type": "display_data"
    }
   ],
   "source": [
    "# plot for all countries\n",
    "plt.close()\n",
    "\n",
    "US, = plt.plot('helpfulness_ratio', 'US', data=avg_df.toPandas(), label=\"US\")\n",
    "UK, = plt.plot('helpfulness_ratio', 'UK', data=avg_df.toPandas(), label=\"UK\")\n",
    "DE, = plt.plot('helpfulness_ratio', 'DE', data=avg_df.toPandas(), label=\"DE\")\n",
    "FR, = plt.plot('helpfulness_ratio', 'FR', data=avg_df.toPandas(), label=\"FR\")\n",
    "JP, = plt.plot('helpfulness_ratio', 'JP', data=avg_df.toPandas(), label=\"JP\")\n",
    "plt.legend(handles=[US, UK, DE, FR, JP])\n",
    "plt.xlabel('helpfulness ratio')\n",
    "plt.ylabel('average rating difference')\n",
    "%matplot plt"
   ]
  },
  {
   "cell_type": "markdown",
   "metadata": {
    "colab": {},
    "colab_type": "code",
    "id": "_UEweXOBadAG"
   },
   "source": [
    "As we expected, since we have few data for JP and FR marketplaces, there are large fluctuations in our results -- some places do not even have data to support. The other three marketplaces still show a trend for social conformity."
   ]
  },
  {
   "cell_type": "markdown",
   "metadata": {
    "colab_type": "text",
    "id": "qf_71bfhahg0"
   },
   "source": [
    "### Sentiment Analysis\n",
    "What are some characteristics of reviews that have high or low helpfulness ratio?"
   ]
  },
  {
   "cell_type": "code",
   "execution_count": 1,
   "metadata": {
    "colab": {
     "base_uri": "https://localhost:8080/",
     "height": 292
    },
    "colab_type": "code",
    "id": "0UPXp_RcaqXs",
    "outputId": "3c98c953-6d5b-4155-9d1b-55d57c3e704e"
   },
   "outputs": [
    {
     "name": "stdout",
     "output_type": "stream",
     "text": [
      "openjdk version \"1.8.0_252\"\n",
      "OpenJDK Runtime Environment (build 1.8.0_252-8u252-b09-1~18.04-b09)\n",
      "OpenJDK 64-Bit Server VM (build 25.252-b09, mixed mode)\n",
      "Processing /root/.cache/pip/wheels/ab/09/4d/0d184230058e654eb1b04467dbc1292f00eaa186544604b471/pyspark-2.4.4-py2.py3-none-any.whl\n",
      "Collecting py4j==0.10.7\n",
      "  Using cached https://files.pythonhosted.org/packages/e3/53/c737818eb9a7dc32a7cd4f1396e787bd94200c3997c72c1dbe028587bd76/py4j-0.10.7-py2.py3-none-any.whl\n",
      "Installing collected packages: py4j, pyspark\n",
      "Successfully installed py4j-0.10.7 pyspark-2.4.4\n",
      "Collecting spark-nlp==2.5.1\n",
      "  Using cached https://files.pythonhosted.org/packages/df/b4/db653f8080a446de8ce981b262d85c85c61de7e920930726da0d1c6b4c65/spark_nlp-2.5.1-py2.py3-none-any.whl\n",
      "Installing collected packages: spark-nlp\n",
      "Successfully installed spark-nlp-2.5.1\n",
      "Spark NLP version\n",
      "Apache Spark version\n"
     ]
    },
    {
     "data": {
      "text/plain": [
       "'2.4.4'"
      ]
     },
     "execution_count": 1,
     "metadata": {
      "tags": []
     },
     "output_type": "execute_result"
    }
   ],
   "source": [
    "import os\n",
    "\n",
    "# Install java\n",
    "! apt-get install -y openjdk-8-jdk-headless -qq > /dev/null\n",
    "os.environ[\"JAVA_HOME\"] = \"/usr/lib/jvm/java-8-openjdk-amd64\"\n",
    "os.environ[\"PATH\"] = os.environ[\"JAVA_HOME\"] + \"/bin:\" + os.environ[\"PATH\"]\n",
    "! java -version\n",
    "\n",
    "# Install pyspark\n",
    "! pip install --ignore-installed pyspark==2.4.4\n",
    "\n",
    "# Install Spark NLP\n",
    "! pip install --ignore-installed spark-nlp==2.5.1\n",
    "\n",
    "# Quick SparkSession start\n",
    "import sparknlp\n",
    "spark = sparknlp.start()\n",
    "\n",
    "print(\"Spark NLP version\")\n",
    "sparknlp.version()\n",
    "print(\"Apache Spark version\")\n",
    "spark.version"
   ]
  },
  {
   "cell_type": "code",
   "execution_count": 2,
   "metadata": {
    "colab": {
     "base_uri": "https://localhost:8080/",
     "height": 34
    },
    "colab_type": "code",
    "id": "WuR4NyWhbCgy",
    "outputId": "7dc250ad-1e6b-4ea6-be60-c109676f1098"
   },
   "outputs": [
    {
     "name": "stdout",
     "output_type": "stream",
     "text": [
      "Drive already mounted at /content/drive/; to attempt to forcibly remount, call drive.mount(\"/content/drive/\", force_remount=True).\n"
     ]
    }
   ],
   "source": [
    "from google.colab import drive\n",
    "drive.mount('/content/drive/')"
   ]
  },
  {
   "cell_type": "code",
   "execution_count": 0,
   "metadata": {
    "colab": {},
    "colab_type": "code",
    "id": "2tx19nmybSzh"
   },
   "outputs": [],
   "source": [
    "import glob\n",
    "import pandas as pd\n",
    "\n",
    "file_path = glob.glob(\"/content/drive/My Drive/amazon-reviews-dataset/*\")\n",
    "file = file_path[1]\n",
    "\n",
    "with open(file) as tsvfile:\n",
    "    col_names = [\"marketplace\", \"customer_id\", \"review_id\", \"product_id\", \"product_parent\", \"product_title\",\n",
    "               \"category\", \"star_rating\", \"helpful_votes\", \"total_votes\", \"vine\", \"verified_purchase\", \n",
    "               \"review_headline\", \"review_body\", \"review_date\"]\n",
    "    data = pd.read_csv(file, sep='\\t', names=col_names, skiprows=2000000, low_memory=False)"
   ]
  },
  {
   "cell_type": "code",
   "execution_count": 4,
   "metadata": {
    "colab": {
     "base_uri": "https://localhost:8080/",
     "height": 496
    },
    "colab_type": "code",
    "id": "FttK2TU5bwD-",
    "outputId": "be1c651f-11dc-48f8-ad87-701c1b94302d"
   },
   "outputs": [
    {
     "data": {
      "text/html": [
       "<div>\n",
       "<style scoped>\n",
       "    .dataframe tbody tr th:only-of-type {\n",
       "        vertical-align: middle;\n",
       "    }\n",
       "\n",
       "    .dataframe tbody tr th {\n",
       "        vertical-align: top;\n",
       "    }\n",
       "\n",
       "    .dataframe thead th {\n",
       "        text-align: right;\n",
       "    }\n",
       "</style>\n",
       "<table border=\"1\" class=\"dataframe\">\n",
       "  <thead>\n",
       "    <tr style=\"text-align: right;\">\n",
       "      <th></th>\n",
       "      <th>marketplace</th>\n",
       "      <th>customer_id</th>\n",
       "      <th>review_id</th>\n",
       "      <th>product_id</th>\n",
       "      <th>product_parent</th>\n",
       "      <th>product_title</th>\n",
       "      <th>category</th>\n",
       "      <th>star_rating</th>\n",
       "      <th>helpful_votes</th>\n",
       "      <th>total_votes</th>\n",
       "      <th>vine</th>\n",
       "      <th>verified_purchase</th>\n",
       "      <th>review_headline</th>\n",
       "      <th>review_body</th>\n",
       "      <th>review_date</th>\n",
       "      <th>helpful_ratio</th>\n",
       "    </tr>\n",
       "  </thead>\n",
       "  <tbody>\n",
       "    <tr>\n",
       "      <th>3</th>\n",
       "      <td>US</td>\n",
       "      <td>16392422</td>\n",
       "      <td>R21NDRWDPE4GZH</td>\n",
       "      <td>B0010DLN8O</td>\n",
       "      <td>131861874</td>\n",
       "      <td>X-Mite Anti-Allergen Moist Powder Carpet Cleaner</td>\n",
       "      <td>Home</td>\n",
       "      <td>3.0</td>\n",
       "      <td>3.0</td>\n",
       "      <td>3.0</td>\n",
       "      <td>N</td>\n",
       "      <td>Y</td>\n",
       "      <td>This seemed to clean my carpet somewhat, but I...</td>\n",
       "      <td>This seemed to clean my carpet somewhat, but I...</td>\n",
       "      <td>2015-01-14</td>\n",
       "      <td>1.000000</td>\n",
       "    </tr>\n",
       "    <tr>\n",
       "      <th>7</th>\n",
       "      <td>US</td>\n",
       "      <td>19923151</td>\n",
       "      <td>R3HC6711ZHESVE</td>\n",
       "      <td>B00F3HFFFA</td>\n",
       "      <td>219988054</td>\n",
       "      <td>Queen Doggone Good Time Sheet Set</td>\n",
       "      <td>Home</td>\n",
       "      <td>2.0</td>\n",
       "      <td>2.0</td>\n",
       "      <td>12.0</td>\n",
       "      <td>N</td>\n",
       "      <td>N</td>\n",
       "      <td>I've been wanting to buy these sheets for some...</td>\n",
       "      <td>I've been wanting to buy these sheets for some...</td>\n",
       "      <td>2015-01-14</td>\n",
       "      <td>0.166667</td>\n",
       "    </tr>\n",
       "    <tr>\n",
       "      <th>10</th>\n",
       "      <td>US</td>\n",
       "      <td>19739998</td>\n",
       "      <td>R2UZVP5GQ74OHH</td>\n",
       "      <td>B00PKU3LEW</td>\n",
       "      <td>915712943</td>\n",
       "      <td>La Crosse Technology</td>\n",
       "      <td>Home</td>\n",
       "      <td>4.0</td>\n",
       "      <td>0.0</td>\n",
       "      <td>1.0</td>\n",
       "      <td>N</td>\n",
       "      <td>Y</td>\n",
       "      <td>Display is nice. Seems to be very accurate</td>\n",
       "      <td>Been in use now since Christmas.&lt;br /&gt;Display ...</td>\n",
       "      <td>2015-01-14</td>\n",
       "      <td>0.000000</td>\n",
       "    </tr>\n",
       "    <tr>\n",
       "      <th>11</th>\n",
       "      <td>US</td>\n",
       "      <td>18835472</td>\n",
       "      <td>R1ESNYLGP86F7</td>\n",
       "      <td>B00LV4W85O</td>\n",
       "      <td>284914718</td>\n",
       "      <td>Hotel Luxury Bed Sheets Set 1800 Series Platin...</td>\n",
       "      <td>Home</td>\n",
       "      <td>4.0</td>\n",
       "      <td>1.0</td>\n",
       "      <td>1.0</td>\n",
       "      <td>N</td>\n",
       "      <td>Y</td>\n",
       "      <td>So soft!</td>\n",
       "      <td>Super speedy delivery! The material was much s...</td>\n",
       "      <td>2015-01-14</td>\n",
       "      <td>1.000000</td>\n",
       "    </tr>\n",
       "    <tr>\n",
       "      <th>17</th>\n",
       "      <td>US</td>\n",
       "      <td>699873</td>\n",
       "      <td>R27ZCLTPY6KKYC</td>\n",
       "      <td>B00QJGI830</td>\n",
       "      <td>391314914</td>\n",
       "      <td>Olive Kids Under Construction Rolling Luggage</td>\n",
       "      <td>Home</td>\n",
       "      <td>5.0</td>\n",
       "      <td>0.0</td>\n",
       "      <td>2.0</td>\n",
       "      <td>N</td>\n",
       "      <td>Y</td>\n",
       "      <td>Five Stars</td>\n",
       "      <td>My granddaughter loves the color yellow. This ...</td>\n",
       "      <td>2015-01-14</td>\n",
       "      <td>0.000000</td>\n",
       "    </tr>\n",
       "  </tbody>\n",
       "</table>\n",
       "</div>"
      ],
      "text/plain": [
       "   marketplace  customer_id  ... review_date helpful_ratio\n",
       "3           US     16392422  ...  2015-01-14      1.000000\n",
       "7           US     19923151  ...  2015-01-14      0.166667\n",
       "10          US     19739998  ...  2015-01-14      0.000000\n",
       "11          US     18835472  ...  2015-01-14      1.000000\n",
       "17          US       699873  ...  2015-01-14      0.000000\n",
       "\n",
       "[5 rows x 16 columns]"
      ]
     },
     "execution_count": 4,
     "metadata": {
      "tags": []
     },
     "output_type": "execute_result"
    }
   ],
   "source": [
    "data['helpful_ratio'] = data['helpful_votes'] / data['total_votes']\n",
    "data = data[data['helpful_ratio'].notnull()]\n",
    "data.head()"
   ]
  },
  {
   "cell_type": "code",
   "execution_count": 5,
   "metadata": {
    "colab": {
     "base_uri": "https://localhost:8080/",
     "height": 34
    },
    "colab_type": "code",
    "id": "Af_4UnjBb0tU",
    "outputId": "0435dc9a-829d-4470-a570-65925cabdce2"
   },
   "outputs": [
    {
     "data": {
      "text/plain": [
       "(1102825, 16)"
      ]
     },
     "execution_count": 5,
     "metadata": {
      "tags": []
     },
     "output_type": "execute_result"
    }
   ],
   "source": [
    "most_helpful = data[data['helpful_ratio'] == 1.0]\n",
    "most_helpful.shape"
   ]
  },
  {
   "cell_type": "code",
   "execution_count": 6,
   "metadata": {
    "colab": {
     "base_uri": "https://localhost:8080/",
     "height": 34
    },
    "colab_type": "code",
    "id": "cybDD42lb4tf",
    "outputId": "7d0d5e94-8743-4175-9642-ad9457ec2e3f"
   },
   "outputs": [
    {
     "data": {
      "text/plain": [
       "(228106, 16)"
      ]
     },
     "execution_count": 6,
     "metadata": {
      "tags": []
     },
     "output_type": "execute_result"
    }
   ],
   "source": [
    "least_helpful = data[data['helpful_ratio'] <= 0.2]\n",
    "least_helpful.shape"
   ]
  },
  {
   "cell_type": "code",
   "execution_count": 0,
   "metadata": {
    "colab": {},
    "colab_type": "code",
    "id": "TG4WLjB_b7HG"
   },
   "outputs": [],
   "source": [
    "from sklearn.utils import shuffle\n",
    "most_helpful = shuffle(most_helpful)[:10000]\n",
    "least_helpful = shuffle(least_helpful)[:10000]"
   ]
  },
  {
   "cell_type": "code",
   "execution_count": 8,
   "metadata": {
    "colab": {
     "base_uri": "https://localhost:8080/",
     "height": 68
    },
    "colab_type": "code",
    "id": "jcu0KnkicDWZ",
    "outputId": "69bb11be-054f-43c9-8a4d-1d6c082f8148"
   },
   "outputs": [
    {
     "name": "stdout",
     "output_type": "stream",
     "text": [
      "analyze_sentiment download started this may take some time.\n",
      "Approx size to download 4.9 MB\n",
      "[OK!]\n"
     ]
    }
   ],
   "source": [
    "from sparknlp.pretrained import PretrainedPipeline\n",
    "\n",
    "pipeline = PretrainedPipeline('analyze_sentiment', lang='en')\n",
    "most_helpful['sentiment'] = most_helpful['review_body'].apply(pipeline.annotate)"
   ]
  },
  {
   "cell_type": "code",
   "execution_count": 0,
   "metadata": {
    "colab": {},
    "colab_type": "code",
    "id": "2LtTE9EmhYkd"
   },
   "outputs": [],
   "source": [
    "most_helpful['bin'] = most_helpful.sentiment.apply(lambda x: x['sentiment'][0])\n",
    "most_helpful['sentiment_value'] = most_helpful.bin.astype(\"category\").cat.codes - 1"
   ]
  },
  {
   "cell_type": "code",
   "execution_count": 10,
   "metadata": {
    "colab": {
     "base_uri": "https://localhost:8080/",
     "height": 34
    },
    "colab_type": "code",
    "id": "CuS5wvWxhbXc",
    "outputId": "f92f2d12-e035-46c5-dbf1-45026ff36820"
   },
   "outputs": [
    {
     "data": {
      "text/plain": [
       "0.5423"
      ]
     },
     "execution_count": 10,
     "metadata": {
      "tags": []
     },
     "output_type": "execute_result"
    }
   ],
   "source": [
    "most_helpful['sentiment_value'].mean()"
   ]
  },
  {
   "cell_type": "code",
   "execution_count": 0,
   "metadata": {
    "colab": {},
    "colab_type": "code",
    "id": "7U4mdqoVhcu-"
   },
   "outputs": [],
   "source": [
    "least_helpful['sentiment'] = least_helpful['review_body'].apply(pipeline.annotate)"
   ]
  },
  {
   "cell_type": "code",
   "execution_count": 0,
   "metadata": {
    "colab": {},
    "colab_type": "code",
    "id": "hAjCeX-3jPgh"
   },
   "outputs": [],
   "source": [
    "least_helpful['bin'] = least_helpful.sentiment.apply(lambda x: x['sentiment'][0])\n",
    "least_helpful['sentiment_value'] = least_helpful.bin.astype(\"category\").cat.codes - 1"
   ]
  },
  {
   "cell_type": "code",
   "execution_count": 13,
   "metadata": {
    "colab": {
     "base_uri": "https://localhost:8080/",
     "height": 34
    },
    "colab_type": "code",
    "id": "cbwP_Mx_jR98",
    "outputId": "4aa3e4d7-d756-48f1-baa0-9f20824fb451"
   },
   "outputs": [
    {
     "data": {
      "text/plain": [
       "0.5169"
      ]
     },
     "execution_count": 13,
     "metadata": {
      "tags": []
     },
     "output_type": "execute_result"
    }
   ],
   "source": [
    "least_helpful['sentiment_value'].mean()"
   ]
  },
  {
   "cell_type": "markdown",
   "metadata": {},
   "source": [
    "Helpful reviews and unhelpful reviews have similar sentiment values."
   ]
  },
  {
   "cell_type": "markdown",
   "metadata": {
    "colab_type": "text",
    "id": "W32JnenCjY-Z"
   },
   "source": [
    "### TF-IDF\n",
    "What are the top terms in helpful and unhelpful reviews?"
   ]
  },
  {
   "cell_type": "code",
   "execution_count": 0,
   "metadata": {
    "colab": {},
    "colab_type": "code",
    "id": "aypw3E7gjYcR"
   },
   "outputs": [],
   "source": [
    "most_helpful = data[data['helpful_ratio'] == 1.0]\n",
    "least_helpful = data[data['helpful_ratio'] < 0.2]\n",
    "most_helpful = shuffle(most_helpful)[:10000][['review_body']]\n",
    "least_helpful = shuffle(least_helpful)[:10000][['review_body']]"
   ]
  },
  {
   "cell_type": "code",
   "execution_count": 0,
   "metadata": {
    "colab": {},
    "colab_type": "code",
    "id": "KfTP5EF3jgKK"
   },
   "outputs": [],
   "source": [
    "from pyspark.sql import SparkSession\n",
    "# start spark session\n",
    "spark = SparkSession.builder.master('local[*]').getOrCreate()\n",
    "\n",
    "spark_helpful = spark.createDataFrame(most_helpful)\n",
    "spark_unhelpful = spark.createDataFrame(least_helpful)"
   ]
  },
  {
   "cell_type": "code",
   "execution_count": 0,
   "metadata": {
    "colab": {},
    "colab_type": "code",
    "id": "VHhLrlgXjj81"
   },
   "outputs": [],
   "source": [
    "from pyspark.ml.feature import *\n",
    "from pyspark.ml import Pipeline\n",
    "\n",
    "tokenizer = Tokenizer(inputCol=\"review_body\", outputCol=\"words\")\n",
    "remover = StopWordsRemover(inputCol=\"words\", outputCol=\"filtered\")\n",
    "countVect = CountVectorizer(inputCol=\"filtered\", outputCol=\"cv\",  minDF=5.0)\n",
    "idf = IDF(inputCol=\"cv\", outputCol=\"idf\")\n",
    "pipeline = Pipeline(stages=[tokenizer, remover, countVect, idf])"
   ]
  },
  {
   "cell_type": "markdown",
   "metadata": {
    "colab_type": "text",
    "id": "8N_Q-OF1jmu3"
   },
   "source": [
    "Helpful Reviews"
   ]
  },
  {
   "cell_type": "code",
   "execution_count": 0,
   "metadata": {
    "colab": {},
    "colab_type": "code",
    "id": "fnvZ-5Eijod7"
   },
   "outputs": [],
   "source": [
    "helpful = pipeline.fit(spark_helpful).transform(spark_helpful)"
   ]
  },
  {
   "cell_type": "code",
   "execution_count": 0,
   "metadata": {
    "colab": {},
    "colab_type": "code",
    "id": "2v-ap76rjwc2"
   },
   "outputs": [],
   "source": [
    "helpful_df = helpful.select(\"filtered\", \"idf\").toPandas()"
   ]
  },
  {
   "cell_type": "code",
   "execution_count": 0,
   "metadata": {
    "colab": {},
    "colab_type": "code",
    "id": "-G23XEi6j3x1"
   },
   "outputs": [],
   "source": [
    "words = []\n",
    "for index, value in helpful_df['filtered'].iteritems():\n",
    "    words += value\n",
    "\n",
    "features = []\n",
    "for index, value in helpful_df[\"idf\"].iteritems():\n",
    "    dict_val = value.values.tolist()\n",
    "    features += dict_val"
   ]
  },
  {
   "cell_type": "code",
   "execution_count": 0,
   "metadata": {
    "colab": {},
    "colab_type": "code",
    "id": "sb_CSGXjlJU7"
   },
   "outputs": [],
   "source": [
    "from operator import itemgetter\n",
    "indices, list_sorted = zip(*sorted(enumerate(features), key=itemgetter(1)))"
   ]
  },
  {
   "cell_type": "code",
   "execution_count": 23,
   "metadata": {
    "colab": {
     "base_uri": "https://localhost:8080/",
     "height": 187
    },
    "colab_type": "code",
    "id": "bx_fym1GlMGH",
    "outputId": "b3871a0e-6f28-47ef-a5cd-c649bd4403b7"
   },
   "outputs": [
    {
     "name": "stdout",
     "output_type": "stream",
     "text": [
      "since\n",
      "take\n",
      "review,\n",
      "looks\n",
      "long\n",
      "beyond\n",
      "review\n",
      "currently\n",
      "bit\n",
      "for,\n"
     ]
    }
   ],
   "source": [
    "for i in indices[:10]:\n",
    "    print(words[i])"
   ]
  },
  {
   "cell_type": "markdown",
   "metadata": {
    "colab_type": "text",
    "id": "SnRHLm_YlR_3"
   },
   "source": [
    "Unhelpful Reviews"
   ]
  },
  {
   "cell_type": "code",
   "execution_count": 0,
   "metadata": {
    "colab": {},
    "colab_type": "code",
    "id": "YlBMGipFlTs-"
   },
   "outputs": [],
   "source": [
    "unhelpful = pipeline.fit(spark_unhelpful).transform(spark_unhelpful)"
   ]
  },
  {
   "cell_type": "code",
   "execution_count": 0,
   "metadata": {
    "colab": {},
    "colab_type": "code",
    "id": "KALYuvkkliyz"
   },
   "outputs": [],
   "source": [
    "unhelpful_df = unhelpful.select(\"filtered\", \"idf\").toPandas()"
   ]
  },
  {
   "cell_type": "code",
   "execution_count": 0,
   "metadata": {
    "colab": {},
    "colab_type": "code",
    "id": "4zj1JelClo_R"
   },
   "outputs": [],
   "source": [
    "words = []\n",
    "for index, value in unhelpful_df['filtered'].iteritems():\n",
    "    words += value\n",
    "\n",
    "features = []\n",
    "for index, value in unhelpful_df[\"idf\"].iteritems():\n",
    "    dict_val = value.values.tolist()\n",
    "    features += dict_val"
   ]
  },
  {
   "cell_type": "code",
   "execution_count": 0,
   "metadata": {
    "colab": {},
    "colab_type": "code",
    "id": "xe2AkN6LlsOy"
   },
   "outputs": [],
   "source": [
    "from operator import itemgetter\n",
    "indices, list_sorted = zip(*sorted(enumerate(features), key=itemgetter(1)))"
   ]
  },
  {
   "cell_type": "code",
   "execution_count": 28,
   "metadata": {
    "colab": {
     "base_uri": "https://localhost:8080/",
     "height": 272
    },
    "colab_type": "code",
    "id": "71ST1MtjlwBU",
    "outputId": "4fcd14a3-cb85-4261-b72b-15950feedd5e"
   },
   "outputs": [
    {
     "name": "stdout",
     "output_type": "stream",
     "text": [
      "clean\n",
      "offer\n",
      "smaller...\n",
      "-\n",
      "us.\n",
      "crappy\n",
      "\n",
      "falls.\n",
      "buy\n",
      "refunded\n",
      "long\n",
      "nice\n",
      "well\n",
      "breeze\n",
      "burn\n"
     ]
    }
   ],
   "source": [
    "for i in indices[:15]:\n",
    "    print(words[i])"
   ]
  }
 ],
 "metadata": {
  "colab": {
   "collapsed_sections": [],
   "name": "large-scale-home.ipynb",
   "provenance": []
  },
  "kernelspec": {
   "display_name": "Python 3",
   "language": "python",
   "name": "python3"
  },
  "language_info": {
   "codemirror_mode": {
    "name": "ipython",
    "version": 3
   },
   "file_extension": ".py",
   "mimetype": "text/x-python",
   "name": "python",
   "nbconvert_exporter": "python",
   "pygments_lexer": "ipython3",
   "version": "3.7.3"
  }
 },
 "nbformat": 4,
 "nbformat_minor": 1
}
