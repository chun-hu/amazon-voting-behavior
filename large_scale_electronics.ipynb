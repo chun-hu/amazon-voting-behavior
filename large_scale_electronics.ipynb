{
 "cells": [
  {
   "cell_type": "markdown",
   "metadata": {
    "colab_type": "text",
    "id": "v2dR_GrlmJAU"
   },
   "source": [
    "## Large Scale Final Project\n",
    "Do Amazon voting behaviors reveal social conformity?\n",
    "Chun Hu"
   ]
  },
  {
   "cell_type": "markdown",
   "metadata": {
    "colab_type": "text",
    "id": "JplPP6cXmJAV"
   },
   "source": [
    "### Category 3: Electronics"
   ]
  },
  {
   "cell_type": "code",
   "execution_count": 0,
   "metadata": {
    "colab": {
     "referenced_widgets": [
      "7d3760140efd4c1581dee73affa64765",
      ""
     ]
    },
    "colab_type": "code",
    "id": "-mQyVgmQmJAW",
    "outputId": "23b593cf-7e26-4c32-eea2-a17794376815"
   },
   "outputs": [
    {
     "data": {
      "application/vnd.jupyter.widget-view+json": {
       "model_id": "7d3760140efd4c1581dee73affa64765",
       "version_major": 2,
       "version_minor": 0
      },
      "text/plain": [
       "VBox()"
      ]
     },
     "metadata": {
      "tags": []
     },
     "output_type": "display_data"
    },
    {
     "name": "stdout",
     "output_type": "stream",
     "text": [
      "Starting Spark application\n"
     ]
    },
    {
     "data": {
      "text/html": [
       "<table>\n",
       "<tr><th>ID</th><th>YARN Application ID</th><th>Kind</th><th>State</th><th>Spark UI</th><th>Driver log</th><th>Current session?</th></tr><tr><td>3</td><td>application_1591214933999_0004</td><td>pyspark</td><td>idle</td><td></td><td></td><td>✔</td></tr></table>"
      ],
      "text/plain": [
       "<IPython.core.display.HTML object>"
      ]
     },
     "metadata": {
      "tags": []
     },
     "output_type": "display_data"
    },
    {
     "data": {
      "application/vnd.jupyter.widget-view+json": {
       "model_id": "",
       "version_major": 2,
       "version_minor": 0
      },
      "text/plain": [
       "FloatProgress(value=0.0, bar_style='info', description='Progress:', layout=Layout(height='25px', width='50%'),…"
      ]
     },
     "metadata": {
      "tags": []
     },
     "output_type": "display_data"
    },
    {
     "name": "stdout",
     "output_type": "stream",
     "text": [
      "SparkSession available as 'spark'.\n"
     ]
    },
    {
     "data": {
      "application/vnd.jupyter.widget-view+json": {
       "model_id": "",
       "version_major": 2,
       "version_minor": 0
      },
      "text/plain": [
       "FloatProgress(value=0.0, bar_style='info', description='Progress:', layout=Layout(height='25px', width='50%'),…"
      ]
     },
     "metadata": {
      "tags": []
     },
     "output_type": "display_data"
    }
   ],
   "source": [
    "data = spark.read.parquet('s3://amazon-reviews-pds/parquet/product_category=Electronics/*.parquet')"
   ]
  },
  {
   "cell_type": "code",
   "execution_count": 0,
   "metadata": {
    "colab": {
     "referenced_widgets": [
      "224aa1b711894893a9b7c27114df6012",
      ""
     ]
    },
    "colab_type": "code",
    "id": "tGCZOt8ImJAb",
    "outputId": "6b638c4d-c8e4-42b2-a0fa-49f6c8332b9b"
   },
   "outputs": [
    {
     "data": {
      "application/vnd.jupyter.widget-view+json": {
       "model_id": "224aa1b711894893a9b7c27114df6012",
       "version_major": 2,
       "version_minor": 0
      },
      "text/plain": [
       "VBox()"
      ]
     },
     "metadata": {
      "tags": []
     },
     "output_type": "display_data"
    },
    {
     "data": {
      "application/vnd.jupyter.widget-view+json": {
       "model_id": "",
       "version_major": 2,
       "version_minor": 0
      },
      "text/plain": [
       "FloatProgress(value=0.0, bar_style='info', description='Progress:', layout=Layout(height='25px', width='50%'),…"
      ]
     },
     "metadata": {
      "tags": []
     },
     "output_type": "display_data"
    },
    {
     "name": "stdout",
     "output_type": "stream",
     "text": [
      "Total Columns: 15\n",
      "Total Rows: 3120938\n",
      "root\n",
      " |-- marketplace: string (nullable = true)\n",
      " |-- customer_id: string (nullable = true)\n",
      " |-- review_id: string (nullable = true)\n",
      " |-- product_id: string (nullable = true)\n",
      " |-- product_parent: string (nullable = true)\n",
      " |-- product_title: string (nullable = true)\n",
      " |-- star_rating: integer (nullable = true)\n",
      " |-- helpful_votes: integer (nullable = true)\n",
      " |-- total_votes: integer (nullable = true)\n",
      " |-- vine: string (nullable = true)\n",
      " |-- verified_purchase: string (nullable = true)\n",
      " |-- review_headline: string (nullable = true)\n",
      " |-- review_body: string (nullable = true)\n",
      " |-- review_date: date (nullable = true)\n",
      " |-- year: integer (nullable = true)"
     ]
    }
   ],
   "source": [
    "print('Total Columns: %d' % len(data.dtypes))\n",
    "print('Total Rows: %d' % data.count())\n",
    "data.printSchema()"
   ]
  },
  {
   "cell_type": "code",
   "execution_count": 0,
   "metadata": {
    "colab": {
     "referenced_widgets": [
      "25934e64ccef4ceca2d13ac0f8e60727",
      ""
     ]
    },
    "colab_type": "code",
    "id": "X1F01dJlmJAf",
    "outputId": "3ebffd5a-2cf1-446c-878c-a797c2acbe22"
   },
   "outputs": [
    {
     "data": {
      "application/vnd.jupyter.widget-view+json": {
       "model_id": "25934e64ccef4ceca2d13ac0f8e60727",
       "version_major": 2,
       "version_minor": 0
      },
      "text/plain": [
       "VBox()"
      ]
     },
     "metadata": {
      "tags": []
     },
     "output_type": "display_data"
    },
    {
     "data": {
      "application/vnd.jupyter.widget-view+json": {
       "model_id": "",
       "version_major": 2,
       "version_minor": 0
      },
      "text/plain": [
       "FloatProgress(value=0.0, bar_style='info', description='Progress:', layout=Layout(height='25px', width='50%'),…"
      ]
     },
     "metadata": {
      "tags": []
     },
     "output_type": "display_data"
    },
    {
     "name": "stdout",
     "output_type": "stream",
     "text": [
      "+-----------+-------+\n",
      "|marketplace|  count|\n",
      "+-----------+-------+\n",
      "|         DE|   4035|\n",
      "|         US|3105328|\n",
      "|         UK|   5851|\n",
      "|         FR|   2363|\n",
      "|         JP|   3361|\n",
      "+-----------+-------+"
     ]
    }
   ],
   "source": [
    "data.groupby('marketplace').count().show()"
   ]
  },
  {
   "cell_type": "code",
   "execution_count": 0,
   "metadata": {
    "colab": {
     "referenced_widgets": [
      "3ee8d08a33f54bf295858757547db1f8",
      ""
     ]
    },
    "colab_type": "code",
    "id": "AYcViCv9mJAj",
    "outputId": "cafe41b6-9407-4b89-8de7-20aa46993d10"
   },
   "outputs": [
    {
     "data": {
      "application/vnd.jupyter.widget-view+json": {
       "model_id": "3ee8d08a33f54bf295858757547db1f8",
       "version_major": 2,
       "version_minor": 0
      },
      "text/plain": [
       "VBox()"
      ]
     },
     "metadata": {
      "tags": []
     },
     "output_type": "display_data"
    },
    {
     "data": {
      "application/vnd.jupyter.widget-view+json": {
       "model_id": "",
       "version_major": 2,
       "version_minor": 0
      },
      "text/plain": [
       "FloatProgress(value=0.0, bar_style='info', description='Progress:', layout=Layout(height='25px', width='50%'),…"
      ]
     },
     "metadata": {
      "tags": []
     },
     "output_type": "display_data"
    }
   ],
   "source": [
    "data = data.withColumn('helpful_ratio', (data.helpful_votes / data.total_votes).cast(\"float\"))\n",
    "data = data.filter('helpful_ratio IS NOT NULL')"
   ]
  },
  {
   "cell_type": "code",
   "execution_count": 0,
   "metadata": {
    "colab": {
     "referenced_widgets": [
      "7066a9643f5144dd98f6f9e26e70c085",
      ""
     ]
    },
    "colab_type": "code",
    "id": "-giOWwl_mJAm",
    "outputId": "fa85ed41-e2cd-46f8-c578-d1a01cb08a10"
   },
   "outputs": [
    {
     "data": {
      "application/vnd.jupyter.widget-view+json": {
       "model_id": "7066a9643f5144dd98f6f9e26e70c085",
       "version_major": 2,
       "version_minor": 0
      },
      "text/plain": [
       "VBox()"
      ]
     },
     "metadata": {
      "tags": []
     },
     "output_type": "display_data"
    },
    {
     "data": {
      "application/vnd.jupyter.widget-view+json": {
       "model_id": "",
       "version_major": 2,
       "version_minor": 0
      },
      "text/plain": [
       "FloatProgress(value=0.0, bar_style='info', description='Progress:', layout=Layout(height='25px', width='50%'),…"
      ]
     },
     "metadata": {
      "tags": []
     },
     "output_type": "display_data"
    }
   ],
   "source": [
    "avg_rating = data.groupBy('product_id').avg('star_rating')"
   ]
  },
  {
   "cell_type": "code",
   "execution_count": 0,
   "metadata": {
    "colab": {
     "referenced_widgets": [
      "09defd740c574b6fb86a4d5e7eb4d404",
      ""
     ]
    },
    "colab_type": "code",
    "id": "6vLdzt2VmJAq",
    "outputId": "a61a9c95-ee78-415e-ea60-7a50dc36247a"
   },
   "outputs": [
    {
     "data": {
      "application/vnd.jupyter.widget-view+json": {
       "model_id": "09defd740c574b6fb86a4d5e7eb4d404",
       "version_major": 2,
       "version_minor": 0
      },
      "text/plain": [
       "VBox()"
      ]
     },
     "metadata": {
      "tags": []
     },
     "output_type": "display_data"
    },
    {
     "data": {
      "application/vnd.jupyter.widget-view+json": {
       "model_id": "",
       "version_major": 2,
       "version_minor": 0
      },
      "text/plain": [
       "FloatProgress(value=0.0, bar_style='info', description='Progress:', layout=Layout(height='25px', width='50%'),…"
      ]
     },
     "metadata": {
      "tags": []
     },
     "output_type": "display_data"
    }
   ],
   "source": [
    "data_elec = data.join(avg_rating, on=['product_id'], how='left_outer')"
   ]
  },
  {
   "cell_type": "code",
   "execution_count": 0,
   "metadata": {
    "colab": {
     "referenced_widgets": [
      "d6b05f83c1924b478a6f74e2456d34ba",
      ""
     ]
    },
    "colab_type": "code",
    "id": "IYuGx0ZImJAu",
    "outputId": "3660f103-72e5-45bf-e077-e310cbba6c7d"
   },
   "outputs": [
    {
     "data": {
      "application/vnd.jupyter.widget-view+json": {
       "model_id": "d6b05f83c1924b478a6f74e2456d34ba",
       "version_major": 2,
       "version_minor": 0
      },
      "text/plain": [
       "VBox()"
      ]
     },
     "metadata": {
      "tags": []
     },
     "output_type": "display_data"
    },
    {
     "data": {
      "application/vnd.jupyter.widget-view+json": {
       "model_id": "",
       "version_major": 2,
       "version_minor": 0
      },
      "text/plain": [
       "FloatProgress(value=0.0, bar_style='info', description='Progress:', layout=Layout(height='25px', width='50%'),…"
      ]
     },
     "metadata": {
      "tags": []
     },
     "output_type": "display_data"
    },
    {
     "name": "stdout",
     "output_type": "stream",
     "text": [
      "+----------+-----------+-------------+-----------------+\n",
      "|product_id|star_rating|helpful_ratio| avg(star_rating)|\n",
      "+----------+-----------+-------------+-----------------+\n",
      "|0764801201|          5|       0.1875|              5.0|\n",
      "|193493139X|          2|          0.5|4.111111111111111|\n",
      "|193493139X|          4|          1.0|4.111111111111111|\n",
      "|193493139X|          3|   0.33333334|4.111111111111111|\n",
      "|193493139X|          5|          1.0|4.111111111111111|\n",
      "|193493139X|          5|          1.0|4.111111111111111|\n",
      "|193493139X|          3|          0.5|4.111111111111111|\n",
      "|193493139X|          5|          1.0|4.111111111111111|\n",
      "|193493139X|          5|          1.0|4.111111111111111|\n",
      "|193493139X|          5|          1.0|4.111111111111111|\n",
      "|9641766775|          5|          1.0|              5.0|\n",
      "|9970119826|          4|          1.0|              4.0|\n",
      "|9981724742|          5|          0.5|              5.0|\n",
      "|B000000O2F|          5|          1.0|              5.0|\n",
      "|B000000O2W|          4|          1.0|              4.0|\n",
      "|B000000O2W|          3|          1.0|              4.0|\n",
      "|B000000O2W|          5|          1.0|              4.0|\n",
      "|B000001OL2|          2|          0.0|              3.5|\n",
      "|B000001OL2|          2|    0.6666667|              3.5|\n",
      "|B000001OL2|          5|          1.0|              3.5|\n",
      "+----------+-----------+-------------+-----------------+\n",
      "only showing top 20 rows"
     ]
    }
   ],
   "source": [
    "data_elec[['product_id', 'star_rating', 'helpful_ratio', 'avg(star_rating)']].show()"
   ]
  },
  {
   "cell_type": "code",
   "execution_count": 0,
   "metadata": {
    "colab": {
     "referenced_widgets": [
      "34d4b95ba23a435493783c7458535f37",
      ""
     ]
    },
    "colab_type": "code",
    "id": "KcvVXPZZmJAz",
    "outputId": "47b42efe-56f4-4951-ae4a-421f7651ef94",
    "scrolled": true
   },
   "outputs": [
    {
     "data": {
      "application/vnd.jupyter.widget-view+json": {
       "model_id": "34d4b95ba23a435493783c7458535f37",
       "version_major": 2,
       "version_minor": 0
      },
      "text/plain": [
       "VBox()"
      ]
     },
     "metadata": {
      "tags": []
     },
     "output_type": "display_data"
    },
    {
     "data": {
      "application/vnd.jupyter.widget-view+json": {
       "model_id": "",
       "version_major": 2,
       "version_minor": 0
      },
      "text/plain": [
       "FloatProgress(value=0.0, bar_style='info', description='Progress:', layout=Layout(height='25px', width='50%'),…"
      ]
     },
     "metadata": {
      "tags": []
     },
     "output_type": "display_data"
    }
   ],
   "source": [
    "data_elec = data_elec.withColumn('avg_rating', data_elec[\"avg(star_rating)\"])"
   ]
  },
  {
   "cell_type": "markdown",
   "metadata": {},
   "source": [
    "Descriptive Statsitics of products in ELECTRONICS category:"
   ]
  },
  {
   "cell_type": "code",
   "execution_count": 0,
   "metadata": {
    "colab": {
     "referenced_widgets": [
      "fc1711837e6e4a54b6337e098071d2f9",
      ""
     ]
    },
    "colab_type": "code",
    "id": "q1U8VNjbmJA3",
    "outputId": "f707c5aa-480f-4fda-f9d8-88de49f6860c"
   },
   "outputs": [
    {
     "data": {
      "application/vnd.jupyter.widget-view+json": {
       "model_id": "fc1711837e6e4a54b6337e098071d2f9",
       "version_major": 2,
       "version_minor": 0
      },
      "text/plain": [
       "VBox()"
      ]
     },
     "metadata": {
      "tags": []
     },
     "output_type": "display_data"
    },
    {
     "data": {
      "application/vnd.jupyter.widget-view+json": {
       "model_id": "",
       "version_major": 2,
       "version_minor": 0
      },
      "text/plain": [
       "FloatProgress(value=0.0, bar_style='info', description='Progress:', layout=Layout(height='25px', width='50%'),…"
      ]
     },
     "metadata": {
      "tags": []
     },
     "output_type": "display_data"
    },
    {
     "name": "stdout",
     "output_type": "stream",
     "text": [
      "+-------+------------------+\n",
      "|summary|        avg_rating|\n",
      "+-------+------------------+\n",
      "|  count|           1227998|\n",
      "|   mean|3.7017601005865135|\n",
      "| stddev|0.7180714873723527|\n",
      "|    min|               1.0|\n",
      "|    25%| 3.292307692307692|\n",
      "|    50%|3.7868852459016393|\n",
      "|    75%| 4.176470588235294|\n",
      "|    max|               5.0|\n",
      "+-------+------------------+"
     ]
    }
   ],
   "source": [
    "data_elec[['avg_rating']].summary().show()"
   ]
  },
  {
   "cell_type": "code",
   "execution_count": 0,
   "metadata": {
    "colab": {
     "referenced_widgets": [
      "611619ad5a814fff8ab3674de31ed04f",
      ""
     ]
    },
    "colab_type": "code",
    "id": "_45E1YVumJA6",
    "outputId": "64b2b7ef-e947-4362-cf75-286fbc5e6a80"
   },
   "outputs": [
    {
     "data": {
      "application/vnd.jupyter.widget-view+json": {
       "model_id": "611619ad5a814fff8ab3674de31ed04f",
       "version_major": 2,
       "version_minor": 0
      },
      "text/plain": [
       "VBox()"
      ]
     },
     "metadata": {
      "tags": []
     },
     "output_type": "display_data"
    },
    {
     "data": {
      "application/vnd.jupyter.widget-view+json": {
       "model_id": "",
       "version_major": 2,
       "version_minor": 0
      },
      "text/plain": [
       "FloatProgress(value=0.0, bar_style='info', description='Progress:', layout=Layout(height='25px', width='50%'),…"
      ]
     },
     "metadata": {
      "tags": []
     },
     "output_type": "display_data"
    },
    {
     "name": "stdout",
     "output_type": "stream",
     "text": [
      "+-------+-----------------+\n",
      "|summary|    helpful_votes|\n",
      "+-------+-----------------+\n",
      "|  count|          1227998|\n",
      "|   mean|4.740361954986898|\n",
      "| stddev|33.74947861083376|\n",
      "|    min|                0|\n",
      "|    25%|                1|\n",
      "|    50%|                1|\n",
      "|    75%|                3|\n",
      "|    max|            12786|\n",
      "+-------+-----------------+"
     ]
    }
   ],
   "source": [
    "data_elec[['helpful_votes']].summary().show()"
   ]
  },
  {
   "cell_type": "code",
   "execution_count": 0,
   "metadata": {
    "colab": {
     "referenced_widgets": [
      "db9e7b99e2f742b782b5b6ad8c4a057d",
      ""
     ]
    },
    "colab_type": "code",
    "id": "XKurTznDmJA9",
    "outputId": "58a63dc6-8e31-4da0-d157-bc8c450d8459"
   },
   "outputs": [
    {
     "data": {
      "application/vnd.jupyter.widget-view+json": {
       "model_id": "db9e7b99e2f742b782b5b6ad8c4a057d",
       "version_major": 2,
       "version_minor": 0
      },
      "text/plain": [
       "VBox()"
      ]
     },
     "metadata": {
      "tags": []
     },
     "output_type": "display_data"
    },
    {
     "data": {
      "application/vnd.jupyter.widget-view+json": {
       "model_id": "",
       "version_major": 2,
       "version_minor": 0
      },
      "text/plain": [
       "FloatProgress(value=0.0, bar_style='info', description='Progress:', layout=Layout(height='25px', width='50%'),…"
      ]
     },
     "metadata": {
      "tags": []
     },
     "output_type": "display_data"
    }
   ],
   "source": [
    "from  pyspark.sql.functions import abs\n",
    "\n",
    "data_elec = data_elec.withColumn('rating_diff', abs(data_elec.avg_rating - data_elec.star_rating).cast(\"float\"))"
   ]
  },
  {
   "cell_type": "code",
   "execution_count": 0,
   "metadata": {
    "colab": {
     "referenced_widgets": [
      "2345e047791948c78f3b3f0a009b6dae",
      ""
     ]
    },
    "colab_type": "code",
    "id": "R1j5GhxpmJBB",
    "outputId": "bdfd256d-a061-4663-c820-9107a9b49487"
   },
   "outputs": [
    {
     "data": {
      "application/vnd.jupyter.widget-view+json": {
       "model_id": "2345e047791948c78f3b3f0a009b6dae",
       "version_major": 2,
       "version_minor": 0
      },
      "text/plain": [
       "VBox()"
      ]
     },
     "metadata": {
      "tags": []
     },
     "output_type": "display_data"
    },
    {
     "data": {
      "application/vnd.jupyter.widget-view+json": {
       "model_id": "",
       "version_major": 2,
       "version_minor": 0
      },
      "text/plain": [
       "FloatProgress(value=0.0, bar_style='info', description='Progress:', layout=Layout(height='25px', width='50%'),…"
      ]
     },
     "metadata": {
      "tags": []
     },
     "output_type": "display_data"
    },
    {
     "name": "stdout",
     "output_type": "stream",
     "text": [
      "+----------+-------------+-----------+\n",
      "|product_id|helpful_ratio|rating_diff|\n",
      "+----------+-------------+-----------+\n",
      "|0764801201|       0.1875|        0.0|\n",
      "|193493139X|          0.5|  2.1111112|\n",
      "|193493139X|          1.0| 0.11111111|\n",
      "|193493139X|          1.0|  0.8888889|\n",
      "|193493139X|          1.0|  0.8888889|\n",
      "|193493139X|          0.5|  1.1111112|\n",
      "|193493139X|          1.0|  0.8888889|\n",
      "|193493139X|          1.0|  0.8888889|\n",
      "|193493139X|   0.33333334|  1.1111112|\n",
      "|193493139X|          1.0|  0.8888889|\n",
      "|9641766775|          1.0|        0.0|\n",
      "|9970119826|          1.0|        0.0|\n",
      "|9981724742|          0.5|        0.0|\n",
      "|B000000O2F|          1.0|        0.0|\n",
      "|B000000O2W|          1.0|        1.0|\n",
      "|B000000O2W|          1.0|        0.0|\n",
      "|B000000O2W|          1.0|        1.0|\n",
      "|B000001OL2|          1.0|        1.5|\n",
      "|B000001OL2|          0.0|        1.5|\n",
      "|B000001OL2|          1.0|        1.5|\n",
      "+----------+-------------+-----------+\n",
      "only showing top 20 rows"
     ]
    }
   ],
   "source": [
    "data_elec[['product_id', 'helpful_ratio', 'rating_diff']].show()"
   ]
  },
  {
   "cell_type": "code",
   "execution_count": 0,
   "metadata": {
    "colab": {
     "referenced_widgets": [
      "cd2d0be4597d419da4518cedda74def4",
      ""
     ]
    },
    "colab_type": "code",
    "id": "kj-0hcaDmJBF",
    "outputId": "048f89b2-74b3-416e-e48c-3ce453757d2d"
   },
   "outputs": [
    {
     "data": {
      "application/vnd.jupyter.widget-view+json": {
       "model_id": "cd2d0be4597d419da4518cedda74def4",
       "version_major": 2,
       "version_minor": 0
      },
      "text/plain": [
       "VBox()"
      ]
     },
     "metadata": {
      "tags": []
     },
     "output_type": "display_data"
    },
    {
     "data": {
      "application/vnd.jupyter.widget-view+json": {
       "model_id": "",
       "version_major": 2,
       "version_minor": 0
      },
      "text/plain": [
       "FloatProgress(value=0.0, bar_style='info', description='Progress:', layout=Layout(height='25px', width='50%'),…"
      ]
     },
     "metadata": {
      "tags": []
     },
     "output_type": "display_data"
    },
    {
     "name": "stdout",
     "output_type": "stream",
     "text": [
      "Collecting seaborn\n",
      "  Using cached https://files.pythonhosted.org/packages/c7/e6/54aaaafd0b87f51dfba92ba73da94151aa3bc179e5fe88fc5dfb3038e860/seaborn-0.10.1-py3-none-any.whl\n",
      "Collecting pandas>=0.22.0 (from seaborn)\n",
      "  Using cached https://files.pythonhosted.org/packages/a4/5f/1b6e0efab4bfb738478919d40b0e3e1a06e3d9996da45eb62a77e9a090d9/pandas-1.0.4-cp37-cp37m-manylinux1_x86_64.whl\n",
      "Requirement already satisfied: numpy>=1.13.3 in /usr/local/lib64/python3.7/site-packages (from seaborn)\n",
      "Collecting scipy>=1.0.1 (from seaborn)\n",
      "  Using cached https://files.pythonhosted.org/packages/dd/82/c1fe128f3526b128cfd185580ba40d01371c5d299fcf7f77968e22dfcc2e/scipy-1.4.1-cp37-cp37m-manylinux1_x86_64.whl\n",
      "Collecting matplotlib>=2.1.2 (from seaborn)\n",
      "  Using cached https://files.pythonhosted.org/packages/b2/c2/71fcf957710f3ba1f09088b35776a799ba7dd95f7c2b195ec800933b276b/matplotlib-3.2.1-cp37-cp37m-manylinux1_x86_64.whl\n",
      "Requirement already satisfied: pytz>=2017.2 in /usr/local/lib/python3.7/site-packages (from pandas>=0.22.0->seaborn)\n",
      "Collecting python-dateutil>=2.6.1 (from pandas>=0.22.0->seaborn)\n",
      "  Using cached https://files.pythonhosted.org/packages/d4/70/d60450c3dd48ef87586924207ae8907090de0b306af2bce5d134d78615cb/python_dateutil-2.8.1-py2.py3-none-any.whl\n",
      "Collecting pyparsing!=2.0.4,!=2.1.2,!=2.1.6,>=2.0.1 (from matplotlib>=2.1.2->seaborn)\n",
      "  Using cached https://files.pythonhosted.org/packages/8a/bb/488841f56197b13700afd5658fc279a2025a39e22449b7cf29864669b15d/pyparsing-2.4.7-py2.py3-none-any.whl\n",
      "Collecting cycler>=0.10 (from matplotlib>=2.1.2->seaborn)\n",
      "  Using cached https://files.pythonhosted.org/packages/f7/d2/e07d3ebb2bd7af696440ce7e754c59dd546ffe1bbe732c8ab68b9c834e61/cycler-0.10.0-py2.py3-none-any.whl\n",
      "Collecting kiwisolver>=1.0.1 (from matplotlib>=2.1.2->seaborn)\n",
      "  Using cached https://files.pythonhosted.org/packages/31/b9/6202dcae729998a0ade30e80ac00f616542ef445b088ec970d407dfd41c0/kiwisolver-1.2.0-cp37-cp37m-manylinux1_x86_64.whl\n",
      "Requirement already satisfied: six>=1.5 in /usr/local/lib/python3.7/site-packages (from python-dateutil>=2.6.1->pandas>=0.22.0->seaborn)\n",
      "Installing collected packages: python-dateutil, pandas, scipy, pyparsing, cycler, kiwisolver, matplotlib, seaborn\n",
      "Successfully installed cycler-0.10.0 kiwisolver-1.2.0 matplotlib-3.2.1 pandas-1.0.4 pyparsing-2.4.7 python-dateutil-2.8.1 scipy-1.4.1 seaborn-0.10.1\n",
      "\n",
      "Requirement already satisfied: pandas in /mnt/tmp/1591220322062-0/lib/python3.7/site-packages\n",
      "Requirement already satisfied: pytz>=2017.2 in /usr/local/lib/python3.7/site-packages (from pandas)\n",
      "Requirement already satisfied: numpy>=1.13.3 in /usr/local/lib64/python3.7/site-packages (from pandas)\n",
      "Requirement already satisfied: python-dateutil>=2.6.1 in /mnt/tmp/1591220322062-0/lib/python3.7/site-packages (from pandas)\n",
      "Requirement already satisfied: six>=1.5 in /usr/local/lib/python3.7/site-packages (from python-dateutil>=2.6.1->pandas)"
     ]
    }
   ],
   "source": [
    "sc.install_pypi_package(\"seaborn\")\n",
    "sc.install_pypi_package(\"pandas\")"
   ]
  },
  {
   "cell_type": "code",
   "execution_count": 0,
   "metadata": {
    "colab": {
     "referenced_widgets": [
      "0369297c838146a49d3c7e1e10780305",
      ""
     ]
    },
    "colab_type": "code",
    "id": "O85ooPn2mJBH",
    "outputId": "78850c4e-0df7-4e6c-fd52-29502839890b"
   },
   "outputs": [
    {
     "data": {
      "application/vnd.jupyter.widget-view+json": {
       "model_id": "0369297c838146a49d3c7e1e10780305",
       "version_major": 2,
       "version_minor": 0
      },
      "text/plain": [
       "VBox()"
      ]
     },
     "metadata": {
      "tags": []
     },
     "output_type": "display_data"
    },
    {
     "data": {
      "application/vnd.jupyter.widget-view+json": {
       "model_id": "",
       "version_major": 2,
       "version_minor": 0
      },
      "text/plain": [
       "FloatProgress(value=0.0, bar_style='info', description='Progress:', layout=Layout(height='25px', width='50%'),…"
      ]
     },
     "metadata": {
      "tags": []
     },
     "output_type": "display_data"
    },
    {
     "data": {
      "image/png": "[encoded data removed]",
      "text/plain": [
       "<IPython.core.display.Image object>"
      ]
     },
     "metadata": {
      "tags": []
     },
     "output_type": "display_data"
    }
   ],
   "source": [
    "import seaborn as sns\n",
    "import matplotlib.pyplot as plt\n",
    "\n",
    "sampled_df = data_elec.sample(fraction=0.0001).toPandas()\n",
    "sampled_df.plot.scatter('rating_diff', 'helpful_ratio')\n",
    "%matplot plt"
   ]
  },
  {
   "cell_type": "markdown",
   "metadata": {},
   "source": [
    "While the fraction of data looks sparse on the plot, we can still see that the majority of reviews have high helpfulness ratio."
   ]
  },
  {
   "cell_type": "code",
   "execution_count": 0,
   "metadata": {
    "colab": {
     "referenced_widgets": [
      "9c9615df01864ad195c8dc6c47945d47",
      ""
     ]
    },
    "colab_type": "code",
    "id": "KaVVs8gqmJBL",
    "outputId": "c5ae712d-de33-4b95-d6ea-316e220190c6"
   },
   "outputs": [
    {
     "data": {
      "application/vnd.jupyter.widget-view+json": {
       "model_id": "9c9615df01864ad195c8dc6c47945d47",
       "version_major": 2,
       "version_minor": 0
      },
      "text/plain": [
       "VBox()"
      ]
     },
     "metadata": {
      "tags": []
     },
     "output_type": "display_data"
    },
    {
     "data": {
      "application/vnd.jupyter.widget-view+json": {
       "model_id": "",
       "version_major": 2,
       "version_minor": 0
      },
      "text/plain": [
       "FloatProgress(value=0.0, bar_style='info', description='Progress:', layout=Layout(height='25px', width='50%'),…"
      ]
     },
     "metadata": {
      "tags": []
     },
     "output_type": "display_data"
    }
   ],
   "source": [
    "from pyspark.ml.feature import Bucketizer\n",
    "\n",
    "bucketizer = Bucketizer(splits=[0.0, 0.1, 0.2, 0.3, 0.4, 0.5, 0.6, 0.7, 0.8, 0.9, 1.0],\n",
    "                        inputCol=\"helpful_ratio\", outputCol=\"ratio_buckets\")\n",
    "elec_buck = bucketizer.setHandleInvalid(\"keep\").transform(data_elec)"
   ]
  },
  {
   "cell_type": "code",
   "execution_count": 0,
   "metadata": {
    "colab": {
     "referenced_widgets": [
      "1e4ae9d1b4004c07ab5a3a83b510ca22",
      ""
     ]
    },
    "colab_type": "code",
    "id": "plScTWMFmJBO",
    "outputId": "43d91763-9f46-4187-a656-c7044559b621"
   },
   "outputs": [
    {
     "data": {
      "application/vnd.jupyter.widget-view+json": {
       "model_id": "1e4ae9d1b4004c07ab5a3a83b510ca22",
       "version_major": 2,
       "version_minor": 0
      },
      "text/plain": [
       "VBox()"
      ]
     },
     "metadata": {
      "tags": []
     },
     "output_type": "display_data"
    },
    {
     "data": {
      "application/vnd.jupyter.widget-view+json": {
       "model_id": "",
       "version_major": 2,
       "version_minor": 0
      },
      "text/plain": [
       "FloatProgress(value=0.0, bar_style='info', description='Progress:', layout=Layout(height='25px', width='50%'),…"
      ]
     },
     "metadata": {
      "tags": []
     },
     "output_type": "display_data"
    }
   ],
   "source": [
    "from pyspark.sql.functions import udf\n",
    "from pyspark.sql.types import *\n",
    "\n",
    "t = {0.0:\"0.1\", 1.0:\"0.2\", 2.0:\"0.3\", 3.0:\"0.4\", 4.0:\"0.5\", 5.0:\"0.6\", 6.0:\"0.7\", 7.0:\"0.8\", 8.0:\"0.9\", 9.0:\"1.0\"}\n",
    "udf_foo = udf(lambda x: t[x], StringType())\n",
    "elec_buck = elec_buck.withColumn(\"helpfulness_ratio\", udf_foo(\"ratio_buckets\"))"
   ]
  },
  {
   "cell_type": "code",
   "execution_count": 0,
   "metadata": {
    "colab": {
     "referenced_widgets": [
      "8643ddeb2a9d48589c42ae9c36cf9501",
      ""
     ]
    },
    "colab_type": "code",
    "id": "56ndizNymJBS",
    "outputId": "39e10971-ec43-4d69-8e25-d188af549a8c"
   },
   "outputs": [
    {
     "data": {
      "application/vnd.jupyter.widget-view+json": {
       "model_id": "8643ddeb2a9d48589c42ae9c36cf9501",
       "version_major": 2,
       "version_minor": 0
      },
      "text/plain": [
       "VBox()"
      ]
     },
     "metadata": {
      "tags": []
     },
     "output_type": "display_data"
    },
    {
     "data": {
      "application/vnd.jupyter.widget-view+json": {
       "model_id": "",
       "version_major": 2,
       "version_minor": 0
      },
      "text/plain": [
       "FloatProgress(value=0.0, bar_style='info', description='Progress:', layout=Layout(height='25px', width='50%'),…"
      ]
     },
     "metadata": {
      "tags": []
     },
     "output_type": "display_data"
    },
    {
     "name": "stdout",
     "output_type": "stream",
     "text": [
      "+-----------------+------------------+\n",
      "|helpfulness_ratio|  avg(rating_diff)|\n",
      "+-----------------+------------------+\n",
      "|              1.0|0.9623035707755714|\n",
      "|              0.9|1.1493560212149398|\n",
      "|              0.8| 1.245390990597436|\n",
      "|              0.7|1.2674880935287434|\n",
      "|              0.6|1.2488782726200756|\n",
      "|              0.5|1.7104242374605299|\n",
      "|              0.4|1.5189230273368826|\n",
      "|              0.3|1.7199843217527189|\n",
      "|              0.2| 1.893569632518367|\n",
      "+-----------------+------------------+"
     ]
    }
   ],
   "source": [
    "avg_df = (elec_buck.groupBy('helpfulness_ratio')\n",
    "                    .avg('rating_diff')\n",
    "                    .sort('helpfulness_ratio', ascending=False)\n",
    "         )\n",
    "avg_df = avg_df.filter(avg_df.helpfulness_ratio != '0.1')\n",
    "avg_df.show()"
   ]
  },
  {
   "cell_type": "code",
   "execution_count": 0,
   "metadata": {
    "colab": {
     "referenced_widgets": [
      "befa919b51b3486b8eec730038dbd0a0",
      ""
     ]
    },
    "colab_type": "code",
    "id": "uofu2YPnmJBV",
    "outputId": "51155266-59d8-400c-c7bc-85677a8f30cb"
   },
   "outputs": [
    {
     "data": {
      "application/vnd.jupyter.widget-view+json": {
       "model_id": "befa919b51b3486b8eec730038dbd0a0",
       "version_major": 2,
       "version_minor": 0
      },
      "text/plain": [
       "VBox()"
      ]
     },
     "metadata": {
      "tags": []
     },
     "output_type": "display_data"
    },
    {
     "data": {
      "application/vnd.jupyter.widget-view+json": {
       "model_id": "",
       "version_major": 2,
       "version_minor": 0
      },
      "text/plain": [
       "FloatProgress(value=0.0, bar_style='info', description='Progress:', layout=Layout(height='25px', width='50%'),…"
      ]
     },
     "metadata": {
      "tags": []
     },
     "output_type": "display_data"
    },
    {
     "data": {
      "image/png": "[encoded data removed]",
      "text/plain": [
       "<IPython.core.display.Image object>"
      ]
     },
     "metadata": {
      "tags": []
     },
     "output_type": "display_data"
    }
   ],
   "source": [
    "plt.close()\n",
    "\n",
    "sns.barplot(x='helpfulness_ratio', y='avg(rating_diff)', data=avg_df.toPandas())\n",
    "%matplot plt"
   ]
  },
  {
   "cell_type": "markdown",
   "metadata": {},
   "source": [
    "The barplot shows that as helpfulness ratio increases, the difference between review rating and average product rating decreases. This confirms our hypothesis that there is social conformity in voting behaviors."
   ]
  },
  {
   "cell_type": "markdown",
   "metadata": {
    "colab_type": "text",
    "id": "90eodeCMmJBX"
   },
   "source": [
    "### By Marketplace\n",
    "Do different marketplaces (or countries) have different trends?"
   ]
  },
  {
   "cell_type": "code",
   "execution_count": 0,
   "metadata": {
    "colab": {
     "referenced_widgets": [
      "f03f544a5ccb41679339f1747ef9228b",
      ""
     ]
    },
    "colab_type": "code",
    "id": "LrUmq7NWmJBY",
    "outputId": "41a83f07-134d-4f2d-a0e9-54a65598ebaa"
   },
   "outputs": [
    {
     "data": {
      "application/vnd.jupyter.widget-view+json": {
       "model_id": "f03f544a5ccb41679339f1747ef9228b",
       "version_major": 2,
       "version_minor": 0
      },
      "text/plain": [
       "VBox()"
      ]
     },
     "metadata": {
      "tags": []
     },
     "output_type": "display_data"
    },
    {
     "data": {
      "application/vnd.jupyter.widget-view+json": {
       "model_id": "",
       "version_major": 2,
       "version_minor": 0
      },
      "text/plain": [
       "FloatProgress(value=0.0, bar_style='info', description='Progress:', layout=Layout(height='25px', width='50%'),…"
      ]
     },
     "metadata": {
      "tags": []
     },
     "output_type": "display_data"
    }
   ],
   "source": [
    "us_elec = elec_buck.filter(elec_buck.marketplace == 'US')"
   ]
  },
  {
   "cell_type": "code",
   "execution_count": 0,
   "metadata": {
    "colab": {
     "referenced_widgets": [
      "35fa031b0bae48bb9b58906320730dd8",
      ""
     ]
    },
    "colab_type": "code",
    "id": "FVhEzENgmJBb",
    "outputId": "dd7045f1-354e-42a4-b414-d5efd249afcc"
   },
   "outputs": [
    {
     "data": {
      "application/vnd.jupyter.widget-view+json": {
       "model_id": "35fa031b0bae48bb9b58906320730dd8",
       "version_major": 2,
       "version_minor": 0
      },
      "text/plain": [
       "VBox()"
      ]
     },
     "metadata": {
      "tags": []
     },
     "output_type": "display_data"
    },
    {
     "data": {
      "application/vnd.jupyter.widget-view+json": {
       "model_id": "",
       "version_major": 2,
       "version_minor": 0
      },
      "text/plain": [
       "FloatProgress(value=0.0, bar_style='info', description='Progress:', layout=Layout(height='25px', width='50%'),…"
      ]
     },
     "metadata": {
      "tags": []
     },
     "output_type": "display_data"
    },
    {
     "name": "stdout",
     "output_type": "stream",
     "text": [
      "+-----------------+------------------+\n",
      "|helpfulness_ratio|                US|\n",
      "+-----------------+------------------+\n",
      "|              1.0|0.9624300793588386|\n",
      "|              0.9|1.1507502238393694|\n",
      "|              0.8|1.2480899677806245|\n",
      "|              0.7|1.2697243881521076|\n",
      "|              0.6|1.2502017389688846|\n",
      "|              0.5|1.7128400368561592|\n",
      "|              0.4|1.5220623409422789|\n",
      "|              0.3|1.7214940221667083|\n",
      "|              0.2|1.8951900952023906|\n",
      "+-----------------+------------------+"
     ]
    }
   ],
   "source": [
    "avg_us = (us_elec.groupBy('helpfulness_ratio')\n",
    "                    .avg('rating_diff')\n",
    "                    .sort('helpfulness_ratio', ascending=False)\n",
    "         )\n",
    "avg_df = avg_us.filter(avg_us.helpfulness_ratio != '0.1')\n",
    "avg_df = avg_df.withColumn('diff', avg_df[\"avg(rating_diff)\"])\n",
    "avg_df = avg_df.selectExpr(\"helpfulness_ratio as helpfulness_ratio\", \"diff as US\")\n",
    "avg_df.show()"
   ]
  },
  {
   "cell_type": "code",
   "execution_count": 0,
   "metadata": {
    "colab": {
     "referenced_widgets": [
      "698eac3580ce49ac87153d95930c16a7",
      ""
     ]
    },
    "colab_type": "code",
    "id": "cQkZ0_NMmJBe",
    "outputId": "c4c3ebfa-36fe-486e-939b-bb7919caa0f7"
   },
   "outputs": [
    {
     "data": {
      "application/vnd.jupyter.widget-view+json": {
       "model_id": "698eac3580ce49ac87153d95930c16a7",
       "version_major": 2,
       "version_minor": 0
      },
      "text/plain": [
       "VBox()"
      ]
     },
     "metadata": {
      "tags": []
     },
     "output_type": "display_data"
    },
    {
     "data": {
      "application/vnd.jupyter.widget-view+json": {
       "model_id": "",
       "version_major": 2,
       "version_minor": 0
      },
      "text/plain": [
       "FloatProgress(value=0.0, bar_style='info', description='Progress:', layout=Layout(height='25px', width='50%'),…"
      ]
     },
     "metadata": {
      "tags": []
     },
     "output_type": "display_data"
    }
   ],
   "source": [
    "uk_elec = elec_buck.filter(elec_buck.marketplace == 'UK')"
   ]
  },
  {
   "cell_type": "code",
   "execution_count": 0,
   "metadata": {
    "colab": {
     "referenced_widgets": [
      "54fb7776a0d44aa68a00a13df85f7a35",
      ""
     ]
    },
    "colab_type": "code",
    "id": "84LMj9H1mJBg",
    "outputId": "53ee94b5-75af-497f-e84d-05b9fbb6198e"
   },
   "outputs": [
    {
     "data": {
      "application/vnd.jupyter.widget-view+json": {
       "model_id": "54fb7776a0d44aa68a00a13df85f7a35",
       "version_major": 2,
       "version_minor": 0
      },
      "text/plain": [
       "VBox()"
      ]
     },
     "metadata": {
      "tags": []
     },
     "output_type": "display_data"
    },
    {
     "data": {
      "application/vnd.jupyter.widget-view+json": {
       "model_id": "",
       "version_major": 2,
       "version_minor": 0
      },
      "text/plain": [
       "FloatProgress(value=0.0, bar_style='info', description='Progress:', layout=Layout(height='25px', width='50%'),…"
      ]
     },
     "metadata": {
      "tags": []
     },
     "output_type": "display_data"
    },
    {
     "name": "stdout",
     "output_type": "stream",
     "text": [
      "+-----------------+------------------+------------------+\n",
      "|helpfulness_ratio|                US|                UK|\n",
      "+-----------------+------------------+------------------+\n",
      "|              1.0|0.9624300793588386|0.9494127469796351|\n",
      "|              0.9|1.1507502238393694|1.0573600803925232|\n",
      "|              0.8|1.2480899677806245|0.9935441494433799|\n",
      "|              0.7|1.2697243881521076|1.2026874081828656|\n",
      "|              0.6|1.2502017389688846|1.2578439617670383|\n",
      "|              0.5|1.7128400368561592|1.9352700942092471|\n",
      "|              0.4|1.5220623409422789|1.7008967198431493|\n",
      "|              0.3|1.7214940221667083|1.8980954951933913|\n",
      "|              0.2|1.8951900952023906| 2.037299324686711|\n",
      "+-----------------+------------------+------------------+"
     ]
    }
   ],
   "source": [
    "avg_uk = (uk_elec.groupBy('helpfulness_ratio')\n",
    "                    .avg('rating_diff')\n",
    "                    .sort('helpfulness_ratio', ascending=False)\n",
    "         )\n",
    "avg_uk = avg_uk.filter(avg_uk.helpfulness_ratio != '0.1')\n",
    "avg_uk = avg_uk.withColumn('diff', avg_uk[\"avg(rating_diff)\"])\n",
    "avg_df = avg_df.join(avg_uk, on=['helpfulness_ratio'], how='left_outer')\n",
    "avg_df = avg_df.selectExpr(\"helpfulness_ratio\", \"US\", \"diff as UK\")\n",
    "avg_df.show()"
   ]
  },
  {
   "cell_type": "code",
   "execution_count": 0,
   "metadata": {
    "colab": {
     "referenced_widgets": [
      "1cfcd3154038493cb4571df5251146c8",
      ""
     ]
    },
    "colab_type": "code",
    "id": "W-rfv59-mJBi",
    "outputId": "d52b78b2-5b92-4a4b-a37f-7734eefed5af"
   },
   "outputs": [
    {
     "data": {
      "application/vnd.jupyter.widget-view+json": {
       "model_id": "1cfcd3154038493cb4571df5251146c8",
       "version_major": 2,
       "version_minor": 0
      },
      "text/plain": [
       "VBox()"
      ]
     },
     "metadata": {
      "tags": []
     },
     "output_type": "display_data"
    },
    {
     "data": {
      "application/vnd.jupyter.widget-view+json": {
       "model_id": "",
       "version_major": 2,
       "version_minor": 0
      },
      "text/plain": [
       "FloatProgress(value=0.0, bar_style='info', description='Progress:', layout=Layout(height='25px', width='50%'),…"
      ]
     },
     "metadata": {
      "tags": []
     },
     "output_type": "display_data"
    }
   ],
   "source": [
    "de_elec = elec_buck.filter(elec_buck.marketplace == 'DE')\n",
    "\n",
    "avg_de = (de_elec.groupBy('helpfulness_ratio')\n",
    "                    .avg('rating_diff')\n",
    "                    .sort('helpfulness_ratio', ascending=False)\n",
    "         )\n",
    "avg_de = avg_de.filter(avg_de.helpfulness_ratio != '0.1')\n",
    "avg_de = avg_de.withColumn('diff', avg_de[\"avg(rating_diff)\"])\n",
    "avg_df = avg_df.join(avg_de, on=['helpfulness_ratio'], how='left_outer')\n",
    "avg_df = avg_df.selectExpr(\"helpfulness_ratio\", \"US\", \"UK\", \"diff as DE\")"
   ]
  },
  {
   "cell_type": "code",
   "execution_count": 0,
   "metadata": {
    "colab": {
     "referenced_widgets": [
      "c0c12141e9d8495e84a34fa708be5a89",
      ""
     ]
    },
    "colab_type": "code",
    "id": "qeEcXwu0mJBk",
    "outputId": "b96fc5a1-b2eb-4b05-d449-d534d9f1df8e"
   },
   "outputs": [
    {
     "data": {
      "application/vnd.jupyter.widget-view+json": {
       "model_id": "c0c12141e9d8495e84a34fa708be5a89",
       "version_major": 2,
       "version_minor": 0
      },
      "text/plain": [
       "VBox()"
      ]
     },
     "metadata": {
      "tags": []
     },
     "output_type": "display_data"
    },
    {
     "data": {
      "application/vnd.jupyter.widget-view+json": {
       "model_id": "",
       "version_major": 2,
       "version_minor": 0
      },
      "text/plain": [
       "FloatProgress(value=0.0, bar_style='info', description='Progress:', layout=Layout(height='25px', width='50%'),…"
      ]
     },
     "metadata": {
      "tags": []
     },
     "output_type": "display_data"
    }
   ],
   "source": [
    "fr_elec = elec_buck.filter(elec_buck.marketplace == 'FR')\n",
    "\n",
    "avg_fr = (fr_elec.groupBy('helpfulness_ratio')\n",
    "                    .avg('rating_diff')\n",
    "                    .sort('helpfulness_ratio', ascending=False)\n",
    "         )\n",
    "avg_fr = avg_fr.filter(avg_fr.helpfulness_ratio != '0.1')\n",
    "avg_fr = avg_fr.withColumn('diff', avg_fr[\"avg(rating_diff)\"])\n",
    "avg_df = avg_df.join(avg_fr, on=['helpfulness_ratio'], how='left_outer')\n",
    "avg_df = avg_df.selectExpr(\"helpfulness_ratio\", \"US\", \"UK\", \"DE\", \"diff as FR\")"
   ]
  },
  {
   "cell_type": "code",
   "execution_count": 0,
   "metadata": {
    "colab": {
     "referenced_widgets": [
      "7fc894c9293a43039597e1012dcad76e",
      ""
     ]
    },
    "colab_type": "code",
    "id": "Zn1Pud6imJBn",
    "outputId": "5242b433-9e9c-470f-98f7-ddb65f4481eb"
   },
   "outputs": [
    {
     "data": {
      "application/vnd.jupyter.widget-view+json": {
       "model_id": "7fc894c9293a43039597e1012dcad76e",
       "version_major": 2,
       "version_minor": 0
      },
      "text/plain": [
       "VBox()"
      ]
     },
     "metadata": {
      "tags": []
     },
     "output_type": "display_data"
    },
    {
     "data": {
      "application/vnd.jupyter.widget-view+json": {
       "model_id": "",
       "version_major": 2,
       "version_minor": 0
      },
      "text/plain": [
       "FloatProgress(value=0.0, bar_style='info', description='Progress:', layout=Layout(height='25px', width='50%'),…"
      ]
     },
     "metadata": {
      "tags": []
     },
     "output_type": "display_data"
    }
   ],
   "source": [
    "jp_elec = elec_buck.filter(elec_buck.marketplace == 'JP')\n",
    "\n",
    "avg_jp = (jp_elec.groupBy('helpfulness_ratio')\n",
    "                    .avg('rating_diff')\n",
    "                    .sort('helpfulness_ratio', ascending=False)\n",
    "         )\n",
    "avg_jp = avg_jp.filter(avg_jp.helpfulness_ratio != '0.1')\n",
    "avg_jp = avg_jp.withColumn('diff', avg_jp[\"avg(rating_diff)\"])\n",
    "avg_df = avg_df.join(avg_jp, on=['helpfulness_ratio'], how='left_outer')\n",
    "avg_df = avg_df.selectExpr(\"helpfulness_ratio\", \"US\", \"UK\", \"DE\", \"FR\", \"diff as JP\")"
   ]
  },
  {
   "cell_type": "code",
   "execution_count": 0,
   "metadata": {
    "colab": {
     "referenced_widgets": [
      "822533c2e62e4cd1b19901aa06fd17eb",
      ""
     ]
    },
    "colab_type": "code",
    "id": "Q_5rAuAemJBq",
    "outputId": "adc2a1ee-f0f3-405f-d242-36ee8857118d"
   },
   "outputs": [
    {
     "data": {
      "application/vnd.jupyter.widget-view+json": {
       "model_id": "822533c2e62e4cd1b19901aa06fd17eb",
       "version_major": 2,
       "version_minor": 0
      },
      "text/plain": [
       "VBox()"
      ]
     },
     "metadata": {
      "tags": []
     },
     "output_type": "display_data"
    },
    {
     "data": {
      "application/vnd.jupyter.widget-view+json": {
       "model_id": "",
       "version_major": 2,
       "version_minor": 0
      },
      "text/plain": [
       "FloatProgress(value=0.0, bar_style='info', description='Progress:', layout=Layout(height='25px', width='50%'),…"
      ]
     },
     "metadata": {
      "tags": []
     },
     "output_type": "display_data"
    },
    {
     "data": {
      "image/png": "[encoded data removed]",
      "text/plain": [
       "<IPython.core.display.Image object>"
      ]
     },
     "metadata": {
      "tags": []
     },
     "output_type": "display_data"
    }
   ],
   "source": [
    "# plot for all countries\n",
    "plt.close()\n",
    "\n",
    "US, = plt.plot('helpfulness_ratio', 'US', data=avg_df.toPandas(), label=\"US\")\n",
    "UK, = plt.plot('helpfulness_ratio', 'UK', data=avg_df.toPandas(), label=\"UK\")\n",
    "DE, = plt.plot('helpfulness_ratio', 'DE', data=avg_df.toPandas(), label=\"DE\")\n",
    "FR, = plt.plot('helpfulness_ratio', 'FR', data=avg_df.toPandas(), label=\"FR\")\n",
    "JP, = plt.plot('helpfulness_ratio', 'JP', data=avg_df.toPandas(), label=\"JP\")\n",
    "plt.legend(handles=[US, UK, DE, FR, JP])\n",
    "plt.xlabel('helpfulness ratio')\n",
    "plt.ylabel('average rating difference')\n",
    "%matplot plt"
   ]
  },
  {
   "cell_type": "markdown",
   "metadata": {
    "colab": {},
    "colab_type": "code",
    "id": "JfsXnmCEmJBs"
   },
   "source": [
    "In general, voting behaviors reveal the trends for social conformity. However, there are huge fluctuations at helpfulness ratios equal 0.5 and 0.4, especially for France. One reason could be that there are few data in the France marketplace and so the variance is bigger than usual. Another reason could be that people have diverse opinions about electronics products and opinions vary when it comes to the helpfulness of reviews."
   ]
  },
  {
   "cell_type": "markdown",
   "metadata": {
    "colab_type": "text",
    "id": "C_bvwZODmL4x"
   },
   "source": [
    "### Sentiment Analysis\n",
    "What are some characteristics of reviews that have high or low helpfulness ratio?"
   ]
  },
  {
   "cell_type": "code",
   "execution_count": 1,
   "metadata": {
    "colab": {
     "base_uri": "https://localhost:8080/",
     "height": 445
    },
    "colab_type": "code",
    "id": "Jdhmk56UmQOl",
    "outputId": "10f3f6b4-f1ae-4021-bcce-0f6e8ac1b7ad"
   },
   "outputs": [
    {
     "name": "stdout",
     "output_type": "stream",
     "text": [
      "openjdk version \"1.8.0_252\"\n",
      "OpenJDK Runtime Environment (build 1.8.0_252-8u252-b09-1~18.04-b09)\n",
      "OpenJDK 64-Bit Server VM (build 25.252-b09, mixed mode)\n",
      "Collecting pyspark==2.4.4\n",
      "\u001b[?25l  Downloading https://files.pythonhosted.org/packages/87/21/f05c186f4ddb01d15d0ddc36ef4b7e3cedbeb6412274a41f26b55a650ee5/pyspark-2.4.4.tar.gz (215.7MB)\n",
      "\u001b[K     |████████████████████████████████| 215.7MB 60kB/s \n",
      "\u001b[?25hCollecting py4j==0.10.7\n",
      "\u001b[?25l  Downloading https://files.pythonhosted.org/packages/e3/53/c737818eb9a7dc32a7cd4f1396e787bd94200c3997c72c1dbe028587bd76/py4j-0.10.7-py2.py3-none-any.whl (197kB)\n",
      "\u001b[K     |████████████████████████████████| 204kB 48.0MB/s \n",
      "\u001b[?25hBuilding wheels for collected packages: pyspark\n",
      "  Building wheel for pyspark (setup.py) ... \u001b[?25l\u001b[?25hdone\n",
      "  Created wheel for pyspark: filename=pyspark-2.4.4-py2.py3-none-any.whl size=216130388 sha256=4c6ca6b69185f44c3f46d7bdca10608fd84b372cf2fd974d33733bc911e1d8bb\n",
      "  Stored in directory: /root/.cache/pip/wheels/ab/09/4d/0d184230058e654eb1b04467dbc1292f00eaa186544604b471\n",
      "Successfully built pyspark\n",
      "Installing collected packages: py4j, pyspark\n",
      "Successfully installed py4j-0.10.7 pyspark-2.4.4\n",
      "Collecting spark-nlp==2.5.1\n",
      "\u001b[?25l  Downloading https://files.pythonhosted.org/packages/df/b4/db653f8080a446de8ce981b262d85c85c61de7e920930726da0d1c6b4c65/spark_nlp-2.5.1-py2.py3-none-any.whl (121kB)\n",
      "\u001b[K     |████████████████████████████████| 122kB 9.9MB/s \n",
      "\u001b[?25hInstalling collected packages: spark-nlp\n",
      "Successfully installed spark-nlp-2.5.1\n",
      "Spark NLP version\n",
      "Apache Spark version\n"
     ]
    },
    {
     "data": {
      "text/plain": [
       "'2.4.4'"
      ]
     },
     "execution_count": 1,
     "metadata": {
      "tags": []
     },
     "output_type": "execute_result"
    }
   ],
   "source": [
    "import os\n",
    "\n",
    "# Install java\n",
    "! apt-get install -y openjdk-8-jdk-headless -qq > /dev/null\n",
    "os.environ[\"JAVA_HOME\"] = \"/usr/lib/jvm/java-8-openjdk-amd64\"\n",
    "os.environ[\"PATH\"] = os.environ[\"JAVA_HOME\"] + \"/bin:\" + os.environ[\"PATH\"]\n",
    "! java -version\n",
    "\n",
    "# Install pyspark\n",
    "! pip install --ignore-installed pyspark==2.4.4\n",
    "\n",
    "# Install Spark NLP\n",
    "! pip install --ignore-installed spark-nlp==2.5.1\n",
    "\n",
    "# Quick SparkSession start\n",
    "import sparknlp\n",
    "spark = sparknlp.start()\n",
    "\n",
    "print(\"Spark NLP version\")\n",
    "sparknlp.version()\n",
    "print(\"Apache Spark version\")\n",
    "spark.version"
   ]
  },
  {
   "cell_type": "code",
   "execution_count": 2,
   "metadata": {
    "colab": {
     "base_uri": "https://localhost:8080/",
     "height": 122
    },
    "colab_type": "code",
    "id": "OshsYYULmqYG",
    "outputId": "9ccfcdae-4ef9-4d0f-d25e-464b59c08e87"
   },
   "outputs": [
    {
     "name": "stdout",
     "output_type": "stream",
     "text": [
      "Go to this URL in a browser: https://accounts.google.com/o/oauth2/auth?client_id=947318989803-6bn6qk8qdgf4n4g3pfee6491hc0brc4i.apps.googleusercontent.com&redirect_uri=urn%3aietf%3awg%3aoauth%3a2.0%3aoob&response_type=code&scope=email%20https%3a%2f%2fwww.googleapis.com%2fauth%2fdocs.test%20https%3a%2f%2fwww.googleapis.com%2fauth%2fdrive%20https%3a%2f%2fwww.googleapis.com%2fauth%2fdrive.photos.readonly%20https%3a%2f%2fwww.googleapis.com%2fauth%2fpeopleapi.readonly\n",
      "\n",
      "Enter your authorization code:\n",
      "··········\n",
      "Mounted at /content/drive/\n"
     ]
    }
   ],
   "source": [
    "from google.colab import drive\n",
    "drive.mount('/content/drive/')"
   ]
  },
  {
   "cell_type": "code",
   "execution_count": 0,
   "metadata": {
    "colab": {},
    "colab_type": "code",
    "id": "H25cmXsvm0K9"
   },
   "outputs": [],
   "source": [
    "import glob\n",
    "import pandas as pd\n",
    "\n",
    "file_path = glob.glob(\"/content/drive/My Drive/amazon-reviews-dataset/*\")\n",
    "file = file_path[0]\n",
    "\n",
    "with open(file) as tsvfile:\n",
    "    col_names = [\"marketplace\", \"customer_id\", \"review_id\", \"product_id\", \"product_parent\", \"product_title\",\n",
    "               \"category\", \"star_rating\", \"helpful_votes\", \"total_votes\", \"vine\", \"verified_purchase\", \n",
    "               \"review_headline\", \"review_body\", \"review_date\"]\n",
    "    data = pd.read_csv(file, sep='\\t', names=col_names, skiprows=2000000, low_memory=False)"
   ]
  },
  {
   "cell_type": "code",
   "execution_count": 7,
   "metadata": {
    "colab": {
     "base_uri": "https://localhost:8080/",
     "height": 496
    },
    "colab_type": "code",
    "id": "gjnDFwkenNmD",
    "outputId": "6e650da7-1971-4f0d-d2d3-7ecee13657f0"
   },
   "outputs": [
    {
     "data": {
      "text/html": [
       "<div>\n",
       "<style scoped>\n",
       "    .dataframe tbody tr th:only-of-type {\n",
       "        vertical-align: middle;\n",
       "    }\n",
       "\n",
       "    .dataframe tbody tr th {\n",
       "        vertical-align: top;\n",
       "    }\n",
       "\n",
       "    .dataframe thead th {\n",
       "        text-align: right;\n",
       "    }\n",
       "</style>\n",
       "<table border=\"1\" class=\"dataframe\">\n",
       "  <thead>\n",
       "    <tr style=\"text-align: right;\">\n",
       "      <th></th>\n",
       "      <th>marketplace</th>\n",
       "      <th>customer_id</th>\n",
       "      <th>review_id</th>\n",
       "      <th>product_id</th>\n",
       "      <th>product_parent</th>\n",
       "      <th>product_title</th>\n",
       "      <th>category</th>\n",
       "      <th>star_rating</th>\n",
       "      <th>helpful_votes</th>\n",
       "      <th>total_votes</th>\n",
       "      <th>vine</th>\n",
       "      <th>verified_purchase</th>\n",
       "      <th>review_headline</th>\n",
       "      <th>review_body</th>\n",
       "      <th>review_date</th>\n",
       "      <th>helpful_ratio</th>\n",
       "    </tr>\n",
       "  </thead>\n",
       "  <tbody>\n",
       "    <tr>\n",
       "      <th>0</th>\n",
       "      <td>US</td>\n",
       "      <td>15052986</td>\n",
       "      <td>R3P9LHY1SE5NVY</td>\n",
       "      <td>B0012YFY54</td>\n",
       "      <td>906275872</td>\n",
       "      <td>Sangean Digital Rechargeable Portable Radio</td>\n",
       "      <td>Electronics</td>\n",
       "      <td>5</td>\n",
       "      <td>2</td>\n",
       "      <td>2</td>\n",
       "      <td>N</td>\n",
       "      <td>Y</td>\n",
       "      <td>Fabulous reception</td>\n",
       "      <td>Love this radio so much, I bought two!!  I lov...</td>\n",
       "      <td>2013-04-30</td>\n",
       "      <td>1.0</td>\n",
       "    </tr>\n",
       "    <tr>\n",
       "      <th>2</th>\n",
       "      <td>US</td>\n",
       "      <td>21860303</td>\n",
       "      <td>R1ERZIZ12HYJ2X</td>\n",
       "      <td>B001DFS4BI</td>\n",
       "      <td>393275326</td>\n",
       "      <td>Winegard HDTV Antenna</td>\n",
       "      <td>Electronics</td>\n",
       "      <td>3</td>\n",
       "      <td>1</td>\n",
       "      <td>1</td>\n",
       "      <td>N</td>\n",
       "      <td>Y</td>\n",
       "      <td>Good quality</td>\n",
       "      <td>Antenna was good quality, a little daunting to...</td>\n",
       "      <td>2013-04-30</td>\n",
       "      <td>1.0</td>\n",
       "    </tr>\n",
       "    <tr>\n",
       "      <th>3</th>\n",
       "      <td>US</td>\n",
       "      <td>43863107</td>\n",
       "      <td>R3QSZBJB8R8D6F</td>\n",
       "      <td>B002MAPT7U</td>\n",
       "      <td>808084969</td>\n",
       "      <td>Clip Plus 4 GB MP3 Player (Black)</td>\n",
       "      <td>Electronics</td>\n",
       "      <td>5</td>\n",
       "      <td>1</td>\n",
       "      <td>1</td>\n",
       "      <td>N</td>\n",
       "      <td>Y</td>\n",
       "      <td>Buy it!</td>\n",
       "      <td>Very upgradeable and easy to function. Why pay...</td>\n",
       "      <td>2013-04-30</td>\n",
       "      <td>1.0</td>\n",
       "    </tr>\n",
       "    <tr>\n",
       "      <th>4</th>\n",
       "      <td>US</td>\n",
       "      <td>42852005</td>\n",
       "      <td>R2J88M2MDLUZII</td>\n",
       "      <td>B005JK61MW</td>\n",
       "      <td>468304863</td>\n",
       "      <td>Grounded Travel Plug Adapter</td>\n",
       "      <td>Electronics</td>\n",
       "      <td>5</td>\n",
       "      <td>4</td>\n",
       "      <td>4</td>\n",
       "      <td>N</td>\n",
       "      <td>Y</td>\n",
       "      <td>OREI Universal 2 in 1 Travel Adapter for South...</td>\n",
       "      <td>I purchased this for my mom, who went on a tri...</td>\n",
       "      <td>2013-04-30</td>\n",
       "      <td>1.0</td>\n",
       "    </tr>\n",
       "    <tr>\n",
       "      <th>6</th>\n",
       "      <td>US</td>\n",
       "      <td>26742748</td>\n",
       "      <td>R1UMGOR1PR157G</td>\n",
       "      <td>B005PQRLYC</td>\n",
       "      <td>420336991</td>\n",
       "      <td>Waxed Lacing Tape, 500 Yard Spool, Black</td>\n",
       "      <td>Electronics</td>\n",
       "      <td>5</td>\n",
       "      <td>1</td>\n",
       "      <td>2</td>\n",
       "      <td>N</td>\n",
       "      <td>Y</td>\n",
       "      <td>Flat waxed nylon lace.</td>\n",
       "      <td>Not as strong as I figured but it seems to do ...</td>\n",
       "      <td>2013-04-30</td>\n",
       "      <td>0.5</td>\n",
       "    </tr>\n",
       "  </tbody>\n",
       "</table>\n",
       "</div>"
      ],
      "text/plain": [
       "  marketplace  customer_id  ... review_date helpful_ratio\n",
       "0          US     15052986  ...  2013-04-30           1.0\n",
       "2          US     21860303  ...  2013-04-30           1.0\n",
       "3          US     43863107  ...  2013-04-30           1.0\n",
       "4          US     42852005  ...  2013-04-30           1.0\n",
       "6          US     26742748  ...  2013-04-30           0.5\n",
       "\n",
       "[5 rows x 16 columns]"
      ]
     },
     "execution_count": 7,
     "metadata": {
      "tags": []
     },
     "output_type": "execute_result"
    }
   ],
   "source": [
    "data['helpful_ratio'] = data['helpful_votes'] / data['total_votes']\n",
    "data = data[data['helpful_ratio'].notnull()]\n",
    "data.head()"
   ]
  },
  {
   "cell_type": "code",
   "execution_count": 8,
   "metadata": {
    "colab": {
     "base_uri": "https://localhost:8080/",
     "height": 34
    },
    "colab_type": "code",
    "id": "yk0wwyEynbbA",
    "outputId": "6820fe6f-05b1-44b2-b965-44b13b69592e"
   },
   "outputs": [
    {
     "data": {
      "text/plain": [
       "(296230, 16)"
      ]
     },
     "execution_count": 8,
     "metadata": {
      "tags": []
     },
     "output_type": "execute_result"
    }
   ],
   "source": [
    "most_helpful = data[data['helpful_ratio'] == 1.0]\n",
    "most_helpful.shape"
   ]
  },
  {
   "cell_type": "code",
   "execution_count": 9,
   "metadata": {
    "colab": {
     "base_uri": "https://localhost:8080/",
     "height": 34
    },
    "colab_type": "code",
    "id": "zCjIOpkOniI3",
    "outputId": "5674454e-3f6f-4a01-8021-e38276c50c30"
   },
   "outputs": [
    {
     "data": {
      "text/plain": [
       "(82780, 16)"
      ]
     },
     "execution_count": 9,
     "metadata": {
      "tags": []
     },
     "output_type": "execute_result"
    }
   ],
   "source": [
    "least_helpful = data[data['helpful_ratio'] <= 0.2]\n",
    "least_helpful.shape"
   ]
  },
  {
   "cell_type": "code",
   "execution_count": 0,
   "metadata": {
    "colab": {},
    "colab_type": "code",
    "id": "ovCu_Ok1nlLR"
   },
   "outputs": [],
   "source": [
    "from sklearn.utils import shuffle\n",
    "most_helpful = shuffle(most_helpful)[:10000]\n",
    "least_helpful = shuffle(least_helpful)[:10000]"
   ]
  },
  {
   "cell_type": "code",
   "execution_count": 11,
   "metadata": {
    "colab": {
     "base_uri": "https://localhost:8080/",
     "height": 68
    },
    "colab_type": "code",
    "id": "uZWIUsQfnuR2",
    "outputId": "4ef5e2d7-0841-4553-a292-e31467d96534"
   },
   "outputs": [
    {
     "name": "stdout",
     "output_type": "stream",
     "text": [
      "analyze_sentiment download started this may take some time.\n",
      "Approx size to download 4.9 MB\n",
      "[OK!]\n"
     ]
    }
   ],
   "source": [
    "from sparknlp.pretrained import PretrainedPipeline\n",
    "\n",
    "pipeline = PretrainedPipeline('analyze_sentiment', lang='en')\n",
    "most_helpful['sentiment'] = most_helpful['review_body'].apply(pipeline.annotate)"
   ]
  },
  {
   "cell_type": "code",
   "execution_count": 0,
   "metadata": {
    "colab": {},
    "colab_type": "code",
    "id": "dR-C6fRGqID3"
   },
   "outputs": [],
   "source": [
    "most_helpful['bin'] = most_helpful.sentiment.apply(lambda x: x['sentiment'][0])\n",
    "most_helpful['sentiment_value'] = most_helpful.bin.astype(\"category\").cat.codes - 1"
   ]
  },
  {
   "cell_type": "code",
   "execution_count": 13,
   "metadata": {
    "colab": {
     "base_uri": "https://localhost:8080/",
     "height": 34
    },
    "colab_type": "code",
    "id": "MkpUIVOBqLtJ",
    "outputId": "04530285-fd72-4b0b-ec0d-3b7e69b762ed"
   },
   "outputs": [
    {
     "data": {
      "text/plain": [
       "0.4804"
      ]
     },
     "execution_count": 13,
     "metadata": {
      "tags": []
     },
     "output_type": "execute_result"
    }
   ],
   "source": [
    "most_helpful['sentiment_value'].mean()"
   ]
  },
  {
   "cell_type": "code",
   "execution_count": 0,
   "metadata": {
    "colab": {},
    "colab_type": "code",
    "id": "PonlBPsMqPLk"
   },
   "outputs": [],
   "source": [
    "least_helpful['sentiment'] = least_helpful['review_body'].apply(pipeline.annotate)"
   ]
  },
  {
   "cell_type": "code",
   "execution_count": 0,
   "metadata": {
    "colab": {},
    "colab_type": "code",
    "id": "EBQdkmh-sILG"
   },
   "outputs": [],
   "source": [
    "least_helpful['bin'] = least_helpful.sentiment.apply(lambda x: x['sentiment'][0])\n",
    "least_helpful['sentiment_value'] = least_helpful.bin.astype(\"category\").cat.codes - 1"
   ]
  },
  {
   "cell_type": "code",
   "execution_count": 16,
   "metadata": {
    "colab": {
     "base_uri": "https://localhost:8080/",
     "height": 34
    },
    "colab_type": "code",
    "id": "WhYGvIhtsMRb",
    "outputId": "cd0b75f8-16c1-4c4d-e3f5-8c463d1242c9"
   },
   "outputs": [
    {
     "data": {
      "text/plain": [
       "0.462"
      ]
     },
     "execution_count": 16,
     "metadata": {
      "tags": []
     },
     "output_type": "execute_result"
    }
   ],
   "source": [
    "least_helpful['sentiment_value'].mean()"
   ]
  },
  {
   "cell_type": "markdown",
   "metadata": {},
   "source": [
    "Helpful reviews and unhelpful reviews have similar sentiment values."
   ]
  },
  {
   "cell_type": "markdown",
   "metadata": {
    "colab_type": "text",
    "id": "CbQfcqcosPgp"
   },
   "source": [
    "### TF-IDF\n",
    "What are the top terms in helpful and unhelpful reviews?"
   ]
  },
  {
   "cell_type": "code",
   "execution_count": 0,
   "metadata": {
    "colab": {},
    "colab_type": "code",
    "id": "I9uXJVE6sSOz"
   },
   "outputs": [],
   "source": [
    "most_helpful = data[data['helpful_ratio'] == 1.0]\n",
    "least_helpful = data[data['helpful_ratio'] < 0.2]\n",
    "most_helpful = shuffle(most_helpful)[:10000][['review_body']]\n",
    "least_helpful = shuffle(least_helpful)[:10000][['review_body']]"
   ]
  },
  {
   "cell_type": "code",
   "execution_count": 0,
   "metadata": {
    "colab": {},
    "colab_type": "code",
    "id": "lSQzjsfTsdbD"
   },
   "outputs": [],
   "source": [
    "from pyspark.sql import SparkSession\n",
    "# start spark session\n",
    "spark = SparkSession.builder.master('local[*]').getOrCreate()\n",
    "\n",
    "spark_helpful = spark.createDataFrame(most_helpful)\n",
    "spark_unhelpful = spark.createDataFrame(least_helpful)"
   ]
  },
  {
   "cell_type": "code",
   "execution_count": 0,
   "metadata": {
    "colab": {},
    "colab_type": "code",
    "id": "_pAHoI19sjUm"
   },
   "outputs": [],
   "source": [
    "from pyspark.ml.feature import *\n",
    "from pyspark.ml import Pipeline\n",
    "\n",
    "tokenizer = Tokenizer(inputCol=\"review_body\", outputCol=\"words\")\n",
    "remover = StopWordsRemover(inputCol=\"words\", outputCol=\"filtered\")\n",
    "countVect = CountVectorizer(inputCol=\"filtered\", outputCol=\"cv\",  minDF=5.0)\n",
    "idf = IDF(inputCol=\"cv\", outputCol=\"idf\")\n",
    "pipeline = Pipeline(stages=[tokenizer, remover, countVect, idf])"
   ]
  },
  {
   "cell_type": "markdown",
   "metadata": {
    "colab_type": "text",
    "id": "aofP3x9zsrt0"
   },
   "source": [
    "Helpful Reviews"
   ]
  },
  {
   "cell_type": "code",
   "execution_count": 0,
   "metadata": {
    "colab": {},
    "colab_type": "code",
    "id": "8kdrYIKAstlN"
   },
   "outputs": [],
   "source": [
    "helpful = pipeline.fit(spark_helpful).transform(spark_helpful)"
   ]
  },
  {
   "cell_type": "code",
   "execution_count": 0,
   "metadata": {
    "colab": {},
    "colab_type": "code",
    "id": "mayc6cfCs0oj"
   },
   "outputs": [],
   "source": [
    "helpful_df = helpful.select(\"filtered\", \"idf\").toPandas()"
   ]
  },
  {
   "cell_type": "code",
   "execution_count": 0,
   "metadata": {
    "colab": {},
    "colab_type": "code",
    "id": "ubSuJcRKs8yG"
   },
   "outputs": [],
   "source": [
    "words = []\n",
    "for index, value in helpful_df['filtered'].iteritems():\n",
    "    words += value\n",
    "\n",
    "features = []\n",
    "for index, value in helpful_df[\"idf\"].iteritems():\n",
    "    dict_val = value.values.tolist()\n",
    "    features += dict_val"
   ]
  },
  {
   "cell_type": "code",
   "execution_count": 0,
   "metadata": {
    "colab": {},
    "colab_type": "code",
    "id": "S9SOcil2tAkU"
   },
   "outputs": [],
   "source": [
    "from operator import itemgetter\n",
    "indices, list_sorted = zip(*sorted(enumerate(features), key=itemgetter(1)))"
   ]
  },
  {
   "cell_type": "code",
   "execution_count": 25,
   "metadata": {
    "colab": {
     "base_uri": "https://localhost:8080/",
     "height": 272
    },
    "colab_type": "code",
    "id": "DqJHkF6BtFTt",
    "outputId": "87ebbd27-a178-4179-bf7f-6d53052a8495"
   },
   "outputs": [
    {
     "name": "stdout",
     "output_type": "stream",
     "text": [
      "display\n",
      "place\n",
      "line-of-sight\n",
      "expected\n",
      "based\n",
      "airport\n",
      "require\n",
      "\n",
      "bass\n",
      "purchased\n",
      "falls\n",
      "running\n",
      "chapter\n",
      "use\n",
      "earbuds\n"
     ]
    }
   ],
   "source": [
    "for i in indices[:15]:\n",
    "    print(words[i])"
   ]
  },
  {
   "cell_type": "markdown",
   "metadata": {
    "colab_type": "text",
    "id": "qqj3iln2tJ1A"
   },
   "source": [
    "Unhelpful Reviews"
   ]
  },
  {
   "cell_type": "code",
   "execution_count": 0,
   "metadata": {
    "colab": {},
    "colab_type": "code",
    "id": "ulim6A-3tNkf"
   },
   "outputs": [],
   "source": [
    "unhelpful = pipeline.fit(spark_unhelpful).transform(spark_unhelpful)"
   ]
  },
  {
   "cell_type": "code",
   "execution_count": 0,
   "metadata": {
    "colab": {},
    "colab_type": "code",
    "id": "gcQ06ZoftUjU"
   },
   "outputs": [],
   "source": [
    "unhelpful_df = unhelpful.select(\"filtered\", \"idf\").toPandas()"
   ]
  },
  {
   "cell_type": "code",
   "execution_count": 0,
   "metadata": {
    "colab": {},
    "colab_type": "code",
    "id": "um2Bx9hLta5_"
   },
   "outputs": [],
   "source": [
    "words = []\n",
    "for index, value in unhelpful_df['filtered'].iteritems():\n",
    "    words += value\n",
    "\n",
    "features = []\n",
    "for index, value in unhelpful_df[\"idf\"].iteritems():\n",
    "    dict_val = value.values.tolist()\n",
    "    features += dict_val"
   ]
  },
  {
   "cell_type": "code",
   "execution_count": 0,
   "metadata": {
    "colab": {},
    "colab_type": "code",
    "id": "HMmmXX_StfPn"
   },
   "outputs": [],
   "source": [
    "from operator import itemgetter\n",
    "indices, list_sorted = zip(*sorted(enumerate(features), key=itemgetter(1)))"
   ]
  },
  {
   "cell_type": "code",
   "execution_count": 30,
   "metadata": {
    "colab": {
     "base_uri": "https://localhost:8080/",
     "height": 272
    },
    "colab_type": "code",
    "id": "VMo4SyAstjqr",
    "outputId": "42cc062e-b9d5-4731-8d3b-44840dda8aa5"
   },
   "outputs": [
    {
     "name": "stdout",
     "output_type": "stream",
     "text": [
      "price\n",
      "sent\n",
      "durable\n",
      "current\n",
      "case\n",
      "many\n",
      "microsoft.-\n",
      "getting\n",
      "esta\n",
      "ao\n",
      "sides\n",
      "absolutely\n",
      "control\n",
      "tuner\n",
      "first\n"
     ]
    }
   ],
   "source": [
    "for i in indices[:15]:\n",
    "    print(words[i])"
   ]
  }
 ],
 "metadata": {
  "colab": {
   "collapsed_sections": [],
   "name": "large-scale-electronics.ipynb",
   "provenance": []
  },
  "kernelspec": {
   "display_name": "Python 3",
   "language": "python",
   "name": "python3"
  },
  "language_info": {
   "codemirror_mode": {
    "name": "ipython",
    "version": 3
   },
   "file_extension": ".py",
   "mimetype": "text/x-python",
   "name": "python",
   "nbconvert_exporter": "python",
   "pygments_lexer": "ipython3",
   "version": "3.7.3"
  }
 },
 "nbformat": 4,
 "nbformat_minor": 1
}
