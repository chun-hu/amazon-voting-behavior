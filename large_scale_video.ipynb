{
 "cells": [
  {
   "cell_type": "markdown",
   "metadata": {
    "colab_type": "text",
    "id": "4cq0a7HI0rlx"
   },
   "source": [
    "## Large Scale Final Project\n",
    "Do Amazon voting behaviors reveal social conformity?\n",
    "Chun Hu"
   ]
  },
  {
   "cell_type": "markdown",
   "metadata": {
    "colab_type": "text",
    "id": "GHSwb15v0rlz"
   },
   "source": [
    "### Category 5: Video"
   ]
  },
  {
   "cell_type": "code",
   "execution_count": 0,
   "metadata": {
    "colab": {
     "referenced_widgets": [
      "c68745611a284b3894a5088d5c099d95",
      ""
     ]
    },
    "colab_type": "code",
    "id": "6tjVicLK0rl0",
    "outputId": "cc4cb446-7312-4311-df14-573e1427031c"
   },
   "outputs": [
    {
     "data": {
      "application/vnd.jupyter.widget-view+json": {
       "model_id": "c68745611a284b3894a5088d5c099d95",
       "version_major": 2,
       "version_minor": 0
      },
      "text/plain": [
       "VBox()"
      ]
     },
     "metadata": {
      "tags": []
     },
     "output_type": "display_data"
    },
    {
     "name": "stdout",
     "output_type": "stream",
     "text": [
      "Starting Spark application\n"
     ]
    },
    {
     "data": {
      "text/html": [
       "<table>\n",
       "<tr><th>ID</th><th>YARN Application ID</th><th>Kind</th><th>State</th><th>Spark UI</th><th>Driver log</th><th>Current session?</th></tr><tr><td>5</td><td>application_1591214933999_0006</td><td>pyspark</td><td>idle</td><td><a target=\"_blank\" href=\"http://ip-172-31-2-220.ec2.internal:20888/proxy/application_1591214933999_0006/\">Link</a></td><td><a target=\"_blank\" href=\"http://ip-172-31-2-179.ec2.internal:8042/node/containerlogs/container_1591214933999_0006_01_000001/livy\">Link</a></td><td>✔</td></tr></table>"
      ],
      "text/plain": [
       "<IPython.core.display.HTML object>"
      ]
     },
     "metadata": {
      "tags": []
     },
     "output_type": "display_data"
    },
    {
     "data": {
      "application/vnd.jupyter.widget-view+json": {
       "model_id": "",
       "version_major": 2,
       "version_minor": 0
      },
      "text/plain": [
       "FloatProgress(value=0.0, bar_style='info', description='Progress:', layout=Layout(height='25px', width='50%'),…"
      ]
     },
     "metadata": {
      "tags": []
     },
     "output_type": "display_data"
    },
    {
     "name": "stdout",
     "output_type": "stream",
     "text": [
      "SparkSession available as 'spark'.\n"
     ]
    },
    {
     "data": {
      "application/vnd.jupyter.widget-view+json": {
       "model_id": "",
       "version_major": 2,
       "version_minor": 0
      },
      "text/plain": [
       "FloatProgress(value=0.0, bar_style='info', description='Progress:', layout=Layout(height='25px', width='50%'),…"
      ]
     },
     "metadata": {
      "tags": []
     },
     "output_type": "display_data"
    }
   ],
   "source": [
    "data = spark.read.parquet('s3://amazon-reviews-pds/parquet/product_category=Video/*.parquet')"
   ]
  },
  {
   "cell_type": "code",
   "execution_count": 0,
   "metadata": {
    "colab": {
     "referenced_widgets": [
      "3fed7a416f74437b851962d544b6d143",
      ""
     ]
    },
    "colab_type": "code",
    "id": "xSAD0nfH0rl5",
    "outputId": "9d85c4b6-b4e5-4515-8c14-b6ddc9facc7d"
   },
   "outputs": [
    {
     "data": {
      "application/vnd.jupyter.widget-view+json": {
       "model_id": "3fed7a416f74437b851962d544b6d143",
       "version_major": 2,
       "version_minor": 0
      },
      "text/plain": [
       "VBox()"
      ]
     },
     "metadata": {
      "tags": []
     },
     "output_type": "display_data"
    },
    {
     "data": {
      "application/vnd.jupyter.widget-view+json": {
       "model_id": "",
       "version_major": 2,
       "version_minor": 0
      },
      "text/plain": [
       "FloatProgress(value=0.0, bar_style='info', description='Progress:', layout=Layout(height='25px', width='50%'),…"
      ]
     },
     "metadata": {
      "tags": []
     },
     "output_type": "display_data"
    },
    {
     "name": "stdout",
     "output_type": "stream",
     "text": [
      "Total Columns: 15\n",
      "Total Rows: 437409\n",
      "root\n",
      " |-- marketplace: string (nullable = true)\n",
      " |-- customer_id: string (nullable = true)\n",
      " |-- review_id: string (nullable = true)\n",
      " |-- product_id: string (nullable = true)\n",
      " |-- product_parent: string (nullable = true)\n",
      " |-- product_title: string (nullable = true)\n",
      " |-- star_rating: integer (nullable = true)\n",
      " |-- helpful_votes: integer (nullable = true)\n",
      " |-- total_votes: integer (nullable = true)\n",
      " |-- vine: string (nullable = true)\n",
      " |-- verified_purchase: string (nullable = true)\n",
      " |-- review_headline: string (nullable = true)\n",
      " |-- review_body: string (nullable = true)\n",
      " |-- review_date: date (nullable = true)\n",
      " |-- year: integer (nullable = true)"
     ]
    }
   ],
   "source": [
    "print('Total Columns: %d' % len(data.dtypes))\n",
    "print('Total Rows: %d' % data.count())\n",
    "data.printSchema()"
   ]
  },
  {
   "cell_type": "code",
   "execution_count": 0,
   "metadata": {
    "colab": {
     "referenced_widgets": [
      "4116766fb98643d19957df49485aefaf",
      ""
     ]
    },
    "colab_type": "code",
    "id": "UeJfgKWD0rl8",
    "outputId": "9b6754b3-c398-4e23-cb20-30d42f1c563b"
   },
   "outputs": [
    {
     "data": {
      "application/vnd.jupyter.widget-view+json": {
       "model_id": "4116766fb98643d19957df49485aefaf",
       "version_major": 2,
       "version_minor": 0
      },
      "text/plain": [
       "VBox()"
      ]
     },
     "metadata": {
      "tags": []
     },
     "output_type": "display_data"
    },
    {
     "data": {
      "application/vnd.jupyter.widget-view+json": {
       "model_id": "",
       "version_major": 2,
       "version_minor": 0
      },
      "text/plain": [
       "FloatProgress(value=0.0, bar_style='info', description='Progress:', layout=Layout(height='25px', width='50%'),…"
      ]
     },
     "metadata": {
      "tags": []
     },
     "output_type": "display_data"
    },
    {
     "name": "stdout",
     "output_type": "stream",
     "text": [
      "+-----------+------+\n",
      "|marketplace| count|\n",
      "+-----------+------+\n",
      "|         DE|  2927|\n",
      "|         US|427319|\n",
      "|         UK|  4582|\n",
      "|         FR|   530|\n",
      "|         JP|  2051|\n",
      "+-----------+------+"
     ]
    }
   ],
   "source": [
    "data.groupby('marketplace').count().show()"
   ]
  },
  {
   "cell_type": "markdown",
   "metadata": {},
   "source": [
    "FR has significantly fewer reviews -- might lead to large flunctuations in results"
   ]
  },
  {
   "cell_type": "code",
   "execution_count": 0,
   "metadata": {
    "colab": {
     "referenced_widgets": [
      "bf4e2f9a1cc340a980fc5dfa00062d95",
      ""
     ]
    },
    "colab_type": "code",
    "id": "jbilxjaw0rl_",
    "outputId": "aaacb4f9-2ca5-40d9-915e-d59cc3f6c350"
   },
   "outputs": [
    {
     "data": {
      "application/vnd.jupyter.widget-view+json": {
       "model_id": "bf4e2f9a1cc340a980fc5dfa00062d95",
       "version_major": 2,
       "version_minor": 0
      },
      "text/plain": [
       "VBox()"
      ]
     },
     "metadata": {
      "tags": []
     },
     "output_type": "display_data"
    },
    {
     "data": {
      "application/vnd.jupyter.widget-view+json": {
       "model_id": "",
       "version_major": 2,
       "version_minor": 0
      },
      "text/plain": [
       "FloatProgress(value=0.0, bar_style='info', description='Progress:', layout=Layout(height='25px', width='50%'),…"
      ]
     },
     "metadata": {
      "tags": []
     },
     "output_type": "display_data"
    }
   ],
   "source": [
    "data = data.withColumn('helpful_ratio', (data.helpful_votes / data.total_votes).cast(\"float\"))\n",
    "data = data.filter('helpful_ratio IS NOT NULL')"
   ]
  },
  {
   "cell_type": "code",
   "execution_count": 0,
   "metadata": {
    "colab": {
     "referenced_widgets": [
      "36e0a627320943bd9b7412dabcaaa6f3",
      ""
     ]
    },
    "colab_type": "code",
    "id": "Kdau7ayY0rmD",
    "outputId": "6d38f1e4-d00f-4fd8-909c-cb8c96dc1be8"
   },
   "outputs": [
    {
     "data": {
      "application/vnd.jupyter.widget-view+json": {
       "model_id": "36e0a627320943bd9b7412dabcaaa6f3",
       "version_major": 2,
       "version_minor": 0
      },
      "text/plain": [
       "VBox()"
      ]
     },
     "metadata": {
      "tags": []
     },
     "output_type": "display_data"
    },
    {
     "data": {
      "application/vnd.jupyter.widget-view+json": {
       "model_id": "",
       "version_major": 2,
       "version_minor": 0
      },
      "text/plain": [
       "FloatProgress(value=0.0, bar_style='info', description='Progress:', layout=Layout(height='25px', width='50%'),…"
      ]
     },
     "metadata": {
      "tags": []
     },
     "output_type": "display_data"
    }
   ],
   "source": [
    "avg_rating = data.groupBy('product_id').avg('star_rating')"
   ]
  },
  {
   "cell_type": "code",
   "execution_count": 0,
   "metadata": {
    "colab": {
     "referenced_widgets": [
      "2bc110ba74774205838804e448fc69fc",
      ""
     ]
    },
    "colab_type": "code",
    "id": "9galpe1i0rmG",
    "outputId": "cdcb6619-9f15-4594-d07b-48762349d335"
   },
   "outputs": [
    {
     "data": {
      "application/vnd.jupyter.widget-view+json": {
       "model_id": "2bc110ba74774205838804e448fc69fc",
       "version_major": 2,
       "version_minor": 0
      },
      "text/plain": [
       "VBox()"
      ]
     },
     "metadata": {
      "tags": []
     },
     "output_type": "display_data"
    },
    {
     "data": {
      "application/vnd.jupyter.widget-view+json": {
       "model_id": "",
       "version_major": 2,
       "version_minor": 0
      },
      "text/plain": [
       "FloatProgress(value=0.0, bar_style='info', description='Progress:', layout=Layout(height='25px', width='50%'),…"
      ]
     },
     "metadata": {
      "tags": []
     },
     "output_type": "display_data"
    }
   ],
   "source": [
    "data_video = data.join(avg_rating, on=['product_id'], how='left_outer')"
   ]
  },
  {
   "cell_type": "code",
   "execution_count": 0,
   "metadata": {
    "colab": {
     "referenced_widgets": [
      "a97cab2ff08c4d91a278f57f3325c410",
      ""
     ]
    },
    "colab_type": "code",
    "id": "ryxRsinF0rmJ",
    "outputId": "07607bad-4588-4966-c099-721ac35aa5ed"
   },
   "outputs": [
    {
     "data": {
      "application/vnd.jupyter.widget-view+json": {
       "model_id": "a97cab2ff08c4d91a278f57f3325c410",
       "version_major": 2,
       "version_minor": 0
      },
      "text/plain": [
       "VBox()"
      ]
     },
     "metadata": {
      "tags": []
     },
     "output_type": "display_data"
    },
    {
     "data": {
      "application/vnd.jupyter.widget-view+json": {
       "model_id": "",
       "version_major": 2,
       "version_minor": 0
      },
      "text/plain": [
       "FloatProgress(value=0.0, bar_style='info', description='Progress:', layout=Layout(height='25px', width='50%'),…"
      ]
     },
     "metadata": {
      "tags": []
     },
     "output_type": "display_data"
    },
    {
     "name": "stdout",
     "output_type": "stream",
     "text": [
      "+----------+-----------+-------------+-----------------+\n",
      "|product_id|star_rating|helpful_ratio| avg(star_rating)|\n",
      "+----------+-----------+-------------+-----------------+\n",
      "|0005119359|          5|          1.0|              5.0|\n",
      "|0005200288|          5|         0.75|              5.0|\n",
      "|0005257859|          5|          1.0|              5.0|\n",
      "|0006486576|          5|          0.5|              5.0|\n",
      "|0006486576|          5|          1.0|              5.0|\n",
      "|0307142671|          5|    0.6666667|              5.0|\n",
      "|0307142752|          5|          1.0|              5.0|\n",
      "|0307142752|          5|          1.0|              5.0|\n",
      "|0307554023|          5|        0.875|              5.0|\n",
      "|0307554023|          5|    0.8888889|              5.0|\n",
      "|0307554023|          5|    0.8333333|              5.0|\n",
      "|0394897609|          4|          1.0|4.666666666666667|\n",
      "|0394897609|          5|          1.0|4.666666666666667|\n",
      "|0394897609|          5|          1.0|4.666666666666667|\n",
      "|0590297597|          5|   0.71428573|              5.0|\n",
      "|0634009311|          4|          1.0|              4.0|\n",
      "|0736037195|          5|          1.0|              5.0|\n",
      "|0738920916|          5|          1.0|              4.0|\n",
      "|0738920916|          4|          0.9|              4.0|\n",
      "|0738920916|          3|   0.95454544|              4.0|\n",
      "+----------+-----------+-------------+-----------------+\n",
      "only showing top 20 rows"
     ]
    }
   ],
   "source": [
    "data_video[['product_id', 'star_rating', 'helpful_ratio', 'avg(star_rating)']].show()"
   ]
  },
  {
   "cell_type": "code",
   "execution_count": 0,
   "metadata": {
    "colab": {
     "referenced_widgets": [
      "24dadbae815140dca3155ff5f8488b4a",
      ""
     ]
    },
    "colab_type": "code",
    "id": "zimImnN00rmQ",
    "outputId": "9dab591a-1fb3-4e49-b4e9-36076568b167"
   },
   "outputs": [
    {
     "data": {
      "application/vnd.jupyter.widget-view+json": {
       "model_id": "24dadbae815140dca3155ff5f8488b4a",
       "version_major": 2,
       "version_minor": 0
      },
      "text/plain": [
       "VBox()"
      ]
     },
     "metadata": {
      "tags": []
     },
     "output_type": "display_data"
    },
    {
     "data": {
      "application/vnd.jupyter.widget-view+json": {
       "model_id": "",
       "version_major": 2,
       "version_minor": 0
      },
      "text/plain": [
       "FloatProgress(value=0.0, bar_style='info', description='Progress:', layout=Layout(height='25px', width='50%'),…"
      ]
     },
     "metadata": {
      "tags": []
     },
     "output_type": "display_data"
    }
   ],
   "source": [
    "data_video = data_video.withColumn('avg_rating', data_video[\"avg(star_rating)\"])"
   ]
  },
  {
   "cell_type": "markdown",
   "metadata": {},
   "source": [
    "Descriptive Statistics of products in VIDEO category:"
   ]
  },
  {
   "cell_type": "code",
   "execution_count": 0,
   "metadata": {
    "colab": {
     "referenced_widgets": [
      "f2e578de8f0a4ce7a8115a6de9d63cfe",
      ""
     ]
    },
    "colab_type": "code",
    "id": "p6xf-nln0rmT",
    "outputId": "48065261-c022-4be6-837e-7c3ac9ad45a4"
   },
   "outputs": [
    {
     "data": {
      "application/vnd.jupyter.widget-view+json": {
       "model_id": "f2e578de8f0a4ce7a8115a6de9d63cfe",
       "version_major": 2,
       "version_minor": 0
      },
      "text/plain": [
       "VBox()"
      ]
     },
     "metadata": {
      "tags": []
     },
     "output_type": "display_data"
    },
    {
     "data": {
      "application/vnd.jupyter.widget-view+json": {
       "model_id": "",
       "version_major": 2,
       "version_minor": 0
      },
      "text/plain": [
       "FloatProgress(value=0.0, bar_style='info', description='Progress:', layout=Layout(height='25px', width='50%'),…"
      ]
     },
     "metadata": {
      "tags": []
     },
     "output_type": "display_data"
    },
    {
     "name": "stdout",
     "output_type": "stream",
     "text": [
      "+-------+------------------+\n",
      "|summary|        avg_rating|\n",
      "+-------+------------------+\n",
      "|  count|            355462|\n",
      "|   mean|  4.12835971214925|\n",
      "| stddev|0.7426412139325975|\n",
      "|    min|               1.0|\n",
      "|    25%|              3.75|\n",
      "|    50%| 4.285714285714286|\n",
      "|    75%| 4.666666666666667|\n",
      "|    max|               5.0|\n",
      "+-------+------------------+"
     ]
    }
   ],
   "source": [
    "data_video[['avg_rating']].summary().show()"
   ]
  },
  {
   "cell_type": "code",
   "execution_count": 0,
   "metadata": {
    "colab": {
     "referenced_widgets": [
      "2a935f0e60694ff6ab3c88eaecedf059",
      ""
     ]
    },
    "colab_type": "code",
    "id": "k1Hr5ob10rmV",
    "outputId": "6e12c8cb-0b52-42a3-890e-8c45a89ee5d7"
   },
   "outputs": [
    {
     "data": {
      "application/vnd.jupyter.widget-view+json": {
       "model_id": "2a935f0e60694ff6ab3c88eaecedf059",
       "version_major": 2,
       "version_minor": 0
      },
      "text/plain": [
       "VBox()"
      ]
     },
     "metadata": {
      "tags": []
     },
     "output_type": "display_data"
    },
    {
     "data": {
      "application/vnd.jupyter.widget-view+json": {
       "model_id": "",
       "version_major": 2,
       "version_minor": 0
      },
      "text/plain": [
       "FloatProgress(value=0.0, bar_style='info', description='Progress:', layout=Layout(height='25px', width='50%'),…"
      ]
     },
     "metadata": {
      "tags": []
     },
     "output_type": "display_data"
    },
    {
     "name": "stdout",
     "output_type": "stream",
     "text": [
      "+-------+-----------------+\n",
      "|summary|    helpful_votes|\n",
      "+-------+-----------------+\n",
      "|  count|           355462|\n",
      "|   mean|5.804406659502281|\n",
      "| stddev|14.64875508046992|\n",
      "|    min|                0|\n",
      "|    25%|                1|\n",
      "|    50%|                2|\n",
      "|    75%|                6|\n",
      "|    max|              894|\n",
      "+-------+-----------------+"
     ]
    }
   ],
   "source": [
    "data_video[['helpful_votes']].summary().show()"
   ]
  },
  {
   "cell_type": "code",
   "execution_count": 0,
   "metadata": {
    "colab": {
     "referenced_widgets": [
      "8d7447f7c2ff4561b11e46be615a6cd2",
      ""
     ]
    },
    "colab_type": "code",
    "id": "Eg2dee9B0rmY",
    "outputId": "6937d644-4763-41ab-a070-b75f4c863bcd"
   },
   "outputs": [
    {
     "data": {
      "application/vnd.jupyter.widget-view+json": {
       "model_id": "8d7447f7c2ff4561b11e46be615a6cd2",
       "version_major": 2,
       "version_minor": 0
      },
      "text/plain": [
       "VBox()"
      ]
     },
     "metadata": {
      "tags": []
     },
     "output_type": "display_data"
    },
    {
     "data": {
      "application/vnd.jupyter.widget-view+json": {
       "model_id": "",
       "version_major": 2,
       "version_minor": 0
      },
      "text/plain": [
       "FloatProgress(value=0.0, bar_style='info', description='Progress:', layout=Layout(height='25px', width='50%'),…"
      ]
     },
     "metadata": {
      "tags": []
     },
     "output_type": "display_data"
    }
   ],
   "source": [
    "from pyspark.sql.functions import abs\n",
    "\n",
    "data_video = data_video.withColumn('rating_diff', abs(data_video.avg_rating - data_video.star_rating).cast(\"float\"))"
   ]
  },
  {
   "cell_type": "code",
   "execution_count": 0,
   "metadata": {
    "colab": {
     "referenced_widgets": [
      "1704deb61d6e45b08b4190236c18a2af",
      ""
     ]
    },
    "colab_type": "code",
    "id": "VgKXgoD70rma",
    "outputId": "b8fd1b54-9c60-4e2c-d781-dbec1c7c2cbe"
   },
   "outputs": [
    {
     "data": {
      "application/vnd.jupyter.widget-view+json": {
       "model_id": "1704deb61d6e45b08b4190236c18a2af",
       "version_major": 2,
       "version_minor": 0
      },
      "text/plain": [
       "VBox()"
      ]
     },
     "metadata": {
      "tags": []
     },
     "output_type": "display_data"
    },
    {
     "data": {
      "application/vnd.jupyter.widget-view+json": {
       "model_id": "",
       "version_major": 2,
       "version_minor": 0
      },
      "text/plain": [
       "FloatProgress(value=0.0, bar_style='info', description='Progress:', layout=Layout(height='25px', width='50%'),…"
      ]
     },
     "metadata": {
      "tags": []
     },
     "output_type": "display_data"
    },
    {
     "name": "stdout",
     "output_type": "stream",
     "text": [
      "+----------+-------------+-----------+\n",
      "|product_id|helpful_ratio|rating_diff|\n",
      "+----------+-------------+-----------+\n",
      "|0005119359|          1.0|        0.0|\n",
      "|0005200288|         0.75|        0.0|\n",
      "|0005257859|          1.0|        0.0|\n",
      "|0006486576|          0.5|        0.0|\n",
      "|0006486576|          1.0|        0.0|\n",
      "|0307142671|    0.6666667|        0.0|\n",
      "|0307142752|          1.0|        0.0|\n",
      "|0307142752|          1.0|        0.0|\n",
      "|0307554023|    0.8888889|        0.0|\n",
      "|0307554023|    0.8333333|        0.0|\n",
      "|0307554023|        0.875|        0.0|\n",
      "|0394897609|          1.0| 0.33333334|\n",
      "|0394897609|          1.0|  0.6666667|\n",
      "|0394897609|          1.0| 0.33333334|\n",
      "|0590297597|   0.71428573|        0.0|\n",
      "|0634009311|          1.0|        0.0|\n",
      "|0736037195|          1.0|        0.0|\n",
      "|0738920916|          1.0|        1.0|\n",
      "|0738920916|          0.9|        0.0|\n",
      "|0738920916|   0.95454544|        1.0|\n",
      "+----------+-------------+-----------+\n",
      "only showing top 20 rows"
     ]
    }
   ],
   "source": [
    "data_video[['product_id', 'helpful_ratio', 'rating_diff']].show()"
   ]
  },
  {
   "cell_type": "code",
   "execution_count": 0,
   "metadata": {
    "colab": {
     "referenced_widgets": [
      "a380b31457c44ffd8746a2d74089769d",
      ""
     ]
    },
    "colab_type": "code",
    "id": "v6S8sznY0rmd",
    "outputId": "420de344-d10a-4c91-eff6-93286a45d2f8"
   },
   "outputs": [
    {
     "data": {
      "application/vnd.jupyter.widget-view+json": {
       "model_id": "a380b31457c44ffd8746a2d74089769d",
       "version_major": 2,
       "version_minor": 0
      },
      "text/plain": [
       "VBox()"
      ]
     },
     "metadata": {
      "tags": []
     },
     "output_type": "display_data"
    },
    {
     "data": {
      "application/vnd.jupyter.widget-view+json": {
       "model_id": "",
       "version_major": 2,
       "version_minor": 0
      },
      "text/plain": [
       "FloatProgress(value=0.0, bar_style='info', description='Progress:', layout=Layout(height='25px', width='50%'),…"
      ]
     },
     "metadata": {
      "tags": []
     },
     "output_type": "display_data"
    },
    {
     "name": "stdout",
     "output_type": "stream",
     "text": [
      "Collecting seaborn\n",
      "  Using cached https://files.pythonhosted.org/packages/c7/e6/54aaaafd0b87f51dfba92ba73da94151aa3bc179e5fe88fc5dfb3038e860/seaborn-0.10.1-py3-none-any.whl\n",
      "Collecting pandas>=0.22.0 (from seaborn)\n",
      "  Using cached https://files.pythonhosted.org/packages/a4/5f/1b6e0efab4bfb738478919d40b0e3e1a06e3d9996da45eb62a77e9a090d9/pandas-1.0.4-cp37-cp37m-manylinux1_x86_64.whl\n",
      "Requirement already satisfied: numpy>=1.13.3 in /usr/local/lib64/python3.7/site-packages (from seaborn)\n",
      "Collecting scipy>=1.0.1 (from seaborn)\n",
      "  Using cached https://files.pythonhosted.org/packages/dd/82/c1fe128f3526b128cfd185580ba40d01371c5d299fcf7f77968e22dfcc2e/scipy-1.4.1-cp37-cp37m-manylinux1_x86_64.whl\n",
      "Collecting matplotlib>=2.1.2 (from seaborn)\n",
      "  Using cached https://files.pythonhosted.org/packages/b2/c2/71fcf957710f3ba1f09088b35776a799ba7dd95f7c2b195ec800933b276b/matplotlib-3.2.1-cp37-cp37m-manylinux1_x86_64.whl\n",
      "Requirement already satisfied: pytz>=2017.2 in /usr/local/lib/python3.7/site-packages (from pandas>=0.22.0->seaborn)\n",
      "Collecting python-dateutil>=2.6.1 (from pandas>=0.22.0->seaborn)\n",
      "  Using cached https://files.pythonhosted.org/packages/d4/70/d60450c3dd48ef87586924207ae8907090de0b306af2bce5d134d78615cb/python_dateutil-2.8.1-py2.py3-none-any.whl\n",
      "Collecting pyparsing!=2.0.4,!=2.1.2,!=2.1.6,>=2.0.1 (from matplotlib>=2.1.2->seaborn)\n",
      "  Using cached https://files.pythonhosted.org/packages/8a/bb/488841f56197b13700afd5658fc279a2025a39e22449b7cf29864669b15d/pyparsing-2.4.7-py2.py3-none-any.whl\n",
      "Collecting cycler>=0.10 (from matplotlib>=2.1.2->seaborn)\n",
      "  Using cached https://files.pythonhosted.org/packages/f7/d2/e07d3ebb2bd7af696440ce7e754c59dd546ffe1bbe732c8ab68b9c834e61/cycler-0.10.0-py2.py3-none-any.whl\n",
      "Collecting kiwisolver>=1.0.1 (from matplotlib>=2.1.2->seaborn)\n",
      "  Using cached https://files.pythonhosted.org/packages/31/b9/6202dcae729998a0ade30e80ac00f616542ef445b088ec970d407dfd41c0/kiwisolver-1.2.0-cp37-cp37m-manylinux1_x86_64.whl\n",
      "Requirement already satisfied: six>=1.5 in /usr/local/lib/python3.7/site-packages (from python-dateutil>=2.6.1->pandas>=0.22.0->seaborn)\n",
      "Installing collected packages: python-dateutil, pandas, scipy, pyparsing, cycler, kiwisolver, matplotlib, seaborn\n",
      "Successfully installed cycler-0.10.0 kiwisolver-1.2.0 matplotlib-3.2.1 pandas-1.0.4 pyparsing-2.4.7 python-dateutil-2.8.1 scipy-1.4.1 seaborn-0.10.1\n",
      "\n",
      "Requirement already satisfied: pandas in /mnt/tmp/1591220949868-0/lib/python3.7/site-packages\n",
      "Requirement already satisfied: pytz>=2017.2 in /usr/local/lib/python3.7/site-packages (from pandas)\n",
      "Requirement already satisfied: numpy>=1.13.3 in /usr/local/lib64/python3.7/site-packages (from pandas)\n",
      "Requirement already satisfied: python-dateutil>=2.6.1 in /mnt/tmp/1591220949868-0/lib/python3.7/site-packages (from pandas)\n",
      "Requirement already satisfied: six>=1.5 in /usr/local/lib/python3.7/site-packages (from python-dateutil>=2.6.1->pandas)"
     ]
    }
   ],
   "source": [
    "sc.install_pypi_package(\"seaborn\")\n",
    "sc.install_pypi_package(\"pandas\")"
   ]
  },
  {
   "cell_type": "code",
   "execution_count": 0,
   "metadata": {
    "colab": {
     "referenced_widgets": [
      "316a52dec9224a3d8f289c6fbe8a17e0",
      ""
     ]
    },
    "colab_type": "code",
    "id": "xVcE89De0rmf",
    "outputId": "cc20c372-2aed-452b-eff2-3294b78c7674"
   },
   "outputs": [
    {
     "data": {
      "application/vnd.jupyter.widget-view+json": {
       "model_id": "316a52dec9224a3d8f289c6fbe8a17e0",
       "version_major": 2,
       "version_minor": 0
      },
      "text/plain": [
       "VBox()"
      ]
     },
     "metadata": {
      "tags": []
     },
     "output_type": "display_data"
    },
    {
     "data": {
      "application/vnd.jupyter.widget-view+json": {
       "model_id": "",
       "version_major": 2,
       "version_minor": 0
      },
      "text/plain": [
       "FloatProgress(value=0.0, bar_style='info', description='Progress:', layout=Layout(height='25px', width='50%'),…"
      ]
     },
     "metadata": {
      "tags": []
     },
     "output_type": "display_data"
    },
    {
     "data": {
      "image/png": "[encoded data removed]",
      "text/plain": [
       "<IPython.core.display.Image object>"
      ]
     },
     "metadata": {
      "tags": []
     },
     "output_type": "display_data"
    }
   ],
   "source": [
    "import seaborn as sns\n",
    "import matplotlib.pyplot as plt\n",
    "\n",
    "sampled_df = data_video.sample(fraction=0.001).toPandas()\n",
    "sampled_df.plot.scatter('rating_diff', 'helpful_ratio')\n",
    "%matplot plt"
   ]
  },
  {
   "cell_type": "markdown",
   "metadata": {},
   "source": [
    "The scatterplot shows that there are a lot more reviews at smaller rating differences and higher helpfulness ratios. There are also more reviews at helpful_ratio equals 0.0, 0.5, and 1.0."
   ]
  },
  {
   "cell_type": "code",
   "execution_count": 0,
   "metadata": {
    "colab": {
     "referenced_widgets": [
      "59c944502ee54274858b7572f8bc4a91",
      ""
     ]
    },
    "colab_type": "code",
    "id": "-wKtgsx-0rmj",
    "outputId": "921e747a-cb4d-4da0-9211-683a7faa5e71"
   },
   "outputs": [
    {
     "data": {
      "application/vnd.jupyter.widget-view+json": {
       "model_id": "59c944502ee54274858b7572f8bc4a91",
       "version_major": 2,
       "version_minor": 0
      },
      "text/plain": [
       "VBox()"
      ]
     },
     "metadata": {
      "tags": []
     },
     "output_type": "display_data"
    },
    {
     "data": {
      "application/vnd.jupyter.widget-view+json": {
       "model_id": "",
       "version_major": 2,
       "version_minor": 0
      },
      "text/plain": [
       "FloatProgress(value=0.0, bar_style='info', description='Progress:', layout=Layout(height='25px', width='50%'),…"
      ]
     },
     "metadata": {
      "tags": []
     },
     "output_type": "display_data"
    }
   ],
   "source": [
    "from pyspark.ml.feature import Bucketizer\n",
    "\n",
    "bucketizer = Bucketizer(splits=[0.0, 0.1, 0.2, 0.3, 0.4, 0.5, 0.6, 0.7, 0.8, 0.9, 1.0],\n",
    "                        inputCol=\"helpful_ratio\", outputCol=\"ratio_buckets\")\n",
    "video_buck = bucketizer.setHandleInvalid(\"keep\").transform(data_video)"
   ]
  },
  {
   "cell_type": "code",
   "execution_count": 0,
   "metadata": {
    "colab": {
     "referenced_widgets": [
      "32eca9f9bf94489cba97999c8b62a6f3",
      ""
     ]
    },
    "colab_type": "code",
    "id": "Y-QP7pZm0rml",
    "outputId": "24aa64bc-40d9-415f-82ab-62c287f91003"
   },
   "outputs": [
    {
     "data": {
      "application/vnd.jupyter.widget-view+json": {
       "model_id": "32eca9f9bf94489cba97999c8b62a6f3",
       "version_major": 2,
       "version_minor": 0
      },
      "text/plain": [
       "VBox()"
      ]
     },
     "metadata": {
      "tags": []
     },
     "output_type": "display_data"
    },
    {
     "data": {
      "application/vnd.jupyter.widget-view+json": {
       "model_id": "",
       "version_major": 2,
       "version_minor": 0
      },
      "text/plain": [
       "FloatProgress(value=0.0, bar_style='info', description='Progress:', layout=Layout(height='25px', width='50%'),…"
      ]
     },
     "metadata": {
      "tags": []
     },
     "output_type": "display_data"
    }
   ],
   "source": [
    "from pyspark.sql.functions import udf\n",
    "from pyspark.sql.types import *\n",
    "\n",
    "t = {0.0:\"0.1\", 1.0:\"0.2\", 2.0:\"0.3\", 3.0:\"0.4\", 4.0:\"0.5\", 5.0:\"0.6\", 6.0:\"0.7\", 7.0:\"0.8\", 8.0:\"0.9\", 9.0:\"1.0\"}\n",
    "udf_foo = udf(lambda x: t[x], StringType())\n",
    "video_buck =video_buck.withColumn(\"helpfulness_ratio\", udf_foo(\"ratio_buckets\"))"
   ]
  },
  {
   "cell_type": "code",
   "execution_count": 0,
   "metadata": {
    "colab": {
     "referenced_widgets": [
      "5f2a90f7b608489eabda17f6af8055e2",
      ""
     ]
    },
    "colab_type": "code",
    "id": "3hTNR8Y00rmn",
    "outputId": "d18460e5-f858-4978-cb6b-7f53c2348ee8"
   },
   "outputs": [
    {
     "data": {
      "application/vnd.jupyter.widget-view+json": {
       "model_id": "5f2a90f7b608489eabda17f6af8055e2",
       "version_major": 2,
       "version_minor": 0
      },
      "text/plain": [
       "VBox()"
      ]
     },
     "metadata": {
      "tags": []
     },
     "output_type": "display_data"
    },
    {
     "data": {
      "application/vnd.jupyter.widget-view+json": {
       "model_id": "",
       "version_major": 2,
       "version_minor": 0
      },
      "text/plain": [
       "FloatProgress(value=0.0, bar_style='info', description='Progress:', layout=Layout(height='25px', width='50%'),…"
      ]
     },
     "metadata": {
      "tags": []
     },
     "output_type": "display_data"
    },
    {
     "name": "stdout",
     "output_type": "stream",
     "text": [
      "+-----------------+-------------------+\n",
      "|helpfulness_ratio|   avg(rating_diff)|\n",
      "+-----------------+-------------------+\n",
      "|              1.0|0.48541172866478566|\n",
      "|              0.9| 0.6072261155592058|\n",
      "|              0.8| 0.7005935274285411|\n",
      "|              0.7| 0.7673815804564061|\n",
      "|              0.6| 0.7991926370353135|\n",
      "|              0.5|  1.250002834228025|\n",
      "|              0.4| 1.1038754007261247|\n",
      "|              0.3| 1.3527727508311065|\n",
      "|              0.2| 1.7710910576207186|\n",
      "+-----------------+-------------------+"
     ]
    }
   ],
   "source": [
    "avg_df = (video_buck.groupBy('helpfulness_ratio')\n",
    "                    .avg('rating_diff')\n",
    "                    .sort('helpfulness_ratio', ascending=False)\n",
    "         )\n",
    "avg_df = avg_df.filter(avg_df.helpfulness_ratio != '0.1')\n",
    "avg_df.show()"
   ]
  },
  {
   "cell_type": "code",
   "execution_count": 0,
   "metadata": {
    "colab": {
     "referenced_widgets": [
      "b9b6cefc3e4c40df8d0b3c40cf65da3c",
      ""
     ]
    },
    "colab_type": "code",
    "id": "yN41X0SO0rmq",
    "outputId": "0c6ebf22-46cc-4e04-f346-9572ba38c4bb"
   },
   "outputs": [
    {
     "data": {
      "application/vnd.jupyter.widget-view+json": {
       "model_id": "b9b6cefc3e4c40df8d0b3c40cf65da3c",
       "version_major": 2,
       "version_minor": 0
      },
      "text/plain": [
       "VBox()"
      ]
     },
     "metadata": {
      "tags": []
     },
     "output_type": "display_data"
    },
    {
     "data": {
      "application/vnd.jupyter.widget-view+json": {
       "model_id": "",
       "version_major": 2,
       "version_minor": 0
      },
      "text/plain": [
       "FloatProgress(value=0.0, bar_style='info', description='Progress:', layout=Layout(height='25px', width='50%'),…"
      ]
     },
     "metadata": {
      "tags": []
     },
     "output_type": "display_data"
    },
    {
     "data": {
      "image/png": "[encoded data removed]",
      "text/plain": [
       "<IPython.core.display.Image object>"
      ]
     },
     "metadata": {
      "tags": []
     },
     "output_type": "display_data"
    }
   ],
   "source": [
    "plt.close()\n",
    "\n",
    "sns.barplot(x='helpfulness_ratio', y='avg(rating_diff)', data=avg_df.toPandas())\n",
    "%matplot plt"
   ]
  },
  {
   "cell_type": "markdown",
   "metadata": {},
   "source": [
    "The barplot shows that as helpfulness ratio increases, the difference between review rating and average product rating decreases. This confirms our hypothesis that there is social conformity in voting behaviors."
   ]
  },
  {
   "cell_type": "markdown",
   "metadata": {
    "colab_type": "text",
    "id": "n0My0UZn0rms"
   },
   "source": [
    "### By Marketplace\n",
    "Do different marketplaces (or countries) have different trends?"
   ]
  },
  {
   "cell_type": "code",
   "execution_count": 0,
   "metadata": {
    "colab": {
     "referenced_widgets": [
      "2980959e27364459ab86ec87b08cd194",
      ""
     ]
    },
    "colab_type": "code",
    "id": "5jcqtDx80rmt",
    "outputId": "20e3b756-9312-46a4-cb43-8ded7fee697e"
   },
   "outputs": [
    {
     "data": {
      "application/vnd.jupyter.widget-view+json": {
       "model_id": "2980959e27364459ab86ec87b08cd194",
       "version_major": 2,
       "version_minor": 0
      },
      "text/plain": [
       "VBox()"
      ]
     },
     "metadata": {
      "tags": []
     },
     "output_type": "display_data"
    },
    {
     "data": {
      "application/vnd.jupyter.widget-view+json": {
       "model_id": "",
       "version_major": 2,
       "version_minor": 0
      },
      "text/plain": [
       "FloatProgress(value=0.0, bar_style='info', description='Progress:', layout=Layout(height='25px', width='50%'),…"
      ]
     },
     "metadata": {
      "tags": []
     },
     "output_type": "display_data"
    }
   ],
   "source": [
    "us_video = video_buck.filter(video_buck.marketplace == 'US')"
   ]
  },
  {
   "cell_type": "code",
   "execution_count": 0,
   "metadata": {
    "colab": {
     "referenced_widgets": [
      "030c15f19fb841049700d984b6b12478",
      ""
     ]
    },
    "colab_type": "code",
    "id": "n_HyIaKm0rmv",
    "outputId": "81ce43dc-430e-4feb-d740-a2385312a553"
   },
   "outputs": [
    {
     "data": {
      "application/vnd.jupyter.widget-view+json": {
       "model_id": "030c15f19fb841049700d984b6b12478",
       "version_major": 2,
       "version_minor": 0
      },
      "text/plain": [
       "VBox()"
      ]
     },
     "metadata": {
      "tags": []
     },
     "output_type": "display_data"
    },
    {
     "data": {
      "application/vnd.jupyter.widget-view+json": {
       "model_id": "",
       "version_major": 2,
       "version_minor": 0
      },
      "text/plain": [
       "FloatProgress(value=0.0, bar_style='info', description='Progress:', layout=Layout(height='25px', width='50%'),…"
      ]
     },
     "metadata": {
      "tags": []
     },
     "output_type": "display_data"
    },
    {
     "name": "stdout",
     "output_type": "stream",
     "text": [
      "+-----------------+------------------+\n",
      "|helpfulness_ratio|                US|\n",
      "+-----------------+------------------+\n",
      "|              1.0|0.4870224897008847|\n",
      "|              0.9|0.6134601247314949|\n",
      "|              0.8|0.7074108363895941|\n",
      "|              0.7|0.7767367023992415|\n",
      "|              0.6|0.8077992013675565|\n",
      "|              0.5|1.2661027102103317|\n",
      "|              0.4|1.1139332892754001|\n",
      "|              0.3|1.3651916532950783|\n",
      "|              0.2|1.7911207398398226|\n",
      "+-----------------+------------------+"
     ]
    }
   ],
   "source": [
    "avg_us = (us_video.groupBy('helpfulness_ratio')\n",
    "                    .avg('rating_diff')\n",
    "                    .sort('helpfulness_ratio', ascending=False)\n",
    "         )\n",
    "avg_df = avg_us.filter(avg_us.helpfulness_ratio != '0.1')\n",
    "avg_df = avg_df.withColumn('diff', avg_df[\"avg(rating_diff)\"])\n",
    "avg_df = avg_df.selectExpr(\"helpfulness_ratio as helpfulness_ratio\", \"diff as US\")\n",
    "avg_df.show()"
   ]
  },
  {
   "cell_type": "code",
   "execution_count": 0,
   "metadata": {
    "colab": {
     "referenced_widgets": [
      "1e025a8b8e584f0eaad7cc6a672f1c23",
      ""
     ]
    },
    "colab_type": "code",
    "id": "e-rOvPHK0rmy",
    "outputId": "c67913fa-bc41-43f5-8aec-efeebad10731"
   },
   "outputs": [
    {
     "data": {
      "application/vnd.jupyter.widget-view+json": {
       "model_id": "1e025a8b8e584f0eaad7cc6a672f1c23",
       "version_major": 2,
       "version_minor": 0
      },
      "text/plain": [
       "VBox()"
      ]
     },
     "metadata": {
      "tags": []
     },
     "output_type": "display_data"
    },
    {
     "data": {
      "application/vnd.jupyter.widget-view+json": {
       "model_id": "",
       "version_major": 2,
       "version_minor": 0
      },
      "text/plain": [
       "FloatProgress(value=0.0, bar_style='info', description='Progress:', layout=Layout(height='25px', width='50%'),…"
      ]
     },
     "metadata": {
      "tags": []
     },
     "output_type": "display_data"
    }
   ],
   "source": [
    "uk_video = video_buck.filter(video_buck.marketplace == 'UK')"
   ]
  },
  {
   "cell_type": "code",
   "execution_count": 0,
   "metadata": {
    "colab": {
     "referenced_widgets": [
      "cbdb2b6157504a0e895e03b0491ab723",
      ""
     ]
    },
    "colab_type": "code",
    "id": "xN1UckzV0rm0",
    "outputId": "f8df29db-d082-4ab0-9efb-c1a043a824d5"
   },
   "outputs": [
    {
     "data": {
      "application/vnd.jupyter.widget-view+json": {
       "model_id": "cbdb2b6157504a0e895e03b0491ab723",
       "version_major": 2,
       "version_minor": 0
      },
      "text/plain": [
       "VBox()"
      ]
     },
     "metadata": {
      "tags": []
     },
     "output_type": "display_data"
    },
    {
     "data": {
      "application/vnd.jupyter.widget-view+json": {
       "model_id": "",
       "version_major": 2,
       "version_minor": 0
      },
      "text/plain": [
       "FloatProgress(value=0.0, bar_style='info', description='Progress:', layout=Layout(height='25px', width='50%'),…"
      ]
     },
     "metadata": {
      "tags": []
     },
     "output_type": "display_data"
    },
    {
     "name": "stdout",
     "output_type": "stream",
     "text": [
      "+-----------------+------------------+------------------+\n",
      "|helpfulness_ratio|                US|                UK|\n",
      "+-----------------+------------------+------------------+\n",
      "|              1.0|0.4870224897008847|0.3507273836344101|\n",
      "|              0.9|0.6134601247314949|0.3997881391201339|\n",
      "|              0.8|0.7074108363895941|0.5201615585357616|\n",
      "|              0.7|0.7767367023992415| 0.544737934128448|\n",
      "|              0.6|0.8077992013675565|0.5668729083522301|\n",
      "|              0.5|1.2661027102103317|0.9017964590433215|\n",
      "|              0.4|1.1139332892754001|0.9826468263107997|\n",
      "|              0.3|1.3651916532950783|1.0922373620702364|\n",
      "|              0.2|1.7911207398398226|1.5231380205933411|\n",
      "+-----------------+------------------+------------------+"
     ]
    }
   ],
   "source": [
    "avg_uk = (uk_video.groupBy('helpfulness_ratio')\n",
    "                    .avg('rating_diff')\n",
    "                    .sort('helpfulness_ratio', ascending=False)\n",
    "         )\n",
    "avg_uk = avg_uk.filter(avg_uk.helpfulness_ratio != '0.1')\n",
    "avg_uk = avg_uk.withColumn('diff', avg_uk[\"avg(rating_diff)\"])\n",
    "avg_df = avg_df.join(avg_uk, on=['helpfulness_ratio'], how='left_outer')\n",
    "avg_df = avg_df.selectExpr(\"helpfulness_ratio\", \"US\", \"diff as UK\")\n",
    "avg_df.show()"
   ]
  },
  {
   "cell_type": "code",
   "execution_count": 0,
   "metadata": {
    "colab": {
     "referenced_widgets": [
      "aca814ccbec445b9825b8e6046015a16",
      ""
     ]
    },
    "colab_type": "code",
    "id": "bm0wuq4-0rm2",
    "outputId": "9ea1fbda-3aa9-4443-f400-34a28acab31f"
   },
   "outputs": [
    {
     "data": {
      "application/vnd.jupyter.widget-view+json": {
       "model_id": "aca814ccbec445b9825b8e6046015a16",
       "version_major": 2,
       "version_minor": 0
      },
      "text/plain": [
       "VBox()"
      ]
     },
     "metadata": {
      "tags": []
     },
     "output_type": "display_data"
    },
    {
     "data": {
      "application/vnd.jupyter.widget-view+json": {
       "model_id": "",
       "version_major": 2,
       "version_minor": 0
      },
      "text/plain": [
       "FloatProgress(value=0.0, bar_style='info', description='Progress:', layout=Layout(height='25px', width='50%'),…"
      ]
     },
     "metadata": {
      "tags": []
     },
     "output_type": "display_data"
    }
   ],
   "source": [
    "de_video = video_buck.filter(video_buck.marketplace == 'DE')\n",
    "\n",
    "avg_de = (de_video.groupBy('helpfulness_ratio')\n",
    "                    .avg('rating_diff')\n",
    "                    .sort('helpfulness_ratio', ascending=False)\n",
    "         )\n",
    "avg_de = avg_de.filter(avg_de.helpfulness_ratio != '0.1')\n",
    "avg_de = avg_de.withColumn('diff', avg_de[\"avg(rating_diff)\"])\n",
    "avg_df = avg_df.join(avg_de, on=['helpfulness_ratio'], how='left_outer')\n",
    "avg_df = avg_df.selectExpr(\"helpfulness_ratio\", \"US\", \"UK\", \"diff as DE\")"
   ]
  },
  {
   "cell_type": "code",
   "execution_count": 0,
   "metadata": {
    "colab": {
     "referenced_widgets": [
      "44469adbe65241ce9ba90cabcde0c78e",
      ""
     ]
    },
    "colab_type": "code",
    "id": "qtBfbVhj0rm4",
    "outputId": "75f3ef9e-db5a-44e9-c6af-6ca8387c1fa4"
   },
   "outputs": [
    {
     "data": {
      "application/vnd.jupyter.widget-view+json": {
       "model_id": "44469adbe65241ce9ba90cabcde0c78e",
       "version_major": 2,
       "version_minor": 0
      },
      "text/plain": [
       "VBox()"
      ]
     },
     "metadata": {
      "tags": []
     },
     "output_type": "display_data"
    },
    {
     "data": {
      "application/vnd.jupyter.widget-view+json": {
       "model_id": "",
       "version_major": 2,
       "version_minor": 0
      },
      "text/plain": [
       "FloatProgress(value=0.0, bar_style='info', description='Progress:', layout=Layout(height='25px', width='50%'),…"
      ]
     },
     "metadata": {
      "tags": []
     },
     "output_type": "display_data"
    }
   ],
   "source": [
    "fr_video = video_buck.filter(video_buck.marketplace == 'FR')\n",
    "\n",
    "avg_fr = (fr_video.groupBy('helpfulness_ratio')\n",
    "                    .avg('rating_diff')\n",
    "                    .sort('helpfulness_ratio', ascending=False)\n",
    "         )\n",
    "avg_fr = avg_fr.filter(avg_fr.helpfulness_ratio != '0.1')\n",
    "avg_fr = avg_fr.withColumn('diff', avg_fr[\"avg(rating_diff)\"])\n",
    "avg_df = avg_df.join(avg_fr, on=['helpfulness_ratio'], how='left_outer')\n",
    "avg_df = avg_df.selectExpr(\"helpfulness_ratio\", \"US\", \"UK\", \"DE\", \"diff as FR\")"
   ]
  },
  {
   "cell_type": "code",
   "execution_count": 0,
   "metadata": {
    "colab": {
     "referenced_widgets": [
      "225f0693a6c045ba810506a344feb114",
      ""
     ]
    },
    "colab_type": "code",
    "id": "PDdOKg5x0rm7",
    "outputId": "c4a01c2d-8b8b-414b-c680-2bc4b5c5882d"
   },
   "outputs": [
    {
     "data": {
      "application/vnd.jupyter.widget-view+json": {
       "model_id": "225f0693a6c045ba810506a344feb114",
       "version_major": 2,
       "version_minor": 0
      },
      "text/plain": [
       "VBox()"
      ]
     },
     "metadata": {
      "tags": []
     },
     "output_type": "display_data"
    },
    {
     "data": {
      "application/vnd.jupyter.widget-view+json": {
       "model_id": "",
       "version_major": 2,
       "version_minor": 0
      },
      "text/plain": [
       "FloatProgress(value=0.0, bar_style='info', description='Progress:', layout=Layout(height='25px', width='50%'),…"
      ]
     },
     "metadata": {
      "tags": []
     },
     "output_type": "display_data"
    }
   ],
   "source": [
    "jp_video = video_buck.filter(video_buck.marketplace == 'JP')\n",
    "\n",
    "avg_jp = (jp_video.groupBy('helpfulness_ratio')\n",
    "                    .avg('rating_diff')\n",
    "                    .sort('helpfulness_ratio', ascending=False)\n",
    "         )\n",
    "avg_jp = avg_jp.filter(avg_jp.helpfulness_ratio != '0.1')\n",
    "avg_jp = avg_jp.withColumn('diff', avg_jp[\"avg(rating_diff)\"])\n",
    "avg_df = avg_df.join(avg_jp, on=['helpfulness_ratio'], how='left_outer')\n",
    "avg_df = avg_df.selectExpr(\"helpfulness_ratio\", \"US\", \"UK\", \"DE\", \"FR\", \"diff as JP\")"
   ]
  },
  {
   "cell_type": "code",
   "execution_count": 0,
   "metadata": {
    "colab": {
     "referenced_widgets": [
      "79d38bb0aad44dd88076220aceea88a1",
      ""
     ]
    },
    "colab_type": "code",
    "id": "OtZQqGJJ0rm9",
    "outputId": "e19efc70-c8e3-42c7-b751-ec72955725b1"
   },
   "outputs": [
    {
     "data": {
      "application/vnd.jupyter.widget-view+json": {
       "model_id": "79d38bb0aad44dd88076220aceea88a1",
       "version_major": 2,
       "version_minor": 0
      },
      "text/plain": [
       "VBox()"
      ]
     },
     "metadata": {
      "tags": []
     },
     "output_type": "display_data"
    },
    {
     "data": {
      "application/vnd.jupyter.widget-view+json": {
       "model_id": "",
       "version_major": 2,
       "version_minor": 0
      },
      "text/plain": [
       "FloatProgress(value=0.0, bar_style='info', description='Progress:', layout=Layout(height='25px', width='50%'),…"
      ]
     },
     "metadata": {
      "tags": []
     },
     "output_type": "display_data"
    },
    {
     "data": {
      "image/png": "[encoded data removed]",
      "text/plain": [
       "<IPython.core.display.Image object>"
      ]
     },
     "metadata": {
      "tags": []
     },
     "output_type": "display_data"
    }
   ],
   "source": [
    "# plot for all countries\n",
    "plt.close()\n",
    "\n",
    "US, = plt.plot('helpfulness_ratio', 'US', data=avg_df.toPandas(), label=\"US\")\n",
    "UK, = plt.plot('helpfulness_ratio', 'UK', data=avg_df.toPandas(), label=\"UK\")\n",
    "DE, = plt.plot('helpfulness_ratio', 'DE', data=avg_df.toPandas(), label=\"DE\")\n",
    "FR, = plt.plot('helpfulness_ratio', 'FR', data=avg_df.toPandas(), label=\"FR\")\n",
    "JP, = plt.plot('helpfulness_ratio', 'JP', data=avg_df.toPandas(), label=\"JP\")\n",
    "plt.legend(handles=[US, UK, DE, FR, JP])\n",
    "plt.xlabel('helpfulness ratio')\n",
    "plt.ylabel('average rating difference')\n",
    "%matplot plt"
   ]
  },
  {
   "cell_type": "markdown",
   "metadata": {
    "colab": {},
    "colab_type": "code",
    "id": "yudOlWP80rm_"
   },
   "source": [
    "The lineplot shows that voting behaviors in all marketplaces reveal trends for social conformity. As expected, FR has the more gentle increase in average rating difference compared to other marketplaces. This is different from their reviews in other product categories. Hence, we will need more data to validate the results for FR."
   ]
  },
  {
   "cell_type": "markdown",
   "metadata": {
    "colab_type": "text",
    "id": "CR_lPsMb0uyp"
   },
   "source": [
    "### Sentiment Analysis\n",
    "What are some characteristics of reviews that have high or low helpfulness ratio?"
   ]
  },
  {
   "cell_type": "code",
   "execution_count": 1,
   "metadata": {
    "colab": {
     "base_uri": "https://localhost:8080/",
     "height": 445
    },
    "colab_type": "code",
    "id": "qLxjkSPA02c5",
    "outputId": "98d78ab0-fc39-484b-9a50-c691538fc817"
   },
   "outputs": [
    {
     "name": "stdout",
     "output_type": "stream",
     "text": [
      "openjdk version \"1.8.0_252\"\n",
      "OpenJDK Runtime Environment (build 1.8.0_252-8u252-b09-1~18.04-b09)\n",
      "OpenJDK 64-Bit Server VM (build 25.252-b09, mixed mode)\n",
      "Collecting pyspark==2.4.4\n",
      "\u001b[?25l  Downloading https://files.pythonhosted.org/packages/87/21/f05c186f4ddb01d15d0ddc36ef4b7e3cedbeb6412274a41f26b55a650ee5/pyspark-2.4.4.tar.gz (215.7MB)\n",
      "\u001b[K     |████████████████████████████████| 215.7MB 54kB/s \n",
      "\u001b[?25hCollecting py4j==0.10.7\n",
      "\u001b[?25l  Downloading https://files.pythonhosted.org/packages/e3/53/c737818eb9a7dc32a7cd4f1396e787bd94200c3997c72c1dbe028587bd76/py4j-0.10.7-py2.py3-none-any.whl (197kB)\n",
      "\u001b[K     |████████████████████████████████| 204kB 44.6MB/s \n",
      "\u001b[?25hBuilding wheels for collected packages: pyspark\n",
      "  Building wheel for pyspark (setup.py) ... \u001b[?25l\u001b[?25hdone\n",
      "  Created wheel for pyspark: filename=pyspark-2.4.4-py2.py3-none-any.whl size=216130388 sha256=3a5a90ea758e5b0cb6e6594fd4ac45b07f75644da3f3e5830c94faf98a35fb29\n",
      "  Stored in directory: /root/.cache/pip/wheels/ab/09/4d/0d184230058e654eb1b04467dbc1292f00eaa186544604b471\n",
      "Successfully built pyspark\n",
      "Installing collected packages: py4j, pyspark\n",
      "Successfully installed py4j-0.10.7 pyspark-2.4.4\n",
      "Collecting spark-nlp==2.5.1\n",
      "\u001b[?25l  Downloading https://files.pythonhosted.org/packages/df/b4/db653f8080a446de8ce981b262d85c85c61de7e920930726da0d1c6b4c65/spark_nlp-2.5.1-py2.py3-none-any.whl (121kB)\n",
      "\u001b[K     |████████████████████████████████| 122kB 7.1MB/s \n",
      "\u001b[?25hInstalling collected packages: spark-nlp\n",
      "Successfully installed spark-nlp-2.5.1\n",
      "Spark NLP version\n",
      "Apache Spark version\n"
     ]
    },
    {
     "data": {
      "text/plain": [
       "'2.4.4'"
      ]
     },
     "execution_count": 1,
     "metadata": {
      "tags": []
     },
     "output_type": "execute_result"
    }
   ],
   "source": [
    "import os\n",
    "\n",
    "# Install java\n",
    "! apt-get install -y openjdk-8-jdk-headless -qq > /dev/null\n",
    "os.environ[\"JAVA_HOME\"] = \"/usr/lib/jvm/java-8-openjdk-amd64\"\n",
    "os.environ[\"PATH\"] = os.environ[\"JAVA_HOME\"] + \"/bin:\" + os.environ[\"PATH\"]\n",
    "! java -version\n",
    "\n",
    "# Install pyspark\n",
    "! pip install --ignore-installed pyspark==2.4.4\n",
    "\n",
    "# Install Spark NLP\n",
    "! pip install --ignore-installed spark-nlp==2.5.1\n",
    "\n",
    "# Quick SparkSession start\n",
    "import sparknlp\n",
    "spark = sparknlp.start()\n",
    "\n",
    "print(\"Spark NLP version\")\n",
    "sparknlp.version()\n",
    "print(\"Apache Spark version\")\n",
    "spark.version"
   ]
  },
  {
   "cell_type": "code",
   "execution_count": 2,
   "metadata": {
    "colab": {
     "base_uri": "https://localhost:8080/",
     "height": 122
    },
    "colab_type": "code",
    "id": "Rhlbpil-1RdB",
    "outputId": "7835c68a-92f3-4ddb-82d0-3a2e6e0655c8"
   },
   "outputs": [
    {
     "name": "stdout",
     "output_type": "stream",
     "text": [
      "Go to this URL in a browser: https://accounts.google.com/o/oauth2/auth?client_id=947318989803-6bn6qk8qdgf4n4g3pfee6491hc0brc4i.apps.googleusercontent.com&redirect_uri=urn%3aietf%3awg%3aoauth%3a2.0%3aoob&response_type=code&scope=email%20https%3a%2f%2fwww.googleapis.com%2fauth%2fdocs.test%20https%3a%2f%2fwww.googleapis.com%2fauth%2fdrive%20https%3a%2f%2fwww.googleapis.com%2fauth%2fdrive.photos.readonly%20https%3a%2f%2fwww.googleapis.com%2fauth%2fpeopleapi.readonly\n",
      "\n",
      "Enter your authorization code:\n",
      "··········\n",
      "Mounted at /content/drive/\n"
     ]
    }
   ],
   "source": [
    "from google.colab import drive\n",
    "drive.mount('/content/drive/')"
   ]
  },
  {
   "cell_type": "code",
   "execution_count": 0,
   "metadata": {
    "colab": {},
    "colab_type": "code",
    "id": "ZVJtZRvQ1cXh"
   },
   "outputs": [],
   "source": [
    "import glob\n",
    "import pandas as pd\n",
    "\n",
    "file_path = glob.glob(\"/content/drive/My Drive/amazon-reviews-dataset/*\")\n",
    "file = file_path[2]\n",
    "\n",
    "with open(file) as tsvfile:\n",
    "    col_names = [\"marketplace\", \"customer_id\", \"review_id\", \"product_id\", \"product_parent\", \"product_title\",\n",
    "               \"category\", \"star_rating\", \"helpful_votes\", \"total_votes\", \"vine\", \"verified_purchase\", \n",
    "               \"review_headline\", \"review_body\", \"review_date\"]\n",
    "    data = pd.read_csv(file, sep='\\t', names=col_names, skiprows=50000, low_memory=False)"
   ]
  },
  {
   "cell_type": "code",
   "execution_count": 9,
   "metadata": {
    "colab": {
     "base_uri": "https://localhost:8080/",
     "height": 411
    },
    "colab_type": "code",
    "id": "GGmUVrpu1561",
    "outputId": "d0d03304-b4ae-4605-cc67-2853da802b86"
   },
   "outputs": [
    {
     "data": {
      "text/html": [
       "<div>\n",
       "<style scoped>\n",
       "    .dataframe tbody tr th:only-of-type {\n",
       "        vertical-align: middle;\n",
       "    }\n",
       "\n",
       "    .dataframe tbody tr th {\n",
       "        vertical-align: top;\n",
       "    }\n",
       "\n",
       "    .dataframe thead th {\n",
       "        text-align: right;\n",
       "    }\n",
       "</style>\n",
       "<table border=\"1\" class=\"dataframe\">\n",
       "  <thead>\n",
       "    <tr style=\"text-align: right;\">\n",
       "      <th></th>\n",
       "      <th>marketplace</th>\n",
       "      <th>customer_id</th>\n",
       "      <th>review_id</th>\n",
       "      <th>product_id</th>\n",
       "      <th>product_parent</th>\n",
       "      <th>product_title</th>\n",
       "      <th>category</th>\n",
       "      <th>star_rating</th>\n",
       "      <th>helpful_votes</th>\n",
       "      <th>total_votes</th>\n",
       "      <th>vine</th>\n",
       "      <th>verified_purchase</th>\n",
       "      <th>review_headline</th>\n",
       "      <th>review_body</th>\n",
       "      <th>review_date</th>\n",
       "      <th>helpful_ratio</th>\n",
       "    </tr>\n",
       "  </thead>\n",
       "  <tbody>\n",
       "    <tr>\n",
       "      <th>0</th>\n",
       "      <td>US</td>\n",
       "      <td>23330740</td>\n",
       "      <td>R2R1XBPDVLJY9I</td>\n",
       "      <td>6302413451</td>\n",
       "      <td>450583654</td>\n",
       "      <td>Flamingo Road [VHS]</td>\n",
       "      <td>Video</td>\n",
       "      <td>4</td>\n",
       "      <td>3</td>\n",
       "      <td>3</td>\n",
       "      <td>N</td>\n",
       "      <td>N</td>\n",
       "      <td>Good film noir with some great performances</td>\n",
       "      <td>\\\\\"Flamingo Road\\\\\" is a 1949 black and white ...</td>\n",
       "      <td>2012-06-15</td>\n",
       "      <td>1.000000</td>\n",
       "    </tr>\n",
       "    <tr>\n",
       "      <th>1</th>\n",
       "      <td>US</td>\n",
       "      <td>26519010</td>\n",
       "      <td>R278O1BKPDY8UC</td>\n",
       "      <td>6303450830</td>\n",
       "      <td>237568094</td>\n",
       "      <td>Father Was a Fullback [VHS]</td>\n",
       "      <td>Video</td>\n",
       "      <td>4</td>\n",
       "      <td>1</td>\n",
       "      <td>2</td>\n",
       "      <td>N</td>\n",
       "      <td>Y</td>\n",
       "      <td>Father Was A Fullback</td>\n",
       "      <td>How does not like Fred MacMurray movies ! Thes...</td>\n",
       "      <td>2012-06-15</td>\n",
       "      <td>0.500000</td>\n",
       "    </tr>\n",
       "    <tr>\n",
       "      <th>10</th>\n",
       "      <td>US</td>\n",
       "      <td>23505836</td>\n",
       "      <td>R3V5UM77YD9IKM</td>\n",
       "      <td>630319172X</td>\n",
       "      <td>585907124</td>\n",
       "      <td>A Century of Women 3: Image &amp; Popular Culture ...</td>\n",
       "      <td>Video</td>\n",
       "      <td>3</td>\n",
       "      <td>1</td>\n",
       "      <td>3</td>\n",
       "      <td>N</td>\n",
       "      <td>N</td>\n",
       "      <td>Informative but?</td>\n",
       "      <td>Interesting and informative..............all l...</td>\n",
       "      <td>2012-06-15</td>\n",
       "      <td>0.333333</td>\n",
       "    </tr>\n",
       "    <tr>\n",
       "      <th>13</th>\n",
       "      <td>US</td>\n",
       "      <td>20336051</td>\n",
       "      <td>RBBSH6HG2VGX0</td>\n",
       "      <td>6300216349</td>\n",
       "      <td>284162214</td>\n",
       "      <td>Brother Sun Sister Moon [VHS]</td>\n",
       "      <td>Video</td>\n",
       "      <td>5</td>\n",
       "      <td>0</td>\n",
       "      <td>1</td>\n",
       "      <td>N</td>\n",
       "      <td>Y</td>\n",
       "      <td>Brother Sun and Sister Moon</td>\n",
       "      <td>One of my favorite movies, the story of St. Fr...</td>\n",
       "      <td>2012-06-15</td>\n",
       "      <td>0.000000</td>\n",
       "    </tr>\n",
       "    <tr>\n",
       "      <th>19</th>\n",
       "      <td>US</td>\n",
       "      <td>13460679</td>\n",
       "      <td>R3PDRGAZVEP2F</td>\n",
       "      <td>6302869269</td>\n",
       "      <td>187205952</td>\n",
       "      <td>Dark Shadows Vol 182 [VHS]</td>\n",
       "      <td>Video</td>\n",
       "      <td>5</td>\n",
       "      <td>1</td>\n",
       "      <td>1</td>\n",
       "      <td>N</td>\n",
       "      <td>N</td>\n",
       "      <td>This volume contains very exciting episodes!</td>\n",
       "      <td>As an avid and loyal fan of the original Dark ...</td>\n",
       "      <td>2012-06-15</td>\n",
       "      <td>1.000000</td>\n",
       "    </tr>\n",
       "  </tbody>\n",
       "</table>\n",
       "</div>"
      ],
      "text/plain": [
       "   marketplace  customer_id  ... review_date helpful_ratio\n",
       "0           US     23330740  ...  2012-06-15      1.000000\n",
       "1           US     26519010  ...  2012-06-15      0.500000\n",
       "10          US     23505836  ...  2012-06-15      0.333333\n",
       "13          US     20336051  ...  2012-06-15      0.000000\n",
       "19          US     13460679  ...  2012-06-15      1.000000\n",
       "\n",
       "[5 rows x 16 columns]"
      ]
     },
     "execution_count": 9,
     "metadata": {
      "tags": []
     },
     "output_type": "execute_result"
    }
   ],
   "source": [
    "data['helpful_ratio'] = data['helpful_votes'] / data['total_votes']\n",
    "data = data[data['helpful_ratio'].notnull()]\n",
    "data.head()"
   ]
  },
  {
   "cell_type": "code",
   "execution_count": 10,
   "metadata": {
    "colab": {
     "base_uri": "https://localhost:8080/",
     "height": 34
    },
    "colab_type": "code",
    "id": "0Q6F-NJd2q59",
    "outputId": "f495b5fb-d839-41f8-ab28-789ceb98a0c8"
   },
   "outputs": [
    {
     "data": {
      "text/plain": [
       "(100515, 16)"
      ]
     },
     "execution_count": 10,
     "metadata": {
      "tags": []
     },
     "output_type": "execute_result"
    }
   ],
   "source": [
    "most_helpful = data[data['helpful_ratio'] == 1.0]\n",
    "most_helpful.shape"
   ]
  },
  {
   "cell_type": "code",
   "execution_count": 11,
   "metadata": {
    "colab": {
     "base_uri": "https://localhost:8080/",
     "height": 34
    },
    "colab_type": "code",
    "id": "eHlpRz5D2s_i",
    "outputId": "3816c798-6655-4cfa-f06d-1def01dee6ea"
   },
   "outputs": [
    {
     "data": {
      "text/plain": [
       "(41483, 16)"
      ]
     },
     "execution_count": 11,
     "metadata": {
      "tags": []
     },
     "output_type": "execute_result"
    }
   ],
   "source": [
    "least_helpful = data[data['helpful_ratio'] <= 0.2]\n",
    "least_helpful.shape"
   ]
  },
  {
   "cell_type": "code",
   "execution_count": 0,
   "metadata": {
    "colab": {},
    "colab_type": "code",
    "id": "2ag8Oevd2v7q"
   },
   "outputs": [],
   "source": [
    "from sklearn.utils import shuffle\n",
    "most_helpful = shuffle(most_helpful)[:10000]\n",
    "least_helpful = shuffle(least_helpful)[:10000]"
   ]
  },
  {
   "cell_type": "code",
   "execution_count": 13,
   "metadata": {
    "colab": {
     "base_uri": "https://localhost:8080/",
     "height": 68
    },
    "colab_type": "code",
    "id": "iGaDiE962zdY",
    "outputId": "2b716e26-77bf-49b1-9670-dcb93276a161"
   },
   "outputs": [
    {
     "name": "stdout",
     "output_type": "stream",
     "text": [
      "analyze_sentiment download started this may take some time.\n",
      "Approx size to download 4.9 MB\n",
      "[OK!]\n"
     ]
    }
   ],
   "source": [
    "from sparknlp.pretrained import PretrainedPipeline\n",
    "\n",
    "pipeline = PretrainedPipeline('analyze_sentiment', lang='en')\n",
    "most_helpful['sentiment'] = most_helpful['review_body'].apply(pipeline.annotate)"
   ]
  },
  {
   "cell_type": "code",
   "execution_count": 0,
   "metadata": {
    "colab": {},
    "colab_type": "code",
    "id": "Y3aSL8lt6Zeh"
   },
   "outputs": [],
   "source": [
    "most_helpful['bin'] = most_helpful.sentiment.apply(lambda x: x['sentiment'][0])\n",
    "most_helpful['sentiment_value'] = most_helpful.bin.astype(\"category\").cat.codes - 1"
   ]
  },
  {
   "cell_type": "code",
   "execution_count": 15,
   "metadata": {
    "colab": {
     "base_uri": "https://localhost:8080/",
     "height": 34
    },
    "colab_type": "code",
    "id": "3vj-rqMz6ady",
    "outputId": "18f72db6-861e-4e14-d097-95dfbcc7278f"
   },
   "outputs": [
    {
     "data": {
      "text/plain": [
       "0.4958"
      ]
     },
     "execution_count": 15,
     "metadata": {
      "tags": []
     },
     "output_type": "execute_result"
    }
   ],
   "source": [
    "most_helpful['sentiment_value'].mean()"
   ]
  },
  {
   "cell_type": "code",
   "execution_count": 0,
   "metadata": {
    "colab": {},
    "colab_type": "code",
    "id": "Ku0sK22X6d_h"
   },
   "outputs": [],
   "source": [
    "least_helpful['sentiment'] = least_helpful['review_body'].apply(pipeline.annotate)"
   ]
  },
  {
   "cell_type": "code",
   "execution_count": 0,
   "metadata": {
    "colab": {},
    "colab_type": "code",
    "id": "B6ar0Yv288Hv"
   },
   "outputs": [],
   "source": [
    "least_helpful['bin'] = least_helpful.sentiment.apply(lambda x: x['sentiment'][0])\n",
    "least_helpful['sentiment_value'] = least_helpful.bin.astype(\"category\").cat.codes - 1"
   ]
  },
  {
   "cell_type": "code",
   "execution_count": 18,
   "metadata": {
    "colab": {
     "base_uri": "https://localhost:8080/",
     "height": 34
    },
    "colab_type": "code",
    "id": "xDmxj2of89Xc",
    "outputId": "4e79663d-dfc0-43fb-9b56-a588ae429803"
   },
   "outputs": [
    {
     "data": {
      "text/plain": [
       "0.4625"
      ]
     },
     "execution_count": 18,
     "metadata": {
      "tags": []
     },
     "output_type": "execute_result"
    }
   ],
   "source": [
    "least_helpful['sentiment_value'].mean()"
   ]
  },
  {
   "cell_type": "markdown",
   "metadata": {},
   "source": [
    "Helpful reviews and unhelpful reviews have similar sentiment values."
   ]
  },
  {
   "cell_type": "markdown",
   "metadata": {
    "colab_type": "text",
    "id": "dKnnNwFx9bSR"
   },
   "source": [
    "### TF-IDF\n",
    "What are the top terms in helpful and unhelpful reviews?"
   ]
  },
  {
   "cell_type": "code",
   "execution_count": 0,
   "metadata": {
    "colab": {},
    "colab_type": "code",
    "id": "QpS0K9-n9dIg"
   },
   "outputs": [],
   "source": [
    "most_helpful = data[data['helpful_ratio'] == 1.0]\n",
    "least_helpful = data[data['helpful_ratio'] < 0.2]\n",
    "most_helpful = shuffle(most_helpful)[:10000][['review_body']]\n",
    "least_helpful = shuffle(least_helpful)[:10000][['review_body']]"
   ]
  },
  {
   "cell_type": "code",
   "execution_count": 0,
   "metadata": {
    "colab": {},
    "colab_type": "code",
    "id": "SSuC4BIR9gHB"
   },
   "outputs": [],
   "source": [
    "from pyspark.sql import SparkSession\n",
    "# start spark session configured for spark nlp\n",
    "spark = SparkSession.builder.master('local[*]').getOrCreate()\n",
    "\n",
    "spark_helpful = spark.createDataFrame(most_helpful)\n",
    "spark_unhelpful = spark.createDataFrame(least_helpful)"
   ]
  },
  {
   "cell_type": "code",
   "execution_count": 0,
   "metadata": {
    "colab": {},
    "colab_type": "code",
    "id": "5mN-KPil9kjf"
   },
   "outputs": [],
   "source": [
    "from pyspark.ml.feature import *\n",
    "from pyspark.ml import Pipeline\n",
    "\n",
    "tokenizer = Tokenizer(inputCol=\"review_body\", outputCol=\"words\")\n",
    "remover = StopWordsRemover(inputCol=\"words\", outputCol=\"filtered\")\n",
    "countVect = CountVectorizer(inputCol=\"filtered\", outputCol=\"cv\",  minDF=5.0)\n",
    "idf = IDF(inputCol=\"cv\", outputCol=\"idf\")\n",
    "pipeline = Pipeline(stages=[tokenizer, remover, countVect, idf])"
   ]
  },
  {
   "cell_type": "markdown",
   "metadata": {
    "colab_type": "text",
    "id": "FYIXZIgd9uDG"
   },
   "source": [
    "Helpful Reviews"
   ]
  },
  {
   "cell_type": "code",
   "execution_count": 0,
   "metadata": {
    "colab": {},
    "colab_type": "code",
    "id": "BFxE_BQV9vkB"
   },
   "outputs": [],
   "source": [
    "helpful = pipeline.fit(spark_helpful).transform(spark_helpful)"
   ]
  },
  {
   "cell_type": "code",
   "execution_count": 0,
   "metadata": {
    "colab": {},
    "colab_type": "code",
    "id": "3PGZUPz-92kw"
   },
   "outputs": [],
   "source": [
    "helpful_df = helpful.select(\"filtered\", \"idf\").toPandas()"
   ]
  },
  {
   "cell_type": "code",
   "execution_count": 0,
   "metadata": {
    "colab": {},
    "colab_type": "code",
    "id": "Yti53M2j969G"
   },
   "outputs": [],
   "source": [
    "words = []\n",
    "for index, value in helpful_df['filtered'].iteritems():\n",
    "    words += value\n",
    "\n",
    "features = []\n",
    "for index, value in helpful_df[\"idf\"].iteritems():\n",
    "    dict_val = value.values.tolist()\n",
    "    features += dict_val"
   ]
  },
  {
   "cell_type": "code",
   "execution_count": 0,
   "metadata": {
    "colab": {},
    "colab_type": "code",
    "id": "HSGLmBu99-fS"
   },
   "outputs": [],
   "source": [
    "from operator import itemgetter\n",
    "indices, list_sorted = zip(*sorted(enumerate(features), key=itemgetter(1)))"
   ]
  },
  {
   "cell_type": "code",
   "execution_count": 28,
   "metadata": {
    "colab": {
     "base_uri": "https://localhost:8080/",
     "height": 187
    },
    "colab_type": "code",
    "id": "Bq4JV5rr-Dwj",
    "outputId": "2aa2c9f3-5ed6-4983-aee3-af9f612d7a6f"
   },
   "outputs": [
    {
     "name": "stdout",
     "output_type": "stream",
     "text": [
      "featured\n",
      "good\n",
      "shape.\n",
      "me.\n",
      "marry.\n",
      "become\n",
      "brushes.\n",
      "perfect\n",
      "\n",
      "/>\n"
     ]
    }
   ],
   "source": [
    "for i in indices[:10]:\n",
    "    print(words[i])"
   ]
  },
  {
   "cell_type": "markdown",
   "metadata": {
    "colab_type": "text",
    "id": "uNTJrohV-K__"
   },
   "source": [
    "Unhelpful Reviews"
   ]
  },
  {
   "cell_type": "code",
   "execution_count": 0,
   "metadata": {
    "colab": {},
    "colab_type": "code",
    "id": "IJmFznFd-NaM"
   },
   "outputs": [],
   "source": [
    "unhelpful = pipeline.fit(spark_unhelpful).transform(spark_unhelpful)"
   ]
  },
  {
   "cell_type": "code",
   "execution_count": 0,
   "metadata": {
    "colab": {},
    "colab_type": "code",
    "id": "83Psaaob-SUg"
   },
   "outputs": [],
   "source": [
    "unhelpful_df = unhelpful.select(\"filtered\", \"idf\").toPandas()"
   ]
  },
  {
   "cell_type": "code",
   "execution_count": 0,
   "metadata": {
    "colab": {},
    "colab_type": "code",
    "id": "MGjStLt_-Xjv"
   },
   "outputs": [],
   "source": [
    "words = []\n",
    "for index, value in unhelpful_df['filtered'].iteritems():\n",
    "    words += value\n",
    "\n",
    "features = []\n",
    "for index, value in unhelpful_df[\"idf\"].iteritems():\n",
    "    dict_val = value.values.tolist()\n",
    "    features += dict_val"
   ]
  },
  {
   "cell_type": "code",
   "execution_count": 0,
   "metadata": {
    "colab": {},
    "colab_type": "code",
    "id": "0a8-Y0p4-apq"
   },
   "outputs": [],
   "source": [
    "from operator import itemgetter\n",
    "indices, list_sorted = zip(*sorted(enumerate(features), key=itemgetter(1)))"
   ]
  },
  {
   "cell_type": "code",
   "execution_count": 33,
   "metadata": {
    "colab": {
     "base_uri": "https://localhost:8080/",
     "height": 272
    },
    "colab_type": "code",
    "id": "LpC9Rny3-vQp",
    "outputId": "0f5701d2-32d3-43f2-bb48-3e4d69fd5b65"
   },
   "outputs": [
    {
     "name": "stdout",
     "output_type": "stream",
     "text": [
      "buy\n",
      "left\n",
      "cranking\n",
      "best\n",
      "never\n",
      "complete\n",
      "total\n",
      "spend\n",
      "definate\n",
      "trust\n",
      "going\n",
      "ford\n",
      "/>\n",
      "\n",
      "\n"
     ]
    }
   ],
   "source": [
    "for i in indices[:15]:\n",
    "    print(words[i])"
   ]
  }
 ],
 "metadata": {
  "colab": {
   "collapsed_sections": [],
   "name": "large-scale-video.ipynb",
   "provenance": []
  },
  "kernelspec": {
   "display_name": "Python 3",
   "language": "python",
   "name": "python3"
  },
  "language_info": {
   "codemirror_mode": {
    "name": "ipython",
    "version": 3
   },
   "file_extension": ".py",
   "mimetype": "text/x-python",
   "name": "python",
   "nbconvert_exporter": "python",
   "pygments_lexer": "ipython3",
   "version": "3.7.3"
  }
 },
 "nbformat": 4,
 "nbformat_minor": 1
}
