{
 "cells": [
  {
   "cell_type": "markdown",
   "metadata": {
    "colab_type": "text",
    "id": "DVAcB6-oPOwd"
   },
   "source": [
    "## Large Scale Final Project\n",
    "Do Amazon voting behaviors reveal social conformity?\n",
    "Chun Hu"
   ]
  },
  {
   "cell_type": "markdown",
   "metadata": {
    "colab_type": "text",
    "id": "EW_8AFYmPOwe"
   },
   "source": [
    "### Category 1: Books"
   ]
  },
  {
   "cell_type": "code",
   "execution_count": 0,
   "metadata": {
    "colab": {
     "referenced_widgets": [
      "ab312f5939414d02a9508a21e686037d",
      ""
     ]
    },
    "colab_type": "code",
    "id": "XCe43Vi-POwe",
    "outputId": "768a8c31-9c9c-44f8-82da-56c94cf40617"
   },
   "outputs": [
    {
     "data": {
      "application/vnd.jupyter.widget-view+json": {
       "model_id": "ab312f5939414d02a9508a21e686037d",
       "version_major": 2,
       "version_minor": 0
      },
      "text/plain": [
       "VBox()"
      ]
     },
     "metadata": {
      "tags": []
     },
     "output_type": "display_data"
    },
    {
     "name": "stdout",
     "output_type": "stream",
     "text": [
      "Starting Spark application\n"
     ]
    },
    {
     "data": {
      "text/html": [
       "<table>\n",
       "<tr><th>ID</th><th>YARN Application ID</th><th>Kind</th><th>State</th><th>Spark UI</th><th>Driver log</th><th>Current session?</th></tr><tr><td>2</td><td>application_1591214933999_0003</td><td>pyspark</td><td>idle</td><td><a target=\"_blank\" href=\"http://ip-172-31-2-220.ec2.internal:20888/proxy/application_1591214933999_0003/\">Link</a></td><td><a target=\"_blank\" href=\"http://ip-172-31-3-88.ec2.internal:8042/node/containerlogs/container_1591214933999_0003_01_000001/livy\">Link</a></td><td>✔</td></tr></table>"
      ],
      "text/plain": [
       "<IPython.core.display.HTML object>"
      ]
     },
     "metadata": {
      "tags": []
     },
     "output_type": "display_data"
    },
    {
     "data": {
      "application/vnd.jupyter.widget-view+json": {
       "model_id": "",
       "version_major": 2,
       "version_minor": 0
      },
      "text/plain": [
       "FloatProgress(value=0.0, bar_style='info', description='Progress:', layout=Layout(height='25px', width='50%'),…"
      ]
     },
     "metadata": {
      "tags": []
     },
     "output_type": "display_data"
    },
    {
     "name": "stdout",
     "output_type": "stream",
     "text": [
      "SparkSession available as 'spark'.\n"
     ]
    },
    {
     "data": {
      "application/vnd.jupyter.widget-view+json": {
       "model_id": "",
       "version_major": 2,
       "version_minor": 0
      },
      "text/plain": [
       "FloatProgress(value=0.0, bar_style='info', description='Progress:', layout=Layout(height='25px', width='50%'),…"
      ]
     },
     "metadata": {
      "tags": []
     },
     "output_type": "display_data"
    }
   ],
   "source": [
    "data = spark.read.parquet('s3://amazon-reviews-pds/parquet/product_category=Books/*.parquet')"
   ]
  },
  {
   "cell_type": "code",
   "execution_count": 0,
   "metadata": {
    "colab": {
     "referenced_widgets": [
      "f45726fac510458bb1421e926c41f4e3",
      ""
     ]
    },
    "colab_type": "code",
    "id": "pclxYHAePOwi",
    "outputId": "1ea12e7f-7536-4536-e277-d8094fbf051a"
   },
   "outputs": [
    {
     "data": {
      "application/vnd.jupyter.widget-view+json": {
       "model_id": "f45726fac510458bb1421e926c41f4e3",
       "version_major": 2,
       "version_minor": 0
      },
      "text/plain": [
       "VBox()"
      ]
     },
     "metadata": {
      "tags": []
     },
     "output_type": "display_data"
    },
    {
     "data": {
      "application/vnd.jupyter.widget-view+json": {
       "model_id": "",
       "version_major": 2,
       "version_minor": 0
      },
      "text/plain": [
       "FloatProgress(value=0.0, bar_style='info', description='Progress:', layout=Layout(height='25px', width='50%'),…"
      ]
     },
     "metadata": {
      "tags": []
     },
     "output_type": "display_data"
    },
    {
     "name": "stdout",
     "output_type": "stream",
     "text": [
      "Total Columns: 15\n",
      "Total Rows: 20726160\n",
      "root\n",
      " |-- marketplace: string (nullable = true)\n",
      " |-- customer_id: string (nullable = true)\n",
      " |-- review_id: string (nullable = true)\n",
      " |-- product_id: string (nullable = true)\n",
      " |-- product_parent: string (nullable = true)\n",
      " |-- product_title: string (nullable = true)\n",
      " |-- star_rating: integer (nullable = true)\n",
      " |-- helpful_votes: integer (nullable = true)\n",
      " |-- total_votes: integer (nullable = true)\n",
      " |-- vine: string (nullable = true)\n",
      " |-- verified_purchase: string (nullable = true)\n",
      " |-- review_headline: string (nullable = true)\n",
      " |-- review_body: string (nullable = true)\n",
      " |-- review_date: date (nullable = true)\n",
      " |-- year: integer (nullable = true)"
     ]
    }
   ],
   "source": [
    "print('Total Columns: %d' % len(data.dtypes))\n",
    "print('Total Rows: %d' % data.count())\n",
    "data.printSchema()"
   ]
  },
  {
   "cell_type": "code",
   "execution_count": 0,
   "metadata": {
    "colab": {
     "referenced_widgets": [
      "ace8772feeed49a9a1f01f858d597bee",
      ""
     ]
    },
    "colab_type": "code",
    "id": "bQp83u0BPOwl",
    "outputId": "0b72901b-3807-42ce-f030-78d7ae88f459"
   },
   "outputs": [
    {
     "data": {
      "application/vnd.jupyter.widget-view+json": {
       "model_id": "ace8772feeed49a9a1f01f858d597bee",
       "version_major": 2,
       "version_minor": 0
      },
      "text/plain": [
       "VBox()"
      ]
     },
     "metadata": {
      "tags": []
     },
     "output_type": "display_data"
    },
    {
     "data": {
      "application/vnd.jupyter.widget-view+json": {
       "model_id": "",
       "version_major": 2,
       "version_minor": 0
      },
      "text/plain": [
       "FloatProgress(value=0.0, bar_style='info', description='Progress:', layout=Layout(height='25px', width='50%'),…"
      ]
     },
     "metadata": {
      "tags": []
     },
     "output_type": "display_data"
    },
    {
     "name": "stdout",
     "output_type": "stream",
     "text": [
      "+-----------+--------+\n",
      "|marketplace|   count|\n",
      "+-----------+--------+\n",
      "|         DE|   63860|\n",
      "|         US|20370130|\n",
      "|         UK|  258057|\n",
      "|         FR|   21462|\n",
      "|         JP|   12651|\n",
      "+-----------+--------+"
     ]
    }
   ],
   "source": [
    "data.groupby('marketplace').count().show()"
   ]
  },
  {
   "cell_type": "markdown",
   "metadata": {
    "colab_type": "text",
    "id": "LqKmBNqzPOwp"
   },
   "source": [
    "Since I'll look at how conformity varies across different marketplaces, I check to see if all marketplaces have eenough data to do the analysis."
   ]
  },
  {
   "cell_type": "code",
   "execution_count": 0,
   "metadata": {
    "colab": {
     "referenced_widgets": [
      "a642ca2c8607401db5a20288dac7b590",
      ""
     ]
    },
    "colab_type": "code",
    "id": "XBBRLqbRPOwp",
    "outputId": "99f62b2d-7894-4562-bc97-095e270e5de1"
   },
   "outputs": [
    {
     "data": {
      "application/vnd.jupyter.widget-view+json": {
       "model_id": "a642ca2c8607401db5a20288dac7b590",
       "version_major": 2,
       "version_minor": 0
      },
      "text/plain": [
       "VBox()"
      ]
     },
     "metadata": {
      "tags": []
     },
     "output_type": "display_data"
    },
    {
     "data": {
      "application/vnd.jupyter.widget-view+json": {
       "model_id": "",
       "version_major": 2,
       "version_minor": 0
      },
      "text/plain": [
       "FloatProgress(value=0.0, bar_style='info', description='Progress:', layout=Layout(height='25px', width='50%'),…"
      ]
     },
     "metadata": {
      "tags": []
     },
     "output_type": "display_data"
    },
    {
     "name": "stdout",
     "output_type": "stream",
     "text": [
      "+----------+-----------+-------------+-----------+\n",
      "|product_id|total_votes|helpful_votes|star_rating|\n",
      "+----------+-----------+-------------+-----------+\n",
      "|1848192576|         10|            9|          5|\n",
      "|145162445X|          7|            4|          4|\n",
      "|055341805X|          0|            0|          4|\n",
      "|0425263908|          1|            1|          5|\n",
      "|1416556141|          0|            0|          5|\n",
      "|1455523003|          7|            5|          4|\n",
      "|0990388697|          1|            1|          4|\n",
      "|0345803485|          7|            7|          1|\n",
      "|1469245167|          0|            0|          4|\n",
      "|0345803485|          9|            0|          5|\n",
      "|0743477111|          0|            0|          4|\n",
      "|1609611543|          1|            1|          5|\n",
      "|0563551933|          0|            0|          5|\n",
      "|0061777269|          0|            0|          5|\n",
      "|0316769487|          6|            1|          1|\n",
      "|0307730697|          0|            0|          4|\n",
      "|0448439158|          0|            0|          5|\n",
      "|0375842209|          1|            1|          5|\n",
      "|1402773536|          1|            1|          5|\n",
      "|0307592731|          1|            1|          5|\n",
      "+----------+-----------+-------------+-----------+\n",
      "only showing top 20 rows"
     ]
    }
   ],
   "source": [
    "data[['product_id', 'total_votes', 'helpful_votes', 'star_rating']].show()"
   ]
  },
  {
   "cell_type": "code",
   "execution_count": 0,
   "metadata": {
    "colab": {
     "referenced_widgets": [
      "20d6462a84ff4878966fc5042dc2cccd",
      ""
     ]
    },
    "colab_type": "code",
    "id": "LTjC39ZzPOws",
    "outputId": "7151e176-22ce-428c-b9d1-eea6673d267a"
   },
   "outputs": [
    {
     "data": {
      "application/vnd.jupyter.widget-view+json": {
       "model_id": "20d6462a84ff4878966fc5042dc2cccd",
       "version_major": 2,
       "version_minor": 0
      },
      "text/plain": [
       "VBox()"
      ]
     },
     "metadata": {
      "tags": []
     },
     "output_type": "display_data"
    },
    {
     "data": {
      "application/vnd.jupyter.widget-view+json": {
       "model_id": "",
       "version_major": 2,
       "version_minor": 0
      },
      "text/plain": [
       "FloatProgress(value=0.0, bar_style='info', description='Progress:', layout=Layout(height='25px', width='50%'),…"
      ]
     },
     "metadata": {
      "tags": []
     },
     "output_type": "display_data"
    }
   ],
   "source": [
    "data = data.withColumn('helpful_ratio', (data.helpful_votes / data.total_votes).cast(\"float\"))\n",
    "data = data.filter('helpful_ratio IS NOT NULL')"
   ]
  },
  {
   "cell_type": "code",
   "execution_count": 0,
   "metadata": {
    "colab": {
     "referenced_widgets": [
      "eafa516ab4944d6eb9772e2e4b8fabd9",
      ""
     ]
    },
    "colab_type": "code",
    "id": "qprV-NIRPOww",
    "outputId": "6abb46b4-ff00-4bf8-cc6e-4a05c2492181"
   },
   "outputs": [
    {
     "data": {
      "application/vnd.jupyter.widget-view+json": {
       "model_id": "eafa516ab4944d6eb9772e2e4b8fabd9",
       "version_major": 2,
       "version_minor": 0
      },
      "text/plain": [
       "VBox()"
      ]
     },
     "metadata": {
      "tags": []
     },
     "output_type": "display_data"
    },
    {
     "data": {
      "application/vnd.jupyter.widget-view+json": {
       "model_id": "",
       "version_major": 2,
       "version_minor": 0
      },
      "text/plain": [
       "FloatProgress(value=0.0, bar_style='info', description='Progress:', layout=Layout(height='25px', width='50%'),…"
      ]
     },
     "metadata": {
      "tags": []
     },
     "output_type": "display_data"
    },
    {
     "name": "stdout",
     "output_type": "stream",
     "text": [
      "+----------+-----------------+\n",
      "|product_id| avg(star_rating)|\n",
      "+----------+-----------------+\n",
      "|0070682895|3.857142857142857|\n",
      "|0830745637|4.066666666666666|\n",
      "|0738719749|              4.2|\n",
      "|1580400647|4.444444444444445|\n",
      "|1600610234|4.611111111111111|\n",
      "|0962052728|4.417808219178082|\n",
      "|0061129704|              4.0|\n",
      "|141698982X|              4.0|\n",
      "|1401217850|2.923076923076923|\n",
      "|0520250540|4.382352941176471|\n",
      "|141855068X|             3.75|\n",
      "|0812975995|              4.0|\n",
      "|1843108860|              4.5|\n",
      "|0486284247|4.611111111111111|\n",
      "|1884527388|             4.55|\n",
      "|1469943042|4.935483870967742|\n",
      "|0827235216|           4.9375|\n",
      "|0446608467|3.090909090909091|\n",
      "|0553159585|              4.5|\n",
      "|0205482252|              5.0|\n",
      "+----------+-----------------+\n",
      "only showing top 20 rows"
     ]
    }
   ],
   "source": [
    "avg_rating = data.groupBy('product_id').avg('star_rating')\n",
    "avg_rating.show()"
   ]
  },
  {
   "cell_type": "markdown",
   "metadata": {},
   "source": [
    "Merge the average rating of the product with the original dataset"
   ]
  },
  {
   "cell_type": "code",
   "execution_count": 0,
   "metadata": {
    "colab": {
     "referenced_widgets": [
      "5801d59f45904bd3b378b04efc64ef80",
      ""
     ]
    },
    "colab_type": "code",
    "id": "h7lvO1EdPOwz",
    "outputId": "c7d1c280-8556-48d7-b007-52b90dc06730"
   },
   "outputs": [
    {
     "data": {
      "application/vnd.jupyter.widget-view+json": {
       "model_id": "5801d59f45904bd3b378b04efc64ef80",
       "version_major": 2,
       "version_minor": 0
      },
      "text/plain": [
       "VBox()"
      ]
     },
     "metadata": {
      "tags": []
     },
     "output_type": "display_data"
    },
    {
     "data": {
      "application/vnd.jupyter.widget-view+json": {
       "model_id": "",
       "version_major": 2,
       "version_minor": 0
      },
      "text/plain": [
       "FloatProgress(value=0.0, bar_style='info', description='Progress:', layout=Layout(height='25px', width='50%'),…"
      ]
     },
     "metadata": {
      "tags": []
     },
     "output_type": "display_data"
    }
   ],
   "source": [
    "data_books = data.join(avg_rating, on=['product_id'], how='left_outer')"
   ]
  },
  {
   "cell_type": "code",
   "execution_count": 0,
   "metadata": {
    "colab": {
     "referenced_widgets": [
      "d27c0a1c96944673abf11311ff02a262",
      ""
     ]
    },
    "colab_type": "code",
    "id": "8OJe6CD7POw2",
    "outputId": "3b596f7d-4f9b-427a-8dd1-fb58b1edcdd6"
   },
   "outputs": [
    {
     "data": {
      "application/vnd.jupyter.widget-view+json": {
       "model_id": "d27c0a1c96944673abf11311ff02a262",
       "version_major": 2,
       "version_minor": 0
      },
      "text/plain": [
       "VBox()"
      ]
     },
     "metadata": {
      "tags": []
     },
     "output_type": "display_data"
    },
    {
     "data": {
      "application/vnd.jupyter.widget-view+json": {
       "model_id": "",
       "version_major": 2,
       "version_minor": 0
      },
      "text/plain": [
       "FloatProgress(value=0.0, bar_style='info', description='Progress:', layout=Layout(height='25px', width='50%'),…"
      ]
     },
     "metadata": {
      "tags": []
     },
     "output_type": "display_data"
    },
    {
     "name": "stdout",
     "output_type": "stream",
     "text": [
      "+----------+-----------+-------------+----------------+\n",
      "|product_id|star_rating|helpful_ratio|avg(star_rating)|\n",
      "+----------+-----------+-------------+----------------+\n",
      "|0001052020|          5|    0.6666667|             5.0|\n",
      "|0001055941|          5|          1.0|             5.0|\n",
      "|0001055941|          5|         0.75|             5.0|\n",
      "|0001056336|          5|          1.0|             5.0|\n",
      "|0001380753|          5|          1.0|             5.0|\n",
      "|0001543849|          5|          1.0|             5.0|\n",
      "|0001713345|          5|          0.9|             5.0|\n",
      "|0001720104|          2|          1.0|             2.0|\n",
      "|0001850164|          5|          0.0|            3.75|\n",
      "|0001850164|          1|          0.0|            3.75|\n",
      "|0001850164|          4|          0.0|            3.75|\n",
      "|0001850164|          5|    0.6666667|            3.75|\n",
      "|0001942123|          5|          1.0|             5.0|\n",
      "|0001956752|          5|          0.0|             5.0|\n",
      "|0002117207|          4|          1.0|             4.0|\n",
      "|0002117371|          5|          1.0|             5.0|\n",
      "|0002151731|          2|          0.4|             2.0|\n",
      "|000217006X|          5|    0.8333333|             5.0|\n",
      "|0002202085|          5|          1.0|             5.0|\n",
      "|0002211297|          5|    0.9230769|             5.0|\n",
      "+----------+-----------+-------------+----------------+\n",
      "only showing top 20 rows"
     ]
    }
   ],
   "source": [
    "data_books[['product_id', 'star_rating', 'helpful_ratio', 'avg(star_rating)']].show()"
   ]
  },
  {
   "cell_type": "code",
   "execution_count": 0,
   "metadata": {
    "colab": {
     "referenced_widgets": [
      "ab09b488db23436fa923da75009789a6",
      ""
     ]
    },
    "colab_type": "code",
    "id": "mFRH3Hb7POw5",
    "outputId": "d7d7cb4d-4a4f-4119-c9ef-3571a95b0429"
   },
   "outputs": [
    {
     "data": {
      "application/vnd.jupyter.widget-view+json": {
       "model_id": "ab09b488db23436fa923da75009789a6",
       "version_major": 2,
       "version_minor": 0
      },
      "text/plain": [
       "VBox()"
      ]
     },
     "metadata": {
      "tags": []
     },
     "output_type": "display_data"
    },
    {
     "data": {
      "application/vnd.jupyter.widget-view+json": {
       "model_id": "",
       "version_major": 2,
       "version_minor": 0
      },
      "text/plain": [
       "FloatProgress(value=0.0, bar_style='info', description='Progress:', layout=Layout(height='25px', width='50%'),…"
      ]
     },
     "metadata": {
      "tags": []
     },
     "output_type": "display_data"
    }
   ],
   "source": [
    "data_books = data_books.withColumn('avg_rating', data_books[\"avg(star_rating)\"])"
   ]
  },
  {
   "cell_type": "markdown",
   "metadata": {},
   "source": [
    "Descriptive Statistics of products in BOOKS category:"
   ]
  },
  {
   "cell_type": "code",
   "execution_count": 0,
   "metadata": {
    "colab": {
     "referenced_widgets": [
      "af226f8ecc8b4981a9f14fad14ea7e55",
      ""
     ]
    },
    "colab_type": "code",
    "id": "4pRNhzGDPOw7",
    "outputId": "c7eb7da6-aac8-4068-d760-4f55c4a0554a"
   },
   "outputs": [
    {
     "data": {
      "application/vnd.jupyter.widget-view+json": {
       "model_id": "af226f8ecc8b4981a9f14fad14ea7e55",
       "version_major": 2,
       "version_minor": 0
      },
      "text/plain": [
       "VBox()"
      ]
     },
     "metadata": {
      "tags": []
     },
     "output_type": "display_data"
    },
    {
     "data": {
      "application/vnd.jupyter.widget-view+json": {
       "model_id": "",
       "version_major": 2,
       "version_minor": 0
      },
      "text/plain": [
       "FloatProgress(value=0.0, bar_style='info', description='Progress:', layout=Layout(height='25px', width='50%'),…"
      ]
     },
     "metadata": {
      "tags": []
     },
     "output_type": "display_data"
    },
    {
     "name": "stdout",
     "output_type": "stream",
     "text": [
      "+-------+------------------+\n",
      "|summary|        avg_rating|\n",
      "+-------+------------------+\n",
      "|  count|          13125056|\n",
      "|   mean| 4.184285308954664|\n",
      "| stddev|0.7053769707886338|\n",
      "|    min|               1.0|\n",
      "|    25%| 3.857142857142857|\n",
      "|    50%|  4.31858407079646|\n",
      "|    75%|            4.6875|\n",
      "|    max|               5.0|\n",
      "+-------+------------------+"
     ]
    }
   ],
   "source": [
    "data_books[['avg_rating']].summary().show()"
   ]
  },
  {
   "cell_type": "code",
   "execution_count": 0,
   "metadata": {
    "colab": {
     "referenced_widgets": [
      "4f14e1ca53dd4fdeafaa315ba17c61ab",
      ""
     ]
    },
    "colab_type": "code",
    "id": "73hsIKDZPOw9",
    "outputId": "dfa1c12d-f7f9-4ef5-8571-cebe003f67c8"
   },
   "outputs": [
    {
     "data": {
      "application/vnd.jupyter.widget-view+json": {
       "model_id": "4f14e1ca53dd4fdeafaa315ba17c61ab",
       "version_major": 2,
       "version_minor": 0
      },
      "text/plain": [
       "VBox()"
      ]
     },
     "metadata": {
      "tags": []
     },
     "output_type": "display_data"
    },
    {
     "data": {
      "application/vnd.jupyter.widget-view+json": {
       "model_id": "",
       "version_major": 2,
       "version_minor": 0
      },
      "text/plain": [
       "FloatProgress(value=0.0, bar_style='info', description='Progress:', layout=Layout(height='25px', width='50%'),…"
      ]
     },
     "metadata": {
      "tags": []
     },
     "output_type": "display_data"
    },
    {
     "name": "stdout",
     "output_type": "stream",
     "text": [
      "+-------+-----------------+\n",
      "|summary|    helpful_votes|\n",
      "+-------+-----------------+\n",
      "|  count|         13125056|\n",
      "|   mean| 6.05828950367907|\n",
      "| stddev|27.91947303378633|\n",
      "|    min|                0|\n",
      "|    25%|                1|\n",
      "|    50%|                2|\n",
      "|    75%|                5|\n",
      "|    max|            27550|\n",
      "+-------+-----------------+"
     ]
    }
   ],
   "source": [
    "data_books[['helpful_votes']].summary().show()"
   ]
  },
  {
   "cell_type": "markdown",
   "metadata": {},
   "source": [
    "Huge variance in the number of helpful votes"
   ]
  },
  {
   "cell_type": "code",
   "execution_count": 0,
   "metadata": {
    "colab": {
     "referenced_widgets": [
      "7da4af4796f846eab880d269732dad69",
      ""
     ]
    },
    "colab_type": "code",
    "id": "XZcE9Ze9POxB",
    "outputId": "77ae96a8-feca-40ce-ff35-44813301fb5b"
   },
   "outputs": [
    {
     "data": {
      "application/vnd.jupyter.widget-view+json": {
       "model_id": "7da4af4796f846eab880d269732dad69",
       "version_major": 2,
       "version_minor": 0
      },
      "text/plain": [
       "VBox()"
      ]
     },
     "metadata": {
      "tags": []
     },
     "output_type": "display_data"
    },
    {
     "data": {
      "application/vnd.jupyter.widget-view+json": {
       "model_id": "",
       "version_major": 2,
       "version_minor": 0
      },
      "text/plain": [
       "FloatProgress(value=0.0, bar_style='info', description='Progress:', layout=Layout(height='25px', width='50%'),…"
      ]
     },
     "metadata": {
      "tags": []
     },
     "output_type": "display_data"
    }
   ],
   "source": [
    "from pyspark.sql.functions import abs\n",
    "\n",
    "data_books = data_books.withColumn('rating_diff', abs(data_books.avg_rating - data_books.star_rating).cast(\"float\"))"
   ]
  },
  {
   "cell_type": "code",
   "execution_count": 0,
   "metadata": {
    "colab": {
     "referenced_widgets": [
      "63000666c52c42ac93a9a54ff5f42014",
      ""
     ]
    },
    "colab_type": "code",
    "id": "mVaVKfXjPOxD",
    "outputId": "43dd7982-ee0d-405a-fc6c-873ed40dd42e"
   },
   "outputs": [
    {
     "data": {
      "application/vnd.jupyter.widget-view+json": {
       "model_id": "63000666c52c42ac93a9a54ff5f42014",
       "version_major": 2,
       "version_minor": 0
      },
      "text/plain": [
       "VBox()"
      ]
     },
     "metadata": {
      "tags": []
     },
     "output_type": "display_data"
    },
    {
     "data": {
      "application/vnd.jupyter.widget-view+json": {
       "model_id": "",
       "version_major": 2,
       "version_minor": 0
      },
      "text/plain": [
       "FloatProgress(value=0.0, bar_style='info', description='Progress:', layout=Layout(height='25px', width='50%'),…"
      ]
     },
     "metadata": {
      "tags": []
     },
     "output_type": "display_data"
    },
    {
     "name": "stdout",
     "output_type": "stream",
     "text": [
      "+----------+-------------+-----------+\n",
      "|product_id|helpful_ratio|rating_diff|\n",
      "+----------+-------------+-----------+\n",
      "|0001052020|    0.6666667|        0.0|\n",
      "|0001055941|          1.0|        0.0|\n",
      "|0001055941|         0.75|        0.0|\n",
      "|0001056336|          1.0|        0.0|\n",
      "|0001380753|          1.0|        0.0|\n",
      "|0001543849|          1.0|        0.0|\n",
      "|0001713345|          0.9|        0.0|\n",
      "|0001720104|          1.0|        0.0|\n",
      "|0001850164|          0.0|       1.25|\n",
      "|0001850164|    0.6666667|       1.25|\n",
      "|0001850164|          0.0|       2.75|\n",
      "|0001850164|          0.0|       0.25|\n",
      "|0001942123|          1.0|        0.0|\n",
      "|0001956752|          0.0|        0.0|\n",
      "|0002117207|          1.0|        0.0|\n",
      "|0002117371|          1.0|        0.0|\n",
      "|0002151731|          0.4|        0.0|\n",
      "|000217006X|    0.8333333|        0.0|\n",
      "|0002202085|          1.0|        0.0|\n",
      "|0002211297|    0.9230769|        0.0|\n",
      "+----------+-------------+-----------+\n",
      "only showing top 20 rows"
     ]
    }
   ],
   "source": [
    "data_books[['product_id', 'helpful_ratio', 'rating_diff']].show()"
   ]
  },
  {
   "cell_type": "code",
   "execution_count": 0,
   "metadata": {
    "colab": {
     "referenced_widgets": [
      "caa9d713ac1049879a3413de1c0e4ad8",
      ""
     ]
    },
    "colab_type": "code",
    "id": "8rFOUFUuPOxG",
    "outputId": "5f62ded1-85af-44b2-9307-59ccc3b9077f"
   },
   "outputs": [
    {
     "data": {
      "application/vnd.jupyter.widget-view+json": {
       "model_id": "caa9d713ac1049879a3413de1c0e4ad8",
       "version_major": 2,
       "version_minor": 0
      },
      "text/plain": [
       "VBox()"
      ]
     },
     "metadata": {
      "tags": []
     },
     "output_type": "display_data"
    },
    {
     "data": {
      "application/vnd.jupyter.widget-view+json": {
       "model_id": "",
       "version_major": 2,
       "version_minor": 0
      },
      "text/plain": [
       "FloatProgress(value=0.0, bar_style='info', description='Progress:', layout=Layout(height='25px', width='50%'),…"
      ]
     },
     "metadata": {
      "tags": []
     },
     "output_type": "display_data"
    },
    {
     "name": "stdout",
     "output_type": "stream",
     "text": [
      "Collecting seaborn\n",
      "  Using cached https://files.pythonhosted.org/packages/c7/e6/54aaaafd0b87f51dfba92ba73da94151aa3bc179e5fe88fc5dfb3038e860/seaborn-0.10.1-py3-none-any.whl\n",
      "Collecting pandas>=0.22.0 (from seaborn)\n",
      "  Using cached https://files.pythonhosted.org/packages/a4/5f/1b6e0efab4bfb738478919d40b0e3e1a06e3d9996da45eb62a77e9a090d9/pandas-1.0.4-cp37-cp37m-manylinux1_x86_64.whl\n",
      "Requirement already satisfied: numpy>=1.13.3 in /usr/local/lib64/python3.7/site-packages (from seaborn)\n",
      "Collecting scipy>=1.0.1 (from seaborn)\n",
      "  Using cached https://files.pythonhosted.org/packages/dd/82/c1fe128f3526b128cfd185580ba40d01371c5d299fcf7f77968e22dfcc2e/scipy-1.4.1-cp37-cp37m-manylinux1_x86_64.whl\n",
      "Collecting matplotlib>=2.1.2 (from seaborn)\n",
      "  Using cached https://files.pythonhosted.org/packages/b2/c2/71fcf957710f3ba1f09088b35776a799ba7dd95f7c2b195ec800933b276b/matplotlib-3.2.1-cp37-cp37m-manylinux1_x86_64.whl\n",
      "Requirement already satisfied: pytz>=2017.2 in /usr/local/lib/python3.7/site-packages (from pandas>=0.22.0->seaborn)\n",
      "Collecting python-dateutil>=2.6.1 (from pandas>=0.22.0->seaborn)\n",
      "  Using cached https://files.pythonhosted.org/packages/d4/70/d60450c3dd48ef87586924207ae8907090de0b306af2bce5d134d78615cb/python_dateutil-2.8.1-py2.py3-none-any.whl\n",
      "Collecting pyparsing!=2.0.4,!=2.1.2,!=2.1.6,>=2.0.1 (from matplotlib>=2.1.2->seaborn)\n",
      "  Using cached https://files.pythonhosted.org/packages/8a/bb/488841f56197b13700afd5658fc279a2025a39e22449b7cf29864669b15d/pyparsing-2.4.7-py2.py3-none-any.whl\n",
      "Collecting cycler>=0.10 (from matplotlib>=2.1.2->seaborn)\n",
      "  Using cached https://files.pythonhosted.org/packages/f7/d2/e07d3ebb2bd7af696440ce7e754c59dd546ffe1bbe732c8ab68b9c834e61/cycler-0.10.0-py2.py3-none-any.whl\n",
      "Collecting kiwisolver>=1.0.1 (from matplotlib>=2.1.2->seaborn)\n",
      "  Using cached https://files.pythonhosted.org/packages/31/b9/6202dcae729998a0ade30e80ac00f616542ef445b088ec970d407dfd41c0/kiwisolver-1.2.0-cp37-cp37m-manylinux1_x86_64.whl\n",
      "Requirement already satisfied: six>=1.5 in /usr/local/lib/python3.7/site-packages (from python-dateutil>=2.6.1->pandas>=0.22.0->seaborn)\n",
      "Installing collected packages: python-dateutil, pandas, scipy, pyparsing, cycler, kiwisolver, matplotlib, seaborn\n",
      "Successfully installed cycler-0.10.0 kiwisolver-1.2.0 matplotlib-3.2.1 pandas-1.0.4 pyparsing-2.4.7 python-dateutil-2.8.1 scipy-1.4.1 seaborn-0.10.1\n",
      "\n",
      "Requirement already satisfied: pandas in /mnt/tmp/1591219540958-0/lib/python3.7/site-packages\n",
      "Requirement already satisfied: pytz>=2017.2 in /usr/local/lib/python3.7/site-packages (from pandas)\n",
      "Requirement already satisfied: numpy>=1.13.3 in /usr/local/lib64/python3.7/site-packages (from pandas)\n",
      "Requirement already satisfied: python-dateutil>=2.6.1 in /mnt/tmp/1591219540958-0/lib/python3.7/site-packages (from pandas)\n",
      "Requirement already satisfied: six>=1.5 in /usr/local/lib/python3.7/site-packages (from python-dateutil>=2.6.1->pandas)"
     ]
    }
   ],
   "source": [
    "sc.install_pypi_package(\"seaborn\")\n",
    "sc.install_pypi_package(\"pandas\")"
   ]
  },
  {
   "cell_type": "code",
   "execution_count": 0,
   "metadata": {
    "colab": {
     "referenced_widgets": [
      "4810b57b8f664432b5096d0e5f3143bd",
      ""
     ]
    },
    "colab_type": "code",
    "id": "6ScpJbEvPOxI",
    "outputId": "d9d288fb-7d5e-4c9f-85bc-d81505c94636"
   },
   "outputs": [
    {
     "data": {
      "application/vnd.jupyter.widget-view+json": {
       "model_id": "4810b57b8f664432b5096d0e5f3143bd",
       "version_major": 2,
       "version_minor": 0
      },
      "text/plain": [
       "VBox()"
      ]
     },
     "metadata": {
      "tags": []
     },
     "output_type": "display_data"
    },
    {
     "data": {
      "application/vnd.jupyter.widget-view+json": {
       "model_id": "",
       "version_major": 2,
       "version_minor": 0
      },
      "text/plain": [
       "FloatProgress(value=0.0, bar_style='info', description='Progress:', layout=Layout(height='25px', width='50%'),…"
      ]
     },
     "metadata": {
      "tags": []
     },
     "output_type": "display_data"
    },
    {
     "data": {
      "image/png": "[encoded data removed]",
      "text/plain": [
       "<IPython.core.display.Image object>"
      ]
     },
     "metadata": {
      "tags": []
     },
     "output_type": "display_data"
    }
   ],
   "source": [
    "import seaborn as sns\n",
    "import matplotlib.pyplot as plt\n",
    "\n",
    "sampled_df = data_books.sample(fraction=0.0001).toPandas()\n",
    "sampled_df.plot.scatter('rating_diff', 'helpful_ratio')\n",
    "%matplot plt"
   ]
  },
  {
   "cell_type": "markdown",
   "metadata": {},
   "source": [
    "The scatterplot shows that there are a lot more reviews at smaller rating differences and higher helpfulness ratios. There are also more reviews at helpful_ratio equals 0.0, 0.5, and 1.0."
   ]
  },
  {
   "cell_type": "code",
   "execution_count": 0,
   "metadata": {
    "colab": {
     "referenced_widgets": [
      "8155739d38214ba2affb20725384c29f",
      ""
     ]
    },
    "colab_type": "code",
    "id": "0N5ULh2IPOxK",
    "outputId": "15a169a8-3c5a-4a10-9e72-521044b8faa6"
   },
   "outputs": [
    {
     "data": {
      "application/vnd.jupyter.widget-view+json": {
       "model_id": "8155739d38214ba2affb20725384c29f",
       "version_major": 2,
       "version_minor": 0
      },
      "text/plain": [
       "VBox()"
      ]
     },
     "metadata": {
      "tags": []
     },
     "output_type": "display_data"
    },
    {
     "data": {
      "application/vnd.jupyter.widget-view+json": {
       "model_id": "",
       "version_major": 2,
       "version_minor": 0
      },
      "text/plain": [
       "FloatProgress(value=0.0, bar_style='info', description='Progress:', layout=Layout(height='25px', width='50%'),…"
      ]
     },
     "metadata": {
      "tags": []
     },
     "output_type": "display_data"
    },
    {
     "name": "stdout",
     "output_type": "stream",
     "text": [
      "+-----------+-------------+\n",
      "|rating_diff|ratio_buckets|\n",
      "+-----------+-------------+\n",
      "|        0.0|          6.0|\n",
      "|        0.0|          9.0|\n",
      "|        0.0|          7.0|\n",
      "|        0.0|          9.0|\n",
      "|        0.0|          9.0|\n",
      "|        0.0|          9.0|\n",
      "|        0.0|          8.0|\n",
      "|        0.0|          9.0|\n",
      "|       2.75|          0.0|\n",
      "|       1.25|          0.0|\n",
      "|       1.25|          6.0|\n",
      "|       0.25|          0.0|\n",
      "|        0.0|          9.0|\n",
      "|        0.0|          0.0|\n",
      "|        0.0|          9.0|\n",
      "|        0.0|          9.0|\n",
      "|        0.0|          4.0|\n",
      "|        0.0|          8.0|\n",
      "|        0.0|          9.0|\n",
      "|        0.0|          9.0|\n",
      "+-----------+-------------+\n",
      "only showing top 20 rows"
     ]
    }
   ],
   "source": [
    "from pyspark.ml.feature import Bucketizer\n",
    "\n",
    "bucketizer = Bucketizer(splits=[0.0, 0.1, 0.2, 0.3, 0.4, 0.5, 0.6, 0.7, 0.8, 0.9, 1.0],\n",
    "                        inputCol=\"helpful_ratio\", outputCol=\"ratio_buckets\")\n",
    "books_buck = bucketizer.setHandleInvalid(\"keep\").transform(data_books)\n",
    "\n",
    "books_buck[['rating_diff', 'ratio_buckets']].show()"
   ]
  },
  {
   "cell_type": "code",
   "execution_count": 0,
   "metadata": {
    "colab": {
     "referenced_widgets": [
      "cc8404bd171240d3b9f8254041ce17eb",
      ""
     ]
    },
    "colab_type": "code",
    "id": "QOt4ltG4POxN",
    "outputId": "740ac9db-6d00-4efb-d4d0-1e721a48ed63"
   },
   "outputs": [
    {
     "data": {
      "application/vnd.jupyter.widget-view+json": {
       "model_id": "cc8404bd171240d3b9f8254041ce17eb",
       "version_major": 2,
       "version_minor": 0
      },
      "text/plain": [
       "VBox()"
      ]
     },
     "metadata": {
      "tags": []
     },
     "output_type": "display_data"
    },
    {
     "data": {
      "application/vnd.jupyter.widget-view+json": {
       "model_id": "",
       "version_major": 2,
       "version_minor": 0
      },
      "text/plain": [
       "FloatProgress(value=0.0, bar_style='info', description='Progress:', layout=Layout(height='25px', width='50%'),…"
      ]
     },
     "metadata": {
      "tags": []
     },
     "output_type": "display_data"
    }
   ],
   "source": [
    "from pyspark.sql.functions import udf\n",
    "from pyspark.sql.types import *\n",
    "\n",
    "t = {0.0:\"0.1\", 1.0:\"0.2\", 2.0:\"0.3\", 3.0:\"0.4\", 4.0:\"0.5\", 5.0:\"0.6\", 6.0:\"0.7\", 7.0:\"0.8\", 8.0:\"0.9\", 9.0:\"1.0\"}\n",
    "udf_foo = udf(lambda x: t[x], StringType())\n",
    "books_buck = books_buck.withColumn(\"helpfulness_ratio\", udf_foo(\"ratio_buckets\"))"
   ]
  },
  {
   "cell_type": "code",
   "execution_count": 0,
   "metadata": {
    "colab": {
     "referenced_widgets": [
      "93fdc224e64e44c586a99f3e59358030",
      ""
     ]
    },
    "colab_type": "code",
    "id": "TGVB7iMqPOxP",
    "outputId": "8b64a75c-a778-4eda-e7e3-f0fc73d0f195"
   },
   "outputs": [
    {
     "data": {
      "application/vnd.jupyter.widget-view+json": {
       "model_id": "93fdc224e64e44c586a99f3e59358030",
       "version_major": 2,
       "version_minor": 0
      },
      "text/plain": [
       "VBox()"
      ]
     },
     "metadata": {
      "tags": []
     },
     "output_type": "display_data"
    },
    {
     "data": {
      "application/vnd.jupyter.widget-view+json": {
       "model_id": "",
       "version_major": 2,
       "version_minor": 0
      },
      "text/plain": [
       "FloatProgress(value=0.0, bar_style='info', description='Progress:', layout=Layout(height='25px', width='50%'),…"
      ]
     },
     "metadata": {
      "tags": []
     },
     "output_type": "display_data"
    },
    {
     "name": "stdout",
     "output_type": "stream",
     "text": [
      "+-----------------+-------------------+\n",
      "|helpfulness_ratio|   avg(rating_diff)|\n",
      "+-----------------+-------------------+\n",
      "|              1.0|0.48958752010430856|\n",
      "|              0.9| 0.7929383574821978|\n",
      "|              0.8| 0.9319286147526906|\n",
      "|              0.7| 0.9360200359371887|\n",
      "|              0.6| 0.8907560142103281|\n",
      "|              0.5|  1.468675451229419|\n",
      "|              0.4|  1.236570086364539|\n",
      "|              0.3| 1.4627770867307803|\n",
      "|              0.2| 1.7650566921857476|\n",
      "+-----------------+-------------------+"
     ]
    }
   ],
   "source": [
    "avg_df = (books_buck.groupBy('helpfulness_ratio')\n",
    "                    .avg('rating_diff')\n",
    "                    .sort('helpfulness_ratio', ascending=False)\n",
    "         )\n",
    "avg_df = avg_df.filter(avg_df.helpfulness_ratio != '0.1')\n",
    "avg_df.show()"
   ]
  },
  {
   "cell_type": "markdown",
   "metadata": {
    "colab_type": "text",
    "id": "F1ggHksHPOxR"
   },
   "source": [
    "Removed the bucket at helpfulness_ratio equals 0.0-0.1 (most reviews have helpful_ratio = 0) because it could be that there are no votes at all. Then it's not fair to compare their helpfulness ratios with others."
   ]
  },
  {
   "cell_type": "code",
   "execution_count": 0,
   "metadata": {
    "colab": {
     "referenced_widgets": [
      "0538ceac2f204893ac4aa64547832dfc",
      ""
     ]
    },
    "colab_type": "code",
    "id": "MAw2cX_WPOxS",
    "outputId": "2b044dce-bfcb-4b25-a4cf-3f1409e60144"
   },
   "outputs": [
    {
     "data": {
      "application/vnd.jupyter.widget-view+json": {
       "model_id": "0538ceac2f204893ac4aa64547832dfc",
       "version_major": 2,
       "version_minor": 0
      },
      "text/plain": [
       "VBox()"
      ]
     },
     "metadata": {
      "tags": []
     },
     "output_type": "display_data"
    },
    {
     "data": {
      "application/vnd.jupyter.widget-view+json": {
       "model_id": "",
       "version_major": 2,
       "version_minor": 0
      },
      "text/plain": [
       "FloatProgress(value=0.0, bar_style='info', description='Progress:', layout=Layout(height='25px', width='50%'),…"
      ]
     },
     "metadata": {
      "tags": []
     },
     "output_type": "display_data"
    },
    {
     "data": {
      "image/png": "[encoded data removed]",
      "text/plain": [
       "<IPython.core.display.Image object>"
      ]
     },
     "metadata": {
      "tags": []
     },
     "output_type": "display_data"
    }
   ],
   "source": [
    "plt.close()\n",
    "\n",
    "sns.barplot(x='helpfulness_ratio', y='avg(rating_diff)', data=avg_df.toPandas())\n",
    "%matplot plt"
   ]
  },
  {
   "cell_type": "markdown",
   "metadata": {},
   "source": [
    "The barplot shows that as helpfulness ratio increases, the difference between review rating and average product rating decreases. This confirms our hypothesis that there is social conformity in voting behaviors."
   ]
  },
  {
   "cell_type": "markdown",
   "metadata": {
    "colab_type": "text",
    "id": "3OCyNyTCPOxU"
   },
   "source": [
    "### By Marketplace\n",
    "Do different marketplaces (or countries) have different trends?"
   ]
  },
  {
   "cell_type": "code",
   "execution_count": 0,
   "metadata": {
    "colab": {
     "referenced_widgets": [
      "928ea50af5004445bc4f19187ea09ef2",
      ""
     ]
    },
    "colab_type": "code",
    "id": "NIZJJUsKPOxU",
    "outputId": "aad77e6d-7da5-4b6f-d792-b2c0196ad8f6"
   },
   "outputs": [
    {
     "data": {
      "application/vnd.jupyter.widget-view+json": {
       "model_id": "928ea50af5004445bc4f19187ea09ef2",
       "version_major": 2,
       "version_minor": 0
      },
      "text/plain": [
       "VBox()"
      ]
     },
     "metadata": {
      "tags": []
     },
     "output_type": "display_data"
    },
    {
     "data": {
      "application/vnd.jupyter.widget-view+json": {
       "model_id": "",
       "version_major": 2,
       "version_minor": 0
      },
      "text/plain": [
       "FloatProgress(value=0.0, bar_style='info', description='Progress:', layout=Layout(height='25px', width='50%'),…"
      ]
     },
     "metadata": {
      "tags": []
     },
     "output_type": "display_data"
    },
    {
     "name": "stdout",
     "output_type": "stream",
     "text": [
      "root\n",
      " |-- product_id: string (nullable = true)\n",
      " |-- marketplace: string (nullable = true)\n",
      " |-- customer_id: string (nullable = true)\n",
      " |-- review_id: string (nullable = true)\n",
      " |-- product_parent: string (nullable = true)\n",
      " |-- product_title: string (nullable = true)\n",
      " |-- star_rating: integer (nullable = true)\n",
      " |-- helpful_votes: integer (nullable = true)\n",
      " |-- total_votes: integer (nullable = true)\n",
      " |-- vine: string (nullable = true)\n",
      " |-- verified_purchase: string (nullable = true)\n",
      " |-- review_headline: string (nullable = true)\n",
      " |-- review_body: string (nullable = true)\n",
      " |-- review_date: date (nullable = true)\n",
      " |-- year: integer (nullable = true)\n",
      " |-- helpful_ratio: float (nullable = true)\n",
      " |-- avg(star_rating): double (nullable = true)\n",
      " |-- avg_rating: double (nullable = true)\n",
      " |-- rating_diff: float (nullable = true)\n",
      " |-- ratio_buckets: double (nullable = true)\n",
      " |-- helpfulness_ratio: string (nullable = true)"
     ]
    }
   ],
   "source": [
    "books_buck.printSchema()"
   ]
  },
  {
   "cell_type": "code",
   "execution_count": 0,
   "metadata": {
    "colab": {
     "referenced_widgets": [
      "e7cf3a299e7a4470b10d22cc507a32ec",
      ""
     ]
    },
    "colab_type": "code",
    "id": "Ai5eBdBgPOxW",
    "outputId": "2971d80e-40c9-4fd2-cef0-9be156c55425"
   },
   "outputs": [
    {
     "data": {
      "application/vnd.jupyter.widget-view+json": {
       "model_id": "e7cf3a299e7a4470b10d22cc507a32ec",
       "version_major": 2,
       "version_minor": 0
      },
      "text/plain": [
       "VBox()"
      ]
     },
     "metadata": {
      "tags": []
     },
     "output_type": "display_data"
    },
    {
     "data": {
      "application/vnd.jupyter.widget-view+json": {
       "model_id": "",
       "version_major": 2,
       "version_minor": 0
      },
      "text/plain": [
       "FloatProgress(value=0.0, bar_style='info', description='Progress:', layout=Layout(height='25px', width='50%'),…"
      ]
     },
     "metadata": {
      "tags": []
     },
     "output_type": "display_data"
    }
   ],
   "source": [
    "us_books = books_buck.filter(books_buck.marketplace == 'US')"
   ]
  },
  {
   "cell_type": "code",
   "execution_count": 0,
   "metadata": {
    "colab": {
     "referenced_widgets": [
      "daa50af382c1432a8b5effd560ca1b41",
      ""
     ]
    },
    "colab_type": "code",
    "id": "_o0O3_i1POxZ",
    "outputId": "8d3af55d-ff11-422b-c12e-3b8e4ccbb3d7"
   },
   "outputs": [
    {
     "data": {
      "application/vnd.jupyter.widget-view+json": {
       "model_id": "daa50af382c1432a8b5effd560ca1b41",
       "version_major": 2,
       "version_minor": 0
      },
      "text/plain": [
       "VBox()"
      ]
     },
     "metadata": {
      "tags": []
     },
     "output_type": "display_data"
    },
    {
     "data": {
      "application/vnd.jupyter.widget-view+json": {
       "model_id": "",
       "version_major": 2,
       "version_minor": 0
      },
      "text/plain": [
       "FloatProgress(value=0.0, bar_style='info', description='Progress:', layout=Layout(height='25px', width='50%'),…"
      ]
     },
     "metadata": {
      "tags": []
     },
     "output_type": "display_data"
    },
    {
     "name": "stdout",
     "output_type": "stream",
     "text": [
      "+-----------------+------------------+\n",
      "|helpfulness_ratio|                US|\n",
      "+-----------------+------------------+\n",
      "|              1.0|0.4879387853817715|\n",
      "|              0.9|0.7912753560190235|\n",
      "|              0.8|0.9299041866853917|\n",
      "|              0.7|0.9340661388725395|\n",
      "|              0.6|0.8886427887705495|\n",
      "|              0.5|  1.46779673568354|\n",
      "|              0.4|1.2352284864831617|\n",
      "|              0.3|1.4615507045532654|\n",
      "|              0.2|1.7629473807204035|\n",
      "+-----------------+------------------+"
     ]
    }
   ],
   "source": [
    "avg_us = (us_books.groupBy('helpfulness_ratio')\n",
    "                    .avg('rating_diff')\n",
    "                    .sort('helpfulness_ratio', ascending=False)\n",
    "         )\n",
    "avg_df = avg_us.filter(avg_us.helpfulness_ratio != '0.1')\n",
    "avg_df = avg_df.withColumn('diff', avg_df[\"avg(rating_diff)\"])\n",
    "avg_df = avg_df.selectExpr(\"helpfulness_ratio as helpfulness_ratio\", \"diff as US\")\n",
    "avg_df.show()"
   ]
  },
  {
   "cell_type": "code",
   "execution_count": 0,
   "metadata": {
    "colab": {
     "referenced_widgets": [
      "b1c9e32e336741fabf8fb0bcfebb2344",
      ""
     ]
    },
    "colab_type": "code",
    "id": "-yKH0G9pPOxc",
    "outputId": "7b6129af-0891-457b-cd3f-a2cc40c58cb8"
   },
   "outputs": [
    {
     "data": {
      "application/vnd.jupyter.widget-view+json": {
       "model_id": "b1c9e32e336741fabf8fb0bcfebb2344",
       "version_major": 2,
       "version_minor": 0
      },
      "text/plain": [
       "VBox()"
      ]
     },
     "metadata": {
      "tags": []
     },
     "output_type": "display_data"
    },
    {
     "data": {
      "application/vnd.jupyter.widget-view+json": {
       "model_id": "",
       "version_major": 2,
       "version_minor": 0
      },
      "text/plain": [
       "FloatProgress(value=0.0, bar_style='info', description='Progress:', layout=Layout(height='25px', width='50%'),…"
      ]
     },
     "metadata": {
      "tags": []
     },
     "output_type": "display_data"
    }
   ],
   "source": [
    "uk_books = books_buck.filter(books_buck.marketplace == 'UK')"
   ]
  },
  {
   "cell_type": "code",
   "execution_count": 0,
   "metadata": {
    "colab": {
     "referenced_widgets": [
      "4a6f5e541d364f47b95274e8f7aa8ceb",
      ""
     ]
    },
    "colab_type": "code",
    "id": "RbWbT1NePOxe",
    "outputId": "bfbe7053-93ce-4d9e-cee4-35b327ec0c5e"
   },
   "outputs": [
    {
     "data": {
      "application/vnd.jupyter.widget-view+json": {
       "model_id": "4a6f5e541d364f47b95274e8f7aa8ceb",
       "version_major": 2,
       "version_minor": 0
      },
      "text/plain": [
       "VBox()"
      ]
     },
     "metadata": {
      "tags": []
     },
     "output_type": "display_data"
    },
    {
     "data": {
      "application/vnd.jupyter.widget-view+json": {
       "model_id": "",
       "version_major": 2,
       "version_minor": 0
      },
      "text/plain": [
       "FloatProgress(value=0.0, bar_style='info', description='Progress:', layout=Layout(height='25px', width='50%'),…"
      ]
     },
     "metadata": {
      "tags": []
     },
     "output_type": "display_data"
    },
    {
     "name": "stdout",
     "output_type": "stream",
     "text": [
      "+-----------------+-------------------+------------------+\n",
      "|helpfulness_ratio|                 US|                UK|\n",
      "+-----------------+-------------------+------------------+\n",
      "|              1.0|0.48793878538177143|0.6851653325435065|\n",
      "|              0.9| 0.7912753560190235|0.9441190523958412|\n",
      "|              0.8| 0.9299041866853917|1.1102395636941267|\n",
      "|              0.7| 0.9340661388725395|1.0908690618930899|\n",
      "|              0.6| 0.8886427887705495|1.0369055553516175|\n",
      "|              0.5|   1.46779673568354|1.6416548539467954|\n",
      "|              0.4| 1.2352284864831617|1.3945037253062742|\n",
      "|              0.3| 1.4615507045532654|1.6255461764314838|\n",
      "|              0.2| 1.7629473807204035|1.9827381953266092|\n",
      "+-----------------+-------------------+------------------+"
     ]
    }
   ],
   "source": [
    "avg_uk = (uk_books.groupBy('helpfulness_ratio')\n",
    "                    .avg('rating_diff')\n",
    "                    .sort('helpfulness_ratio', ascending=False)\n",
    "         )\n",
    "avg_uk = avg_uk.filter(avg_uk.helpfulness_ratio != '0.1')\n",
    "avg_uk = avg_uk.withColumn('diff', avg_uk[\"avg(rating_diff)\"])\n",
    "avg_df = avg_df.join(avg_uk, on=['helpfulness_ratio'], how='left_outer')\n",
    "avg_df = avg_df.selectExpr(\"helpfulness_ratio\", \"US\", \"diff as UK\")\n",
    "avg_df.show()"
   ]
  },
  {
   "cell_type": "code",
   "execution_count": 0,
   "metadata": {
    "colab": {
     "referenced_widgets": [
      "bafd72d1bfa145c6992b832a8db17361",
      ""
     ]
    },
    "colab_type": "code",
    "id": "aqqTxK0IPOxg",
    "outputId": "4853ba7f-9eb1-4c11-91f8-4d68943b2a47"
   },
   "outputs": [
    {
     "data": {
      "application/vnd.jupyter.widget-view+json": {
       "model_id": "bafd72d1bfa145c6992b832a8db17361",
       "version_major": 2,
       "version_minor": 0
      },
      "text/plain": [
       "VBox()"
      ]
     },
     "metadata": {
      "tags": []
     },
     "output_type": "display_data"
    },
    {
     "data": {
      "application/vnd.jupyter.widget-view+json": {
       "model_id": "",
       "version_major": 2,
       "version_minor": 0
      },
      "text/plain": [
       "FloatProgress(value=0.0, bar_style='info', description='Progress:', layout=Layout(height='25px', width='50%'),…"
      ]
     },
     "metadata": {
      "tags": []
     },
     "output_type": "display_data"
    },
    {
     "name": "stdout",
     "output_type": "stream",
     "text": [
      "+-----------------+------------------+------------------+------------------+\n",
      "|helpfulness_ratio|                US|                UK|                DE|\n",
      "+-----------------+------------------+------------------+------------------+\n",
      "|              1.0|0.4879387853817715|0.6851653325435065|0.7047571563003384|\n",
      "|              0.9|0.7912753560190235|0.9441190523958412|0.8096562235032314|\n",
      "|              0.8|0.9299041866853917|1.1102395636941267| 0.961838329712227|\n",
      "|              0.7|0.9340661388725395|1.0908690618930899|0.9704525719142013|\n",
      "|              0.6|0.8886427887705495|1.0369055553516175|1.0054698063755259|\n",
      "|              0.5|  1.46779673568354|1.6416548539467954| 1.362662462713082|\n",
      "|              0.4|1.2352284864831617|1.3945037253062742|1.2204834951171235|\n",
      "|              0.3|1.4615507045532654|1.6255461764314838|1.5093589798961136|\n",
      "|              0.2|1.7629473807204035|1.9827381953266092|1.9338078815756607|\n",
      "+-----------------+------------------+------------------+------------------+"
     ]
    }
   ],
   "source": [
    "de_books = books_buck.filter(books_buck.marketplace == 'DE')\n",
    "\n",
    "avg_de = (de_books.groupBy('helpfulness_ratio')\n",
    "                    .avg('rating_diff')\n",
    "                    .sort('helpfulness_ratio', ascending=False)\n",
    "         )\n",
    "avg_de = avg_de.filter(avg_de.helpfulness_ratio != '0.1')\n",
    "avg_de = avg_de.withColumn('diff', avg_de[\"avg(rating_diff)\"])\n",
    "avg_df = avg_df.join(avg_de, on=['helpfulness_ratio'], how='left_outer')\n",
    "avg_df = avg_df.selectExpr(\"helpfulness_ratio\", \"US\", \"UK\", \"diff as DE\")\n",
    "avg_df.show()"
   ]
  },
  {
   "cell_type": "code",
   "execution_count": 0,
   "metadata": {
    "colab": {
     "referenced_widgets": [
      "3299fa48f8d34b82b4f0199dcbc634b5",
      ""
     ]
    },
    "colab_type": "code",
    "id": "dPuIwdd-POxj",
    "outputId": "fbc76651-2ec9-4e9d-906d-1794c5f5d832"
   },
   "outputs": [
    {
     "data": {
      "application/vnd.jupyter.widget-view+json": {
       "model_id": "3299fa48f8d34b82b4f0199dcbc634b5",
       "version_major": 2,
       "version_minor": 0
      },
      "text/plain": [
       "VBox()"
      ]
     },
     "metadata": {
      "tags": []
     },
     "output_type": "display_data"
    },
    {
     "data": {
      "application/vnd.jupyter.widget-view+json": {
       "model_id": "",
       "version_major": 2,
       "version_minor": 0
      },
      "text/plain": [
       "FloatProgress(value=0.0, bar_style='info', description='Progress:', layout=Layout(height='25px', width='50%'),…"
      ]
     },
     "metadata": {
      "tags": []
     },
     "output_type": "display_data"
    }
   ],
   "source": [
    "fr_books = books_buck.filter(books_buck.marketplace == 'FR')\n",
    "\n",
    "avg_fr = (fr_books.groupBy('helpfulness_ratio')\n",
    "                    .avg('rating_diff')\n",
    "                    .sort('helpfulness_ratio', ascending=False)\n",
    "         )\n",
    "avg_fr = avg_fr.filter(avg_fr.helpfulness_ratio != '0.1')\n",
    "avg_fr = avg_fr.withColumn('diff', avg_fr[\"avg(rating_diff)\"])\n",
    "avg_df = avg_df.join(avg_fr, on=['helpfulness_ratio'], how='left_outer')\n",
    "avg_df = avg_df.selectExpr(\"helpfulness_ratio\", \"US\", \"UK\", \"DE\", \"diff as FR\")"
   ]
  },
  {
   "cell_type": "code",
   "execution_count": 0,
   "metadata": {
    "colab": {
     "referenced_widgets": [
      "e1219b2b16e345279840ab4df88c58b6",
      ""
     ]
    },
    "colab_type": "code",
    "id": "JFPxPeM_POxl",
    "outputId": "b6dbfcce-63f7-464e-bb1a-c4ed29bfc2ad"
   },
   "outputs": [
    {
     "data": {
      "application/vnd.jupyter.widget-view+json": {
       "model_id": "e1219b2b16e345279840ab4df88c58b6",
       "version_major": 2,
       "version_minor": 0
      },
      "text/plain": [
       "VBox()"
      ]
     },
     "metadata": {
      "tags": []
     },
     "output_type": "display_data"
    },
    {
     "data": {
      "application/vnd.jupyter.widget-view+json": {
       "model_id": "",
       "version_major": 2,
       "version_minor": 0
      },
      "text/plain": [
       "FloatProgress(value=0.0, bar_style='info', description='Progress:', layout=Layout(height='25px', width='50%'),…"
      ]
     },
     "metadata": {
      "tags": []
     },
     "output_type": "display_data"
    }
   ],
   "source": [
    "jp_books = books_buck.filter(books_buck.marketplace == 'JP')\n",
    "\n",
    "avg_jp = (jp_books.groupBy('helpfulness_ratio')\n",
    "                    .avg('rating_diff')\n",
    "                    .sort('helpfulness_ratio', ascending=False)\n",
    "         )\n",
    "avg_jp = avg_jp.filter(avg_jp.helpfulness_ratio != '0.1')\n",
    "avg_jp = avg_jp.withColumn('diff', avg_jp[\"avg(rating_diff)\"])\n",
    "avg_df = avg_df.join(avg_jp, on=['helpfulness_ratio'], how='left_outer')\n",
    "avg_df = avg_df.selectExpr(\"helpfulness_ratio\", \"US\", \"UK\", \"DE\", \"FR\", \"diff as JP\")"
   ]
  },
  {
   "cell_type": "code",
   "execution_count": 0,
   "metadata": {
    "colab": {
     "referenced_widgets": [
      "844bba321f4a4d73bd91b22cd73c5446",
      ""
     ]
    },
    "colab_type": "code",
    "id": "sQhUNOndPOxn",
    "outputId": "13399713-9775-416d-9711-ea9d8d98b295"
   },
   "outputs": [
    {
     "data": {
      "application/vnd.jupyter.widget-view+json": {
       "model_id": "844bba321f4a4d73bd91b22cd73c5446",
       "version_major": 2,
       "version_minor": 0
      },
      "text/plain": [
       "VBox()"
      ]
     },
     "metadata": {
      "tags": []
     },
     "output_type": "display_data"
    },
    {
     "data": {
      "application/vnd.jupyter.widget-view+json": {
       "model_id": "",
       "version_major": 2,
       "version_minor": 0
      },
      "text/plain": [
       "FloatProgress(value=0.0, bar_style='info', description='Progress:', layout=Layout(height='25px', width='50%'),…"
      ]
     },
     "metadata": {
      "tags": []
     },
     "output_type": "display_data"
    },
    {
     "data": {
      "image/png": "[encoded data removed]",
      "text/plain": [
       "<IPython.core.display.Image object>"
      ]
     },
     "metadata": {
      "tags": []
     },
     "output_type": "display_data"
    }
   ],
   "source": [
    "# plot for all countries\n",
    "plt.close()\n",
    "\n",
    "US, = plt.plot('helpfulness_ratio', 'US', data=avg_df.toPandas(), label=\"US\")\n",
    "UK, = plt.plot('helpfulness_ratio', 'UK', data=avg_df.toPandas(), label=\"UK\")\n",
    "DE, = plt.plot('helpfulness_ratio', 'DE', data=avg_df.toPandas(), label=\"DE\")\n",
    "FR, = plt.plot('helpfulness_ratio', 'FR', data=avg_df.toPandas(), label=\"FR\")\n",
    "JP, = plt.plot('helpfulness_ratio', 'JP', data=avg_df.toPandas(), label=\"JP\")\n",
    "plt.legend(handles=[US, UK, DE, FR, JP])\n",
    "plt.xlabel('helpfulness ratio')\n",
    "plt.ylabel('average rating difference')\n",
    "%matplot plt"
   ]
  },
  {
   "cell_type": "markdown",
   "metadata": {
    "colab": {},
    "colab_type": "code",
    "id": "E4a1H_OjPOxp"
   },
   "source": [
    "The lineplot shows that voting behaviors in all marketplaces reveal trends for social conformity. Previous research suggests that collectivist countries show higher conformity than individualist countries. Here, we see that for reviews in Japan (collectivitst), the increase in average rating difference is more gentle compared to that in other marketplaces (individualist). This suggests that in Japan, even unhelpful reviews have ratings pretty close to the consensus rating of the product (when helpfulness ratio = 0.2, the average rating difference = 1.3). This is a potential evidence that collectivist countries tend to show higher conformity. However, we need more data and analysis to validate our results. Especially because US reviews make up a large proportion of the data in Amazon reviews, and so we get fewer data for other countries."
   ]
  },
  {
   "cell_type": "markdown",
   "metadata": {
    "colab_type": "text",
    "id": "ic4CnxrsPVIy"
   },
   "source": [
    "### Sentiment Analysis\n",
    "What are some characteristics of reviews that have high or low helpfulness ratio?"
   ]
  },
  {
   "cell_type": "code",
   "execution_count": 1,
   "metadata": {
    "colab": {
     "base_uri": "https://localhost:8080/",
     "height": 445
    },
    "colab_type": "code",
    "id": "EXuN1VlPnNqu",
    "outputId": "612cb3f7-b398-440d-b081-3c015fc9a2ed"
   },
   "outputs": [
    {
     "name": "stdout",
     "output_type": "stream",
     "text": [
      "openjdk version \"1.8.0_252\"\n",
      "OpenJDK Runtime Environment (build 1.8.0_252-8u252-b09-1~18.04-b09)\n",
      "OpenJDK 64-Bit Server VM (build 25.252-b09, mixed mode)\n",
      "Collecting pyspark==2.4.4\n",
      "\u001b[?25l  Downloading https://files.pythonhosted.org/packages/87/21/f05c186f4ddb01d15d0ddc36ef4b7e3cedbeb6412274a41f26b55a650ee5/pyspark-2.4.4.tar.gz (215.7MB)\n",
      "\u001b[K     |████████████████████████████████| 215.7MB 56kB/s \n",
      "\u001b[?25hCollecting py4j==0.10.7\n",
      "\u001b[?25l  Downloading https://files.pythonhosted.org/packages/e3/53/c737818eb9a7dc32a7cd4f1396e787bd94200c3997c72c1dbe028587bd76/py4j-0.10.7-py2.py3-none-any.whl (197kB)\n",
      "\u001b[K     |████████████████████████████████| 204kB 44.5MB/s \n",
      "\u001b[?25hBuilding wheels for collected packages: pyspark\n",
      "  Building wheel for pyspark (setup.py) ... \u001b[?25l\u001b[?25hdone\n",
      "  Created wheel for pyspark: filename=pyspark-2.4.4-py2.py3-none-any.whl size=216130388 sha256=6305ef86388df826905adf9d7c384c58e85a9a4cbf1bad738a61299a7df2001e\n",
      "  Stored in directory: /root/.cache/pip/wheels/ab/09/4d/0d184230058e654eb1b04467dbc1292f00eaa186544604b471\n",
      "Successfully built pyspark\n",
      "Installing collected packages: py4j, pyspark\n",
      "Successfully installed py4j-0.10.7 pyspark-2.4.4\n",
      "Collecting spark-nlp==2.5.1\n",
      "\u001b[?25l  Downloading https://files.pythonhosted.org/packages/df/b4/db653f8080a446de8ce981b262d85c85c61de7e920930726da0d1c6b4c65/spark_nlp-2.5.1-py2.py3-none-any.whl (121kB)\n",
      "\u001b[K     |████████████████████████████████| 122kB 8.6MB/s \n",
      "\u001b[?25hInstalling collected packages: spark-nlp\n",
      "Successfully installed spark-nlp-2.5.1\n",
      "Spark NLP version\n",
      "Apache Spark version\n"
     ]
    },
    {
     "data": {
      "text/plain": [
       "'2.4.4'"
      ]
     },
     "execution_count": 1,
     "metadata": {
      "tags": []
     },
     "output_type": "execute_result"
    }
   ],
   "source": [
    "import os\n",
    "\n",
    "# Install java\n",
    "! apt-get install -y openjdk-8-jdk-headless -qq > /dev/null\n",
    "os.environ[\"JAVA_HOME\"] = \"/usr/lib/jvm/java-8-openjdk-amd64\"\n",
    "os.environ[\"PATH\"] = os.environ[\"JAVA_HOME\"] + \"/bin:\" + os.environ[\"PATH\"]\n",
    "! java -version\n",
    "\n",
    "# Install pyspark\n",
    "! pip install --ignore-installed pyspark==2.4.4\n",
    "\n",
    "# Install Spark NLP\n",
    "! pip install --ignore-installed spark-nlp==2.5.1\n",
    "\n",
    "# Quick SparkSession start\n",
    "import sparknlp\n",
    "spark = sparknlp.start()\n",
    "\n",
    "print(\"Spark NLP version\")\n",
    "sparknlp.version()\n",
    "print(\"Apache Spark version\")\n",
    "spark.version"
   ]
  },
  {
   "cell_type": "code",
   "execution_count": 2,
   "metadata": {
    "colab": {
     "base_uri": "https://localhost:8080/",
     "height": 122
    },
    "colab_type": "code",
    "id": "N8MHOC879ejO",
    "outputId": "4c5c5c72-a89e-4137-fe12-2913e3ea76ae"
   },
   "outputs": [
    {
     "name": "stdout",
     "output_type": "stream",
     "text": [
      "Go to this URL in a browser: https://accounts.google.com/o/oauth2/auth?client_id=947318989803-6bn6qk8qdgf4n4g3pfee6491hc0brc4i.apps.googleusercontent.com&redirect_uri=urn%3aietf%3awg%3aoauth%3a2.0%3aoob&response_type=code&scope=email%20https%3a%2f%2fwww.googleapis.com%2fauth%2fdocs.test%20https%3a%2f%2fwww.googleapis.com%2fauth%2fdrive%20https%3a%2f%2fwww.googleapis.com%2fauth%2fdrive.photos.readonly%20https%3a%2f%2fwww.googleapis.com%2fauth%2fpeopleapi.readonly\n",
      "\n",
      "Enter your authorization code:\n",
      "··········\n",
      "Mounted at /content/drive/\n"
     ]
    }
   ],
   "source": [
    "from google.colab import drive\n",
    "drive.mount('/content/drive/')"
   ]
  },
  {
   "cell_type": "code",
   "execution_count": 0,
   "metadata": {
    "colab": {},
    "colab_type": "code",
    "id": "R9wzGALm9WQp"
   },
   "outputs": [],
   "source": [
    "import glob\n",
    "import pandas as pd\n",
    "\n",
    "file_path = glob.glob(\"/content/drive/My Drive/amazon-reviews-dataset/*\")\n",
    "file = file_path[-1]\n",
    "\n",
    "with open(file) as tsvfile:\n",
    "    col_names = [\"marketplace\", \"customer_id\", \"review_id\", \"product_id\", \"product_parent\", \"product_title\",\n",
    "               \"category\", \"star_rating\", \"helpful_votes\", \"total_votes\", \"vine\", \"verified_purchase\", \n",
    "               \"review_headline\", \"review_body\", \"review_date\"]\n",
    "    data = pd.read_csv(file, sep='\\t', names=col_names, skiprows=10000000, low_memory=False)"
   ]
  },
  {
   "cell_type": "markdown",
   "metadata": {},
   "source": [
    "Skip rows because Colab cannot handle huge datasets"
   ]
  },
  {
   "cell_type": "code",
   "execution_count": 6,
   "metadata": {
    "colab": {
     "base_uri": "https://localhost:8080/",
     "height": 496
    },
    "colab_type": "code",
    "id": "XxiV0CY2Kmhk",
    "outputId": "cf091d68-5f11-42bd-b3e2-dd6f06e7cea2"
   },
   "outputs": [
    {
     "data": {
      "text/html": [
       "<div>\n",
       "<style scoped>\n",
       "    .dataframe tbody tr th:only-of-type {\n",
       "        vertical-align: middle;\n",
       "    }\n",
       "\n",
       "    .dataframe tbody tr th {\n",
       "        vertical-align: top;\n",
       "    }\n",
       "\n",
       "    .dataframe thead th {\n",
       "        text-align: right;\n",
       "    }\n",
       "</style>\n",
       "<table border=\"1\" class=\"dataframe\">\n",
       "  <thead>\n",
       "    <tr style=\"text-align: right;\">\n",
       "      <th></th>\n",
       "      <th>marketplace</th>\n",
       "      <th>customer_id</th>\n",
       "      <th>review_id</th>\n",
       "      <th>product_id</th>\n",
       "      <th>product_parent</th>\n",
       "      <th>product_title</th>\n",
       "      <th>category</th>\n",
       "      <th>star_rating</th>\n",
       "      <th>helpful_votes</th>\n",
       "      <th>total_votes</th>\n",
       "      <th>vine</th>\n",
       "      <th>verified_purchase</th>\n",
       "      <th>review_headline</th>\n",
       "      <th>review_body</th>\n",
       "      <th>review_date</th>\n",
       "      <th>helpful_ratio</th>\n",
       "    </tr>\n",
       "  </thead>\n",
       "  <tbody>\n",
       "    <tr>\n",
       "      <th>1</th>\n",
       "      <td>US</td>\n",
       "      <td>52319226</td>\n",
       "      <td>RLR7QT2FF3VCL</td>\n",
       "      <td>0984035079</td>\n",
       "      <td>931476334</td>\n",
       "      <td>Black &amp; White</td>\n",
       "      <td>Books</td>\n",
       "      <td>5</td>\n",
       "      <td>1</td>\n",
       "      <td>1</td>\n",
       "      <td>N</td>\n",
       "      <td>Y</td>\n",
       "      <td>This guy knows his stuff</td>\n",
       "      <td>As a police psychologist, I can tell you Wes A...</td>\n",
       "      <td>2012-07-07</td>\n",
       "      <td>1.0000</td>\n",
       "    </tr>\n",
       "    <tr>\n",
       "      <th>5</th>\n",
       "      <td>US</td>\n",
       "      <td>27802423</td>\n",
       "      <td>R18RIAS322IUXQ</td>\n",
       "      <td>1567924522</td>\n",
       "      <td>187141499</td>\n",
       "      <td>Ingenious Contrivances, Curiously Carved: Scri...</td>\n",
       "      <td>Books</td>\n",
       "      <td>3</td>\n",
       "      <td>0</td>\n",
       "      <td>4</td>\n",
       "      <td>N</td>\n",
       "      <td>Y</td>\n",
       "      <td>bad packaging</td>\n",
       "      <td>Verry fine book. But the corners of the book w...</td>\n",
       "      <td>2012-07-07</td>\n",
       "      <td>0.0000</td>\n",
       "    </tr>\n",
       "    <tr>\n",
       "      <th>6</th>\n",
       "      <td>US</td>\n",
       "      <td>49003190</td>\n",
       "      <td>R2I8IQSRPKF4IH</td>\n",
       "      <td>0786020288</td>\n",
       "      <td>426408694</td>\n",
       "      <td>Pulse (A Frank Quinn Novel)</td>\n",
       "      <td>Books</td>\n",
       "      <td>3</td>\n",
       "      <td>15</td>\n",
       "      <td>16</td>\n",
       "      <td>N</td>\n",
       "      <td>N</td>\n",
       "      <td>Not His Best</td>\n",
       "      <td>I've been a fan of John Lutz for many years. T...</td>\n",
       "      <td>2012-07-07</td>\n",
       "      <td>0.9375</td>\n",
       "    </tr>\n",
       "    <tr>\n",
       "      <th>8</th>\n",
       "      <td>US</td>\n",
       "      <td>22302056</td>\n",
       "      <td>R1VRMQAV3ESWCX</td>\n",
       "      <td>1933339500</td>\n",
       "      <td>282116897</td>\n",
       "      <td>Telling God's Story, Year Two: The Kingdom of ...</td>\n",
       "      <td>Books</td>\n",
       "      <td>5</td>\n",
       "      <td>9</td>\n",
       "      <td>9</td>\n",
       "      <td>N</td>\n",
       "      <td>Y</td>\n",
       "      <td>Best kids Bible resource I've seen...</td>\n",
       "      <td>Our family has used some great resources (The ...</td>\n",
       "      <td>2012-07-07</td>\n",
       "      <td>1.0000</td>\n",
       "    </tr>\n",
       "    <tr>\n",
       "      <th>9</th>\n",
       "      <td>US</td>\n",
       "      <td>15844946</td>\n",
       "      <td>R33KQLKXUB91FQ</td>\n",
       "      <td>082634254X</td>\n",
       "      <td>191660256</td>\n",
       "      <td>Antonio's Gun and Delfino's Dream: True Tales ...</td>\n",
       "      <td>Books</td>\n",
       "      <td>5</td>\n",
       "      <td>1</td>\n",
       "      <td>1</td>\n",
       "      <td>N</td>\n",
       "      <td>Y</td>\n",
       "      <td>good condition, great book!</td>\n",
       "      <td>The book came in great condition, like new act...</td>\n",
       "      <td>2012-07-07</td>\n",
       "      <td>1.0000</td>\n",
       "    </tr>\n",
       "  </tbody>\n",
       "</table>\n",
       "</div>"
      ],
      "text/plain": [
       "  marketplace  customer_id  ... review_date helpful_ratio\n",
       "1          US     52319226  ...  2012-07-07        1.0000\n",
       "5          US     27802423  ...  2012-07-07        0.0000\n",
       "6          US     49003190  ...  2012-07-07        0.9375\n",
       "8          US     22302056  ...  2012-07-07        1.0000\n",
       "9          US     15844946  ...  2012-07-07        1.0000\n",
       "\n",
       "[5 rows x 16 columns]"
      ]
     },
     "execution_count": 6,
     "metadata": {
      "tags": []
     },
     "output_type": "execute_result"
    }
   ],
   "source": [
    "data['helpful_ratio'] = data['helpful_votes'] / data['total_votes']\n",
    "data = data[data['helpful_ratio'].notnull()]\n",
    "data.head()"
   ]
  },
  {
   "cell_type": "code",
   "execution_count": 19,
   "metadata": {
    "colab": {
     "base_uri": "https://localhost:8080/",
     "height": 34
    },
    "colab_type": "code",
    "id": "xm8V1F5-z8Vp",
    "outputId": "3aac215a-2d50-4721-9bcc-810ef238fb62"
   },
   "outputs": [
    {
     "data": {
      "text/plain": [
       "(81053, 16)"
      ]
     },
     "execution_count": 19,
     "metadata": {
      "tags": []
     },
     "output_type": "execute_result"
    }
   ],
   "source": [
    "most_helpful = data[data['helpful_ratio'] == 1.0]\n",
    "most_helpful.shape"
   ]
  },
  {
   "cell_type": "code",
   "execution_count": 20,
   "metadata": {
    "colab": {
     "base_uri": "https://localhost:8080/",
     "height": 34
    },
    "colab_type": "code",
    "id": "RFdXOosFz9rZ",
    "outputId": "701f5a41-f88b-4d13-e24d-9c4e9b078bf8"
   },
   "outputs": [
    {
     "data": {
      "text/plain": [
       "(20269, 16)"
      ]
     },
     "execution_count": 20,
     "metadata": {
      "tags": []
     },
     "output_type": "execute_result"
    }
   ],
   "source": [
    "least_helpful = data[data['helpful_ratio'] <= 0.2]\n",
    "least_helpful.shape"
   ]
  },
  {
   "cell_type": "code",
   "execution_count": 0,
   "metadata": {
    "colab": {},
    "colab_type": "code",
    "id": "fW2tfUQm0TI5"
   },
   "outputs": [],
   "source": [
    "from sklearn.utils import shuffle\n",
    "most_helpful = shuffle(most_helpful)[:10000]\n",
    "least_helpful = shuffle(least_helpful)[:10000]"
   ]
  },
  {
   "cell_type": "code",
   "execution_count": 22,
   "metadata": {
    "colab": {
     "base_uri": "https://localhost:8080/",
     "height": 68
    },
    "colab_type": "code",
    "id": "gE093XCG6PPd",
    "outputId": "4fbcb44a-527f-4fe9-beb3-51fe05860c76"
   },
   "outputs": [
    {
     "name": "stdout",
     "output_type": "stream",
     "text": [
      "analyze_sentiment download started this may take some time.\n",
      "Approx size to download 4.9 MB\n",
      "[OK!]\n"
     ]
    }
   ],
   "source": [
    "from sparknlp.pretrained import PretrainedPipeline\n",
    "\n",
    "pipeline = PretrainedPipeline('analyze_sentiment', lang='en')\n",
    "most_helpful['sentiment'] = most_helpful['review_body'].apply(pipeline.annotate)"
   ]
  },
  {
   "cell_type": "code",
   "execution_count": 0,
   "metadata": {
    "colab": {},
    "colab_type": "code",
    "id": "5ULAaHxk6cHz"
   },
   "outputs": [],
   "source": [
    "most_helpful['bin'] = most_helpful.sentiment.apply(lambda x: x['sentiment'][0])\n",
    "most_helpful['sentiment_value'] = most_helpful.bin.astype(\"category\").cat.codes - 1"
   ]
  },
  {
   "cell_type": "code",
   "execution_count": 24,
   "metadata": {
    "colab": {
     "base_uri": "https://localhost:8080/",
     "height": 34
    },
    "colab_type": "code",
    "id": "DSJwiY5V52Ib",
    "outputId": "2af9b313-6f98-4238-aff8-b46720870602"
   },
   "outputs": [
    {
     "data": {
      "text/plain": [
       "0.5874"
      ]
     },
     "execution_count": 24,
     "metadata": {
      "tags": []
     },
     "output_type": "execute_result"
    }
   ],
   "source": [
    "most_helpful['sentiment_value'].mean()"
   ]
  },
  {
   "cell_type": "code",
   "execution_count": 0,
   "metadata": {
    "colab": {},
    "colab_type": "code",
    "id": "pWARQDr06BN4"
   },
   "outputs": [],
   "source": [
    "least_helpful['sentiment'] = least_helpful['review_body'].apply(pipeline.annotate)"
   ]
  },
  {
   "cell_type": "code",
   "execution_count": 0,
   "metadata": {
    "colab": {},
    "colab_type": "code",
    "id": "u9BmayAh6BWY"
   },
   "outputs": [],
   "source": [
    "least_helpful['bin'] = least_helpful.sentiment.apply(lambda x: x['sentiment'][0])\n",
    "least_helpful['sentiment_value'] = least_helpful.bin.astype(\"category\").cat.codes - 1"
   ]
  },
  {
   "cell_type": "code",
   "execution_count": 27,
   "metadata": {
    "colab": {
     "base_uri": "https://localhost:8080/",
     "height": 34
    },
    "colab_type": "code",
    "id": "u1maQTf56BcJ",
    "outputId": "26321e55-367e-492a-d2ac-957566aa5622"
   },
   "outputs": [
    {
     "data": {
      "text/plain": [
       "0.5987"
      ]
     },
     "execution_count": 27,
     "metadata": {
      "tags": []
     },
     "output_type": "execute_result"
    }
   ],
   "source": [
    "least_helpful['sentiment_value'].mean()"
   ]
  },
  {
   "cell_type": "markdown",
   "metadata": {
    "colab": {},
    "colab_type": "code",
    "id": "v90AIWRM6cVK"
   },
   "source": [
    "Helpful reviews and unhelpful reviews have similar sentiment values. This makes sense because helpful reviews do not necessarily show positive emotions and vice versa."
   ]
  },
  {
   "cell_type": "markdown",
   "metadata": {
    "colab_type": "text",
    "id": "Al4o8FyBJPBM"
   },
   "source": [
    "### TF-IDF\n",
    "What are the top terms in helpful and unhelpful reviews?"
   ]
  },
  {
   "cell_type": "code",
   "execution_count": 0,
   "metadata": {
    "colab": {},
    "colab_type": "code",
    "id": "8ypKHtszJx6l"
   },
   "outputs": [],
   "source": [
    "most_helpful = data[data['helpful_ratio'] == 1.0]\n",
    "least_helpful = data[data['helpful_ratio'] < 0.2]\n",
    "most_helpful = shuffle(most_helpful)[:10000][['review_body']]\n",
    "least_helpful = shuffle(least_helpful)[:10000][['review_body']]"
   ]
  },
  {
   "cell_type": "code",
   "execution_count": 0,
   "metadata": {
    "colab": {},
    "colab_type": "code",
    "id": "3BqbQne9RghL"
   },
   "outputs": [],
   "source": [
    "from pyspark.sql import SparkSession\n",
    "# start spark session\n",
    "spark = SparkSession.builder.master('local[*]').getOrCreate()\n",
    "\n",
    "spark_helpful = spark.createDataFrame(most_helpful)\n",
    "spark_unhelpful = spark.createDataFrame(least_helpful)"
   ]
  },
  {
   "cell_type": "code",
   "execution_count": 0,
   "metadata": {
    "colab": {},
    "colab_type": "code",
    "id": "A927rcB_KIpw"
   },
   "outputs": [],
   "source": [
    "from pyspark.ml.feature import *\n",
    "from pyspark.ml import Pipeline\n",
    "\n",
    "tokenizer = Tokenizer(inputCol=\"review_body\", outputCol=\"words\")\n",
    "remover = StopWordsRemover(inputCol=\"words\", outputCol=\"filtered\")\n",
    "countVect = CountVectorizer(inputCol=\"filtered\", outputCol=\"cv\",  minDF=5.0)\n",
    "idf = IDF(inputCol=\"cv\", outputCol=\"idf\")\n",
    "pipeline = Pipeline(stages=[tokenizer, remover, countVect, idf])"
   ]
  },
  {
   "cell_type": "markdown",
   "metadata": {
    "colab_type": "text",
    "id": "AvnOG1pPPU7d"
   },
   "source": [
    "Helpful Reviews"
   ]
  },
  {
   "cell_type": "code",
   "execution_count": 0,
   "metadata": {
    "colab": {},
    "colab_type": "code",
    "id": "vxMhx1EPKItE"
   },
   "outputs": [],
   "source": [
    "helpful = pipeline.fit(spark_helpful).transform(spark_helpful)"
   ]
  },
  {
   "cell_type": "code",
   "execution_count": 37,
   "metadata": {
    "colab": {
     "base_uri": "https://localhost:8080/",
     "height": 459
    },
    "colab_type": "code",
    "id": "k_u6ZMl9KIwr",
    "outputId": "f0829c30-4d4c-41e2-a086-e9e8bdecb8af"
   },
   "outputs": [
    {
     "name": "stdout",
     "output_type": "stream",
     "text": [
      "+--------------------+--------------------+\n",
      "|            filtered|                 idf|\n",
      "+--------------------+--------------------+\n",
      "|[loved, book,, mr...|(17618,[0,1,3,5,7...|\n",
      "|[amazing, story, ...|(17618,[1,6,19,21...|\n",
      "|[finished, book, ...|(17618,[1,2,3,4,5...|\n",
      "|[nazim, rashid, a...|(17618,[0,1,4,17,...|\n",
      "|[wow, -, word, us...|(17618,[0,1,2,10,...|\n",
      "|[book, profiles, ...|(17618,[0,1,3,5,4...|\n",
      "|[programmers, con...|(17618,[0,1,2,8,1...|\n",
      "|[back, november, ...|(17618,[0,2,4,14,...|\n",
      "|[detailed;, infor...|(17618,[2,12,54,9...|\n",
      "|[zoltan, barbu,, ...|(17618,[0,2,5,8,9...|\n",
      "|[original, much, ...|(17618,[0,1,2,4,1...|\n",
      "|[read, beth, howa...|(17618,[0,4,6,7,8...|\n",
      "|[review, original...|(17618,[0,4,5,6,1...|\n",
      "|[usually, depend,...|(17618,[1,3,4,5,1...|\n",
      "|[fantastic,, mind...|(17618,[48,71,75,...|\n",
      "|[fantastic, book....|(17618,[0,17,25,4...|\n",
      "|[bought, book, en...|(17618,[1,11,12,1...|\n",
      "|[native, english,...|(17618,[1,2,3,6,7...|\n",
      "|[purchased, book,...|(17618,[1,22,30,3...|\n",
      "|[book, rife, clea...|(17618,[1,20,59,1...|\n",
      "+--------------------+--------------------+\n",
      "only showing top 20 rows\n",
      "\n"
     ]
    }
   ],
   "source": [
    "helpful.select(\"filtered\", \"idf\").show()"
   ]
  },
  {
   "cell_type": "code",
   "execution_count": 0,
   "metadata": {
    "colab": {},
    "colab_type": "code",
    "id": "V_82jNQvKI0u"
   },
   "outputs": [],
   "source": [
    "helpful_df = helpful.select(\"filtered\", \"idf\").toPandas()"
   ]
  },
  {
   "cell_type": "code",
   "execution_count": 0,
   "metadata": {
    "colab": {},
    "colab_type": "code",
    "id": "i3B2HhJiLV0e"
   },
   "outputs": [],
   "source": [
    "words = []\n",
    "for index, value in helpful_df['filtered'].iteritems():\n",
    "    words += value\n",
    "\n",
    "features = []\n",
    "for index, value in helpful_df[\"idf\"].iteritems():\n",
    "    dict_val = value.values.tolist()\n",
    "    features += dict_val"
   ]
  },
  {
   "cell_type": "code",
   "execution_count": 0,
   "metadata": {
    "colab": {},
    "colab_type": "code",
    "id": "l0PPTmDdNESW"
   },
   "outputs": [],
   "source": [
    "from operator import itemgetter\n",
    "indices, list_sorted = zip(*sorted(enumerate(features), key=itemgetter(1)))"
   ]
  },
  {
   "cell_type": "code",
   "execution_count": 66,
   "metadata": {
    "colab": {
     "base_uri": "https://localhost:8080/",
     "height": 187
    },
    "colab_type": "code",
    "id": "vBUWjPmeNGQ-",
    "outputId": "1a43a4ad-a1a3-4bf9-e4cb-a0d69fd3d9cc"
   },
   "outputs": [
    {
     "name": "stdout",
     "output_type": "stream",
     "text": [
      "talent\n",
      "able\n",
      "shared\n",
      "fill\n",
      "recognizing\n",
      "class\n",
      "reservations\n",
      "acerbic.\n",
      "edition.\n",
      "history\n"
     ]
    }
   ],
   "source": [
    "for i in indices[:10]:\n",
    "    print(words[i])"
   ]
  },
  {
   "cell_type": "markdown",
   "metadata": {
    "colab_type": "text",
    "id": "o3EIA-2TPZqD"
   },
   "source": [
    "Unhelpful Reviews"
   ]
  },
  {
   "cell_type": "code",
   "execution_count": 0,
   "metadata": {
    "colab": {},
    "colab_type": "code",
    "id": "oIAk_BAUPYiD"
   },
   "outputs": [],
   "source": [
    "unhelpful = pipeline.fit(spark_unhelpful).transform(spark_unhelpful)"
   ]
  },
  {
   "cell_type": "code",
   "execution_count": 0,
   "metadata": {
    "colab": {},
    "colab_type": "code",
    "id": "iM6lpuI5QAb4"
   },
   "outputs": [],
   "source": [
    "unhelpful_df = unhelpful.select(\"filtered\", \"idf\").toPandas()"
   ]
  },
  {
   "cell_type": "code",
   "execution_count": 0,
   "metadata": {
    "colab": {},
    "colab_type": "code",
    "id": "3ce2FNtZQHcK"
   },
   "outputs": [],
   "source": [
    "words = []\n",
    "for index, value in unhelpful_df['filtered'].iteritems():\n",
    "    words += value\n",
    "\n",
    "features = []\n",
    "for index, value in unhelpful_df[\"idf\"].iteritems():\n",
    "    dict_val = value.values.tolist()\n",
    "    features += dict_val"
   ]
  },
  {
   "cell_type": "code",
   "execution_count": 0,
   "metadata": {
    "colab": {},
    "colab_type": "code",
    "id": "UqumBMecQL6f"
   },
   "outputs": [],
   "source": [
    "from operator import itemgetter\n",
    "indices, list_sorted = zip(*sorted(enumerate(features), key=itemgetter(1)))"
   ]
  },
  {
   "cell_type": "code",
   "execution_count": 74,
   "metadata": {
    "colab": {
     "base_uri": "https://localhost:8080/",
     "height": 272
    },
    "colab_type": "code",
    "id": "sjwbSg6rQPit",
    "outputId": "8d0cbb22-a54a-4e41-cb76-58b0705ac29c"
   },
   "outputs": [
    {
     "name": "stdout",
     "output_type": "stream",
     "text": [
      "\n",
      "war.\n",
      "\n",
      "/>.<br\n",
      "moving\n",
      "view\n",
      "kinsey,\n",
      "started\n",
      "read\n",
      "painful...and\n",
      "horrors\n",
      "audiobook,\n",
      "/>1what\n",
      "review.\n",
      "believe\n"
     ]
    }
   ],
   "source": [
    "for i in indices[:15]:\n",
    "    print(words[i])"
   ]
  }
 ],
 "metadata": {
  "colab": {
   "collapsed_sections": [],
   "name": "large-scale-books.ipynb",
   "provenance": []
  },
  "kernelspec": {
   "display_name": "Python 3",
   "language": "python",
   "name": "python3"
  },
  "language_info": {
   "codemirror_mode": {
    "name": "ipython",
    "version": 3
   },
   "file_extension": ".py",
   "mimetype": "text/x-python",
   "name": "python",
   "nbconvert_exporter": "python",
   "pygments_lexer": "ipython3",
   "version": "3.7.3"
  }
 },
 "nbformat": 4,
 "nbformat_minor": 1
}
