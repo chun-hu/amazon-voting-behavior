{
 "cells": [
  {
   "cell_type": "markdown",
   "metadata": {
    "colab_type": "text",
    "id": "EeBO0CJ2Q-G-"
   },
   "source": [
    "## Large Scale Final Project\n",
    "Do Amazon voting behaviors reveal social conformity?\n",
    "Chun Hu"
   ]
  },
  {
   "cell_type": "markdown",
   "metadata": {
    "colab_type": "text",
    "id": "btoSAa_jQ-G_"
   },
   "source": [
    "### Category 2: Music"
   ]
  },
  {
   "cell_type": "code",
   "execution_count": 0,
   "metadata": {
    "colab": {
     "referenced_widgets": [
      "467ae29131624b1f9805a53b4e0bf1d6",
      ""
     ]
    },
    "colab_type": "code",
    "id": "p2eSj_fhQ-HA",
    "outputId": "8d0e942d-010c-4ac1-b496-55a7214879a3"
   },
   "outputs": [
    {
     "data": {
      "application/vnd.jupyter.widget-view+json": {
       "model_id": "467ae29131624b1f9805a53b4e0bf1d6",
       "version_major": 2,
       "version_minor": 0
      },
      "text/plain": [
       "VBox()"
      ]
     },
     "metadata": {
      "tags": []
     },
     "output_type": "display_data"
    },
    {
     "name": "stdout",
     "output_type": "stream",
     "text": [
      "Starting Spark application\n"
     ]
    },
    {
     "data": {
      "text/html": [
       "<table>\n",
       "<tr><th>ID</th><th>YARN Application ID</th><th>Kind</th><th>State</th><th>Spark UI</th><th>Driver log</th><th>Current session?</th></tr><tr><td>1</td><td>application_1591214933999_0002</td><td>pyspark</td><td>idle</td><td><a target=\"_blank\" href=\"http://ip-172-31-2-220.ec2.internal:20888/proxy/application_1591214933999_0002/\">Link</a></td><td><a target=\"_blank\" href=\"http://ip-172-31-2-179.ec2.internal:8042/node/containerlogs/container_1591214933999_0002_01_000001/livy\">Link</a></td><td>✔</td></tr></table>"
      ],
      "text/plain": [
       "<IPython.core.display.HTML object>"
      ]
     },
     "metadata": {
      "tags": []
     },
     "output_type": "display_data"
    },
    {
     "data": {
      "application/vnd.jupyter.widget-view+json": {
       "model_id": "",
       "version_major": 2,
       "version_minor": 0
      },
      "text/plain": [
       "FloatProgress(value=0.0, bar_style='info', description='Progress:', layout=Layout(height='25px', width='50%'),…"
      ]
     },
     "metadata": {
      "tags": []
     },
     "output_type": "display_data"
    },
    {
     "name": "stdout",
     "output_type": "stream",
     "text": [
      "SparkSession available as 'spark'.\n"
     ]
    },
    {
     "data": {
      "application/vnd.jupyter.widget-view+json": {
       "model_id": "",
       "version_major": 2,
       "version_minor": 0
      },
      "text/plain": [
       "FloatProgress(value=0.0, bar_style='info', description='Progress:', layout=Layout(height='25px', width='50%'),…"
      ]
     },
     "metadata": {
      "tags": []
     },
     "output_type": "display_data"
    }
   ],
   "source": [
    "data = spark.read.parquet('s3://amazon-reviews-pds/parquet/product_category=Music/*.parquet')"
   ]
  },
  {
   "cell_type": "code",
   "execution_count": 0,
   "metadata": {
    "colab": {
     "referenced_widgets": [
      "7b9695249c7f4140ba4631c52f50f21d",
      ""
     ]
    },
    "colab_type": "code",
    "id": "HaLsuVNIQ-HG",
    "outputId": "8a27fdc6-80e6-4ab4-e739-f8e4b7accabe"
   },
   "outputs": [
    {
     "data": {
      "application/vnd.jupyter.widget-view+json": {
       "model_id": "7b9695249c7f4140ba4631c52f50f21d",
       "version_major": 2,
       "version_minor": 0
      },
      "text/plain": [
       "VBox()"
      ]
     },
     "metadata": {
      "tags": []
     },
     "output_type": "display_data"
    },
    {
     "data": {
      "application/vnd.jupyter.widget-view+json": {
       "model_id": "",
       "version_major": 2,
       "version_minor": 0
      },
      "text/plain": [
       "FloatProgress(value=0.0, bar_style='info', description='Progress:', layout=Layout(height='25px', width='50%'),…"
      ]
     },
     "metadata": {
      "tags": []
     },
     "output_type": "display_data"
    },
    {
     "name": "stdout",
     "output_type": "stream",
     "text": [
      "Total Columns: 15\n",
      "Total Rows: 6177781\n",
      "root\n",
      " |-- marketplace: string (nullable = true)\n",
      " |-- customer_id: string (nullable = true)\n",
      " |-- review_id: string (nullable = true)\n",
      " |-- product_id: string (nullable = true)\n",
      " |-- product_parent: string (nullable = true)\n",
      " |-- product_title: string (nullable = true)\n",
      " |-- star_rating: integer (nullable = true)\n",
      " |-- helpful_votes: integer (nullable = true)\n",
      " |-- total_votes: integer (nullable = true)\n",
      " |-- vine: string (nullable = true)\n",
      " |-- verified_purchase: string (nullable = true)\n",
      " |-- review_headline: string (nullable = true)\n",
      " |-- review_body: string (nullable = true)\n",
      " |-- review_date: date (nullable = true)\n",
      " |-- year: integer (nullable = true)"
     ]
    }
   ],
   "source": [
    "print('Total Columns: %d' % len(data.dtypes))\n",
    "print('Total Rows: %d' % data.count())\n",
    "data.printSchema()"
   ]
  },
  {
   "cell_type": "code",
   "execution_count": 0,
   "metadata": {
    "colab": {
     "referenced_widgets": [
      "a4ce6844ac8749be8ad594004173b784",
      ""
     ]
    },
    "colab_type": "code",
    "id": "6tmQFzraQ-HL",
    "outputId": "f4c133e0-55bb-444e-eb20-2ed6537d237a"
   },
   "outputs": [
    {
     "data": {
      "application/vnd.jupyter.widget-view+json": {
       "model_id": "a4ce6844ac8749be8ad594004173b784",
       "version_major": 2,
       "version_minor": 0
      },
      "text/plain": [
       "VBox()"
      ]
     },
     "metadata": {
      "tags": []
     },
     "output_type": "display_data"
    },
    {
     "data": {
      "application/vnd.jupyter.widget-view+json": {
       "model_id": "",
       "version_major": 2,
       "version_minor": 0
      },
      "text/plain": [
       "FloatProgress(value=0.0, bar_style='info', description='Progress:', layout=Layout(height='25px', width='50%'),…"
      ]
     },
     "metadata": {
      "tags": []
     },
     "output_type": "display_data"
    },
    {
     "name": "stdout",
     "output_type": "stream",
     "text": [
      "+-----------+-------+\n",
      "|marketplace|  count|\n",
      "+-----------+-------+\n",
      "|         DE| 160599|\n",
      "|         US|5530282|\n",
      "|         UK| 330131|\n",
      "|         FR|  72281|\n",
      "|         JP|  84488|\n",
      "+-----------+-------+"
     ]
    }
   ],
   "source": [
    "data.groupby('marketplace').count().show()"
   ]
  },
  {
   "cell_type": "code",
   "execution_count": 0,
   "metadata": {
    "colab": {
     "referenced_widgets": [
      "8a5788e4348a464fa798a4ee57ff04ab",
      ""
     ]
    },
    "colab_type": "code",
    "id": "bq_s5TFcQ-HO",
    "outputId": "0d2d33e3-b228-466e-fe2d-866b9118ae84"
   },
   "outputs": [
    {
     "data": {
      "application/vnd.jupyter.widget-view+json": {
       "model_id": "8a5788e4348a464fa798a4ee57ff04ab",
       "version_major": 2,
       "version_minor": 0
      },
      "text/plain": [
       "VBox()"
      ]
     },
     "metadata": {
      "tags": []
     },
     "output_type": "display_data"
    },
    {
     "data": {
      "application/vnd.jupyter.widget-view+json": {
       "model_id": "",
       "version_major": 2,
       "version_minor": 0
      },
      "text/plain": [
       "FloatProgress(value=0.0, bar_style='info', description='Progress:', layout=Layout(height='25px', width='50%'),…"
      ]
     },
     "metadata": {
      "tags": []
     },
     "output_type": "display_data"
    }
   ],
   "source": [
    "data = data.withColumn('helpful_ratio', (data.helpful_votes / data.total_votes).cast(\"float\"))\n",
    "data = data.filter('helpful_ratio IS NOT NULL')"
   ]
  },
  {
   "cell_type": "code",
   "execution_count": 0,
   "metadata": {
    "colab": {
     "referenced_widgets": [
      "ba36ac2ffa994a46a5c6dcbcaf32a432",
      ""
     ]
    },
    "colab_type": "code",
    "id": "kUuHxmFaQ-HS",
    "outputId": "9caf126c-61fa-45b9-8667-8cb24a87796a"
   },
   "outputs": [
    {
     "data": {
      "application/vnd.jupyter.widget-view+json": {
       "model_id": "ba36ac2ffa994a46a5c6dcbcaf32a432",
       "version_major": 2,
       "version_minor": 0
      },
      "text/plain": [
       "VBox()"
      ]
     },
     "metadata": {
      "tags": []
     },
     "output_type": "display_data"
    },
    {
     "data": {
      "application/vnd.jupyter.widget-view+json": {
       "model_id": "",
       "version_major": 2,
       "version_minor": 0
      },
      "text/plain": [
       "FloatProgress(value=0.0, bar_style='info', description='Progress:', layout=Layout(height='25px', width='50%'),…"
      ]
     },
     "metadata": {
      "tags": []
     },
     "output_type": "display_data"
    }
   ],
   "source": [
    "avg_rating = data.groupBy('product_id').avg('star_rating')"
   ]
  },
  {
   "cell_type": "code",
   "execution_count": 0,
   "metadata": {
    "colab": {
     "referenced_widgets": [
      "cdeee7c810054ce885ab11932a32f87a",
      ""
     ]
    },
    "colab_type": "code",
    "id": "HJArkRmUQ-HV",
    "outputId": "abc58ca3-7179-4d1e-ed21-0460e2096b9c"
   },
   "outputs": [
    {
     "data": {
      "application/vnd.jupyter.widget-view+json": {
       "model_id": "cdeee7c810054ce885ab11932a32f87a",
       "version_major": 2,
       "version_minor": 0
      },
      "text/plain": [
       "VBox()"
      ]
     },
     "metadata": {
      "tags": []
     },
     "output_type": "display_data"
    },
    {
     "data": {
      "application/vnd.jupyter.widget-view+json": {
       "model_id": "",
       "version_major": 2,
       "version_minor": 0
      },
      "text/plain": [
       "FloatProgress(value=0.0, bar_style='info', description='Progress:', layout=Layout(height='25px', width='50%'),…"
      ]
     },
     "metadata": {
      "tags": []
     },
     "output_type": "display_data"
    }
   ],
   "source": [
    "data_music = data.join(avg_rating, on=['product_id'], how='left_outer')"
   ]
  },
  {
   "cell_type": "code",
   "execution_count": 0,
   "metadata": {
    "colab": {
     "referenced_widgets": [
      "139d456e4749469a94af637c4769c6f1",
      ""
     ]
    },
    "colab_type": "code",
    "id": "qJN_Y--zQ-HY",
    "outputId": "8a1c4c77-06b6-4a61-c411-f508c33bad2c"
   },
   "outputs": [
    {
     "data": {
      "application/vnd.jupyter.widget-view+json": {
       "model_id": "139d456e4749469a94af637c4769c6f1",
       "version_major": 2,
       "version_minor": 0
      },
      "text/plain": [
       "VBox()"
      ]
     },
     "metadata": {
      "tags": []
     },
     "output_type": "display_data"
    },
    {
     "data": {
      "application/vnd.jupyter.widget-view+json": {
       "model_id": "",
       "version_major": 2,
       "version_minor": 0
      },
      "text/plain": [
       "FloatProgress(value=0.0, bar_style='info', description='Progress:', layout=Layout(height='25px', width='50%'),…"
      ]
     },
     "metadata": {
      "tags": []
     },
     "output_type": "display_data"
    },
    {
     "name": "stdout",
     "output_type": "stream",
     "text": [
      "+----------+-----------+-------------+----------------+\n",
      "|product_id|star_rating|helpful_ratio|avg(star_rating)|\n",
      "+----------+-----------+-------------+----------------+\n",
      "|0005465079|          5|          1.0|             5.0|\n",
      "|0195178564|          5|         0.75|             5.0|\n",
      "|0199263094|          4|          0.6|             4.0|\n",
      "|0199263094|          4|          0.6|             4.0|\n",
      "|0517585480|          5|          1.0|             5.0|\n",
      "|0684873206|          5|    0.6666667|             5.0|\n",
      "|0764323636|          5|   0.71428573|             5.0|\n",
      "|0764323636|          5|   0.71428573|             5.0|\n",
      "|0807818283|          5|   0.78571427|             5.0|\n",
      "|0807818283|          5|   0.78571427|             5.0|\n",
      "|0819815586|          5|          1.0|             5.0|\n",
      "|0936861339|          5|          0.6|             5.0|\n",
      "|0949789933|          5|          1.0|             5.0|\n",
      "|0972179917|          5|          1.0|             5.0|\n",
      "|0972179933|          5|          1.0|             5.0|\n",
      "|0972433503|          1|          1.0|             1.0|\n",
      "|0979811902|          5|          1.0|             5.0|\n",
      "|0980357373|          4|          1.0|             4.0|\n",
      "|0980357373|          4|          1.0|             4.0|\n",
      "|0980357373|          5|          1.0|             4.0|\n",
      "+----------+-----------+-------------+----------------+\n",
      "only showing top 20 rows"
     ]
    }
   ],
   "source": [
    "data_music[['product_id', 'star_rating', 'helpful_ratio', 'avg(star_rating)']].show()"
   ]
  },
  {
   "cell_type": "code",
   "execution_count": 0,
   "metadata": {
    "colab": {
     "referenced_widgets": [
      "db964e086d914cbfba8faa16145e90ff",
      ""
     ]
    },
    "colab_type": "code",
    "id": "RkGsZM2gQ-Hc",
    "outputId": "82704e18-1151-4b9a-fcbc-be99ae75efc6"
   },
   "outputs": [
    {
     "data": {
      "application/vnd.jupyter.widget-view+json": {
       "model_id": "db964e086d914cbfba8faa16145e90ff",
       "version_major": 2,
       "version_minor": 0
      },
      "text/plain": [
       "VBox()"
      ]
     },
     "metadata": {
      "tags": []
     },
     "output_type": "display_data"
    },
    {
     "data": {
      "application/vnd.jupyter.widget-view+json": {
       "model_id": "",
       "version_major": 2,
       "version_minor": 0
      },
      "text/plain": [
       "FloatProgress(value=0.0, bar_style='info', description='Progress:', layout=Layout(height='25px', width='50%'),…"
      ]
     },
     "metadata": {
      "tags": []
     },
     "output_type": "display_data"
    }
   ],
   "source": [
    "data_music = data_music.withColumn('avg_rating', data_music[\"avg(star_rating)\"])"
   ]
  },
  {
   "cell_type": "markdown",
   "metadata": {},
   "source": [
    "Descriptive Statistics of products in MUSIC category:"
   ]
  },
  {
   "cell_type": "code",
   "execution_count": 0,
   "metadata": {
    "colab": {
     "referenced_widgets": [
      "3782358659a54dce9ea8c76a5d62c45d",
      ""
     ]
    },
    "colab_type": "code",
    "id": "GSi7SbR2Q-Hf",
    "outputId": "08f35561-1b01-4f9d-fbd1-a190198a944e"
   },
   "outputs": [
    {
     "data": {
      "application/vnd.jupyter.widget-view+json": {
       "model_id": "3782358659a54dce9ea8c76a5d62c45d",
       "version_major": 2,
       "version_minor": 0
      },
      "text/plain": [
       "VBox()"
      ]
     },
     "metadata": {
      "tags": []
     },
     "output_type": "display_data"
    },
    {
     "data": {
      "application/vnd.jupyter.widget-view+json": {
       "model_id": "",
       "version_major": 2,
       "version_minor": 0
      },
      "text/plain": [
       "FloatProgress(value=0.0, bar_style='info', description='Progress:', layout=Layout(height='25px', width='50%'),…"
      ]
     },
     "metadata": {
      "tags": []
     },
     "output_type": "display_data"
    },
    {
     "name": "stdout",
     "output_type": "stream",
     "text": [
      "+-------+------------------+\n",
      "|summary|        avg_rating|\n",
      "+-------+------------------+\n",
      "|  count|           4042884|\n",
      "|   mean| 4.296520008983734|\n",
      "| stddev|0.5644015619358442|\n",
      "|    min|               1.0|\n",
      "|    25%|               4.0|\n",
      "|    50%|  4.39344262295082|\n",
      "|    75%| 4.666666666666667|\n",
      "|    max|               5.0|\n",
      "+-------+------------------+"
     ]
    }
   ],
   "source": [
    "data_music[['avg_rating']].summary().show()"
   ]
  },
  {
   "cell_type": "code",
   "execution_count": 0,
   "metadata": {
    "colab": {
     "referenced_widgets": [
      "e41e6a4cef6d4cb182a572b89904c892",
      ""
     ]
    },
    "colab_type": "code",
    "id": "j06RYyxEQ-Hi",
    "outputId": "b3ab9fe2-988a-4bbf-c0b9-37b76ac2242b"
   },
   "outputs": [
    {
     "data": {
      "application/vnd.jupyter.widget-view+json": {
       "model_id": "e41e6a4cef6d4cb182a572b89904c892",
       "version_major": 2,
       "version_minor": 0
      },
      "text/plain": [
       "VBox()"
      ]
     },
     "metadata": {
      "tags": []
     },
     "output_type": "display_data"
    },
    {
     "data": {
      "application/vnd.jupyter.widget-view+json": {
       "model_id": "",
       "version_major": 2,
       "version_minor": 0
      },
      "text/plain": [
       "FloatProgress(value=0.0, bar_style='info', description='Progress:', layout=Layout(height='25px', width='50%'),…"
      ]
     },
     "metadata": {
      "tags": []
     },
     "output_type": "display_data"
    },
    {
     "name": "stdout",
     "output_type": "stream",
     "text": [
      "+-------+------------------+\n",
      "|summary|     helpful_votes|\n",
      "+-------+------------------+\n",
      "|  count|           4042884|\n",
      "|   mean|  4.21718975859807|\n",
      "| stddev|10.167566223075594|\n",
      "|    min|                 0|\n",
      "|    25%|                 1|\n",
      "|    50%|                 2|\n",
      "|    75%|                 4|\n",
      "|    max|              2181|\n",
      "+-------+------------------+"
     ]
    }
   ],
   "source": [
    "data_music[['helpful_votes']].summary().show()"
   ]
  },
  {
   "cell_type": "code",
   "execution_count": 0,
   "metadata": {
    "colab": {
     "referenced_widgets": [
      "745f8ac0907143c3a7eb8061a2b08eac",
      ""
     ]
    },
    "colab_type": "code",
    "id": "A5Wczmt5Q-Hk",
    "outputId": "1481aa39-fba9-42c6-aad4-aae60ac1cdec"
   },
   "outputs": [
    {
     "data": {
      "application/vnd.jupyter.widget-view+json": {
       "model_id": "745f8ac0907143c3a7eb8061a2b08eac",
       "version_major": 2,
       "version_minor": 0
      },
      "text/plain": [
       "VBox()"
      ]
     },
     "metadata": {
      "tags": []
     },
     "output_type": "display_data"
    },
    {
     "data": {
      "application/vnd.jupyter.widget-view+json": {
       "model_id": "",
       "version_major": 2,
       "version_minor": 0
      },
      "text/plain": [
       "FloatProgress(value=0.0, bar_style='info', description='Progress:', layout=Layout(height='25px', width='50%'),…"
      ]
     },
     "metadata": {
      "tags": []
     },
     "output_type": "display_data"
    }
   ],
   "source": [
    "from  pyspark.sql.functions import abs\n",
    "\n",
    "data_music = data_music.withColumn('rating_diff', abs(data_music.avg_rating - data_music.star_rating).cast(\"float\"))"
   ]
  },
  {
   "cell_type": "code",
   "execution_count": 0,
   "metadata": {
    "colab": {
     "referenced_widgets": [
      "377530f539b34f0c86c328801aab871c",
      ""
     ]
    },
    "colab_type": "code",
    "id": "8mpd5cIaQ-Hn",
    "outputId": "10eca3b8-1ac2-4311-f81a-fa03697f52bc"
   },
   "outputs": [
    {
     "data": {
      "application/vnd.jupyter.widget-view+json": {
       "model_id": "377530f539b34f0c86c328801aab871c",
       "version_major": 2,
       "version_minor": 0
      },
      "text/plain": [
       "VBox()"
      ]
     },
     "metadata": {
      "tags": []
     },
     "output_type": "display_data"
    },
    {
     "data": {
      "application/vnd.jupyter.widget-view+json": {
       "model_id": "",
       "version_major": 2,
       "version_minor": 0
      },
      "text/plain": [
       "FloatProgress(value=0.0, bar_style='info', description='Progress:', layout=Layout(height='25px', width='50%'),…"
      ]
     },
     "metadata": {
      "tags": []
     },
     "output_type": "display_data"
    },
    {
     "name": "stdout",
     "output_type": "stream",
     "text": [
      "+----------+-------------+-----------+\n",
      "|product_id|helpful_ratio|rating_diff|\n",
      "+----------+-------------+-----------+\n",
      "|0005465079|          1.0|        0.0|\n",
      "|0195178564|         0.75|        0.0|\n",
      "|0199263094|          0.6|        0.0|\n",
      "|0199263094|          0.6|        0.0|\n",
      "|0517585480|          1.0|        0.0|\n",
      "|0684873206|    0.6666667|        0.0|\n",
      "|0764323636|   0.71428573|        0.0|\n",
      "|0764323636|   0.71428573|        0.0|\n",
      "|0807818283|   0.78571427|        0.0|\n",
      "|0807818283|   0.78571427|        0.0|\n",
      "|0819815586|          1.0|        0.0|\n",
      "|0936861339|          0.6|        0.0|\n",
      "|0949789933|          1.0|        0.0|\n",
      "|0972179917|          1.0|        0.0|\n",
      "|0972179933|          1.0|        0.0|\n",
      "|0972433503|          1.0|        0.0|\n",
      "|0979811902|          1.0|        0.0|\n",
      "|0980357373|          1.0|        0.0|\n",
      "|0980357373|          1.0|        0.0|\n",
      "|0980357373|          1.0|        0.0|\n",
      "+----------+-------------+-----------+\n",
      "only showing top 20 rows"
     ]
    }
   ],
   "source": [
    "data_music[['product_id', 'helpful_ratio', 'rating_diff']].show()"
   ]
  },
  {
   "cell_type": "code",
   "execution_count": 0,
   "metadata": {
    "colab": {
     "referenced_widgets": [
      "44d4caca43d945fd960b2d0e414baa94",
      ""
     ]
    },
    "colab_type": "code",
    "id": "wV4aZBEeQ-Hr",
    "outputId": "61ce6efb-4ec4-42e3-f6ce-a2124ab41c55"
   },
   "outputs": [
    {
     "data": {
      "application/vnd.jupyter.widget-view+json": {
       "model_id": "44d4caca43d945fd960b2d0e414baa94",
       "version_major": 2,
       "version_minor": 0
      },
      "text/plain": [
       "VBox()"
      ]
     },
     "metadata": {
      "tags": []
     },
     "output_type": "display_data"
    },
    {
     "data": {
      "application/vnd.jupyter.widget-view+json": {
       "model_id": "",
       "version_major": 2,
       "version_minor": 0
      },
      "text/plain": [
       "FloatProgress(value=0.0, bar_style='info', description='Progress:', layout=Layout(height='25px', width='50%'),…"
      ]
     },
     "metadata": {
      "tags": []
     },
     "output_type": "display_data"
    },
    {
     "name": "stdout",
     "output_type": "stream",
     "text": [
      "Collecting seaborn\n",
      "  Using cached https://files.pythonhosted.org/packages/c7/e6/54aaaafd0b87f51dfba92ba73da94151aa3bc179e5fe88fc5dfb3038e860/seaborn-0.10.1-py3-none-any.whl\n",
      "Collecting pandas>=0.22.0 (from seaborn)\n",
      "  Using cached https://files.pythonhosted.org/packages/a4/5f/1b6e0efab4bfb738478919d40b0e3e1a06e3d9996da45eb62a77e9a090d9/pandas-1.0.4-cp37-cp37m-manylinux1_x86_64.whl\n",
      "Requirement already satisfied: numpy>=1.13.3 in /usr/local/lib64/python3.7/site-packages (from seaborn)\n",
      "Collecting scipy>=1.0.1 (from seaborn)\n",
      "  Using cached https://files.pythonhosted.org/packages/dd/82/c1fe128f3526b128cfd185580ba40d01371c5d299fcf7f77968e22dfcc2e/scipy-1.4.1-cp37-cp37m-manylinux1_x86_64.whl\n",
      "Collecting matplotlib>=2.1.2 (from seaborn)\n",
      "  Using cached https://files.pythonhosted.org/packages/b2/c2/71fcf957710f3ba1f09088b35776a799ba7dd95f7c2b195ec800933b276b/matplotlib-3.2.1-cp37-cp37m-manylinux1_x86_64.whl\n",
      "Requirement already satisfied: pytz>=2017.2 in /usr/local/lib/python3.7/site-packages (from pandas>=0.22.0->seaborn)\n",
      "Collecting python-dateutil>=2.6.1 (from pandas>=0.22.0->seaborn)\n",
      "  Using cached https://files.pythonhosted.org/packages/d4/70/d60450c3dd48ef87586924207ae8907090de0b306af2bce5d134d78615cb/python_dateutil-2.8.1-py2.py3-none-any.whl\n",
      "Collecting pyparsing!=2.0.4,!=2.1.2,!=2.1.6,>=2.0.1 (from matplotlib>=2.1.2->seaborn)\n",
      "  Using cached https://files.pythonhosted.org/packages/8a/bb/488841f56197b13700afd5658fc279a2025a39e22449b7cf29864669b15d/pyparsing-2.4.7-py2.py3-none-any.whl\n",
      "Collecting cycler>=0.10 (from matplotlib>=2.1.2->seaborn)\n",
      "  Using cached https://files.pythonhosted.org/packages/f7/d2/e07d3ebb2bd7af696440ce7e754c59dd546ffe1bbe732c8ab68b9c834e61/cycler-0.10.0-py2.py3-none-any.whl\n",
      "Collecting kiwisolver>=1.0.1 (from matplotlib>=2.1.2->seaborn)\n",
      "  Using cached https://files.pythonhosted.org/packages/31/b9/6202dcae729998a0ade30e80ac00f616542ef445b088ec970d407dfd41c0/kiwisolver-1.2.0-cp37-cp37m-manylinux1_x86_64.whl\n",
      "Requirement already satisfied: six>=1.5 in /usr/local/lib/python3.7/site-packages (from python-dateutil>=2.6.1->pandas>=0.22.0->seaborn)\n",
      "Installing collected packages: python-dateutil, pandas, scipy, pyparsing, cycler, kiwisolver, matplotlib, seaborn\n",
      "Successfully installed cycler-0.10.0 kiwisolver-1.2.0 matplotlib-3.2.1 pandas-1.0.4 pyparsing-2.4.7 python-dateutil-2.8.1 scipy-1.4.1 seaborn-0.10.1\n",
      "\n",
      "Requirement already satisfied: pandas in /mnt/tmp/1591218410620-0/lib/python3.7/site-packages\n",
      "Requirement already satisfied: pytz>=2017.2 in /usr/local/lib/python3.7/site-packages (from pandas)\n",
      "Requirement already satisfied: numpy>=1.13.3 in /usr/local/lib64/python3.7/site-packages (from pandas)\n",
      "Requirement already satisfied: python-dateutil>=2.6.1 in /mnt/tmp/1591218410620-0/lib/python3.7/site-packages (from pandas)\n",
      "Requirement already satisfied: six>=1.5 in /usr/local/lib/python3.7/site-packages (from python-dateutil>=2.6.1->pandas)"
     ]
    }
   ],
   "source": [
    "sc.install_pypi_package(\"seaborn\")\n",
    "sc.install_pypi_package(\"pandas\")"
   ]
  },
  {
   "cell_type": "code",
   "execution_count": 0,
   "metadata": {
    "colab": {
     "referenced_widgets": [
      "d742e16343fb41b18c3f43411223f59b",
      ""
     ]
    },
    "colab_type": "code",
    "id": "EPoqf3xDQ-Ht",
    "outputId": "ca40c74d-049c-4f7e-837e-3005f710a6cc"
   },
   "outputs": [
    {
     "data": {
      "application/vnd.jupyter.widget-view+json": {
       "model_id": "d742e16343fb41b18c3f43411223f59b",
       "version_major": 2,
       "version_minor": 0
      },
      "text/plain": [
       "VBox()"
      ]
     },
     "metadata": {
      "tags": []
     },
     "output_type": "display_data"
    },
    {
     "data": {
      "application/vnd.jupyter.widget-view+json": {
       "model_id": "",
       "version_major": 2,
       "version_minor": 0
      },
      "text/plain": [
       "FloatProgress(value=0.0, bar_style='info', description='Progress:', layout=Layout(height='25px', width='50%'),…"
      ]
     },
     "metadata": {
      "tags": []
     },
     "output_type": "display_data"
    },
    {
     "data": {
      "image/png": "[encoded data removed]",
      "text/plain": [
       "<IPython.core.display.Image object>"
      ]
     },
     "metadata": {
      "tags": []
     },
     "output_type": "display_data"
    }
   ],
   "source": [
    "import seaborn as sns\n",
    "import matplotlib.pyplot as plt\n",
    "\n",
    "sampled_df = data_music.sample(fraction=0.0001).toPandas()\n",
    "sampled_df.plot.scatter('rating_diff', 'helpful_ratio')\n",
    "%matplot plt"
   ]
  },
  {
   "cell_type": "markdown",
   "metadata": {},
   "source": [
    "We see that reviews are scattered at low rating differences and high helpfulness ratios."
   ]
  },
  {
   "cell_type": "code",
   "execution_count": 0,
   "metadata": {
    "colab": {
     "referenced_widgets": [
      "064095de8cd444f895d506297c750c73",
      ""
     ]
    },
    "colab_type": "code",
    "id": "5OA1oWLYQ-Hy",
    "outputId": "8130438d-0d39-4c39-f608-59610e2ff9ca"
   },
   "outputs": [
    {
     "data": {
      "application/vnd.jupyter.widget-view+json": {
       "model_id": "064095de8cd444f895d506297c750c73",
       "version_major": 2,
       "version_minor": 0
      },
      "text/plain": [
       "VBox()"
      ]
     },
     "metadata": {
      "tags": []
     },
     "output_type": "display_data"
    },
    {
     "data": {
      "application/vnd.jupyter.widget-view+json": {
       "model_id": "",
       "version_major": 2,
       "version_minor": 0
      },
      "text/plain": [
       "FloatProgress(value=0.0, bar_style='info', description='Progress:', layout=Layout(height='25px', width='50%'),…"
      ]
     },
     "metadata": {
      "tags": []
     },
     "output_type": "display_data"
    }
   ],
   "source": [
    "from pyspark.ml.feature import Bucketizer\n",
    "\n",
    "bucketizer = Bucketizer(splits=[0.0, 0.1, 0.2, 0.3, 0.4, 0.5, 0.6, 0.7, 0.8, 0.9, 1.0],\n",
    "                        inputCol=\"helpful_ratio\", outputCol=\"ratio_buckets\")\n",
    "music_buck = bucketizer.setHandleInvalid(\"keep\").transform(data_music)"
   ]
  },
  {
   "cell_type": "code",
   "execution_count": 0,
   "metadata": {
    "colab": {
     "referenced_widgets": [
      "24321af410734993982a8f3de94a6f68",
      ""
     ]
    },
    "colab_type": "code",
    "id": "YVO16t-ZQ-H0",
    "outputId": "89ecb0a3-a8ad-4994-a0c8-89295cd28ad3"
   },
   "outputs": [
    {
     "data": {
      "application/vnd.jupyter.widget-view+json": {
       "model_id": "24321af410734993982a8f3de94a6f68",
       "version_major": 2,
       "version_minor": 0
      },
      "text/plain": [
       "VBox()"
      ]
     },
     "metadata": {
      "tags": []
     },
     "output_type": "display_data"
    },
    {
     "data": {
      "application/vnd.jupyter.widget-view+json": {
       "model_id": "",
       "version_major": 2,
       "version_minor": 0
      },
      "text/plain": [
       "FloatProgress(value=0.0, bar_style='info', description='Progress:', layout=Layout(height='25px', width='50%'),…"
      ]
     },
     "metadata": {
      "tags": []
     },
     "output_type": "display_data"
    }
   ],
   "source": [
    "from pyspark.sql.functions import udf\n",
    "from pyspark.sql.types import *\n",
    "\n",
    "t = {0.0:\"0.1\", 1.0:\"0.2\", 2.0:\"0.3\", 3.0:\"0.4\", 4.0:\"0.5\", 5.0:\"0.6\", 6.0:\"0.7\", 7.0:\"0.8\", 8.0:\"0.9\", 9.0:\"1.0\"}\n",
    "udf_foo = udf(lambda x: t[x], StringType())\n",
    "music_buck = music_buck.withColumn(\"helpfulness_ratio\", udf_foo(\"ratio_buckets\"))"
   ]
  },
  {
   "cell_type": "code",
   "execution_count": 0,
   "metadata": {
    "colab": {
     "referenced_widgets": [
      "5202f6cd8bf5421e930f40ba893de9cd",
      ""
     ]
    },
    "colab_type": "code",
    "id": "U2wXJPTwQ-H3",
    "outputId": "7696dde8-ea18-4c7c-9260-9b7a8c62e25d"
   },
   "outputs": [
    {
     "data": {
      "application/vnd.jupyter.widget-view+json": {
       "model_id": "5202f6cd8bf5421e930f40ba893de9cd",
       "version_major": 2,
       "version_minor": 0
      },
      "text/plain": [
       "VBox()"
      ]
     },
     "metadata": {
      "tags": []
     },
     "output_type": "display_data"
    },
    {
     "data": {
      "application/vnd.jupyter.widget-view+json": {
       "model_id": "",
       "version_major": 2,
       "version_minor": 0
      },
      "text/plain": [
       "FloatProgress(value=0.0, bar_style='info', description='Progress:', layout=Layout(height='25px', width='50%'),…"
      ]
     },
     "metadata": {
      "tags": []
     },
     "output_type": "display_data"
    },
    {
     "name": "stdout",
     "output_type": "stream",
     "text": [
      "+-----------------+-------------------+\n",
      "|helpfulness_ratio|   avg(rating_diff)|\n",
      "+-----------------+-------------------+\n",
      "|              1.0|0.46388157342359493|\n",
      "|              0.9| 0.6187105372398236|\n",
      "|              0.8| 0.7329351541802753|\n",
      "|              0.7| 0.7952132992474796|\n",
      "|              0.6| 0.8195529773116856|\n",
      "|              0.5|   1.33949051708086|\n",
      "|              0.4| 1.1795959664108882|\n",
      "|              0.3|  1.467828445787607|\n",
      "|              0.2| 1.9119290905970887|\n",
      "+-----------------+-------------------+"
     ]
    }
   ],
   "source": [
    "avg_df = (music_buck.groupBy('helpfulness_ratio')\n",
    "                    .avg('rating_diff')\n",
    "                    .sort('helpfulness_ratio', ascending=False)\n",
    "         )\n",
    "avg_df = avg_df.filter(avg_df.helpfulness_ratio != '0.1')\n",
    "avg_df.show()"
   ]
  },
  {
   "cell_type": "code",
   "execution_count": 0,
   "metadata": {
    "colab": {
     "referenced_widgets": [
      "0bc192c97c3c4ecf9d02d48a378e7b38",
      ""
     ]
    },
    "colab_type": "code",
    "id": "QhGX0NLsQ-H6",
    "outputId": "da2aa62e-0f8b-4490-c639-755ab2ab1389"
   },
   "outputs": [
    {
     "data": {
      "application/vnd.jupyter.widget-view+json": {
       "model_id": "0bc192c97c3c4ecf9d02d48a378e7b38",
       "version_major": 2,
       "version_minor": 0
      },
      "text/plain": [
       "VBox()"
      ]
     },
     "metadata": {
      "tags": []
     },
     "output_type": "display_data"
    },
    {
     "data": {
      "application/vnd.jupyter.widget-view+json": {
       "model_id": "",
       "version_major": 2,
       "version_minor": 0
      },
      "text/plain": [
       "FloatProgress(value=0.0, bar_style='info', description='Progress:', layout=Layout(height='25px', width='50%'),…"
      ]
     },
     "metadata": {
      "tags": []
     },
     "output_type": "display_data"
    },
    {
     "data": {
      "image/png": "[encoded data removed]",
      "text/plain": [
       "<IPython.core.display.Image object>"
      ]
     },
     "metadata": {
      "tags": []
     },
     "output_type": "display_data"
    }
   ],
   "source": [
    "plt.close()\n",
    "\n",
    "sns.barplot(x='helpfulness_ratio', y='avg(rating_diff)', data=avg_df.toPandas())\n",
    "%matplot plt"
   ]
  },
  {
   "cell_type": "markdown",
   "metadata": {},
   "source": [
    "The barplot shows that as helpfulness ratio increases, the difference between review rating and average product rating decreases. This confirms our hypothesis that there is social conformity in voting behaviors."
   ]
  },
  {
   "cell_type": "markdown",
   "metadata": {
    "colab_type": "text",
    "id": "NW7o9yfZQ-H9"
   },
   "source": [
    "### By Marketplace\n",
    "Do different marketplaces (or countries) have different trends?"
   ]
  },
  {
   "cell_type": "code",
   "execution_count": 0,
   "metadata": {
    "colab": {
     "referenced_widgets": [
      "3653e2c98f884196b232b94c6eac0f94",
      ""
     ]
    },
    "colab_type": "code",
    "id": "I2UlGA_aQ-H9",
    "outputId": "1a476eed-0349-4d86-eee1-236b44eee1ce"
   },
   "outputs": [
    {
     "data": {
      "application/vnd.jupyter.widget-view+json": {
       "model_id": "3653e2c98f884196b232b94c6eac0f94",
       "version_major": 2,
       "version_minor": 0
      },
      "text/plain": [
       "VBox()"
      ]
     },
     "metadata": {
      "tags": []
     },
     "output_type": "display_data"
    },
    {
     "data": {
      "application/vnd.jupyter.widget-view+json": {
       "model_id": "",
       "version_major": 2,
       "version_minor": 0
      },
      "text/plain": [
       "FloatProgress(value=0.0, bar_style='info', description='Progress:', layout=Layout(height='25px', width='50%'),…"
      ]
     },
     "metadata": {
      "tags": []
     },
     "output_type": "display_data"
    },
    {
     "name": "stdout",
     "output_type": "stream",
     "text": [
      "root\n",
      " |-- product_id: string (nullable = true)\n",
      " |-- marketplace: string (nullable = true)\n",
      " |-- customer_id: string (nullable = true)\n",
      " |-- review_id: string (nullable = true)\n",
      " |-- product_parent: string (nullable = true)\n",
      " |-- product_title: string (nullable = true)\n",
      " |-- star_rating: integer (nullable = true)\n",
      " |-- helpful_votes: integer (nullable = true)\n",
      " |-- total_votes: integer (nullable = true)\n",
      " |-- vine: string (nullable = true)\n",
      " |-- verified_purchase: string (nullable = true)\n",
      " |-- review_headline: string (nullable = true)\n",
      " |-- review_body: string (nullable = true)\n",
      " |-- review_date: date (nullable = true)\n",
      " |-- year: integer (nullable = true)\n",
      " |-- helpful_ratio: float (nullable = true)\n",
      " |-- avg(star_rating): double (nullable = true)\n",
      " |-- avg_rating: double (nullable = true)\n",
      " |-- rating_diff: float (nullable = true)\n",
      " |-- ratio_buckets: double (nullable = true)\n",
      " |-- helpfulness_ratio: string (nullable = true)"
     ]
    }
   ],
   "source": [
    "music_buck.printSchema()"
   ]
  },
  {
   "cell_type": "code",
   "execution_count": 0,
   "metadata": {
    "colab": {
     "referenced_widgets": [
      "09e9b7401ac2440081c0ebe10a8e28a2",
      ""
     ]
    },
    "colab_type": "code",
    "id": "AF58JqNQQ-H_",
    "outputId": "89aa285d-6035-430b-ae9e-d545168a7cb8"
   },
   "outputs": [
    {
     "data": {
      "application/vnd.jupyter.widget-view+json": {
       "model_id": "09e9b7401ac2440081c0ebe10a8e28a2",
       "version_major": 2,
       "version_minor": 0
      },
      "text/plain": [
       "VBox()"
      ]
     },
     "metadata": {
      "tags": []
     },
     "output_type": "display_data"
    },
    {
     "data": {
      "application/vnd.jupyter.widget-view+json": {
       "model_id": "",
       "version_major": 2,
       "version_minor": 0
      },
      "text/plain": [
       "FloatProgress(value=0.0, bar_style='info', description='Progress:', layout=Layout(height='25px', width='50%'),…"
      ]
     },
     "metadata": {
      "tags": []
     },
     "output_type": "display_data"
    }
   ],
   "source": [
    "us_music = music_buck.filter(music_buck.marketplace == 'US')"
   ]
  },
  {
   "cell_type": "code",
   "execution_count": 0,
   "metadata": {
    "colab": {
     "referenced_widgets": [
      "0950a3fd59994ff2aaea41eb095df890",
      ""
     ]
    },
    "colab_type": "code",
    "id": "Rf5zA_ILQ-IB",
    "outputId": "ce2051a2-8ec9-4e5f-8a63-28f46d79c785"
   },
   "outputs": [
    {
     "data": {
      "application/vnd.jupyter.widget-view+json": {
       "model_id": "0950a3fd59994ff2aaea41eb095df890",
       "version_major": 2,
       "version_minor": 0
      },
      "text/plain": [
       "VBox()"
      ]
     },
     "metadata": {
      "tags": []
     },
     "output_type": "display_data"
    },
    {
     "data": {
      "application/vnd.jupyter.widget-view+json": {
       "model_id": "",
       "version_major": 2,
       "version_minor": 0
      },
      "text/plain": [
       "FloatProgress(value=0.0, bar_style='info', description='Progress:', layout=Layout(height='25px', width='50%'),…"
      ]
     },
     "metadata": {
      "tags": []
     },
     "output_type": "display_data"
    },
    {
     "name": "stdout",
     "output_type": "stream",
     "text": [
      "+-----------------+-------------------+\n",
      "|helpfulness_ratio|                 US|\n",
      "+-----------------+-------------------+\n",
      "|              1.0|0.45820013525114295|\n",
      "|              0.9| 0.6223629307253562|\n",
      "|              0.8| 0.7441895452518562|\n",
      "|              0.7| 0.8058175213156568|\n",
      "|              0.6| 0.8248253987952958|\n",
      "|              0.5| 1.3972216915946234|\n",
      "|              0.4|  1.207343698483641|\n",
      "|              0.3| 1.5160046868067854|\n",
      "|              0.2| 1.9725833336102825|\n",
      "+-----------------+-------------------+"
     ]
    }
   ],
   "source": [
    "avg_us = (us_music.groupBy('helpfulness_ratio')\n",
    "                    .avg('rating_diff')\n",
    "                    .sort('helpfulness_ratio', ascending=False)\n",
    "         )\n",
    "avg_df = avg_us.filter(avg_us.helpfulness_ratio != '0.1')\n",
    "avg_df = avg_df.withColumn('diff', avg_df[\"avg(rating_diff)\"])\n",
    "avg_df = avg_df.selectExpr(\"helpfulness_ratio as helpfulness_ratio\", \"diff as US\")\n",
    "avg_df.show()"
   ]
  },
  {
   "cell_type": "code",
   "execution_count": 0,
   "metadata": {
    "colab": {
     "referenced_widgets": [
      "9ca9f660b215493a91b35b90e564df1c",
      ""
     ]
    },
    "colab_type": "code",
    "id": "Z_L3a9wyQ-ID",
    "outputId": "9fe47b1b-2e95-44d4-e139-26234e49e8f6"
   },
   "outputs": [
    {
     "data": {
      "application/vnd.jupyter.widget-view+json": {
       "model_id": "9ca9f660b215493a91b35b90e564df1c",
       "version_major": 2,
       "version_minor": 0
      },
      "text/plain": [
       "VBox()"
      ]
     },
     "metadata": {
      "tags": []
     },
     "output_type": "display_data"
    },
    {
     "data": {
      "application/vnd.jupyter.widget-view+json": {
       "model_id": "",
       "version_major": 2,
       "version_minor": 0
      },
      "text/plain": [
       "FloatProgress(value=0.0, bar_style='info', description='Progress:', layout=Layout(height='25px', width='50%'),…"
      ]
     },
     "metadata": {
      "tags": []
     },
     "output_type": "display_data"
    }
   ],
   "source": [
    "uk_music = music_buck.filter(music_buck.marketplace == 'UK')"
   ]
  },
  {
   "cell_type": "code",
   "execution_count": 0,
   "metadata": {
    "colab": {
     "referenced_widgets": [
      "ec7ae305718a4bd2851c4e18a4b6c1fa",
      ""
     ]
    },
    "colab_type": "code",
    "id": "eFX4Z3WYQ-IF",
    "outputId": "6e948226-8f39-4e5f-9a54-6646d4afad70"
   },
   "outputs": [
    {
     "data": {
      "application/vnd.jupyter.widget-view+json": {
       "model_id": "ec7ae305718a4bd2851c4e18a4b6c1fa",
       "version_major": 2,
       "version_minor": 0
      },
      "text/plain": [
       "VBox()"
      ]
     },
     "metadata": {
      "tags": []
     },
     "output_type": "display_data"
    },
    {
     "data": {
      "application/vnd.jupyter.widget-view+json": {
       "model_id": "",
       "version_major": 2,
       "version_minor": 0
      },
      "text/plain": [
       "FloatProgress(value=0.0, bar_style='info', description='Progress:', layout=Layout(height='25px', width='50%'),…"
      ]
     },
     "metadata": {
      "tags": []
     },
     "output_type": "display_data"
    },
    {
     "name": "stdout",
     "output_type": "stream",
     "text": [
      "+-----------------+-------------------+------------------+\n",
      "|helpfulness_ratio|                 US|                UK|\n",
      "+-----------------+-------------------+------------------+\n",
      "|              1.0|0.45820013525114295|0.5648219824448493|\n",
      "|              0.9| 0.6223629307253562| 0.623138081547793|\n",
      "|              0.8| 0.7441895452518562|0.7436177884039726|\n",
      "|              0.7| 0.8058175213156568|0.8120383102524047|\n",
      "|              0.6| 0.8248253987952958|0.8416150419138124|\n",
      "|              0.5| 1.3972216915946234|1.3927449845514273|\n",
      "|              0.4|  1.207343698483641|1.1782258163851842|\n",
      "|              0.3| 1.5160046868067854|1.5151519285076775|\n",
      "|              0.2| 1.9725833336102825|2.0594904290134854|\n",
      "+-----------------+-------------------+------------------+"
     ]
    }
   ],
   "source": [
    "avg_uk = (uk_music.groupBy('helpfulness_ratio')\n",
    "                    .avg('rating_diff')\n",
    "                    .sort('helpfulness_ratio', ascending=False)\n",
    "         )\n",
    "avg_uk = avg_uk.filter(avg_uk.helpfulness_ratio != '0.1')\n",
    "avg_uk = avg_uk.withColumn('diff', avg_uk[\"avg(rating_diff)\"])\n",
    "avg_df = avg_df.join(avg_uk, on=['helpfulness_ratio'], how='left_outer')\n",
    "avg_df = avg_df.selectExpr(\"helpfulness_ratio\", \"US\", \"diff as UK\")\n",
    "avg_df.show()"
   ]
  },
  {
   "cell_type": "code",
   "execution_count": 0,
   "metadata": {
    "colab": {
     "referenced_widgets": [
      "7f49eb953e99425b9b12845872d6bed5",
      ""
     ]
    },
    "colab_type": "code",
    "id": "P8MmD9T4Q-IH",
    "outputId": "48c2880a-b1f2-4493-9867-35b1c700a8ee"
   },
   "outputs": [
    {
     "data": {
      "application/vnd.jupyter.widget-view+json": {
       "model_id": "7f49eb953e99425b9b12845872d6bed5",
       "version_major": 2,
       "version_minor": 0
      },
      "text/plain": [
       "VBox()"
      ]
     },
     "metadata": {
      "tags": []
     },
     "output_type": "display_data"
    },
    {
     "data": {
      "application/vnd.jupyter.widget-view+json": {
       "model_id": "",
       "version_major": 2,
       "version_minor": 0
      },
      "text/plain": [
       "FloatProgress(value=0.0, bar_style='info', description='Progress:', layout=Layout(height='25px', width='50%'),…"
      ]
     },
     "metadata": {
      "tags": []
     },
     "output_type": "display_data"
    },
    {
     "name": "stdout",
     "output_type": "stream",
     "text": [
      "+-----------------+-------------------+------------------+------------------+\n",
      "|helpfulness_ratio|                 US|                UK|                DE|\n",
      "+-----------------+-------------------+------------------+------------------+\n",
      "|              1.0|0.45820013525114295|0.5648219824448493|0.5569234639011231|\n",
      "|              0.9| 0.6223629307253562| 0.623138081547793|0.6135353688492013|\n",
      "|              0.8| 0.7441895452518562|0.7436177884039726|0.7184545051052896|\n",
      "|              0.7| 0.8058175213156568|0.8120383102524047|0.7895883645102691|\n",
      "|              0.6| 0.8248253987952958|0.8416150419138124|0.8139841100485287|\n",
      "|              0.5| 1.3972216915946234|1.3927449845514273|1.1833890962817553|\n",
      "|              0.4|  1.207343698483641|1.1782258163851842|1.0895317798764397|\n",
      "|              0.3| 1.5160046868067854|1.5151519285076775|1.2359240426588987|\n",
      "|              0.2| 1.9725833336102825|2.0594904290134854|1.5647639829063005|\n",
      "+-----------------+-------------------+------------------+------------------+"
     ]
    }
   ],
   "source": [
    "de_music = music_buck.filter(music_buck.marketplace == 'DE')\n",
    "\n",
    "avg_de = (de_music.groupBy('helpfulness_ratio')\n",
    "                    .avg('rating_diff')\n",
    "                    .sort('helpfulness_ratio', ascending=False)\n",
    "         )\n",
    "avg_de = avg_de.filter(avg_de.helpfulness_ratio != '0.1')\n",
    "avg_de = avg_de.withColumn('diff', avg_de[\"avg(rating_diff)\"])\n",
    "avg_df = avg_df.join(avg_de, on=['helpfulness_ratio'], how='left_outer')\n",
    "avg_df = avg_df.selectExpr(\"helpfulness_ratio\", \"US\", \"UK\", \"diff as DE\")\n",
    "avg_df.show()"
   ]
  },
  {
   "cell_type": "code",
   "execution_count": 0,
   "metadata": {
    "colab": {
     "referenced_widgets": [
      "77b25bc8305d4a44816d5c19fcaacca3",
      ""
     ]
    },
    "colab_type": "code",
    "id": "8vlXI5o4Q-IL",
    "outputId": "9795f88d-be00-4d33-daa8-c2a3e16f1816"
   },
   "outputs": [
    {
     "data": {
      "application/vnd.jupyter.widget-view+json": {
       "model_id": "77b25bc8305d4a44816d5c19fcaacca3",
       "version_major": 2,
       "version_minor": 0
      },
      "text/plain": [
       "VBox()"
      ]
     },
     "metadata": {
      "tags": []
     },
     "output_type": "display_data"
    },
    {
     "data": {
      "application/vnd.jupyter.widget-view+json": {
       "model_id": "",
       "version_major": 2,
       "version_minor": 0
      },
      "text/plain": [
       "FloatProgress(value=0.0, bar_style='info', description='Progress:', layout=Layout(height='25px', width='50%'),…"
      ]
     },
     "metadata": {
      "tags": []
     },
     "output_type": "display_data"
    }
   ],
   "source": [
    "fr_music = music_buck.filter(music_buck.marketplace == 'FR')\n",
    "\n",
    "avg_fr = (fr_music.groupBy('helpfulness_ratio')\n",
    "                    .avg('rating_diff')\n",
    "                    .sort('helpfulness_ratio', ascending=False)\n",
    "         )\n",
    "avg_fr = avg_fr.filter(avg_fr.helpfulness_ratio != '0.1')\n",
    "avg_fr = avg_fr.withColumn('diff', avg_fr[\"avg(rating_diff)\"])\n",
    "avg_df = avg_df.join(avg_fr, on=['helpfulness_ratio'], how='left_outer')\n",
    "avg_df = avg_df.selectExpr(\"helpfulness_ratio\", \"US\", \"UK\", \"DE\", \"diff as FR\")"
   ]
  },
  {
   "cell_type": "code",
   "execution_count": 0,
   "metadata": {
    "colab": {
     "referenced_widgets": [
      "f960f82ac7c247a6ae6a166e89452311",
      ""
     ]
    },
    "colab_type": "code",
    "id": "_xOU2mW5Q-IO",
    "outputId": "3c6cc9b3-b459-40e4-f225-0a2b154955b6"
   },
   "outputs": [
    {
     "data": {
      "application/vnd.jupyter.widget-view+json": {
       "model_id": "f960f82ac7c247a6ae6a166e89452311",
       "version_major": 2,
       "version_minor": 0
      },
      "text/plain": [
       "VBox()"
      ]
     },
     "metadata": {
      "tags": []
     },
     "output_type": "display_data"
    },
    {
     "data": {
      "application/vnd.jupyter.widget-view+json": {
       "model_id": "",
       "version_major": 2,
       "version_minor": 0
      },
      "text/plain": [
       "FloatProgress(value=0.0, bar_style='info', description='Progress:', layout=Layout(height='25px', width='50%'),…"
      ]
     },
     "metadata": {
      "tags": []
     },
     "output_type": "display_data"
    }
   ],
   "source": [
    "jp_music = music_buck.filter(music_buck.marketplace == 'JP')\n",
    "\n",
    "avg_jp = (jp_music.groupBy('helpfulness_ratio')\n",
    "                    .avg('rating_diff')\n",
    "                    .sort('helpfulness_ratio', ascending=False)\n",
    "         )\n",
    "avg_jp = avg_jp.filter(avg_jp.helpfulness_ratio != '0.1')\n",
    "avg_jp = avg_jp.withColumn('diff', avg_jp[\"avg(rating_diff)\"])\n",
    "avg_df = avg_df.join(avg_jp, on=['helpfulness_ratio'], how='left_outer')\n",
    "avg_df = avg_df.selectExpr(\"helpfulness_ratio\", \"US\", \"UK\", \"DE\", \"FR\", \"diff as JP\")"
   ]
  },
  {
   "cell_type": "code",
   "execution_count": 0,
   "metadata": {
    "colab": {
     "referenced_widgets": [
      "9de0bc3741f143dfbf443a1aa715ea72",
      ""
     ]
    },
    "colab_type": "code",
    "id": "7c8w7yZ6Q-IQ",
    "outputId": "a17f1419-4841-4a67-abbf-f6f3f6db81af"
   },
   "outputs": [
    {
     "data": {
      "application/vnd.jupyter.widget-view+json": {
       "model_id": "9de0bc3741f143dfbf443a1aa715ea72",
       "version_major": 2,
       "version_minor": 0
      },
      "text/plain": [
       "VBox()"
      ]
     },
     "metadata": {
      "tags": []
     },
     "output_type": "display_data"
    },
    {
     "data": {
      "application/vnd.jupyter.widget-view+json": {
       "model_id": "",
       "version_major": 2,
       "version_minor": 0
      },
      "text/plain": [
       "FloatProgress(value=0.0, bar_style='info', description='Progress:', layout=Layout(height='25px', width='50%'),…"
      ]
     },
     "metadata": {
      "tags": []
     },
     "output_type": "display_data"
    },
    {
     "data": {
      "image/png": "[encoded data removed]",
      "text/plain": [
       "<IPython.core.display.Image object>"
      ]
     },
     "metadata": {
      "tags": []
     },
     "output_type": "display_data"
    }
   ],
   "source": [
    "# plot for all countries\n",
    "plt.close()\n",
    "\n",
    "US, = plt.plot('helpfulness_ratio', 'US', data=avg_df.toPandas(), label=\"US\")\n",
    "UK, = plt.plot('helpfulness_ratio', 'UK', data=avg_df.toPandas(), label=\"UK\")\n",
    "DE, = plt.plot('helpfulness_ratio', 'DE', data=avg_df.toPandas(), label=\"DE\")\n",
    "FR, = plt.plot('helpfulness_ratio', 'FR', data=avg_df.toPandas(), label=\"FR\")\n",
    "JP, = plt.plot('helpfulness_ratio', 'JP', data=avg_df.toPandas(), label=\"JP\")\n",
    "plt.legend(handles=[US, UK, DE, FR, JP])\n",
    "plt.xlabel('helpfulness ratio')\n",
    "plt.ylabel('average rating difference')\n",
    "%matplot plt"
   ]
  },
  {
   "cell_type": "markdown",
   "metadata": {
    "colab": {},
    "colab_type": "code",
    "id": "H1UT2NvsQ-IS"
   },
   "source": [
    "Similar to trends in Book category, the lineplot shows that voting behaviors in all marketplaces reveal trends for social conformity. We also reviews in Japan have more gentle increase in average rating difference compared to those in other marketplaces. This is a potential evidence that collectivist countries tend to show higher conformity. However, we need more data and analysis to validate our results."
   ]
  },
  {
   "cell_type": "markdown",
   "metadata": {
    "colab_type": "text",
    "id": "G7G1mc7FRL4y"
   },
   "source": [
    "### Sentiment Analysis\n",
    "What are some characteristics of reviews that have high or low helpfulness ratio?"
   ]
  },
  {
   "cell_type": "code",
   "execution_count": 1,
   "metadata": {
    "colab": {
     "base_uri": "https://localhost:8080/",
     "height": 445
    },
    "colab_type": "code",
    "id": "lI3R6YVsRVfJ",
    "outputId": "92fc7c79-0cd2-4b7d-e38d-203a3db273ea"
   },
   "outputs": [
    {
     "name": "stdout",
     "output_type": "stream",
     "text": [
      "openjdk version \"1.8.0_252\"\n",
      "OpenJDK Runtime Environment (build 1.8.0_252-8u252-b09-1~18.04-b09)\n",
      "OpenJDK 64-Bit Server VM (build 25.252-b09, mixed mode)\n",
      "Collecting pyspark==2.4.4\n",
      "\u001b[?25l  Downloading https://files.pythonhosted.org/packages/87/21/f05c186f4ddb01d15d0ddc36ef4b7e3cedbeb6412274a41f26b55a650ee5/pyspark-2.4.4.tar.gz (215.7MB)\n",
      "\u001b[K     |████████████████████████████████| 215.7MB 52kB/s \n",
      "\u001b[?25hCollecting py4j==0.10.7\n",
      "\u001b[?25l  Downloading https://files.pythonhosted.org/packages/e3/53/c737818eb9a7dc32a7cd4f1396e787bd94200c3997c72c1dbe028587bd76/py4j-0.10.7-py2.py3-none-any.whl (197kB)\n",
      "\u001b[K     |████████████████████████████████| 204kB 44.1MB/s \n",
      "\u001b[?25hBuilding wheels for collected packages: pyspark\n",
      "  Building wheel for pyspark (setup.py) ... \u001b[?25l\u001b[?25hdone\n",
      "  Created wheel for pyspark: filename=pyspark-2.4.4-py2.py3-none-any.whl size=216130388 sha256=0c5a9f295fab77a3a6bb7280815267d2ede682648314cc03a9ffde5662ba4c3a\n",
      "  Stored in directory: /root/.cache/pip/wheels/ab/09/4d/0d184230058e654eb1b04467dbc1292f00eaa186544604b471\n",
      "Successfully built pyspark\n",
      "Installing collected packages: py4j, pyspark\n",
      "Successfully installed py4j-0.10.7 pyspark-2.4.4\n",
      "Collecting spark-nlp==2.5.1\n",
      "\u001b[?25l  Downloading https://files.pythonhosted.org/packages/df/b4/db653f8080a446de8ce981b262d85c85c61de7e920930726da0d1c6b4c65/spark_nlp-2.5.1-py2.py3-none-any.whl (121kB)\n",
      "\u001b[K     |████████████████████████████████| 122kB 3.5MB/s \n",
      "\u001b[?25hInstalling collected packages: spark-nlp\n",
      "Successfully installed spark-nlp-2.5.1\n",
      "Spark NLP version\n",
      "Apache Spark version\n"
     ]
    },
    {
     "data": {
      "text/plain": [
       "'2.4.4'"
      ]
     },
     "execution_count": 1,
     "metadata": {
      "tags": []
     },
     "output_type": "execute_result"
    }
   ],
   "source": [
    "import os\n",
    "\n",
    "# Install java\n",
    "! apt-get install -y openjdk-8-jdk-headless -qq > /dev/null\n",
    "os.environ[\"JAVA_HOME\"] = \"/usr/lib/jvm/java-8-openjdk-amd64\"\n",
    "os.environ[\"PATH\"] = os.environ[\"JAVA_HOME\"] + \"/bin:\" + os.environ[\"PATH\"]\n",
    "! java -version\n",
    "\n",
    "# Install pyspark\n",
    "! pip install --ignore-installed pyspark==2.4.4\n",
    "\n",
    "# Install Spark NLP\n",
    "! pip install --ignore-installed spark-nlp==2.5.1\n",
    "\n",
    "# Quick SparkSession start\n",
    "import sparknlp\n",
    "spark = sparknlp.start()\n",
    "\n",
    "print(\"Spark NLP version\")\n",
    "sparknlp.version()\n",
    "print(\"Apache Spark version\")\n",
    "spark.version"
   ]
  },
  {
   "cell_type": "code",
   "execution_count": 2,
   "metadata": {
    "colab": {
     "base_uri": "https://localhost:8080/",
     "height": 122
    },
    "colab_type": "code",
    "id": "uWWmXrs8RaGz",
    "outputId": "ca60afbd-f0e5-4654-df68-0d6443ec7f51"
   },
   "outputs": [
    {
     "name": "stdout",
     "output_type": "stream",
     "text": [
      "Go to this URL in a browser: https://accounts.google.com/o/oauth2/auth?client_id=947318989803-6bn6qk8qdgf4n4g3pfee6491hc0brc4i.apps.googleusercontent.com&redirect_uri=urn%3aietf%3awg%3aoauth%3a2.0%3aoob&response_type=code&scope=email%20https%3a%2f%2fwww.googleapis.com%2fauth%2fdocs.test%20https%3a%2f%2fwww.googleapis.com%2fauth%2fdrive%20https%3a%2f%2fwww.googleapis.com%2fauth%2fdrive.photos.readonly%20https%3a%2f%2fwww.googleapis.com%2fauth%2fpeopleapi.readonly\n",
      "\n",
      "Enter your authorization code:\n",
      "··········\n",
      "Mounted at /content/drive/\n"
     ]
    }
   ],
   "source": [
    "from google.colab import drive\n",
    "drive.mount('/content/drive/')"
   ]
  },
  {
   "cell_type": "code",
   "execution_count": 0,
   "metadata": {
    "colab": {},
    "colab_type": "code",
    "id": "c8tnHu2ARwmR"
   },
   "outputs": [],
   "source": [
    "import glob\n",
    "import pandas as pd\n",
    "\n",
    "file_path = glob.glob(\"/content/drive/My Drive/amazon-reviews-dataset/*\")\n",
    "file = file_path[4]\n",
    "\n",
    "with open(file) as tsvfile:\n",
    "    col_names = [\"marketplace\", \"customer_id\", \"review_id\", \"product_id\", \"product_parent\", \"product_title\",\n",
    "               \"category\", \"star_rating\", \"helpful_votes\", \"total_votes\", \"vine\", \"verified_purchase\", \n",
    "               \"review_headline\", \"review_body\", \"review_date\"]\n",
    "    data = pd.read_csv(file, sep='\\t', names=col_names, skiprows=1000000, low_memory=False)"
   ]
  },
  {
   "cell_type": "code",
   "execution_count": 8,
   "metadata": {
    "colab": {
     "base_uri": "https://localhost:8080/",
     "height": 479
    },
    "colab_type": "code",
    "id": "P1uePp60SVEa",
    "outputId": "7421862c-67e9-4bb0-884b-173f7722764f"
   },
   "outputs": [
    {
     "data": {
      "text/html": [
       "<div>\n",
       "<style scoped>\n",
       "    .dataframe tbody tr th:only-of-type {\n",
       "        vertical-align: middle;\n",
       "    }\n",
       "\n",
       "    .dataframe tbody tr th {\n",
       "        vertical-align: top;\n",
       "    }\n",
       "\n",
       "    .dataframe thead th {\n",
       "        text-align: right;\n",
       "    }\n",
       "</style>\n",
       "<table border=\"1\" class=\"dataframe\">\n",
       "  <thead>\n",
       "    <tr style=\"text-align: right;\">\n",
       "      <th></th>\n",
       "      <th>marketplace</th>\n",
       "      <th>customer_id</th>\n",
       "      <th>review_id</th>\n",
       "      <th>product_id</th>\n",
       "      <th>product_parent</th>\n",
       "      <th>product_title</th>\n",
       "      <th>category</th>\n",
       "      <th>star_rating</th>\n",
       "      <th>helpful_votes</th>\n",
       "      <th>total_votes</th>\n",
       "      <th>vine</th>\n",
       "      <th>verified_purchase</th>\n",
       "      <th>review_headline</th>\n",
       "      <th>review_body</th>\n",
       "      <th>review_date</th>\n",
       "      <th>helpful_ratio</th>\n",
       "    </tr>\n",
       "  </thead>\n",
       "  <tbody>\n",
       "    <tr>\n",
       "      <th>1</th>\n",
       "      <td>US</td>\n",
       "      <td>12112602</td>\n",
       "      <td>R3PDTOL0C6OZHY</td>\n",
       "      <td>B00DTXB9EG</td>\n",
       "      <td>102242184</td>\n",
       "      <td>Scream for Love</td>\n",
       "      <td>Music</td>\n",
       "      <td>1</td>\n",
       "      <td>3.0</td>\n",
       "      <td>3.0</td>\n",
       "      <td>N</td>\n",
       "      <td>N</td>\n",
       "      <td>Probably the worst artist releasing music righ...</td>\n",
       "      <td>Don't waste your money or time on this garbage...</td>\n",
       "      <td>2014-03-03</td>\n",
       "      <td>1.0</td>\n",
       "    </tr>\n",
       "    <tr>\n",
       "      <th>9</th>\n",
       "      <td>US</td>\n",
       "      <td>47627544</td>\n",
       "      <td>R3133ZF6V9233E</td>\n",
       "      <td>B00005AURI</td>\n",
       "      <td>88824676</td>\n",
       "      <td>Snoopy's Classiks: Animal Party</td>\n",
       "      <td>Music</td>\n",
       "      <td>5</td>\n",
       "      <td>1.0</td>\n",
       "      <td>1.0</td>\n",
       "      <td>N</td>\n",
       "      <td>Y</td>\n",
       "      <td>snoopy cd</td>\n",
       "      <td>I love it and all the children in my class lov...</td>\n",
       "      <td>2014-03-03</td>\n",
       "      <td>1.0</td>\n",
       "    </tr>\n",
       "    <tr>\n",
       "      <th>15</th>\n",
       "      <td>US</td>\n",
       "      <td>12215461</td>\n",
       "      <td>R2BF3NSFIIIHN8</td>\n",
       "      <td>B00008J2DQ</td>\n",
       "      <td>230104644</td>\n",
       "      <td>Faceless</td>\n",
       "      <td>Music</td>\n",
       "      <td>5</td>\n",
       "      <td>1.0</td>\n",
       "      <td>1.0</td>\n",
       "      <td>N</td>\n",
       "      <td>Y</td>\n",
       "      <td>sweet</td>\n",
       "      <td>girlfriend just got into godsmack. didnt have ...</td>\n",
       "      <td>2014-03-03</td>\n",
       "      <td>1.0</td>\n",
       "    </tr>\n",
       "    <tr>\n",
       "      <th>16</th>\n",
       "      <td>US</td>\n",
       "      <td>44832598</td>\n",
       "      <td>R2LB2GULRAED49</td>\n",
       "      <td>B006IIA1N4</td>\n",
       "      <td>263028915</td>\n",
       "      <td>Liquid Crystal Project 3</td>\n",
       "      <td>Music</td>\n",
       "      <td>5</td>\n",
       "      <td>2.0</td>\n",
       "      <td>2.0</td>\n",
       "      <td>N</td>\n",
       "      <td>Y</td>\n",
       "      <td>Good music</td>\n",
       "      <td>It's awesome and I would recommend it to anyon...</td>\n",
       "      <td>2014-03-03</td>\n",
       "      <td>1.0</td>\n",
       "    </tr>\n",
       "    <tr>\n",
       "      <th>17</th>\n",
       "      <td>US</td>\n",
       "      <td>15426850</td>\n",
       "      <td>RJ7PTYFDKI8ZD</td>\n",
       "      <td>B000002AJJ</td>\n",
       "      <td>780988582</td>\n",
       "      <td>If I Ruled the World - Songs for the Jet Set</td>\n",
       "      <td>Music</td>\n",
       "      <td>5</td>\n",
       "      <td>3.0</td>\n",
       "      <td>3.0</td>\n",
       "      <td>N</td>\n",
       "      <td>Y</td>\n",
       "      <td>They Just Don't Make 'Em Like This, Anymore</td>\n",
       "      <td>I am a professional musician, specializing in ...</td>\n",
       "      <td>2014-03-03</td>\n",
       "      <td>1.0</td>\n",
       "    </tr>\n",
       "  </tbody>\n",
       "</table>\n",
       "</div>"
      ],
      "text/plain": [
       "   marketplace  customer_id  ... review_date helpful_ratio\n",
       "1           US     12112602  ...  2014-03-03           1.0\n",
       "9           US     47627544  ...  2014-03-03           1.0\n",
       "15          US     12215461  ...  2014-03-03           1.0\n",
       "16          US     44832598  ...  2014-03-03           1.0\n",
       "17          US     15426850  ...  2014-03-03           1.0\n",
       "\n",
       "[5 rows x 16 columns]"
      ]
     },
     "execution_count": 8,
     "metadata": {
      "tags": []
     },
     "output_type": "execute_result"
    }
   ],
   "source": [
    "data['helpful_ratio'] = data['helpful_votes'] / data['total_votes']\n",
    "data = data[data['helpful_ratio'].notnull()]\n",
    "data.head()"
   ]
  },
  {
   "cell_type": "code",
   "execution_count": 10,
   "metadata": {
    "colab": {
     "base_uri": "https://localhost:8080/",
     "height": 34
    },
    "colab_type": "code",
    "id": "2CFNutK8S6Ix",
    "outputId": "8e3a279a-a9d7-4312-e30b-db9e3c458b31"
   },
   "outputs": [
    {
     "data": {
      "text/plain": [
       "(1285783, 16)"
      ]
     },
     "execution_count": 10,
     "metadata": {
      "tags": []
     },
     "output_type": "execute_result"
    }
   ],
   "source": [
    "most_helpful = data[data['helpful_ratio'] == 1.0]\n",
    "most_helpful.shape"
   ]
  },
  {
   "cell_type": "code",
   "execution_count": 11,
   "metadata": {
    "colab": {
     "base_uri": "https://localhost:8080/",
     "height": 34
    },
    "colab_type": "code",
    "id": "CZhLZMdjTAq_",
    "outputId": "60ebd159-7116-4fdb-e403-142e1f7cbd36"
   },
   "outputs": [
    {
     "data": {
      "text/plain": [
       "(376617, 16)"
      ]
     },
     "execution_count": 11,
     "metadata": {
      "tags": []
     },
     "output_type": "execute_result"
    }
   ],
   "source": [
    "least_helpful = data[data['helpful_ratio'] <= 0.2]\n",
    "least_helpful.shape"
   ]
  },
  {
   "cell_type": "code",
   "execution_count": 0,
   "metadata": {
    "colab": {},
    "colab_type": "code",
    "id": "Lrz7xtp1TD4O"
   },
   "outputs": [],
   "source": [
    "from sklearn.utils import shuffle\n",
    "most_helpful = shuffle(most_helpful)[:10000]\n",
    "least_helpful = shuffle(least_helpful)[:10000]"
   ]
  },
  {
   "cell_type": "code",
   "execution_count": 13,
   "metadata": {
    "colab": {
     "base_uri": "https://localhost:8080/",
     "height": 68
    },
    "colab_type": "code",
    "id": "ft8sa07PTJGs",
    "outputId": "a5cd0ee4-62c8-44ab-bc9f-eb8156202ce2"
   },
   "outputs": [
    {
     "name": "stdout",
     "output_type": "stream",
     "text": [
      "analyze_sentiment download started this may take some time.\n",
      "Approx size to download 4.9 MB\n",
      "[OK!]\n"
     ]
    }
   ],
   "source": [
    "from sparknlp.pretrained import PretrainedPipeline\n",
    "\n",
    "pipeline = PretrainedPipeline('analyze_sentiment', lang='en')\n",
    "most_helpful['sentiment'] = most_helpful['review_body'].apply(pipeline.annotate)"
   ]
  },
  {
   "cell_type": "code",
   "execution_count": 0,
   "metadata": {
    "colab": {},
    "colab_type": "code",
    "id": "knSeHtixWL_H"
   },
   "outputs": [],
   "source": [
    "most_helpful['bin'] = most_helpful.sentiment.apply(lambda x: x['sentiment'][0])\n",
    "most_helpful['sentiment_value'] = most_helpful.bin.astype(\"category\").cat.codes - 1"
   ]
  },
  {
   "cell_type": "code",
   "execution_count": 15,
   "metadata": {
    "colab": {
     "base_uri": "https://localhost:8080/",
     "height": 34
    },
    "colab_type": "code",
    "id": "I0Kci7IlWQOh",
    "outputId": "72a5686c-7773-4434-8ede-da7e69926d4a"
   },
   "outputs": [
    {
     "data": {
      "text/plain": [
       "0.4727"
      ]
     },
     "execution_count": 15,
     "metadata": {
      "tags": []
     },
     "output_type": "execute_result"
    }
   ],
   "source": [
    "most_helpful['sentiment_value'].mean()"
   ]
  },
  {
   "cell_type": "code",
   "execution_count": 0,
   "metadata": {
    "colab": {},
    "colab_type": "code",
    "id": "5vdarlstWRro"
   },
   "outputs": [],
   "source": [
    "least_helpful['sentiment'] = least_helpful['review_body'].apply(pipeline.annotate)"
   ]
  },
  {
   "cell_type": "code",
   "execution_count": 0,
   "metadata": {
    "colab": {},
    "colab_type": "code",
    "id": "3JjNhPF0YlWL"
   },
   "outputs": [],
   "source": [
    "least_helpful['bin'] = least_helpful.sentiment.apply(lambda x: x['sentiment'][0])\n",
    "least_helpful['sentiment_value'] = least_helpful.bin.astype(\"category\").cat.codes - 1"
   ]
  },
  {
   "cell_type": "code",
   "execution_count": 18,
   "metadata": {
    "colab": {
     "base_uri": "https://localhost:8080/",
     "height": 34
    },
    "colab_type": "code",
    "id": "DEJS7_hRYrrL",
    "outputId": "e67e652f-8719-4013-ef05-cc0774571ec8"
   },
   "outputs": [
    {
     "data": {
      "text/plain": [
       "0.4799"
      ]
     },
     "execution_count": 18,
     "metadata": {
      "tags": []
     },
     "output_type": "execute_result"
    }
   ],
   "source": [
    "least_helpful['sentiment_value'].mean()"
   ]
  },
  {
   "cell_type": "markdown",
   "metadata": {},
   "source": [
    "Helpful reviews and unhelpful reviews have similar sentiment values."
   ]
  },
  {
   "cell_type": "markdown",
   "metadata": {
    "colab_type": "text",
    "id": "VjuLLntWYuWI"
   },
   "source": [
    "### TF-IDF\n",
    "What are the top terms in helpful and unhelpful reviews?"
   ]
  },
  {
   "cell_type": "code",
   "execution_count": 0,
   "metadata": {
    "colab": {},
    "colab_type": "code",
    "id": "nDi6A6IVYwqc"
   },
   "outputs": [],
   "source": [
    "most_helpful = data[data['helpful_ratio'] == 1.0]\n",
    "least_helpful = data[data['helpful_ratio'] < 0.2]\n",
    "most_helpful = shuffle(most_helpful)[:10000][['review_body']]\n",
    "least_helpful = shuffle(least_helpful)[:10000][['review_body']]"
   ]
  },
  {
   "cell_type": "code",
   "execution_count": 0,
   "metadata": {
    "colab": {},
    "colab_type": "code",
    "id": "8XdhiiVdZB2U"
   },
   "outputs": [],
   "source": [
    "from pyspark.sql import SparkSession\n",
    "# start spark session configured for spark nlp\n",
    "spark = SparkSession.builder.master('local[*]').getOrCreate()\n",
    "\n",
    "spark_helpful = spark.createDataFrame(most_helpful)\n",
    "spark_unhelpful = spark.createDataFrame(least_helpful)"
   ]
  },
  {
   "cell_type": "code",
   "execution_count": 0,
   "metadata": {
    "colab": {},
    "colab_type": "code",
    "id": "jO3sgzTjZJsI"
   },
   "outputs": [],
   "source": [
    "from pyspark.ml.feature import *\n",
    "from pyspark.ml import Pipeline\n",
    "\n",
    "tokenizer = Tokenizer(inputCol=\"review_body\", outputCol=\"words\")\n",
    "remover = StopWordsRemover(inputCol=\"words\", outputCol=\"filtered\")\n",
    "countVect = CountVectorizer(inputCol=\"filtered\", outputCol=\"cv\",  minDF=5.0)\n",
    "idf = IDF(inputCol=\"cv\", outputCol=\"idf\")\n",
    "pipeline = Pipeline(stages=[tokenizer, remover, countVect, idf])"
   ]
  },
  {
   "cell_type": "markdown",
   "metadata": {
    "colab_type": "text",
    "id": "eFMkFXQHZYBA"
   },
   "source": [
    "Helpful Reviews"
   ]
  },
  {
   "cell_type": "code",
   "execution_count": 0,
   "metadata": {
    "colab": {},
    "colab_type": "code",
    "id": "b8BpWscMZaOi"
   },
   "outputs": [],
   "source": [
    "helpful = pipeline.fit(spark_helpful).transform(spark_helpful)"
   ]
  },
  {
   "cell_type": "code",
   "execution_count": 23,
   "metadata": {
    "colab": {
     "base_uri": "https://localhost:8080/",
     "height": 459
    },
    "colab_type": "code",
    "id": "TH5Fj5E1Zh_s",
    "outputId": "d693c193-336e-44cd-d076-945853c35fe3"
   },
   "outputs": [
    {
     "name": "stdout",
     "output_type": "stream",
     "text": [
      "+--------------------+--------------------+\n",
      "|            filtered|                 idf|\n",
      "+--------------------+--------------------+\n",
      "|[first, album, pu...|(15233,[1,2,4,11,...|\n",
      "|[griegs, piano, c...|(15233,[0,2,6,8,1...|\n",
      "|[return, cd., , f...|(15233,[0,3,4,18,...|\n",
      "|[pleasure, living...|(15233,[0,4,5,17,...|\n",
      "|[neil, tim, finn,...|(15233,[0,1,6,7,1...|\n",
      "|[looking, long, i...|(15233,[12,29,35,...|\n",
      "|[spirit, fiddle, ...|(15233,[0,2,3,10,...|\n",
      "|[3, cd, box, set,...|(15233,[5,35,92,9...|\n",
      "|[first, off,, bou...|(15233,[2,3,5,12,...|\n",
      "|[immaculate, perf...|(15233,[3,6,12,16...|\n",
      "|[chose, rememberi...|(15233,[4,30,60,7...|\n",
      "|[often, compilati...|(15233,[0,2,20,21...|\n",
      "|[couple, kabib, k...|(15233,[0,2,4,7,2...|\n",
      "|[relaxing,, prett...|(15233,[3,4,16,14...|\n",
      "|[absolutely, enjo...|(15233,[0,2,5,7,1...|\n",
      "|[singers, come, g...|(15233,[2,3,5,6,9...|\n",
      "|['pull, in', sple...|(15233,[0,2,3,6,1...|\n",
      "|[first, watched, ...|(15233,[1,3,5,12,...|\n",
      "|[college,, knew, ...|(15233,[1,2,3,6,1...|\n",
      "|[without, doubt,,...|(15233,[0,1,2,6,7...|\n",
      "+--------------------+--------------------+\n",
      "only showing top 20 rows\n",
      "\n"
     ]
    }
   ],
   "source": [
    "helpful.select(\"filtered\", \"idf\").show()"
   ]
  },
  {
   "cell_type": "code",
   "execution_count": 0,
   "metadata": {
    "colab": {},
    "colab_type": "code",
    "id": "8riY6BojZlv4"
   },
   "outputs": [],
   "source": [
    "helpful_df = helpful.select(\"filtered\", \"idf\").toPandas()"
   ]
  },
  {
   "cell_type": "code",
   "execution_count": 0,
   "metadata": {
    "colab": {},
    "colab_type": "code",
    "id": "S06WIWceZqho"
   },
   "outputs": [],
   "source": [
    "words = []\n",
    "for index, value in helpful_df['filtered'].iteritems():\n",
    "    words += value\n",
    "\n",
    "features = []\n",
    "for index, value in helpful_df[\"idf\"].iteritems():\n",
    "    dict_val = value.values.tolist()\n",
    "    features += dict_val"
   ]
  },
  {
   "cell_type": "code",
   "execution_count": 0,
   "metadata": {
    "colab": {},
    "colab_type": "code",
    "id": "-QNlk5daZuHr"
   },
   "outputs": [],
   "source": [
    "from operator import itemgetter\n",
    "indices, list_sorted = zip(*sorted(enumerate(features), key=itemgetter(1)))"
   ]
  },
  {
   "cell_type": "code",
   "execution_count": 28,
   "metadata": {
    "colab": {
     "base_uri": "https://localhost:8080/",
     "height": 272
    },
    "colab_type": "code",
    "id": "qxrgw-gDZyg4",
    "outputId": "86dec8d5-c244-42a0-b960-30c43dbc3d7b"
   },
   "outputs": [
    {
     "name": "stdout",
     "output_type": "stream",
     "text": [
      "elvis\n",
      "repeating:\n",
      "new\n",
      "days\n",
      "album.<br>this\n",
      "/>i\n",
      "good\n",
      "/><br\n",
      "way\n",
      "fan.\n",
      "truly\n",
      "left\n",
      "disappointed\n",
      "song!<br\n",
      "<br\n"
     ]
    }
   ],
   "source": [
    "for i in indices[:15]:\n",
    "    print(words[i])"
   ]
  },
  {
   "cell_type": "markdown",
   "metadata": {
    "colab_type": "text",
    "id": "zsY78i22Z8ZK"
   },
   "source": [
    "Unhelpful Reviews"
   ]
  },
  {
   "cell_type": "code",
   "execution_count": 0,
   "metadata": {
    "colab": {},
    "colab_type": "code",
    "id": "SerbNwNzZ_yW"
   },
   "outputs": [],
   "source": [
    "unhelpful = pipeline.fit(spark_unhelpful).transform(spark_unhelpful)"
   ]
  },
  {
   "cell_type": "code",
   "execution_count": 0,
   "metadata": {
    "colab": {},
    "colab_type": "code",
    "id": "lTxQXF0vaDa5"
   },
   "outputs": [],
   "source": [
    "unhelpful_df = unhelpful.select(\"filtered\", \"idf\").toPandas()"
   ]
  },
  {
   "cell_type": "code",
   "execution_count": 0,
   "metadata": {
    "colab": {},
    "colab_type": "code",
    "id": "qFfc-njWaHoA"
   },
   "outputs": [],
   "source": [
    "words = []\n",
    "for index, value in unhelpful_df['filtered'].iteritems():\n",
    "    words += value\n",
    "\n",
    "features = []\n",
    "for index, value in unhelpful_df[\"idf\"].iteritems():\n",
    "    dict_val = value.values.tolist()\n",
    "    features += dict_val"
   ]
  },
  {
   "cell_type": "code",
   "execution_count": 0,
   "metadata": {
    "colab": {},
    "colab_type": "code",
    "id": "9go0IL6waLOE"
   },
   "outputs": [],
   "source": [
    "from operator import itemgetter\n",
    "indices, list_sorted = zip(*sorted(enumerate(features), key=itemgetter(1)))"
   ]
  },
  {
   "cell_type": "code",
   "execution_count": 33,
   "metadata": {
    "colab": {
     "base_uri": "https://localhost:8080/",
     "height": 272
    },
    "colab_type": "code",
    "id": "94L8nGFEaO0D",
    "outputId": "84bb405e-acfc-46b1-a639-8c64f5deb70b"
   },
   "outputs": [
    {
     "name": "stdout",
     "output_type": "stream",
     "text": [
      "smoking\n",
      "may\n",
      "inquiry\n",
      "graying\n",
      "(in\n",
      "record\n",
      "en\n",
      "shows\n",
      "jimmy\n",
      "main\n",
      "every\n",
      "intelligent\n",
      "bands\n",
      "sticky\n",
      "anyway.\n"
     ]
    }
   ],
   "source": [
    "for i in indices[:15]:\n",
    "    print(words[i])"
   ]
  }
 ],
 "metadata": {
  "colab": {
   "collapsed_sections": [],
   "name": "large-scale-music.ipynb",
   "provenance": []
  },
  "kernelspec": {
   "display_name": "Python 3",
   "language": "python",
   "name": "python3"
  },
  "language_info": {
   "codemirror_mode": {
    "name": "ipython",
    "version": 3
   },
   "file_extension": ".py",
   "mimetype": "text/x-python",
   "name": "python",
   "nbconvert_exporter": "python",
   "pygments_lexer": "ipython3",
   "version": "3.7.3"
  }
 },
 "nbformat": 4,
 "nbformat_minor": 1
}
